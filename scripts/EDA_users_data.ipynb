{
 "cells": [
  {
   "cell_type": "code",
   "execution_count": 3,
   "id": "f94fb9ce",
   "metadata": {},
   "outputs": [
    {
     "data": {
      "text/plain": [
       "<module 'ETL.extract_data' from 'c:\\\\Users\\\\jimmy\\\\Documents\\\\Data Projects\\\\Project\\\\Financial Transactions Project\\\\scripts\\\\ETL\\\\extract_data.py'>"
      ]
     },
     "execution_count": 3,
     "metadata": {},
     "output_type": "execute_result"
    }
   ],
   "source": [
    "import pandas as pd\n",
    "import numpy as np\n",
    "import ETL.config as config\n",
    "import ETL.utils as utils\n",
    "import ETL.extract_data as extract\n",
    "import ETL.config as config\n",
    "import importlib\n",
    "importlib.reload(config)\n",
    "importlib.reload(extract)\n"
   ]
  },
  {
   "cell_type": "code",
   "execution_count": 4,
   "id": "ab659325",
   "metadata": {},
   "outputs": [
    {
     "data": {
      "application/vnd.microsoft.datawrangler.viewer.v0+json": {
       "columns": [
        {
         "name": "index",
         "rawType": "int64",
         "type": "integer"
        },
        {
         "name": "id",
         "rawType": "int64",
         "type": "integer"
        },
        {
         "name": "current_age",
         "rawType": "int64",
         "type": "integer"
        },
        {
         "name": "retirement_age",
         "rawType": "int64",
         "type": "integer"
        },
        {
         "name": "birth_year",
         "rawType": "int64",
         "type": "integer"
        },
        {
         "name": "birth_month",
         "rawType": "int64",
         "type": "integer"
        },
        {
         "name": "gender",
         "rawType": "object",
         "type": "string"
        },
        {
         "name": "address",
         "rawType": "object",
         "type": "string"
        },
        {
         "name": "latitude",
         "rawType": "float64",
         "type": "float"
        },
        {
         "name": "longitude",
         "rawType": "float64",
         "type": "float"
        },
        {
         "name": "per_capita_income",
         "rawType": "object",
         "type": "string"
        },
        {
         "name": "yearly_income",
         "rawType": "object",
         "type": "string"
        },
        {
         "name": "total_debt",
         "rawType": "object",
         "type": "string"
        },
        {
         "name": "credit_score",
         "rawType": "int64",
         "type": "integer"
        },
        {
         "name": "num_credit_cards",
         "rawType": "int64",
         "type": "integer"
        }
       ],
       "ref": "944b8cac-e3bf-494c-87fa-61a9811b587f",
       "rows": [
        [
         "1802",
         "455",
         "41",
         "69",
         "1979",
         "1",
         "Female",
         "8676 River Avenue",
         "40.66",
         "-73.73",
         "$24412",
         "$49776",
         "$17352",
         "684",
         "3"
        ],
        [
         "254",
         "1314",
         "43",
         "70",
         "1976",
         "11",
         "Male",
         "857 Jefferson Avenue",
         "29.7",
         "-98.11",
         "$19325",
         "$39404",
         "$71859",
         "723",
         "5"
        ],
        [
         "469",
         "1574",
         "22",
         "69",
         "1997",
         "3",
         "Female",
         "7318 Mill Lane",
         "34.89",
         "-77.54",
         "$15661",
         "$31933",
         "$65405",
         "746",
         "1"
        ],
        [
         "41",
         "1844",
         "79",
         "72",
         "1941",
         "2",
         "Male",
         "829 Birch Boulevard",
         "27.8",
         "-97.39",
         "$23608",
         "$37503",
         "$14272",
         "706",
         "5"
        ],
        [
         "1004",
         "1647",
         "18",
         "65",
         "2002",
         "2",
         "Female",
         "1358 Plum Avenue",
         "41.31",
         "-79.38",
         "$17321",
         "$35311",
         "$44783",
         "684",
         "5"
        ]
       ],
       "shape": {
        "columns": 14,
        "rows": 5
       }
      },
      "text/html": [
       "<div>\n",
       "<style scoped>\n",
       "    .dataframe tbody tr th:only-of-type {\n",
       "        vertical-align: middle;\n",
       "    }\n",
       "\n",
       "    .dataframe tbody tr th {\n",
       "        vertical-align: top;\n",
       "    }\n",
       "\n",
       "    .dataframe thead th {\n",
       "        text-align: right;\n",
       "    }\n",
       "</style>\n",
       "<table border=\"1\" class=\"dataframe\">\n",
       "  <thead>\n",
       "    <tr style=\"text-align: right;\">\n",
       "      <th></th>\n",
       "      <th>id</th>\n",
       "      <th>current_age</th>\n",
       "      <th>retirement_age</th>\n",
       "      <th>birth_year</th>\n",
       "      <th>birth_month</th>\n",
       "      <th>gender</th>\n",
       "      <th>address</th>\n",
       "      <th>latitude</th>\n",
       "      <th>longitude</th>\n",
       "      <th>per_capita_income</th>\n",
       "      <th>yearly_income</th>\n",
       "      <th>total_debt</th>\n",
       "      <th>credit_score</th>\n",
       "      <th>num_credit_cards</th>\n",
       "    </tr>\n",
       "  </thead>\n",
       "  <tbody>\n",
       "    <tr>\n",
       "      <th>1802</th>\n",
       "      <td>455</td>\n",
       "      <td>41</td>\n",
       "      <td>69</td>\n",
       "      <td>1979</td>\n",
       "      <td>1</td>\n",
       "      <td>Female</td>\n",
       "      <td>8676 River Avenue</td>\n",
       "      <td>40.66</td>\n",
       "      <td>-73.73</td>\n",
       "      <td>$24412</td>\n",
       "      <td>$49776</td>\n",
       "      <td>$17352</td>\n",
       "      <td>684</td>\n",
       "      <td>3</td>\n",
       "    </tr>\n",
       "    <tr>\n",
       "      <th>254</th>\n",
       "      <td>1314</td>\n",
       "      <td>43</td>\n",
       "      <td>70</td>\n",
       "      <td>1976</td>\n",
       "      <td>11</td>\n",
       "      <td>Male</td>\n",
       "      <td>857 Jefferson Avenue</td>\n",
       "      <td>29.70</td>\n",
       "      <td>-98.11</td>\n",
       "      <td>$19325</td>\n",
       "      <td>$39404</td>\n",
       "      <td>$71859</td>\n",
       "      <td>723</td>\n",
       "      <td>5</td>\n",
       "    </tr>\n",
       "    <tr>\n",
       "      <th>469</th>\n",
       "      <td>1574</td>\n",
       "      <td>22</td>\n",
       "      <td>69</td>\n",
       "      <td>1997</td>\n",
       "      <td>3</td>\n",
       "      <td>Female</td>\n",
       "      <td>7318 Mill Lane</td>\n",
       "      <td>34.89</td>\n",
       "      <td>-77.54</td>\n",
       "      <td>$15661</td>\n",
       "      <td>$31933</td>\n",
       "      <td>$65405</td>\n",
       "      <td>746</td>\n",
       "      <td>1</td>\n",
       "    </tr>\n",
       "    <tr>\n",
       "      <th>41</th>\n",
       "      <td>1844</td>\n",
       "      <td>79</td>\n",
       "      <td>72</td>\n",
       "      <td>1941</td>\n",
       "      <td>2</td>\n",
       "      <td>Male</td>\n",
       "      <td>829 Birch Boulevard</td>\n",
       "      <td>27.80</td>\n",
       "      <td>-97.39</td>\n",
       "      <td>$23608</td>\n",
       "      <td>$37503</td>\n",
       "      <td>$14272</td>\n",
       "      <td>706</td>\n",
       "      <td>5</td>\n",
       "    </tr>\n",
       "    <tr>\n",
       "      <th>1004</th>\n",
       "      <td>1647</td>\n",
       "      <td>18</td>\n",
       "      <td>65</td>\n",
       "      <td>2002</td>\n",
       "      <td>2</td>\n",
       "      <td>Female</td>\n",
       "      <td>1358 Plum Avenue</td>\n",
       "      <td>41.31</td>\n",
       "      <td>-79.38</td>\n",
       "      <td>$17321</td>\n",
       "      <td>$35311</td>\n",
       "      <td>$44783</td>\n",
       "      <td>684</td>\n",
       "      <td>5</td>\n",
       "    </tr>\n",
       "  </tbody>\n",
       "</table>\n",
       "</div>"
      ],
      "text/plain": [
       "        id  current_age  retirement_age  birth_year  birth_month  gender  \\\n",
       "1802   455           41              69        1979            1  Female   \n",
       "254   1314           43              70        1976           11    Male   \n",
       "469   1574           22              69        1997            3  Female   \n",
       "41    1844           79              72        1941            2    Male   \n",
       "1004  1647           18              65        2002            2  Female   \n",
       "\n",
       "                   address  latitude  longitude per_capita_income  \\\n",
       "1802     8676 River Avenue     40.66     -73.73            $24412   \n",
       "254   857 Jefferson Avenue     29.70     -98.11            $19325   \n",
       "469         7318 Mill Lane     34.89     -77.54            $15661   \n",
       "41     829 Birch Boulevard     27.80     -97.39            $23608   \n",
       "1004      1358 Plum Avenue     41.31     -79.38            $17321   \n",
       "\n",
       "     yearly_income total_debt  credit_score  num_credit_cards  \n",
       "1802        $49776     $17352           684                 3  \n",
       "254         $39404     $71859           723                 5  \n",
       "469         $31933     $65405           746                 1  \n",
       "41          $37503     $14272           706                 5  \n",
       "1004        $35311     $44783           684                 5  "
      ]
     },
     "execution_count": 4,
     "metadata": {},
     "output_type": "execute_result"
    }
   ],
   "source": [
    "users = pd.read_csv(config.USERS_FILE_LOCAL)\n",
    "users.sample(5)"
   ]
  },
  {
   "cell_type": "code",
   "execution_count": 5,
   "id": "14a0f0c6",
   "metadata": {},
   "outputs": [
    {
     "name": "stdout",
     "output_type": "stream",
     "text": [
      "<class 'pandas.core.frame.DataFrame'>\n",
      "RangeIndex: 2000 entries, 0 to 1999\n",
      "Data columns (total 14 columns):\n",
      " #   Column             Non-Null Count  Dtype  \n",
      "---  ------             --------------  -----  \n",
      " 0   id                 2000 non-null   int64  \n",
      " 1   current_age        2000 non-null   int64  \n",
      " 2   retirement_age     2000 non-null   int64  \n",
      " 3   birth_year         2000 non-null   int64  \n",
      " 4   birth_month        2000 non-null   int64  \n",
      " 5   gender             2000 non-null   object \n",
      " 6   address            2000 non-null   object \n",
      " 7   latitude           2000 non-null   float64\n",
      " 8   longitude          2000 non-null   float64\n",
      " 9   per_capita_income  2000 non-null   object \n",
      " 10  yearly_income      2000 non-null   object \n",
      " 11  total_debt         2000 non-null   object \n",
      " 12  credit_score       2000 non-null   int64  \n",
      " 13  num_credit_cards   2000 non-null   int64  \n",
      "dtypes: float64(2), int64(7), object(5)\n",
      "memory usage: 218.9+ KB\n"
     ]
    }
   ],
   "source": [
    "#check data\n",
    "users.info()\n"
   ]
  },
  {
   "cell_type": "code",
   "execution_count": 6,
   "id": "f10a3ccf",
   "metadata": {},
   "outputs": [
    {
     "name": "stdout",
     "output_type": "stream",
     "text": [
      "Total duplicate values in \"id\" colum: 0\n"
     ]
    }
   ],
   "source": [
    "#check duplicate values in id column\n",
    "print(f'Total duplicate values in \"id\" colum: {users.duplicated(subset=['id']).sum()}')"
   ]
  },
  {
   "cell_type": "code",
   "execution_count": 7,
   "id": "748a8523",
   "metadata": {},
   "outputs": [
    {
     "data": {
      "application/vnd.microsoft.datawrangler.viewer.v0+json": {
       "columns": [
        {
         "name": "index",
         "rawType": "object",
         "type": "string"
        },
        {
         "name": "id",
         "rawType": "float64",
         "type": "float"
        },
        {
         "name": "current_age",
         "rawType": "float64",
         "type": "float"
        },
        {
         "name": "retirement_age",
         "rawType": "float64",
         "type": "float"
        },
        {
         "name": "birth_year",
         "rawType": "float64",
         "type": "float"
        },
        {
         "name": "birth_month",
         "rawType": "float64",
         "type": "float"
        },
        {
         "name": "gender",
         "rawType": "object",
         "type": "unknown"
        },
        {
         "name": "address",
         "rawType": "object",
         "type": "unknown"
        },
        {
         "name": "latitude",
         "rawType": "float64",
         "type": "float"
        },
        {
         "name": "longitude",
         "rawType": "float64",
         "type": "float"
        },
        {
         "name": "per_capita_income",
         "rawType": "object",
         "type": "unknown"
        },
        {
         "name": "yearly_income",
         "rawType": "object",
         "type": "unknown"
        },
        {
         "name": "total_debt",
         "rawType": "object",
         "type": "unknown"
        },
        {
         "name": "credit_score",
         "rawType": "float64",
         "type": "float"
        },
        {
         "name": "num_credit_cards",
         "rawType": "float64",
         "type": "float"
        }
       ],
       "ref": "5768af41-e879-4906-871b-798ff72a625d",
       "rows": [
        [
         "count",
         "2000.0",
         "2000.0",
         "2000.0",
         "2000.0",
         "2000.0",
         "2000",
         "2000",
         "2000.0",
         "2000.0",
         "2000",
         "2000",
         "2000",
         "2000.0",
         "2000.0"
        ],
        [
         "unique",
         null,
         null,
         null,
         null,
         null,
         "2",
         "1999",
         null,
         null,
         "1754",
         "1948",
         "1880",
         null,
         null
        ],
        [
         "top",
         null,
         null,
         null,
         null,
         null,
         "Female",
         "506 Washington Lane",
         null,
         null,
         "$0",
         "$44128",
         "$0",
         null,
         null
        ],
        [
         "freq",
         null,
         null,
         null,
         null,
         null,
         "1016",
         "2",
         null,
         null,
         "15",
         "3",
         "102",
         null,
         null
        ],
        [
         "mean",
         "999.5",
         "45.3915",
         "66.2375",
         "1973.803",
         "6.439",
         null,
         null,
         "37.389225",
         "-91.554765",
         null,
         null,
         null,
         "709.7345",
         "3.073"
        ],
        [
         "std",
         "577.4945887192364",
         "18.414091537014983",
         "3.6288673286639352",
         "18.421233995880012",
         "3.565337966786417",
         null,
         null,
         "5.114323963553452",
         "16.283292617096887",
         null,
         null,
         null,
         "67.2219488333422",
         "1.637379462969069"
        ],
        [
         "min",
         "0.0",
         "18.0",
         "50.0",
         "1918.0",
         "1.0",
         null,
         null,
         "20.88",
         "-159.41",
         null,
         null,
         null,
         "480.0",
         "1.0"
        ],
        [
         "25%",
         "499.75",
         "30.0",
         "65.0",
         "1961.0",
         "3.0",
         null,
         null,
         "33.837500000000006",
         "-97.395",
         null,
         null,
         null,
         "681.0",
         "2.0"
        ],
        [
         "50%",
         "999.5",
         "44.0",
         "66.0",
         "1975.0",
         "7.0",
         null,
         null,
         "38.25",
         "-86.44",
         null,
         null,
         null,
         "711.5",
         "3.0"
        ],
        [
         "75%",
         "1499.25",
         "58.0",
         "68.0",
         "1989.0",
         "10.0",
         null,
         null,
         "41.2",
         "-80.13",
         null,
         null,
         null,
         "753.0",
         "4.0"
        ],
        [
         "max",
         "1999.0",
         "101.0",
         "79.0",
         "2002.0",
         "12.0",
         null,
         null,
         "61.2",
         "-68.67",
         null,
         null,
         null,
         "850.0",
         "9.0"
        ]
       ],
       "shape": {
        "columns": 14,
        "rows": 11
       }
      },
      "text/html": [
       "<div>\n",
       "<style scoped>\n",
       "    .dataframe tbody tr th:only-of-type {\n",
       "        vertical-align: middle;\n",
       "    }\n",
       "\n",
       "    .dataframe tbody tr th {\n",
       "        vertical-align: top;\n",
       "    }\n",
       "\n",
       "    .dataframe thead th {\n",
       "        text-align: right;\n",
       "    }\n",
       "</style>\n",
       "<table border=\"1\" class=\"dataframe\">\n",
       "  <thead>\n",
       "    <tr style=\"text-align: right;\">\n",
       "      <th></th>\n",
       "      <th>id</th>\n",
       "      <th>current_age</th>\n",
       "      <th>retirement_age</th>\n",
       "      <th>birth_year</th>\n",
       "      <th>birth_month</th>\n",
       "      <th>gender</th>\n",
       "      <th>address</th>\n",
       "      <th>latitude</th>\n",
       "      <th>longitude</th>\n",
       "      <th>per_capita_income</th>\n",
       "      <th>yearly_income</th>\n",
       "      <th>total_debt</th>\n",
       "      <th>credit_score</th>\n",
       "      <th>num_credit_cards</th>\n",
       "    </tr>\n",
       "  </thead>\n",
       "  <tbody>\n",
       "    <tr>\n",
       "      <th>count</th>\n",
       "      <td>2000.000000</td>\n",
       "      <td>2000.000000</td>\n",
       "      <td>2000.000000</td>\n",
       "      <td>2000.000000</td>\n",
       "      <td>2000.000000</td>\n",
       "      <td>2000</td>\n",
       "      <td>2000</td>\n",
       "      <td>2000.000000</td>\n",
       "      <td>2000.000000</td>\n",
       "      <td>2000</td>\n",
       "      <td>2000</td>\n",
       "      <td>2000</td>\n",
       "      <td>2000.000000</td>\n",
       "      <td>2000.000000</td>\n",
       "    </tr>\n",
       "    <tr>\n",
       "      <th>unique</th>\n",
       "      <td>NaN</td>\n",
       "      <td>NaN</td>\n",
       "      <td>NaN</td>\n",
       "      <td>NaN</td>\n",
       "      <td>NaN</td>\n",
       "      <td>2</td>\n",
       "      <td>1999</td>\n",
       "      <td>NaN</td>\n",
       "      <td>NaN</td>\n",
       "      <td>1754</td>\n",
       "      <td>1948</td>\n",
       "      <td>1880</td>\n",
       "      <td>NaN</td>\n",
       "      <td>NaN</td>\n",
       "    </tr>\n",
       "    <tr>\n",
       "      <th>top</th>\n",
       "      <td>NaN</td>\n",
       "      <td>NaN</td>\n",
       "      <td>NaN</td>\n",
       "      <td>NaN</td>\n",
       "      <td>NaN</td>\n",
       "      <td>Female</td>\n",
       "      <td>506 Washington Lane</td>\n",
       "      <td>NaN</td>\n",
       "      <td>NaN</td>\n",
       "      <td>$0</td>\n",
       "      <td>$44128</td>\n",
       "      <td>$0</td>\n",
       "      <td>NaN</td>\n",
       "      <td>NaN</td>\n",
       "    </tr>\n",
       "    <tr>\n",
       "      <th>freq</th>\n",
       "      <td>NaN</td>\n",
       "      <td>NaN</td>\n",
       "      <td>NaN</td>\n",
       "      <td>NaN</td>\n",
       "      <td>NaN</td>\n",
       "      <td>1016</td>\n",
       "      <td>2</td>\n",
       "      <td>NaN</td>\n",
       "      <td>NaN</td>\n",
       "      <td>15</td>\n",
       "      <td>3</td>\n",
       "      <td>102</td>\n",
       "      <td>NaN</td>\n",
       "      <td>NaN</td>\n",
       "    </tr>\n",
       "    <tr>\n",
       "      <th>mean</th>\n",
       "      <td>999.500000</td>\n",
       "      <td>45.391500</td>\n",
       "      <td>66.237500</td>\n",
       "      <td>1973.803000</td>\n",
       "      <td>6.439000</td>\n",
       "      <td>NaN</td>\n",
       "      <td>NaN</td>\n",
       "      <td>37.389225</td>\n",
       "      <td>-91.554765</td>\n",
       "      <td>NaN</td>\n",
       "      <td>NaN</td>\n",
       "      <td>NaN</td>\n",
       "      <td>709.734500</td>\n",
       "      <td>3.073000</td>\n",
       "    </tr>\n",
       "    <tr>\n",
       "      <th>std</th>\n",
       "      <td>577.494589</td>\n",
       "      <td>18.414092</td>\n",
       "      <td>3.628867</td>\n",
       "      <td>18.421234</td>\n",
       "      <td>3.565338</td>\n",
       "      <td>NaN</td>\n",
       "      <td>NaN</td>\n",
       "      <td>5.114324</td>\n",
       "      <td>16.283293</td>\n",
       "      <td>NaN</td>\n",
       "      <td>NaN</td>\n",
       "      <td>NaN</td>\n",
       "      <td>67.221949</td>\n",
       "      <td>1.637379</td>\n",
       "    </tr>\n",
       "    <tr>\n",
       "      <th>min</th>\n",
       "      <td>0.000000</td>\n",
       "      <td>18.000000</td>\n",
       "      <td>50.000000</td>\n",
       "      <td>1918.000000</td>\n",
       "      <td>1.000000</td>\n",
       "      <td>NaN</td>\n",
       "      <td>NaN</td>\n",
       "      <td>20.880000</td>\n",
       "      <td>-159.410000</td>\n",
       "      <td>NaN</td>\n",
       "      <td>NaN</td>\n",
       "      <td>NaN</td>\n",
       "      <td>480.000000</td>\n",
       "      <td>1.000000</td>\n",
       "    </tr>\n",
       "    <tr>\n",
       "      <th>25%</th>\n",
       "      <td>499.750000</td>\n",
       "      <td>30.000000</td>\n",
       "      <td>65.000000</td>\n",
       "      <td>1961.000000</td>\n",
       "      <td>3.000000</td>\n",
       "      <td>NaN</td>\n",
       "      <td>NaN</td>\n",
       "      <td>33.837500</td>\n",
       "      <td>-97.395000</td>\n",
       "      <td>NaN</td>\n",
       "      <td>NaN</td>\n",
       "      <td>NaN</td>\n",
       "      <td>681.000000</td>\n",
       "      <td>2.000000</td>\n",
       "    </tr>\n",
       "    <tr>\n",
       "      <th>50%</th>\n",
       "      <td>999.500000</td>\n",
       "      <td>44.000000</td>\n",
       "      <td>66.000000</td>\n",
       "      <td>1975.000000</td>\n",
       "      <td>7.000000</td>\n",
       "      <td>NaN</td>\n",
       "      <td>NaN</td>\n",
       "      <td>38.250000</td>\n",
       "      <td>-86.440000</td>\n",
       "      <td>NaN</td>\n",
       "      <td>NaN</td>\n",
       "      <td>NaN</td>\n",
       "      <td>711.500000</td>\n",
       "      <td>3.000000</td>\n",
       "    </tr>\n",
       "    <tr>\n",
       "      <th>75%</th>\n",
       "      <td>1499.250000</td>\n",
       "      <td>58.000000</td>\n",
       "      <td>68.000000</td>\n",
       "      <td>1989.000000</td>\n",
       "      <td>10.000000</td>\n",
       "      <td>NaN</td>\n",
       "      <td>NaN</td>\n",
       "      <td>41.200000</td>\n",
       "      <td>-80.130000</td>\n",
       "      <td>NaN</td>\n",
       "      <td>NaN</td>\n",
       "      <td>NaN</td>\n",
       "      <td>753.000000</td>\n",
       "      <td>4.000000</td>\n",
       "    </tr>\n",
       "    <tr>\n",
       "      <th>max</th>\n",
       "      <td>1999.000000</td>\n",
       "      <td>101.000000</td>\n",
       "      <td>79.000000</td>\n",
       "      <td>2002.000000</td>\n",
       "      <td>12.000000</td>\n",
       "      <td>NaN</td>\n",
       "      <td>NaN</td>\n",
       "      <td>61.200000</td>\n",
       "      <td>-68.670000</td>\n",
       "      <td>NaN</td>\n",
       "      <td>NaN</td>\n",
       "      <td>NaN</td>\n",
       "      <td>850.000000</td>\n",
       "      <td>9.000000</td>\n",
       "    </tr>\n",
       "  </tbody>\n",
       "</table>\n",
       "</div>"
      ],
      "text/plain": [
       "                 id  current_age  retirement_age   birth_year  birth_month  \\\n",
       "count   2000.000000  2000.000000     2000.000000  2000.000000  2000.000000   \n",
       "unique          NaN          NaN             NaN          NaN          NaN   \n",
       "top             NaN          NaN             NaN          NaN          NaN   \n",
       "freq            NaN          NaN             NaN          NaN          NaN   \n",
       "mean     999.500000    45.391500       66.237500  1973.803000     6.439000   \n",
       "std      577.494589    18.414092        3.628867    18.421234     3.565338   \n",
       "min        0.000000    18.000000       50.000000  1918.000000     1.000000   \n",
       "25%      499.750000    30.000000       65.000000  1961.000000     3.000000   \n",
       "50%      999.500000    44.000000       66.000000  1975.000000     7.000000   \n",
       "75%     1499.250000    58.000000       68.000000  1989.000000    10.000000   \n",
       "max     1999.000000   101.000000       79.000000  2002.000000    12.000000   \n",
       "\n",
       "        gender              address     latitude    longitude  \\\n",
       "count     2000                 2000  2000.000000  2000.000000   \n",
       "unique       2                 1999          NaN          NaN   \n",
       "top     Female  506 Washington Lane          NaN          NaN   \n",
       "freq      1016                    2          NaN          NaN   \n",
       "mean       NaN                  NaN    37.389225   -91.554765   \n",
       "std        NaN                  NaN     5.114324    16.283293   \n",
       "min        NaN                  NaN    20.880000  -159.410000   \n",
       "25%        NaN                  NaN    33.837500   -97.395000   \n",
       "50%        NaN                  NaN    38.250000   -86.440000   \n",
       "75%        NaN                  NaN    41.200000   -80.130000   \n",
       "max        NaN                  NaN    61.200000   -68.670000   \n",
       "\n",
       "       per_capita_income yearly_income total_debt  credit_score  \\\n",
       "count               2000          2000       2000   2000.000000   \n",
       "unique              1754          1948       1880           NaN   \n",
       "top                   $0        $44128         $0           NaN   \n",
       "freq                  15             3        102           NaN   \n",
       "mean                 NaN           NaN        NaN    709.734500   \n",
       "std                  NaN           NaN        NaN     67.221949   \n",
       "min                  NaN           NaN        NaN    480.000000   \n",
       "25%                  NaN           NaN        NaN    681.000000   \n",
       "50%                  NaN           NaN        NaN    711.500000   \n",
       "75%                  NaN           NaN        NaN    753.000000   \n",
       "max                  NaN           NaN        NaN    850.000000   \n",
       "\n",
       "        num_credit_cards  \n",
       "count        2000.000000  \n",
       "unique               NaN  \n",
       "top                  NaN  \n",
       "freq                 NaN  \n",
       "mean            3.073000  \n",
       "std             1.637379  \n",
       "min             1.000000  \n",
       "25%             2.000000  \n",
       "50%             3.000000  \n",
       "75%             4.000000  \n",
       "max             9.000000  "
      ]
     },
     "execution_count": 7,
     "metadata": {},
     "output_type": "execute_result"
    }
   ],
   "source": [
    "users.describe(include='all')"
   ]
  },
  {
   "cell_type": "code",
   "execution_count": 8,
   "id": "4ada59b7",
   "metadata": {},
   "outputs": [
    {
     "data": {
      "application/vnd.microsoft.datawrangler.viewer.v0+json": {
       "columns": [
        {
         "name": "index",
         "rawType": "int64",
         "type": "integer"
        },
        {
         "name": "id",
         "rawType": "int64",
         "type": "integer"
        },
        {
         "name": "current_age",
         "rawType": "int64",
         "type": "integer"
        },
        {
         "name": "retirement_age",
         "rawType": "int64",
         "type": "integer"
        },
        {
         "name": "birth_year",
         "rawType": "int64",
         "type": "integer"
        },
        {
         "name": "birth_month",
         "rawType": "int64",
         "type": "integer"
        },
        {
         "name": "gender",
         "rawType": "object",
         "type": "string"
        },
        {
         "name": "address",
         "rawType": "object",
         "type": "string"
        },
        {
         "name": "latitude",
         "rawType": "float64",
         "type": "float"
        },
        {
         "name": "longitude",
         "rawType": "float64",
         "type": "float"
        },
        {
         "name": "per_capita_income",
         "rawType": "object",
         "type": "string"
        },
        {
         "name": "yearly_income",
         "rawType": "object",
         "type": "string"
        },
        {
         "name": "total_debt",
         "rawType": "object",
         "type": "string"
        },
        {
         "name": "credit_score",
         "rawType": "int64",
         "type": "integer"
        },
        {
         "name": "num_credit_cards",
         "rawType": "int64",
         "type": "integer"
        }
       ],
       "ref": "2e9559a8-5a45-4973-9462-bee0f9225739",
       "rows": [
        [
         "284",
         "326",
         "18",
         "61",
         "2001",
         "3",
         "Male",
         "644 Birch Avenue",
         "40.26",
         "-80.18",
         "$30076",
         "$61325",
         "$83899",
         "652",
         "1"
        ],
        [
         "1368",
         "240",
         "50",
         "68",
         "1970",
         "2",
         "Male",
         "280 Lake Avenue",
         "36.21",
         "-83.29",
         "$17104",
         "$34868",
         "$51984",
         "745",
         "3"
        ],
        [
         "1700",
         "978",
         "21",
         "62",
         "1998",
         "7",
         "Female",
         "288 North Avenue",
         "30.06",
         "-89.93",
         "$27603",
         "$56280",
         "$81803",
         "760",
         "1"
        ],
        [
         "973",
         "1169",
         "51",
         "68",
         "1968",
         "11",
         "Female",
         "375 Hillside Drive",
         "30.54",
         "-97.64",
         "$30358",
         "$61901",
         "$29627",
         "726",
         "7"
        ],
        [
         "801",
         "1666",
         "61",
         "62",
         "1958",
         "12",
         "Male",
         "649 Spruce Boulevard",
         "32.29",
         "-81.23",
         "$23029",
         "$46954",
         "$69753",
         "578",
         "4"
        ]
       ],
       "shape": {
        "columns": 14,
        "rows": 5
       }
      },
      "text/html": [
       "<div>\n",
       "<style scoped>\n",
       "    .dataframe tbody tr th:only-of-type {\n",
       "        vertical-align: middle;\n",
       "    }\n",
       "\n",
       "    .dataframe tbody tr th {\n",
       "        vertical-align: top;\n",
       "    }\n",
       "\n",
       "    .dataframe thead th {\n",
       "        text-align: right;\n",
       "    }\n",
       "</style>\n",
       "<table border=\"1\" class=\"dataframe\">\n",
       "  <thead>\n",
       "    <tr style=\"text-align: right;\">\n",
       "      <th></th>\n",
       "      <th>id</th>\n",
       "      <th>current_age</th>\n",
       "      <th>retirement_age</th>\n",
       "      <th>birth_year</th>\n",
       "      <th>birth_month</th>\n",
       "      <th>gender</th>\n",
       "      <th>address</th>\n",
       "      <th>latitude</th>\n",
       "      <th>longitude</th>\n",
       "      <th>per_capita_income</th>\n",
       "      <th>yearly_income</th>\n",
       "      <th>total_debt</th>\n",
       "      <th>credit_score</th>\n",
       "      <th>num_credit_cards</th>\n",
       "    </tr>\n",
       "  </thead>\n",
       "  <tbody>\n",
       "    <tr>\n",
       "      <th>284</th>\n",
       "      <td>326</td>\n",
       "      <td>18</td>\n",
       "      <td>61</td>\n",
       "      <td>2001</td>\n",
       "      <td>3</td>\n",
       "      <td>Male</td>\n",
       "      <td>644 Birch Avenue</td>\n",
       "      <td>40.26</td>\n",
       "      <td>-80.18</td>\n",
       "      <td>$30076</td>\n",
       "      <td>$61325</td>\n",
       "      <td>$83899</td>\n",
       "      <td>652</td>\n",
       "      <td>1</td>\n",
       "    </tr>\n",
       "    <tr>\n",
       "      <th>1368</th>\n",
       "      <td>240</td>\n",
       "      <td>50</td>\n",
       "      <td>68</td>\n",
       "      <td>1970</td>\n",
       "      <td>2</td>\n",
       "      <td>Male</td>\n",
       "      <td>280 Lake Avenue</td>\n",
       "      <td>36.21</td>\n",
       "      <td>-83.29</td>\n",
       "      <td>$17104</td>\n",
       "      <td>$34868</td>\n",
       "      <td>$51984</td>\n",
       "      <td>745</td>\n",
       "      <td>3</td>\n",
       "    </tr>\n",
       "    <tr>\n",
       "      <th>1700</th>\n",
       "      <td>978</td>\n",
       "      <td>21</td>\n",
       "      <td>62</td>\n",
       "      <td>1998</td>\n",
       "      <td>7</td>\n",
       "      <td>Female</td>\n",
       "      <td>288 North Avenue</td>\n",
       "      <td>30.06</td>\n",
       "      <td>-89.93</td>\n",
       "      <td>$27603</td>\n",
       "      <td>$56280</td>\n",
       "      <td>$81803</td>\n",
       "      <td>760</td>\n",
       "      <td>1</td>\n",
       "    </tr>\n",
       "    <tr>\n",
       "      <th>973</th>\n",
       "      <td>1169</td>\n",
       "      <td>51</td>\n",
       "      <td>68</td>\n",
       "      <td>1968</td>\n",
       "      <td>11</td>\n",
       "      <td>Female</td>\n",
       "      <td>375 Hillside Drive</td>\n",
       "      <td>30.54</td>\n",
       "      <td>-97.64</td>\n",
       "      <td>$30358</td>\n",
       "      <td>$61901</td>\n",
       "      <td>$29627</td>\n",
       "      <td>726</td>\n",
       "      <td>7</td>\n",
       "    </tr>\n",
       "    <tr>\n",
       "      <th>801</th>\n",
       "      <td>1666</td>\n",
       "      <td>61</td>\n",
       "      <td>62</td>\n",
       "      <td>1958</td>\n",
       "      <td>12</td>\n",
       "      <td>Male</td>\n",
       "      <td>649 Spruce Boulevard</td>\n",
       "      <td>32.29</td>\n",
       "      <td>-81.23</td>\n",
       "      <td>$23029</td>\n",
       "      <td>$46954</td>\n",
       "      <td>$69753</td>\n",
       "      <td>578</td>\n",
       "      <td>4</td>\n",
       "    </tr>\n",
       "  </tbody>\n",
       "</table>\n",
       "</div>"
      ],
      "text/plain": [
       "        id  current_age  retirement_age  birth_year  birth_month  gender  \\\n",
       "284    326           18              61        2001            3    Male   \n",
       "1368   240           50              68        1970            2    Male   \n",
       "1700   978           21              62        1998            7  Female   \n",
       "973   1169           51              68        1968           11  Female   \n",
       "801   1666           61              62        1958           12    Male   \n",
       "\n",
       "                   address  latitude  longitude per_capita_income  \\\n",
       "284       644 Birch Avenue     40.26     -80.18            $30076   \n",
       "1368       280 Lake Avenue     36.21     -83.29            $17104   \n",
       "1700      288 North Avenue     30.06     -89.93            $27603   \n",
       "973     375 Hillside Drive     30.54     -97.64            $30358   \n",
       "801   649 Spruce Boulevard     32.29     -81.23            $23029   \n",
       "\n",
       "     yearly_income total_debt  credit_score  num_credit_cards  \n",
       "284         $61325     $83899           652                 1  \n",
       "1368        $34868     $51984           745                 3  \n",
       "1700        $56280     $81803           760                 1  \n",
       "973         $61901     $29627           726                 7  \n",
       "801         $46954     $69753           578                 4  "
      ]
     },
     "execution_count": 8,
     "metadata": {},
     "output_type": "execute_result"
    }
   ],
   "source": [
    "users.sample(5)"
   ]
  },
  {
   "cell_type": "code",
   "execution_count": 8,
   "id": "7bafdd26",
   "metadata": {},
   "outputs": [
    {
     "name": "stdout",
     "output_type": "stream",
     "text": [
      " per_capita_income\n",
      "$    2000\n",
      "Name: count, dtype: int64\n",
      " yearly_income\n",
      "$    2000\n",
      "Name: count, dtype: int64\n",
      " total_debt\n",
      "$    2000\n",
      "Name: count, dtype: int64\n"
     ]
    }
   ],
   "source": [
    "print(f' {users['per_capita_income'].replace(r'[A-Za-z0-9]','',regex=True).value_counts()}')\n",
    "print(f' {users['yearly_income'].replace(r'[A-Za-z0-9]','',regex=True).value_counts()}')\n",
    "print(f' {users['total_debt'].replace(r'[A-Za-z0-9]','',regex=True).value_counts()}')"
   ]
  },
  {
   "cell_type": "code",
   "execution_count": 9,
   "id": "fccf1f28",
   "metadata": {},
   "outputs": [],
   "source": [
    "#etl_users.py\n",
    "import pandas as pd\n",
    "import logging\n",
    "import ETL.config as config\n",
    "logger = logging.getLogger(__name__)\n",
    "\n",
    "\n",
    "def users_transform(df: pd.DataFrame) -> pd.DataFrame:\n",
    "    \"\"\"\n",
    "    Transform the users DataFrame.\n",
    "    \n",
    "    Args:\n",
    "        df (pd.DataFrame): The DataFrame to transform.\n",
    "        \n",
    "    Returns:\n",
    "        pd.DataFrame: The transformed DataFrame.\n",
    "    \"\"\"\n",
    "    try:\n",
    "        logger.info('Starting transformation of users DataFrame')\n",
    "        #clean up values from columns\n",
    "        df['per_capita_income'] = df['per_capita_income'].fillna(0).str.extract(r'(\\d+)').astype(int)\n",
    "        df['yearly_income'] = df['yearly_income'].fillna(0).str.extract(r'(\\d+)').astype(int)\n",
    "        df['total_debt'] = df['total_debt'].fillna(0).str.extract(r'(\\d+)').astype(int) \n",
    "\n",
    "        \n",
    "\n",
    "        logger.info('✅Transformation of users DataFrame completed successfully')\n",
    "        \n",
    "    except Exception as e:\n",
    "        logger.error(f'❌Error during transformation of users DataFrame: {e}')\n",
    "        raise \n",
    "    return df\n",
    "\n",
    "\n"
   ]
  },
  {
   "cell_type": "code",
   "execution_count": 10,
   "id": "cb0c437d",
   "metadata": {},
   "outputs": [
    {
     "data": {
      "application/vnd.microsoft.datawrangler.viewer.v0+json": {
       "columns": [
        {
         "name": "index",
         "rawType": "int64",
         "type": "integer"
        },
        {
         "name": "id",
         "rawType": "int64",
         "type": "integer"
        },
        {
         "name": "current_age",
         "rawType": "int64",
         "type": "integer"
        },
        {
         "name": "retirement_age",
         "rawType": "int64",
         "type": "integer"
        },
        {
         "name": "birth_year",
         "rawType": "int64",
         "type": "integer"
        },
        {
         "name": "birth_month",
         "rawType": "int64",
         "type": "integer"
        },
        {
         "name": "gender",
         "rawType": "object",
         "type": "string"
        },
        {
         "name": "address",
         "rawType": "object",
         "type": "string"
        },
        {
         "name": "latitude",
         "rawType": "float64",
         "type": "float"
        },
        {
         "name": "longitude",
         "rawType": "float64",
         "type": "float"
        },
        {
         "name": "per_capita_income",
         "rawType": "int64",
         "type": "integer"
        },
        {
         "name": "yearly_income",
         "rawType": "int64",
         "type": "integer"
        },
        {
         "name": "total_debt",
         "rawType": "int64",
         "type": "integer"
        },
        {
         "name": "credit_score",
         "rawType": "int64",
         "type": "integer"
        },
        {
         "name": "num_credit_cards",
         "rawType": "int64",
         "type": "integer"
        }
       ],
       "ref": "8fc5d496-64e6-4d13-9b23-395b23b82e51",
       "rows": [
        [
         "405",
         "471",
         "52",
         "65",
         "1967",
         "9",
         "Male",
         "123 Ocean View Street",
         "38.57",
         "-121.17",
         "35137",
         "71645",
         "155006",
         "629",
         "3"
        ],
        [
         "1912",
         "1329",
         "24",
         "68",
         "1995",
         "3",
         "Female",
         "6768 Federal Avenue",
         "34.08",
         "-117.46",
         "13739",
         "28011",
         "20196",
         "720",
         "4"
        ],
        [
         "1944",
         "1001",
         "20",
         "62",
         "1999",
         "10",
         "Male",
         "6223 Maple Lane",
         "36.56",
         "-82.19",
         "17795",
         "36283",
         "60989",
         "716",
         "1"
        ],
        [
         "1609",
         "670",
         "21",
         "71",
         "1998",
         "3",
         "Female",
         "7469 El Camino Street",
         "42.31",
         "-83.21",
         "11773",
         "24006",
         "57226",
         "801",
         "2"
        ],
        [
         "698",
         "1327",
         "20",
         "67",
         "1999",
         "12",
         "Female",
         "3183 Burns Boulevard",
         "45.94",
         "-122.67",
         "21093",
         "43006",
         "26144",
         "688",
         "2"
        ]
       ],
       "shape": {
        "columns": 14,
        "rows": 5
       }
      },
      "text/html": [
       "<div>\n",
       "<style scoped>\n",
       "    .dataframe tbody tr th:only-of-type {\n",
       "        vertical-align: middle;\n",
       "    }\n",
       "\n",
       "    .dataframe tbody tr th {\n",
       "        vertical-align: top;\n",
       "    }\n",
       "\n",
       "    .dataframe thead th {\n",
       "        text-align: right;\n",
       "    }\n",
       "</style>\n",
       "<table border=\"1\" class=\"dataframe\">\n",
       "  <thead>\n",
       "    <tr style=\"text-align: right;\">\n",
       "      <th></th>\n",
       "      <th>id</th>\n",
       "      <th>current_age</th>\n",
       "      <th>retirement_age</th>\n",
       "      <th>birth_year</th>\n",
       "      <th>birth_month</th>\n",
       "      <th>gender</th>\n",
       "      <th>address</th>\n",
       "      <th>latitude</th>\n",
       "      <th>longitude</th>\n",
       "      <th>per_capita_income</th>\n",
       "      <th>yearly_income</th>\n",
       "      <th>total_debt</th>\n",
       "      <th>credit_score</th>\n",
       "      <th>num_credit_cards</th>\n",
       "    </tr>\n",
       "  </thead>\n",
       "  <tbody>\n",
       "    <tr>\n",
       "      <th>405</th>\n",
       "      <td>471</td>\n",
       "      <td>52</td>\n",
       "      <td>65</td>\n",
       "      <td>1967</td>\n",
       "      <td>9</td>\n",
       "      <td>Male</td>\n",
       "      <td>123 Ocean View Street</td>\n",
       "      <td>38.57</td>\n",
       "      <td>-121.17</td>\n",
       "      <td>35137</td>\n",
       "      <td>71645</td>\n",
       "      <td>155006</td>\n",
       "      <td>629</td>\n",
       "      <td>3</td>\n",
       "    </tr>\n",
       "    <tr>\n",
       "      <th>1912</th>\n",
       "      <td>1329</td>\n",
       "      <td>24</td>\n",
       "      <td>68</td>\n",
       "      <td>1995</td>\n",
       "      <td>3</td>\n",
       "      <td>Female</td>\n",
       "      <td>6768 Federal Avenue</td>\n",
       "      <td>34.08</td>\n",
       "      <td>-117.46</td>\n",
       "      <td>13739</td>\n",
       "      <td>28011</td>\n",
       "      <td>20196</td>\n",
       "      <td>720</td>\n",
       "      <td>4</td>\n",
       "    </tr>\n",
       "    <tr>\n",
       "      <th>1944</th>\n",
       "      <td>1001</td>\n",
       "      <td>20</td>\n",
       "      <td>62</td>\n",
       "      <td>1999</td>\n",
       "      <td>10</td>\n",
       "      <td>Male</td>\n",
       "      <td>6223 Maple Lane</td>\n",
       "      <td>36.56</td>\n",
       "      <td>-82.19</td>\n",
       "      <td>17795</td>\n",
       "      <td>36283</td>\n",
       "      <td>60989</td>\n",
       "      <td>716</td>\n",
       "      <td>1</td>\n",
       "    </tr>\n",
       "    <tr>\n",
       "      <th>1609</th>\n",
       "      <td>670</td>\n",
       "      <td>21</td>\n",
       "      <td>71</td>\n",
       "      <td>1998</td>\n",
       "      <td>3</td>\n",
       "      <td>Female</td>\n",
       "      <td>7469 El Camino Street</td>\n",
       "      <td>42.31</td>\n",
       "      <td>-83.21</td>\n",
       "      <td>11773</td>\n",
       "      <td>24006</td>\n",
       "      <td>57226</td>\n",
       "      <td>801</td>\n",
       "      <td>2</td>\n",
       "    </tr>\n",
       "    <tr>\n",
       "      <th>698</th>\n",
       "      <td>1327</td>\n",
       "      <td>20</td>\n",
       "      <td>67</td>\n",
       "      <td>1999</td>\n",
       "      <td>12</td>\n",
       "      <td>Female</td>\n",
       "      <td>3183 Burns Boulevard</td>\n",
       "      <td>45.94</td>\n",
       "      <td>-122.67</td>\n",
       "      <td>21093</td>\n",
       "      <td>43006</td>\n",
       "      <td>26144</td>\n",
       "      <td>688</td>\n",
       "      <td>2</td>\n",
       "    </tr>\n",
       "  </tbody>\n",
       "</table>\n",
       "</div>"
      ],
      "text/plain": [
       "        id  current_age  retirement_age  birth_year  birth_month  gender  \\\n",
       "405    471           52              65        1967            9    Male   \n",
       "1912  1329           24              68        1995            3  Female   \n",
       "1944  1001           20              62        1999           10    Male   \n",
       "1609   670           21              71        1998            3  Female   \n",
       "698   1327           20              67        1999           12  Female   \n",
       "\n",
       "                    address  latitude  longitude  per_capita_income  \\\n",
       "405   123 Ocean View Street     38.57    -121.17              35137   \n",
       "1912    6768 Federal Avenue     34.08    -117.46              13739   \n",
       "1944        6223 Maple Lane     36.56     -82.19              17795   \n",
       "1609  7469 El Camino Street     42.31     -83.21              11773   \n",
       "698    3183 Burns Boulevard     45.94    -122.67              21093   \n",
       "\n",
       "      yearly_income  total_debt  credit_score  num_credit_cards  \n",
       "405           71645      155006           629                 3  \n",
       "1912          28011       20196           720                 4  \n",
       "1944          36283       60989           716                 1  \n",
       "1609          24006       57226           801                 2  \n",
       "698           43006       26144           688                 2  "
      ]
     },
     "execution_count": 10,
     "metadata": {},
     "output_type": "execute_result"
    }
   ],
   "source": [
    "users_transformed = users_transform(users)\n",
    "users_transformed.sample(5)"
   ]
  },
  {
   "cell_type": "code",
   "execution_count": 11,
   "id": "8ed31c1e",
   "metadata": {},
   "outputs": [
    {
     "name": "stdout",
     "output_type": "stream",
     "text": [
      "<class 'pandas.core.frame.DataFrame'>\n",
      "RangeIndex: 2000 entries, 0 to 1999\n",
      "Data columns (total 14 columns):\n",
      " #   Column             Non-Null Count  Dtype  \n",
      "---  ------             --------------  -----  \n",
      " 0   id                 2000 non-null   int64  \n",
      " 1   current_age        2000 non-null   int64  \n",
      " 2   retirement_age     2000 non-null   int64  \n",
      " 3   birth_year         2000 non-null   int64  \n",
      " 4   birth_month        2000 non-null   int64  \n",
      " 5   gender             2000 non-null   object \n",
      " 6   address            2000 non-null   object \n",
      " 7   latitude           2000 non-null   float64\n",
      " 8   longitude          2000 non-null   float64\n",
      " 9   per_capita_income  2000 non-null   int64  \n",
      " 10  yearly_income      2000 non-null   int64  \n",
      " 11  total_debt         2000 non-null   int64  \n",
      " 12  credit_score       2000 non-null   int64  \n",
      " 13  num_credit_cards   2000 non-null   int64  \n",
      "dtypes: float64(2), int64(10), object(2)\n",
      "memory usage: 218.9+ KB\n"
     ]
    }
   ],
   "source": [
    "users_transformed.info()"
   ]
  },
  {
   "cell_type": "code",
   "execution_count": 12,
   "id": "5e100d1e",
   "metadata": {},
   "outputs": [
    {
     "name": "stdout",
     "output_type": "stream",
     "text": [
      "total duplicate rows 0\n"
     ]
    },
    {
     "data": {
      "application/vnd.microsoft.datawrangler.viewer.v0+json": {
       "columns": [
        {
         "name": "index",
         "rawType": "object",
         "type": "string"
        },
        {
         "name": "0",
         "rawType": "int64",
         "type": "integer"
        }
       ],
       "ref": "aa44545e-9537-426b-93eb-e486817f0f6f",
       "rows": [
        [
         "id",
         "0"
        ],
        [
         "current_age",
         "1920"
        ],
        [
         "retirement_age",
         "1971"
        ],
        [
         "birth_year",
         "1920"
        ],
        [
         "birth_month",
         "1988"
        ],
        [
         "gender",
         "1998"
        ],
        [
         "address",
         "1"
        ],
        [
         "latitude",
         "1011"
        ],
        [
         "longitude",
         "776"
        ],
        [
         "per_capita_income",
         "246"
        ],
        [
         "yearly_income",
         "52"
        ],
        [
         "total_debt",
         "120"
        ],
        [
         "credit_score",
         "1679"
        ],
        [
         "num_credit_cards",
         "1991"
        ]
       ],
       "shape": {
        "columns": 1,
        "rows": 14
       }
      },
      "text/plain": [
       "id                      0\n",
       "current_age          1920\n",
       "retirement_age       1971\n",
       "birth_year           1920\n",
       "birth_month          1988\n",
       "gender               1998\n",
       "address                 1\n",
       "latitude             1011\n",
       "longitude             776\n",
       "per_capita_income     246\n",
       "yearly_income          52\n",
       "total_debt            120\n",
       "credit_score         1679\n",
       "num_credit_cards     1991\n",
       "dtype: int64"
      ]
     },
     "execution_count": 12,
     "metadata": {},
     "output_type": "execute_result"
    }
   ],
   "source": [
    "#count duplicate rows \n",
    "print(f'total duplicate rows {users_transformed.duplicated().sum()}')\n",
    "#duplicated by columns\n",
    "duplicated_values = users_transformed.apply(lambda col: col.duplicated().sum())\n",
    "#print(f'Duplicated values by columns:\\n{duplicated_values}')\n",
    "duplicated_values\n"
   ]
  },
  {
   "cell_type": "code",
   "execution_count": 13,
   "id": "7c9fc142",
   "metadata": {},
   "outputs": [
    {
     "data": {
      "application/vnd.microsoft.datawrangler.viewer.v0+json": {
       "columns": [
        {
         "name": "index",
         "rawType": "int64",
         "type": "integer"
        },
        {
         "name": "id",
         "rawType": "int64",
         "type": "integer"
        },
        {
         "name": "current_age",
         "rawType": "int64",
         "type": "integer"
        },
        {
         "name": "retirement_age",
         "rawType": "int64",
         "type": "integer"
        },
        {
         "name": "birth_year",
         "rawType": "int64",
         "type": "integer"
        },
        {
         "name": "birth_month",
         "rawType": "int64",
         "type": "integer"
        },
        {
         "name": "gender",
         "rawType": "object",
         "type": "string"
        },
        {
         "name": "address",
         "rawType": "object",
         "type": "string"
        },
        {
         "name": "latitude",
         "rawType": "float64",
         "type": "float"
        },
        {
         "name": "longitude",
         "rawType": "float64",
         "type": "float"
        },
        {
         "name": "per_capita_income",
         "rawType": "int64",
         "type": "integer"
        },
        {
         "name": "yearly_income",
         "rawType": "int64",
         "type": "integer"
        },
        {
         "name": "total_debt",
         "rawType": "int64",
         "type": "integer"
        },
        {
         "name": "credit_score",
         "rawType": "int64",
         "type": "integer"
        },
        {
         "name": "num_credit_cards",
         "rawType": "int64",
         "type": "integer"
        }
       ],
       "ref": "931f5867-6f18-4224-b7f9-b884ea45a044",
       "rows": [
        [
         "508",
         "1394",
         "30",
         "58",
         "1989",
         "4",
         "Female",
         "341 Hill Drive",
         "38.63",
         "-90.24",
         "28373",
         "57853",
         "131828",
         "558",
         "4"
        ],
        [
         "62",
         "688",
         "44",
         "67",
         "1975",
         "3",
         "Male",
         "5125 Elm Drive",
         "41.31",
         "-111.96",
         "23165",
         "47227",
         "151030",
         "760",
         "4"
        ],
        [
         "669",
         "395",
         "39",
         "72",
         "1981",
         "2",
         "Male",
         "1105 Wessex Avenue",
         "32.69",
         "-97.12",
         "24331",
         "49611",
         "110543",
         "739",
         "4"
        ],
        [
         "1508",
         "683",
         "61",
         "66",
         "1959",
         "1",
         "Male",
         "201 Grant Drive",
         "40.79",
         "-77.85",
         "25031",
         "51039",
         "0",
         "704",
         "5"
        ],
        [
         "1867",
         "682",
         "58",
         "62",
         "1961",
         "10",
         "Male",
         "2130 Valley Stream Lane",
         "40.69",
         "-111.99",
         "17276",
         "35229",
         "60945",
         "724",
         "2"
        ],
        [
         "1326",
         "1703",
         "47",
         "65",
         "1972",
         "8",
         "Female",
         "1532 Birch Drive",
         "39.08",
         "-108.55",
         "24115",
         "49169",
         "65994",
         "747",
         "2"
        ],
        [
         "732",
         "975",
         "28",
         "67",
         "1991",
         "5",
         "Female",
         "34542 Ninth Drive",
         "42.88",
         "-78.85",
         "14456",
         "29478",
         "39224",
         "675",
         "2"
        ],
        [
         "227",
         "904",
         "32",
         "66",
         "1987",
         "8",
         "Male",
         "41 Plum Boulevard",
         "37.96",
         "-76.51",
         "12018",
         "24505",
         "52405",
         "759",
         "1"
        ],
        [
         "1775",
         "1032",
         "62",
         "60",
         "1957",
         "6",
         "Female",
         "171 Catherine Lane",
         "36.81",
         "-119.71",
         "17301",
         "26975",
         "17212",
         "673",
         "2"
        ],
        [
         "1150",
         "96",
         "69",
         "66",
         "1950",
         "12",
         "Female",
         "20 Oak Street",
         "33.89",
         "-117.78",
         "38948",
         "99825",
         "4344",
         "685",
         "4"
        ]
       ],
       "shape": {
        "columns": 14,
        "rows": 10
       }
      },
      "text/html": [
       "<div>\n",
       "<style scoped>\n",
       "    .dataframe tbody tr th:only-of-type {\n",
       "        vertical-align: middle;\n",
       "    }\n",
       "\n",
       "    .dataframe tbody tr th {\n",
       "        vertical-align: top;\n",
       "    }\n",
       "\n",
       "    .dataframe thead th {\n",
       "        text-align: right;\n",
       "    }\n",
       "</style>\n",
       "<table border=\"1\" class=\"dataframe\">\n",
       "  <thead>\n",
       "    <tr style=\"text-align: right;\">\n",
       "      <th></th>\n",
       "      <th>id</th>\n",
       "      <th>current_age</th>\n",
       "      <th>retirement_age</th>\n",
       "      <th>birth_year</th>\n",
       "      <th>birth_month</th>\n",
       "      <th>gender</th>\n",
       "      <th>address</th>\n",
       "      <th>latitude</th>\n",
       "      <th>longitude</th>\n",
       "      <th>per_capita_income</th>\n",
       "      <th>yearly_income</th>\n",
       "      <th>total_debt</th>\n",
       "      <th>credit_score</th>\n",
       "      <th>num_credit_cards</th>\n",
       "    </tr>\n",
       "  </thead>\n",
       "  <tbody>\n",
       "    <tr>\n",
       "      <th>508</th>\n",
       "      <td>1394</td>\n",
       "      <td>30</td>\n",
       "      <td>58</td>\n",
       "      <td>1989</td>\n",
       "      <td>4</td>\n",
       "      <td>Female</td>\n",
       "      <td>341 Hill Drive</td>\n",
       "      <td>38.63</td>\n",
       "      <td>-90.24</td>\n",
       "      <td>28373</td>\n",
       "      <td>57853</td>\n",
       "      <td>131828</td>\n",
       "      <td>558</td>\n",
       "      <td>4</td>\n",
       "    </tr>\n",
       "    <tr>\n",
       "      <th>62</th>\n",
       "      <td>688</td>\n",
       "      <td>44</td>\n",
       "      <td>67</td>\n",
       "      <td>1975</td>\n",
       "      <td>3</td>\n",
       "      <td>Male</td>\n",
       "      <td>5125 Elm Drive</td>\n",
       "      <td>41.31</td>\n",
       "      <td>-111.96</td>\n",
       "      <td>23165</td>\n",
       "      <td>47227</td>\n",
       "      <td>151030</td>\n",
       "      <td>760</td>\n",
       "      <td>4</td>\n",
       "    </tr>\n",
       "    <tr>\n",
       "      <th>669</th>\n",
       "      <td>395</td>\n",
       "      <td>39</td>\n",
       "      <td>72</td>\n",
       "      <td>1981</td>\n",
       "      <td>2</td>\n",
       "      <td>Male</td>\n",
       "      <td>1105 Wessex Avenue</td>\n",
       "      <td>32.69</td>\n",
       "      <td>-97.12</td>\n",
       "      <td>24331</td>\n",
       "      <td>49611</td>\n",
       "      <td>110543</td>\n",
       "      <td>739</td>\n",
       "      <td>4</td>\n",
       "    </tr>\n",
       "    <tr>\n",
       "      <th>1508</th>\n",
       "      <td>683</td>\n",
       "      <td>61</td>\n",
       "      <td>66</td>\n",
       "      <td>1959</td>\n",
       "      <td>1</td>\n",
       "      <td>Male</td>\n",
       "      <td>201 Grant Drive</td>\n",
       "      <td>40.79</td>\n",
       "      <td>-77.85</td>\n",
       "      <td>25031</td>\n",
       "      <td>51039</td>\n",
       "      <td>0</td>\n",
       "      <td>704</td>\n",
       "      <td>5</td>\n",
       "    </tr>\n",
       "    <tr>\n",
       "      <th>1867</th>\n",
       "      <td>682</td>\n",
       "      <td>58</td>\n",
       "      <td>62</td>\n",
       "      <td>1961</td>\n",
       "      <td>10</td>\n",
       "      <td>Male</td>\n",
       "      <td>2130 Valley Stream Lane</td>\n",
       "      <td>40.69</td>\n",
       "      <td>-111.99</td>\n",
       "      <td>17276</td>\n",
       "      <td>35229</td>\n",
       "      <td>60945</td>\n",
       "      <td>724</td>\n",
       "      <td>2</td>\n",
       "    </tr>\n",
       "    <tr>\n",
       "      <th>1326</th>\n",
       "      <td>1703</td>\n",
       "      <td>47</td>\n",
       "      <td>65</td>\n",
       "      <td>1972</td>\n",
       "      <td>8</td>\n",
       "      <td>Female</td>\n",
       "      <td>1532 Birch Drive</td>\n",
       "      <td>39.08</td>\n",
       "      <td>-108.55</td>\n",
       "      <td>24115</td>\n",
       "      <td>49169</td>\n",
       "      <td>65994</td>\n",
       "      <td>747</td>\n",
       "      <td>2</td>\n",
       "    </tr>\n",
       "    <tr>\n",
       "      <th>732</th>\n",
       "      <td>975</td>\n",
       "      <td>28</td>\n",
       "      <td>67</td>\n",
       "      <td>1991</td>\n",
       "      <td>5</td>\n",
       "      <td>Female</td>\n",
       "      <td>34542 Ninth Drive</td>\n",
       "      <td>42.88</td>\n",
       "      <td>-78.85</td>\n",
       "      <td>14456</td>\n",
       "      <td>29478</td>\n",
       "      <td>39224</td>\n",
       "      <td>675</td>\n",
       "      <td>2</td>\n",
       "    </tr>\n",
       "    <tr>\n",
       "      <th>227</th>\n",
       "      <td>904</td>\n",
       "      <td>32</td>\n",
       "      <td>66</td>\n",
       "      <td>1987</td>\n",
       "      <td>8</td>\n",
       "      <td>Male</td>\n",
       "      <td>41 Plum Boulevard</td>\n",
       "      <td>37.96</td>\n",
       "      <td>-76.51</td>\n",
       "      <td>12018</td>\n",
       "      <td>24505</td>\n",
       "      <td>52405</td>\n",
       "      <td>759</td>\n",
       "      <td>1</td>\n",
       "    </tr>\n",
       "    <tr>\n",
       "      <th>1775</th>\n",
       "      <td>1032</td>\n",
       "      <td>62</td>\n",
       "      <td>60</td>\n",
       "      <td>1957</td>\n",
       "      <td>6</td>\n",
       "      <td>Female</td>\n",
       "      <td>171 Catherine Lane</td>\n",
       "      <td>36.81</td>\n",
       "      <td>-119.71</td>\n",
       "      <td>17301</td>\n",
       "      <td>26975</td>\n",
       "      <td>17212</td>\n",
       "      <td>673</td>\n",
       "      <td>2</td>\n",
       "    </tr>\n",
       "    <tr>\n",
       "      <th>1150</th>\n",
       "      <td>96</td>\n",
       "      <td>69</td>\n",
       "      <td>66</td>\n",
       "      <td>1950</td>\n",
       "      <td>12</td>\n",
       "      <td>Female</td>\n",
       "      <td>20 Oak Street</td>\n",
       "      <td>33.89</td>\n",
       "      <td>-117.78</td>\n",
       "      <td>38948</td>\n",
       "      <td>99825</td>\n",
       "      <td>4344</td>\n",
       "      <td>685</td>\n",
       "      <td>4</td>\n",
       "    </tr>\n",
       "  </tbody>\n",
       "</table>\n",
       "</div>"
      ],
      "text/plain": [
       "        id  current_age  retirement_age  birth_year  birth_month  gender  \\\n",
       "508   1394           30              58        1989            4  Female   \n",
       "62     688           44              67        1975            3    Male   \n",
       "669    395           39              72        1981            2    Male   \n",
       "1508   683           61              66        1959            1    Male   \n",
       "1867   682           58              62        1961           10    Male   \n",
       "1326  1703           47              65        1972            8  Female   \n",
       "732    975           28              67        1991            5  Female   \n",
       "227    904           32              66        1987            8    Male   \n",
       "1775  1032           62              60        1957            6  Female   \n",
       "1150    96           69              66        1950           12  Female   \n",
       "\n",
       "                      address  latitude  longitude  per_capita_income  \\\n",
       "508            341 Hill Drive     38.63     -90.24              28373   \n",
       "62             5125 Elm Drive     41.31    -111.96              23165   \n",
       "669        1105 Wessex Avenue     32.69     -97.12              24331   \n",
       "1508          201 Grant Drive     40.79     -77.85              25031   \n",
       "1867  2130 Valley Stream Lane     40.69    -111.99              17276   \n",
       "1326         1532 Birch Drive     39.08    -108.55              24115   \n",
       "732         34542 Ninth Drive     42.88     -78.85              14456   \n",
       "227         41 Plum Boulevard     37.96     -76.51              12018   \n",
       "1775       171 Catherine Lane     36.81    -119.71              17301   \n",
       "1150            20 Oak Street     33.89    -117.78              38948   \n",
       "\n",
       "      yearly_income  total_debt  credit_score  num_credit_cards  \n",
       "508           57853      131828           558                 4  \n",
       "62            47227      151030           760                 4  \n",
       "669           49611      110543           739                 4  \n",
       "1508          51039           0           704                 5  \n",
       "1867          35229       60945           724                 2  \n",
       "1326          49169       65994           747                 2  \n",
       "732           29478       39224           675                 2  \n",
       "227           24505       52405           759                 1  \n",
       "1775          26975       17212           673                 2  \n",
       "1150          99825        4344           685                 4  "
      ]
     },
     "execution_count": 13,
     "metadata": {},
     "output_type": "execute_result"
    }
   ],
   "source": [
    "users_transformed.sample(10)"
   ]
  },
  {
   "cell_type": "code",
   "execution_count": 14,
   "id": "8b1551b9",
   "metadata": {},
   "outputs": [
    {
     "data": {
      "application/vnd.microsoft.datawrangler.viewer.v0+json": {
       "columns": [
        {
         "name": "index",
         "rawType": "object",
         "type": "string"
        },
        {
         "name": "id",
         "rawType": "float64",
         "type": "float"
        },
        {
         "name": "current_age",
         "rawType": "float64",
         "type": "float"
        },
        {
         "name": "retirement_age",
         "rawType": "float64",
         "type": "float"
        },
        {
         "name": "per_capita_income",
         "rawType": "float64",
         "type": "float"
        },
        {
         "name": "birth_year",
         "rawType": "float64",
         "type": "float"
        },
        {
         "name": "birth_month",
         "rawType": "float64",
         "type": "float"
        }
       ],
       "ref": "0e1d594a-0d2e-4d41-a343-bd4d80491b41",
       "rows": [
        [
         "count",
         "2000.0",
         "2000.0",
         "2000.0",
         "2000.0",
         "2000.0",
         "2000.0"
        ],
        [
         "mean",
         "999.5",
         "45.3915",
         "66.2375",
         "23141.928",
         "1973.803",
         "6.439"
        ],
        [
         "std",
         "577.4945887192364",
         "18.414091537014983",
         "3.6288673286639352",
         "11324.137357664982",
         "18.421233995880012",
         "3.565337966786417"
        ],
        [
         "min",
         "0.0",
         "18.0",
         "50.0",
         "0.0",
         "1918.0",
         "1.0"
        ],
        [
         "25%",
         "499.75",
         "30.0",
         "65.0",
         "16824.5",
         "1961.0",
         "3.0"
        ],
        [
         "50%",
         "999.5",
         "44.0",
         "66.0",
         "20581.0",
         "1975.0",
         "7.0"
        ],
        [
         "75%",
         "1499.25",
         "58.0",
         "68.0",
         "26286.0",
         "1989.0",
         "10.0"
        ],
        [
         "max",
         "1999.0",
         "101.0",
         "79.0",
         "163145.0",
         "2002.0",
         "12.0"
        ]
       ],
       "shape": {
        "columns": 6,
        "rows": 8
       }
      },
      "text/html": [
       "<div>\n",
       "<style scoped>\n",
       "    .dataframe tbody tr th:only-of-type {\n",
       "        vertical-align: middle;\n",
       "    }\n",
       "\n",
       "    .dataframe tbody tr th {\n",
       "        vertical-align: top;\n",
       "    }\n",
       "\n",
       "    .dataframe thead th {\n",
       "        text-align: right;\n",
       "    }\n",
       "</style>\n",
       "<table border=\"1\" class=\"dataframe\">\n",
       "  <thead>\n",
       "    <tr style=\"text-align: right;\">\n",
       "      <th></th>\n",
       "      <th>id</th>\n",
       "      <th>current_age</th>\n",
       "      <th>retirement_age</th>\n",
       "      <th>per_capita_income</th>\n",
       "      <th>birth_year</th>\n",
       "      <th>birth_month</th>\n",
       "    </tr>\n",
       "  </thead>\n",
       "  <tbody>\n",
       "    <tr>\n",
       "      <th>count</th>\n",
       "      <td>2000.000000</td>\n",
       "      <td>2000.000000</td>\n",
       "      <td>2000.000000</td>\n",
       "      <td>2000.000000</td>\n",
       "      <td>2000.000000</td>\n",
       "      <td>2000.000000</td>\n",
       "    </tr>\n",
       "    <tr>\n",
       "      <th>mean</th>\n",
       "      <td>999.500000</td>\n",
       "      <td>45.391500</td>\n",
       "      <td>66.237500</td>\n",
       "      <td>23141.928000</td>\n",
       "      <td>1973.803000</td>\n",
       "      <td>6.439000</td>\n",
       "    </tr>\n",
       "    <tr>\n",
       "      <th>std</th>\n",
       "      <td>577.494589</td>\n",
       "      <td>18.414092</td>\n",
       "      <td>3.628867</td>\n",
       "      <td>11324.137358</td>\n",
       "      <td>18.421234</td>\n",
       "      <td>3.565338</td>\n",
       "    </tr>\n",
       "    <tr>\n",
       "      <th>min</th>\n",
       "      <td>0.000000</td>\n",
       "      <td>18.000000</td>\n",
       "      <td>50.000000</td>\n",
       "      <td>0.000000</td>\n",
       "      <td>1918.000000</td>\n",
       "      <td>1.000000</td>\n",
       "    </tr>\n",
       "    <tr>\n",
       "      <th>25%</th>\n",
       "      <td>499.750000</td>\n",
       "      <td>30.000000</td>\n",
       "      <td>65.000000</td>\n",
       "      <td>16824.500000</td>\n",
       "      <td>1961.000000</td>\n",
       "      <td>3.000000</td>\n",
       "    </tr>\n",
       "    <tr>\n",
       "      <th>50%</th>\n",
       "      <td>999.500000</td>\n",
       "      <td>44.000000</td>\n",
       "      <td>66.000000</td>\n",
       "      <td>20581.000000</td>\n",
       "      <td>1975.000000</td>\n",
       "      <td>7.000000</td>\n",
       "    </tr>\n",
       "    <tr>\n",
       "      <th>75%</th>\n",
       "      <td>1499.250000</td>\n",
       "      <td>58.000000</td>\n",
       "      <td>68.000000</td>\n",
       "      <td>26286.000000</td>\n",
       "      <td>1989.000000</td>\n",
       "      <td>10.000000</td>\n",
       "    </tr>\n",
       "    <tr>\n",
       "      <th>max</th>\n",
       "      <td>1999.000000</td>\n",
       "      <td>101.000000</td>\n",
       "      <td>79.000000</td>\n",
       "      <td>163145.000000</td>\n",
       "      <td>2002.000000</td>\n",
       "      <td>12.000000</td>\n",
       "    </tr>\n",
       "  </tbody>\n",
       "</table>\n",
       "</div>"
      ],
      "text/plain": [
       "                id  current_age  retirement_age  per_capita_income  \\\n",
       "count  2000.000000  2000.000000     2000.000000        2000.000000   \n",
       "mean    999.500000    45.391500       66.237500       23141.928000   \n",
       "std     577.494589    18.414092        3.628867       11324.137358   \n",
       "min       0.000000    18.000000       50.000000           0.000000   \n",
       "25%     499.750000    30.000000       65.000000       16824.500000   \n",
       "50%     999.500000    44.000000       66.000000       20581.000000   \n",
       "75%    1499.250000    58.000000       68.000000       26286.000000   \n",
       "max    1999.000000   101.000000       79.000000      163145.000000   \n",
       "\n",
       "        birth_year  birth_month  \n",
       "count  2000.000000  2000.000000  \n",
       "mean   1973.803000     6.439000  \n",
       "std      18.421234     3.565338  \n",
       "min    1918.000000     1.000000  \n",
       "25%    1961.000000     3.000000  \n",
       "50%    1975.000000     7.000000  \n",
       "75%    1989.000000    10.000000  \n",
       "max    2002.000000    12.000000  "
      ]
     },
     "execution_count": 14,
     "metadata": {},
     "output_type": "execute_result"
    }
   ],
   "source": [
    "df2 = users_transformed.copy()\n",
    "df2[['id','current_age','retirement_age','per_capita_income','birth_year','birth_month']].describe()"
   ]
  },
  {
   "cell_type": "code",
   "execution_count": 15,
   "id": "08066701",
   "metadata": {},
   "outputs": [
    {
     "data": {
      "image/png": "[encoded data removed]",
      "text/plain": [
       "<Figure size 640x480 with 1 Axes>"
      ]
     },
     "metadata": {},
     "output_type": "display_data"
    }
   ],
   "source": [
    "import matplotlib.pyplot as plt\n",
    "df2['per_capita_income'].plot(kind='hist', bins=50, title='Per Capita Income Distribution')\n",
    "df2['yearly_income'].plot(kind='hist', bins=50, title='yearly and percapita Income Distribution')\n",
    "plt.show()"
   ]
  },
  {
   "cell_type": "code",
   "execution_count": 16,
   "id": "4205d3cf",
   "metadata": {},
   "outputs": [
    {
     "data": {
      "application/vnd.microsoft.datawrangler.viewer.v0+json": {
       "columns": [
        {
         "name": "birth_month",
         "rawType": "int64",
         "type": "integer"
        },
        {
         "name": "count",
         "rawType": "int64",
         "type": "integer"
        }
       ],
       "ref": "0b67bc18-5ca8-4b47-91ca-3a50fb4e6ee6",
       "rows": [
        [
         "1",
         "192"
        ],
        [
         "2",
         "197"
        ],
        [
         "3",
         "167"
        ],
        [
         "4",
         "146"
        ],
        [
         "5",
         "160"
        ],
        [
         "6",
         "130"
        ],
        [
         "7",
         "155"
        ],
        [
         "8",
         "171"
        ],
        [
         "9",
         "165"
        ],
        [
         "10",
         "163"
        ],
        [
         "11",
         "189"
        ],
        [
         "12",
         "165"
        ]
       ],
       "shape": {
        "columns": 1,
        "rows": 12
       }
      },
      "text/plain": [
       "birth_month\n",
       "1     192\n",
       "2     197\n",
       "3     167\n",
       "4     146\n",
       "5     160\n",
       "6     130\n",
       "7     155\n",
       "8     171\n",
       "9     165\n",
       "10    163\n",
       "11    189\n",
       "12    165\n",
       "Name: count, dtype: int64"
      ]
     },
     "execution_count": 16,
     "metadata": {},
     "output_type": "execute_result"
    }
   ],
   "source": [
    "df2['birth_month'].value_counts().sort_index()"
   ]
  },
  {
   "cell_type": "code",
   "execution_count": 17,
   "id": "88ece631",
   "metadata": {},
   "outputs": [
    {
     "data": {
      "application/vnd.microsoft.datawrangler.viewer.v0+json": {
       "columns": [
        {
         "name": "index",
         "rawType": "int64",
         "type": "integer"
        },
        {
         "name": "id",
         "rawType": "int64",
         "type": "integer"
        },
        {
         "name": "current_age",
         "rawType": "int64",
         "type": "integer"
        },
        {
         "name": "retirement_age",
         "rawType": "int64",
         "type": "integer"
        },
        {
         "name": "birth_year",
         "rawType": "int64",
         "type": "integer"
        },
        {
         "name": "birth_month",
         "rawType": "int64",
         "type": "integer"
        },
        {
         "name": "gender",
         "rawType": "object",
         "type": "string"
        },
        {
         "name": "address",
         "rawType": "object",
         "type": "string"
        },
        {
         "name": "latitude",
         "rawType": "float64",
         "type": "float"
        },
        {
         "name": "longitude",
         "rawType": "float64",
         "type": "float"
        },
        {
         "name": "per_capita_income",
         "rawType": "int64",
         "type": "integer"
        },
        {
         "name": "yearly_income",
         "rawType": "int64",
         "type": "integer"
        },
        {
         "name": "total_debt",
         "rawType": "int64",
         "type": "integer"
        },
        {
         "name": "credit_score",
         "rawType": "int64",
         "type": "integer"
        },
        {
         "name": "num_credit_cards",
         "rawType": "int64",
         "type": "integer"
        }
       ],
       "ref": "32bc6366-03fc-48b0-aac2-d02649d3e446",
       "rows": [
        [
         "1",
         "1746",
         "53",
         "68",
         "1966",
         "12",
         "Female",
         "3606 Federal Boulevard",
         "40.76",
         "-73.74",
         "37891",
         "77254",
         "191349",
         "701",
         "5"
        ],
        [
         "3",
         "708",
         "63",
         "63",
         "1957",
         "1",
         "Female",
         "3 Madison Street",
         "40.71",
         "-73.99",
         "163145",
         "249925",
         "202328",
         "722",
         "4"
        ],
        [
         "4",
         "1164",
         "43",
         "70",
         "1976",
         "9",
         "Male",
         "9620 Valley Stream Drive",
         "37.76",
         "-122.44",
         "53797",
         "109687",
         "183855",
         "675",
         "1"
        ],
        [
         "12",
         "1679",
         "18",
         "67",
         "2002",
         "1",
         "Female",
         "829 Fourth Boulevard",
         "41.76",
         "-71.48",
         "33914",
         "69149",
         "89214",
         "776",
         "1"
        ],
        [
         "21",
         "777",
         "18",
         "65",
         "2002",
         "1",
         "Male",
         "970 Essex Drive",
         "37.37",
         "-122.21",
         "106305",
         "216740",
         "0",
         "700",
         "2"
        ],
        [
         "33",
         "1689",
         "21",
         "66",
         "1998",
         "9",
         "Female",
         "93 Plum Lane",
         "41.29",
         "-72.36",
         "30281",
         "61746",
         "154817",
         "637",
         "2"
        ],
        [
         "39",
         "1806",
         "59",
         "62",
         "1961",
         "2",
         "Female",
         "299 11th Street",
         "42.31",
         "-71.64",
         "39418",
         "80371",
         "108499",
         "822",
         "1"
        ],
        [
         "40",
         "811",
         "91",
         "68",
         "1929",
         "2",
         "Female",
         "5492 Maple Drive",
         "38.9",
         "-94.68",
         "51642",
         "84694",
         "2149",
         "741",
         "7"
        ],
        [
         "42",
         "1852",
         "57",
         "75",
         "1962",
         "12",
         "Male",
         "41011 Seventh Boulevard",
         "33.27",
         "-111.94",
         "32056",
         "65357",
         "21844",
         "685",
         "4"
        ],
        [
         "50",
         "461",
         "42",
         "68",
         "1977",
         "12",
         "Female",
         "28 Hillside Boulevard",
         "42.3",
         "-83.48",
         "32078",
         "65403",
         "80057",
         "784",
         "4"
        ],
        [
         "58",
         "1452",
         "46",
         "59",
         "1973",
         "5",
         "Female",
         "524 Ocean Drive",
         "29.76",
         "-95.38",
         "95039",
         "193773",
         "241571",
         "660",
         "1"
        ],
        [
         "61",
         "1492",
         "63",
         "58",
         "1957",
         "2",
         "Female",
         "2883 Ocean View Boulevard",
         "47.32",
         "-121.99",
         "32697",
         "56635",
         "13015",
         "786",
         "8"
        ],
        [
         "74",
         "1877",
         "65",
         "66",
         "1955",
         "1",
         "Male",
         "190 Sixth Drive",
         "32.92",
         "-96.45",
         "34659",
         "70673",
         "87605",
         "714",
         "4"
        ],
        [
         "78",
         "1738",
         "30",
         "68",
         "1989",
         "3",
         "Male",
         "5142 Little Creek Street",
         "35.67",
         "-97.41",
         "33736",
         "68784",
         "198417",
         "696",
         "4"
        ],
        [
         "80",
         "1631",
         "18",
         "67",
         "2001",
         "11",
         "Female",
         "4735 Fifth Avenue",
         "30.44",
         "-91.12",
         "31741",
         "64715",
         "174664",
         "740",
         "3"
        ],
        [
         "81",
         "1487",
         "59",
         "69",
         "1961",
         "2",
         "Female",
         "4793 North Street",
         "40.69",
         "-80.01",
         "39464",
         "80464",
         "76261",
         "727",
         "3"
        ],
        [
         "84",
         "1014",
         "54",
         "70",
         "1965",
         "9",
         "Female",
         "393 Mountain View Lane",
         "33.6",
         "-117.82",
         "96516",
         "196784",
         "437533",
         "729",
         "3"
        ],
        [
         "85",
         "290",
         "27",
         "66",
         "1992",
         "3",
         "Female",
         "293 Wessex Street",
         "42.4",
         "-83.6",
         "49458",
         "100837",
         "61377",
         "687",
         "2"
        ],
        [
         "95",
         "406",
         "23",
         "64",
         "1996",
         "5",
         "Female",
         "2418 Mill Drive",
         "37.3",
         "-122.0",
         "41750",
         "85128",
         "108678",
         "641",
         "1"
        ],
        [
         "99",
         "1866",
         "22",
         "67",
         "1998",
         "2",
         "Male",
         "213 Rose Drive",
         "32.85",
         "-96.96",
         "30475",
         "62135",
         "75209",
         "676",
         "2"
        ],
        [
         "101",
         "870",
         "63",
         "64",
         "1956",
         "3",
         "Female",
         "1389 Park Lane",
         "38.64",
         "-76.9",
         "35114",
         "71593",
         "132181",
         "821",
         "3"
        ],
        [
         "105",
         "1968",
         "25",
         "69",
         "1994",
         "11",
         "Female",
         "611 Elm Lane",
         "40.94",
         "-73.86",
         "31299",
         "63816",
         "100128",
         "775",
         "1"
        ],
        [
         "106",
         "697",
         "56",
         "73",
         "1964",
         "1",
         "Female",
         "889 Martin Luther King Avenue",
         "35.72",
         "-78.84",
         "32485",
         "66230",
         "90248",
         "742",
         "3"
        ],
        [
         "110",
         "1734",
         "37",
         "69",
         "1982",
         "11",
         "Male",
         "185 Forest Drive",
         "33.95",
         "-84.54",
         "40530",
         "82637",
         "84762",
         "739",
         "2"
        ],
        [
         "111",
         "1913",
         "60",
         "57",
         "1960",
         "1",
         "Female",
         "561 Martin Luther King Avenue",
         "42.47",
         "-83.49",
         "34259",
         "31121",
         "32768",
         "619",
         "5"
        ],
        [
         "116",
         "1301",
         "26",
         "66",
         "1993",
         "5",
         "Female",
         "9530 Washington Street",
         "38.1",
         "-122.63",
         "30335",
         "61850",
         "81158",
         "728",
         "9"
        ],
        [
         "120",
         "1957",
         "40",
         "74",
         "1979",
         "9",
         "Male",
         "1977 Lake Avenue",
         "34.15",
         "-118.6",
         "47055",
         "95945",
         "222735",
         "772",
         "2"
        ],
        [
         "122",
         "1024",
         "66",
         "67",
         "1953",
         "4",
         "Male",
         "554 Grant Boulevard",
         "37.69",
         "-97.13",
         "32162",
         "65573",
         "143069",
         "739",
         "4"
        ],
        [
         "126",
         "165",
         "34",
         "65",
         "1986",
         "2",
         "Male",
         "95266 Bayview Drive",
         "37.83",
         "-122.22",
         "52813",
         "107683",
         "225017",
         "694",
         "3"
        ],
        [
         "130",
         "1943",
         "19",
         "65",
         "2000",
         "9",
         "Female",
         "1134 Valley Drive",
         "41.71",
         "-72.83",
         "46762",
         "95348",
         "71972",
         "706",
         "3"
        ],
        [
         "136",
         "1027",
         "53",
         "68",
         "1966",
         "5",
         "Male",
         "809 Mountain View Boulevard",
         "38.88",
         "-94.81",
         "30232",
         "61646",
         "0",
         "693",
         "3"
        ],
        [
         "137",
         "11",
         "39",
         "67",
         "1980",
         "10",
         "Female",
         "6339 Fourth Street",
         "39.45",
         "-76.81",
         "33175",
         "67643",
         "0",
         "714",
         "6"
        ],
        [
         "142",
         "1799",
         "32",
         "55",
         "1987",
         "4",
         "Male",
         "3249 12th Drive",
         "47.75",
         "-122.04",
         "51751",
         "105515",
         "192458",
         "646",
         "4"
        ],
        [
         "144",
         "130",
         "63",
         "69",
         "1956",
         "9",
         "Female",
         "6429 Fifth Avenue",
         "35.19",
         "-80.83",
         "39752",
         "81048",
         "156195",
         "781",
         "4"
        ],
        [
         "149",
         "663",
         "68",
         "63",
         "1951",
         "3",
         "Female",
         "6398 Lake Lane",
         "35.92",
         "-86.84",
         "36563",
         "70554",
         "39078",
         "655",
         "5"
        ],
        [
         "151",
         "1484",
         "92",
         "72",
         "1927",
         "8",
         "Female",
         "290 Forest Street",
         "32.28",
         "-110.73",
         "30818",
         "57732",
         "2261",
         "726",
         "6"
        ],
        [
         "154",
         "306",
         "18",
         "69",
         "2002",
         "1",
         "Male",
         "9850 Birch Drive",
         "42.28",
         "-71.16",
         "34519",
         "70380",
         "106797",
         "725",
         "2"
        ],
        [
         "157",
         "698",
         "55",
         "66",
         "1964",
         "10",
         "Female",
         "886 Little Creek Drive",
         "42.62",
         "-73.83",
         "31927",
         "65094",
         "23909",
         "699",
         "3"
        ],
        [
         "161",
         "227",
         "48",
         "66",
         "1971",
         "9",
         "Male",
         "496 Hill Lane",
         "44.96",
         "-93.26",
         "40364",
         "82295",
         "1555",
         "736",
         "4"
        ],
        [
         "167",
         "1427",
         "34",
         "66",
         "1985",
         "10",
         "Female",
         "326 Elm Lane",
         "35.19",
         "-80.83",
         "49477",
         "100880",
         "210445",
         "770",
         "1"
        ],
        [
         "187",
         "705",
         "84",
         "71",
         "1935",
         "9",
         "Female",
         "136 Hillside Avenue",
         "37.91",
         "-122.01",
         "42234",
         "79870",
         "4031",
         "609",
         "2"
        ],
        [
         "189",
         "1188",
         "24",
         "61",
         "1995",
         "8",
         "Female",
         "66992 Second Street",
         "36.3",
         "-115.24",
         "31374",
         "63969",
         "128412",
         "626",
         "1"
        ],
        [
         "204",
         "1931",
         "58",
         "72",
         "1961",
         "6",
         "Male",
         "8996 Third Street",
         "42.41",
         "-71.16",
         "40694",
         "82974",
         "181429",
         "503",
         "2"
        ],
        [
         "205",
         "702",
         "46",
         "68",
         "1973",
         "7",
         "Female",
         "33 Tenth Street",
         "40.84",
         "-73.4",
         "34873",
         "71103",
         "136853",
         "721",
         "4"
        ],
        [
         "210",
         "437",
         "46",
         "66",
         "1973",
         "6",
         "Female",
         "9528 Hill Street",
         "39.04",
         "-76.49",
         "35645",
         "72670",
         "28915",
         "718",
         "3"
        ],
        [
         "211",
         "806",
         "24",
         "67",
         "1995",
         "4",
         "Female",
         "8251 Park Lane",
         "40.11",
         "-83.13",
         "38243",
         "77972",
         "6128",
         "686",
         "3"
        ],
        [
         "215",
         "1147",
         "80",
         "69",
         "1939",
         "3",
         "Male",
         "614 Spruce Avenue",
         "40.6",
         "-74.76",
         "46827",
         "104692",
         "6955",
         "704",
         "2"
        ],
        [
         "216",
         "1625",
         "24",
         "66",
         "1995",
         "5",
         "Female",
         "625 Washington Lane",
         "47.67",
         "-122.18",
         "49629",
         "101191",
         "290730",
         "659",
         "1"
        ],
        [
         "217",
         "1664",
         "38",
         "66",
         "1981",
         "10",
         "Male",
         "311 Fifth Drive",
         "42.27",
         "-83.73",
         "34119",
         "69566",
         "50003",
         "791",
         "4"
        ],
        [
         "229",
         "1286",
         "53",
         "67",
         "1966",
         "10",
         "Female",
         "456 Lincoln Boulevard",
         "42.76",
         "-78.74",
         "30202",
         "61578",
         "85383",
         "602",
         "2"
        ]
       ],
       "shape": {
        "columns": 14,
        "rows": 344
       }
      },
      "text/html": [
       "<div>\n",
       "<style scoped>\n",
       "    .dataframe tbody tr th:only-of-type {\n",
       "        vertical-align: middle;\n",
       "    }\n",
       "\n",
       "    .dataframe tbody tr th {\n",
       "        vertical-align: top;\n",
       "    }\n",
       "\n",
       "    .dataframe thead th {\n",
       "        text-align: right;\n",
       "    }\n",
       "</style>\n",
       "<table border=\"1\" class=\"dataframe\">\n",
       "  <thead>\n",
       "    <tr style=\"text-align: right;\">\n",
       "      <th></th>\n",
       "      <th>id</th>\n",
       "      <th>current_age</th>\n",
       "      <th>retirement_age</th>\n",
       "      <th>birth_year</th>\n",
       "      <th>birth_month</th>\n",
       "      <th>gender</th>\n",
       "      <th>address</th>\n",
       "      <th>latitude</th>\n",
       "      <th>longitude</th>\n",
       "      <th>per_capita_income</th>\n",
       "      <th>yearly_income</th>\n",
       "      <th>total_debt</th>\n",
       "      <th>credit_score</th>\n",
       "      <th>num_credit_cards</th>\n",
       "    </tr>\n",
       "  </thead>\n",
       "  <tbody>\n",
       "    <tr>\n",
       "      <th>1</th>\n",
       "      <td>1746</td>\n",
       "      <td>53</td>\n",
       "      <td>68</td>\n",
       "      <td>1966</td>\n",
       "      <td>12</td>\n",
       "      <td>Female</td>\n",
       "      <td>3606 Federal Boulevard</td>\n",
       "      <td>40.76</td>\n",
       "      <td>-73.74</td>\n",
       "      <td>37891</td>\n",
       "      <td>77254</td>\n",
       "      <td>191349</td>\n",
       "      <td>701</td>\n",
       "      <td>5</td>\n",
       "    </tr>\n",
       "    <tr>\n",
       "      <th>3</th>\n",
       "      <td>708</td>\n",
       "      <td>63</td>\n",
       "      <td>63</td>\n",
       "      <td>1957</td>\n",
       "      <td>1</td>\n",
       "      <td>Female</td>\n",
       "      <td>3 Madison Street</td>\n",
       "      <td>40.71</td>\n",
       "      <td>-73.99</td>\n",
       "      <td>163145</td>\n",
       "      <td>249925</td>\n",
       "      <td>202328</td>\n",
       "      <td>722</td>\n",
       "      <td>4</td>\n",
       "    </tr>\n",
       "    <tr>\n",
       "      <th>4</th>\n",
       "      <td>1164</td>\n",
       "      <td>43</td>\n",
       "      <td>70</td>\n",
       "      <td>1976</td>\n",
       "      <td>9</td>\n",
       "      <td>Male</td>\n",
       "      <td>9620 Valley Stream Drive</td>\n",
       "      <td>37.76</td>\n",
       "      <td>-122.44</td>\n",
       "      <td>53797</td>\n",
       "      <td>109687</td>\n",
       "      <td>183855</td>\n",
       "      <td>675</td>\n",
       "      <td>1</td>\n",
       "    </tr>\n",
       "    <tr>\n",
       "      <th>12</th>\n",
       "      <td>1679</td>\n",
       "      <td>18</td>\n",
       "      <td>67</td>\n",
       "      <td>2002</td>\n",
       "      <td>1</td>\n",
       "      <td>Female</td>\n",
       "      <td>829 Fourth Boulevard</td>\n",
       "      <td>41.76</td>\n",
       "      <td>-71.48</td>\n",
       "      <td>33914</td>\n",
       "      <td>69149</td>\n",
       "      <td>89214</td>\n",
       "      <td>776</td>\n",
       "      <td>1</td>\n",
       "    </tr>\n",
       "    <tr>\n",
       "      <th>21</th>\n",
       "      <td>777</td>\n",
       "      <td>18</td>\n",
       "      <td>65</td>\n",
       "      <td>2002</td>\n",
       "      <td>1</td>\n",
       "      <td>Male</td>\n",
       "      <td>970 Essex Drive</td>\n",
       "      <td>37.37</td>\n",
       "      <td>-122.21</td>\n",
       "      <td>106305</td>\n",
       "      <td>216740</td>\n",
       "      <td>0</td>\n",
       "      <td>700</td>\n",
       "      <td>2</td>\n",
       "    </tr>\n",
       "    <tr>\n",
       "      <th>...</th>\n",
       "      <td>...</td>\n",
       "      <td>...</td>\n",
       "      <td>...</td>\n",
       "      <td>...</td>\n",
       "      <td>...</td>\n",
       "      <td>...</td>\n",
       "      <td>...</td>\n",
       "      <td>...</td>\n",
       "      <td>...</td>\n",
       "      <td>...</td>\n",
       "      <td>...</td>\n",
       "      <td>...</td>\n",
       "      <td>...</td>\n",
       "      <td>...</td>\n",
       "    </tr>\n",
       "    <tr>\n",
       "      <th>1952</th>\n",
       "      <td>1395</td>\n",
       "      <td>58</td>\n",
       "      <td>65</td>\n",
       "      <td>1961</td>\n",
       "      <td>9</td>\n",
       "      <td>Male</td>\n",
       "      <td>2687 Burns Avenue</td>\n",
       "      <td>40.98</td>\n",
       "      <td>-74.11</td>\n",
       "      <td>75378</td>\n",
       "      <td>153691</td>\n",
       "      <td>197377</td>\n",
       "      <td>604</td>\n",
       "      <td>2</td>\n",
       "    </tr>\n",
       "    <tr>\n",
       "      <th>1959</th>\n",
       "      <td>1339</td>\n",
       "      <td>25</td>\n",
       "      <td>70</td>\n",
       "      <td>1994</td>\n",
       "      <td>8</td>\n",
       "      <td>Male</td>\n",
       "      <td>9181 Elm Avenue</td>\n",
       "      <td>38.01</td>\n",
       "      <td>-121.38</td>\n",
       "      <td>31600</td>\n",
       "      <td>64429</td>\n",
       "      <td>136163</td>\n",
       "      <td>773</td>\n",
       "      <td>2</td>\n",
       "    </tr>\n",
       "    <tr>\n",
       "      <th>1965</th>\n",
       "      <td>628</td>\n",
       "      <td>57</td>\n",
       "      <td>66</td>\n",
       "      <td>1963</td>\n",
       "      <td>1</td>\n",
       "      <td>Male</td>\n",
       "      <td>4 George Lane</td>\n",
       "      <td>40.00</td>\n",
       "      <td>-75.26</td>\n",
       "      <td>52517</td>\n",
       "      <td>107075</td>\n",
       "      <td>75999</td>\n",
       "      <td>815</td>\n",
       "      <td>3</td>\n",
       "    </tr>\n",
       "    <tr>\n",
       "      <th>1979</th>\n",
       "      <td>1616</td>\n",
       "      <td>48</td>\n",
       "      <td>70</td>\n",
       "      <td>1971</td>\n",
       "      <td>8</td>\n",
       "      <td>Male</td>\n",
       "      <td>469 First Lane</td>\n",
       "      <td>33.00</td>\n",
       "      <td>-97.23</td>\n",
       "      <td>46232</td>\n",
       "      <td>94260</td>\n",
       "      <td>39326</td>\n",
       "      <td>815</td>\n",
       "      <td>4</td>\n",
       "    </tr>\n",
       "    <tr>\n",
       "      <th>1999</th>\n",
       "      <td>1110</td>\n",
       "      <td>21</td>\n",
       "      <td>60</td>\n",
       "      <td>1998</td>\n",
       "      <td>11</td>\n",
       "      <td>Female</td>\n",
       "      <td>472 Ocean View Street</td>\n",
       "      <td>42.86</td>\n",
       "      <td>-71.48</td>\n",
       "      <td>32325</td>\n",
       "      <td>65909</td>\n",
       "      <td>181261</td>\n",
       "      <td>673</td>\n",
       "      <td>2</td>\n",
       "    </tr>\n",
       "  </tbody>\n",
       "</table>\n",
       "<p>344 rows × 14 columns</p>\n",
       "</div>"
      ],
      "text/plain": [
       "        id  current_age  retirement_age  birth_year  birth_month  gender  \\\n",
       "1     1746           53              68        1966           12  Female   \n",
       "3      708           63              63        1957            1  Female   \n",
       "4     1164           43              70        1976            9    Male   \n",
       "12    1679           18              67        2002            1  Female   \n",
       "21     777           18              65        2002            1    Male   \n",
       "...    ...          ...             ...         ...          ...     ...   \n",
       "1952  1395           58              65        1961            9    Male   \n",
       "1959  1339           25              70        1994            8    Male   \n",
       "1965   628           57              66        1963            1    Male   \n",
       "1979  1616           48              70        1971            8    Male   \n",
       "1999  1110           21              60        1998           11  Female   \n",
       "\n",
       "                       address  latitude  longitude  per_capita_income  \\\n",
       "1       3606 Federal Boulevard     40.76     -73.74              37891   \n",
       "3             3 Madison Street     40.71     -73.99             163145   \n",
       "4     9620 Valley Stream Drive     37.76    -122.44              53797   \n",
       "12        829 Fourth Boulevard     41.76     -71.48              33914   \n",
       "21             970 Essex Drive     37.37    -122.21             106305   \n",
       "...                        ...       ...        ...                ...   \n",
       "1952         2687 Burns Avenue     40.98     -74.11              75378   \n",
       "1959           9181 Elm Avenue     38.01    -121.38              31600   \n",
       "1965             4 George Lane     40.00     -75.26              52517   \n",
       "1979            469 First Lane     33.00     -97.23              46232   \n",
       "1999     472 Ocean View Street     42.86     -71.48              32325   \n",
       "\n",
       "      yearly_income  total_debt  credit_score  num_credit_cards  \n",
       "1             77254      191349           701                 5  \n",
       "3            249925      202328           722                 4  \n",
       "4            109687      183855           675                 1  \n",
       "12            69149       89214           776                 1  \n",
       "21           216740           0           700                 2  \n",
       "...             ...         ...           ...               ...  \n",
       "1952         153691      197377           604                 2  \n",
       "1959          64429      136163           773                 2  \n",
       "1965         107075       75999           815                 3  \n",
       "1979          94260       39326           815                 4  \n",
       "1999          65909      181261           673                 2  \n",
       "\n",
       "[344 rows x 14 columns]"
      ]
     },
     "execution_count": 17,
     "metadata": {},
     "output_type": "execute_result"
    }
   ],
   "source": [
    "df2.loc[df2['per_capita_income']> 30000,:]"
   ]
  },
  {
   "cell_type": "code",
   "execution_count": 18,
   "id": "c9139200",
   "metadata": {},
   "outputs": [
    {
     "data": {
      "application/vnd.microsoft.datawrangler.viewer.v0+json": {
       "columns": [
        {
         "name": "address",
         "rawType": "object",
         "type": "string"
        },
        {
         "name": "count",
         "rawType": "int64",
         "type": "integer"
        }
       ],
       "ref": "2a594c52-459a-44c9-891b-009340ab16d1",
       "rows": [
        [
         "0 Elm Street",
         "1"
        ],
        [
         "0 Ocean Boulevard",
         "1"
        ],
        [
         "1 Burns Lane",
         "1"
        ],
        [
         "1 Sixth Boulevard",
         "1"
        ],
        [
         "10 Norfolk Boulevard",
         "1"
        ],
        [
         "10 Third Avenue",
         "1"
        ],
        [
         "100 Rose Lane",
         "1"
        ],
        [
         "100 Seventh Drive",
         "1"
        ],
        [
         "1012 Hill Drive",
         "1"
        ],
        [
         "102 Burns Boulevard",
         "1"
        ],
        [
         "102 Seventh Avenue",
         "1"
        ],
        [
         "1032 Second Lane",
         "1"
        ],
        [
         "1034 Pine Boulevard",
         "1"
        ],
        [
         "1036 Spruce Street",
         "1"
        ],
        [
         "1039 Bayview Drive",
         "1"
        ],
        [
         "104 First Boulevard",
         "1"
        ],
        [
         "1047 Seventh Street",
         "1"
        ],
        [
         "105 Seventh Street",
         "1"
        ],
        [
         "1059 Elm Avenue",
         "1"
        ],
        [
         "106 Littlewood Drive",
         "1"
        ],
        [
         "1063 Federal Boulevard",
         "1"
        ],
        [
         "1071 Lafayette Street",
         "1"
        ],
        [
         "108 Washington Street",
         "1"
        ],
        [
         "1089 Norfolk Avenue",
         "1"
        ],
        [
         "109 El Camino Avenue",
         "1"
        ],
        [
         "11 Spruce Avenue",
         "1"
        ],
        [
         "1105 Second Drive",
         "1"
        ],
        [
         "1105 Wessex Avenue",
         "1"
        ],
        [
         "111 Hillside Avenue",
         "1"
        ],
        [
         "11162 Oak Drive",
         "1"
        ],
        [
         "112 Burns Lane",
         "1"
        ],
        [
         "112 Elm Avenue",
         "1"
        ],
        [
         "113 Burns Lane",
         "1"
        ],
        [
         "1132 Hill Street",
         "1"
        ],
        [
         "1134 Valley Drive",
         "1"
        ],
        [
         "115 Bayview Lane",
         "1"
        ],
        [
         "1177 Elm Avenue",
         "1"
        ],
        [
         "118 12th Avenue",
         "1"
        ],
        [
         "118 Mountain View Lane",
         "1"
        ],
        [
         "1184 Essex Lane",
         "1"
        ],
        [
         "12 12th Avenue",
         "1"
        ],
        [
         "120 Lafayette Boulevard",
         "1"
        ],
        [
         "12067 Federal Boulevard",
         "1"
        ],
        [
         "1209 George Drive",
         "1"
        ],
        [
         "12150 Mill Boulevard",
         "1"
        ],
        [
         "122 11th Drive",
         "1"
        ],
        [
         "1222 First Drive",
         "1"
        ],
        [
         "123 Ocean View Street",
         "1"
        ],
        [
         "124 Madison Lane",
         "1"
        ],
        [
         "1241 11th Boulevard",
         "1"
        ]
       ],
       "shape": {
        "columns": 1,
        "rows": 1999
       }
      },
      "text/plain": [
       "address\n",
       "0 Elm Street             1\n",
       "0 Ocean Boulevard        1\n",
       "1 Burns Lane             1\n",
       "1 Sixth Boulevard        1\n",
       "10 Norfolk Boulevard     1\n",
       "                        ..\n",
       "9977 Oak Avenue          1\n",
       "99791 12th Boulevard     1\n",
       "9982 Summit Boulevard    1\n",
       "9983 Park Drive          1\n",
       "9995 Pine Avenue         1\n",
       "Name: count, Length: 1999, dtype: int64"
      ]
     },
     "execution_count": 18,
     "metadata": {},
     "output_type": "execute_result"
    }
   ],
   "source": [
    "df2['address'].value_counts().sort_index(ascending=True)"
   ]
  },
  {
   "cell_type": "code",
   "execution_count": 19,
   "id": "7e807669",
   "metadata": {},
   "outputs": [
    {
     "data": {
      "application/vnd.microsoft.datawrangler.viewer.v0+json": {
       "columns": [
        {
         "name": "index",
         "rawType": "int64",
         "type": "integer"
        },
        {
         "name": "address",
         "rawType": "object",
         "type": "string"
        }
       ],
       "ref": "b50467a6-e80b-4205-a6f0-2ef06eb95f40",
       "rows": [
        [
         "0",
         "Rose Lane"
        ],
        [
         "1",
         "Federal Boulevard"
        ],
        [
         "2",
         "Third Drive"
        ],
        [
         "3",
         "Madison Street"
        ],
        [
         "4",
         "Valley Stream Drive"
        ],
        [
         "5",
         "Birch Lane"
        ],
        [
         "6",
         "Fifth Street"
        ],
        [
         "7",
         "Ninth Street"
        ],
        [
         "8",
         "Spruce Avenue"
        ],
        [
         "9",
         "Grant Street"
        ],
        [
         "10",
         "Fifth Lane"
        ],
        [
         "11",
         "Littlewood Lane"
        ],
        [
         "12",
         "Fourth Boulevard"
        ],
        [
         "13",
         "Jefferson Drive"
        ],
        [
         "14",
         "East Street"
        ],
        [
         "15",
         "Washington Drive"
        ],
        [
         "16",
         "Hillside Drive"
        ],
        [
         "17",
         "Birch Street"
        ],
        [
         "18",
         "Spruce Boulevard"
        ],
        [
         "19",
         "Tenth Lane"
        ],
        [
         "20",
         "Lake Avenue"
        ],
        [
         "21",
         "Essex Drive"
        ],
        [
         "22",
         "Washington Avenue"
        ],
        [
         "23",
         "Wessex Avenue"
        ],
        [
         "24",
         "Eighth Boulevard"
        ],
        [
         "25",
         "Mill Boulevard"
        ],
        [
         "26",
         "Wessex Avenue"
        ],
        [
         "27",
         "Norfolk Boulevard"
        ],
        [
         "28",
         "Bayview Avenue"
        ],
        [
         "29",
         "Washington Street"
        ],
        [
         "30",
         "Seventh Drive"
        ],
        [
         "31",
         "Tenth Boulevard"
        ],
        [
         "32",
         "Birch Drive"
        ],
        [
         "33",
         "Plum Lane"
        ],
        [
         "34",
         "Lincoln Avenue"
        ],
        [
         "35",
         "Spruce Drive"
        ],
        [
         "36",
         "Sussex Boulevard"
        ],
        [
         "37",
         "Fourth Street"
        ],
        [
         "38",
         "Mill Drive"
        ],
        [
         "39",
         "th Street"
        ],
        [
         "40",
         "Maple Drive"
        ],
        [
         "41",
         "Birch Boulevard"
        ],
        [
         "42",
         "Seventh Boulevard"
        ],
        [
         "43",
         "Little Creek Lane"
        ],
        [
         "44",
         "Rose Avenue"
        ],
        [
         "45",
         "Birch Lane"
        ],
        [
         "46",
         "th Drive"
        ],
        [
         "47",
         "Spruce Drive"
        ],
        [
         "48",
         "Essex Boulevard"
        ],
        [
         "49",
         "George Street"
        ]
       ],
       "shape": {
        "columns": 1,
        "rows": 2000
       }
      },
      "text/plain": [
       "0                 Rose Lane\n",
       "1         Federal Boulevard\n",
       "2               Third Drive\n",
       "3            Madison Street\n",
       "4       Valley Stream Drive\n",
       "               ...         \n",
       "1995         Lexington Lane\n",
       "1996              Elm Drive\n",
       "1997        Fifth Boulevard\n",
       "1998       Valley Boulevard\n",
       "1999      Ocean View Street\n",
       "Name: address, Length: 2000, dtype: object"
      ]
     },
     "execution_count": 19,
     "metadata": {},
     "output_type": "execute_result"
    }
   ],
   "source": [
    "df2['address'].str.replace(r'\\d+', '', regex=True).str.strip()"
   ]
  },
  {
   "cell_type": "code",
   "execution_count": 20,
   "id": "0c034518",
   "metadata": {},
   "outputs": [
    {
     "data": {
      "application/vnd.microsoft.datawrangler.viewer.v0+json": {
       "columns": [
        {
         "name": "index",
         "rawType": "int64",
         "type": "integer"
        },
        {
         "name": "id",
         "rawType": "int64",
         "type": "integer"
        },
        {
         "name": "current_age",
         "rawType": "int64",
         "type": "integer"
        },
        {
         "name": "retirement_age",
         "rawType": "int64",
         "type": "integer"
        },
        {
         "name": "birth_year",
         "rawType": "int64",
         "type": "integer"
        },
        {
         "name": "birth_month",
         "rawType": "int64",
         "type": "integer"
        },
        {
         "name": "gender",
         "rawType": "object",
         "type": "string"
        },
        {
         "name": "address",
         "rawType": "object",
         "type": "string"
        },
        {
         "name": "latitude",
         "rawType": "float64",
         "type": "float"
        },
        {
         "name": "longitude",
         "rawType": "float64",
         "type": "float"
        },
        {
         "name": "per_capita_income",
         "rawType": "int64",
         "type": "integer"
        },
        {
         "name": "yearly_income",
         "rawType": "int64",
         "type": "integer"
        },
        {
         "name": "total_debt",
         "rawType": "int64",
         "type": "integer"
        },
        {
         "name": "credit_score",
         "rawType": "int64",
         "type": "integer"
        },
        {
         "name": "num_credit_cards",
         "rawType": "int64",
         "type": "integer"
        }
       ],
       "ref": "41e96f5c-fd7a-47c6-8bf6-53d5cdba40c2",
       "rows": [
        [
         "0",
         "825",
         "53",
         "66",
         "1966",
         "11",
         "Female",
         "462 Rose Lane",
         "34.15",
         "-117.76",
         "29278",
         "59696",
         "127613",
         "787",
         "5"
        ],
        [
         "1",
         "1746",
         "53",
         "68",
         "1966",
         "12",
         "Female",
         "3606 Federal Boulevard",
         "40.76",
         "-73.74",
         "37891",
         "77254",
         "191349",
         "701",
         "5"
        ],
        [
         "2",
         "1718",
         "81",
         "67",
         "1938",
         "11",
         "Female",
         "766 Third Drive",
         "34.02",
         "-117.89",
         "22681",
         "33483",
         "196",
         "698",
         "5"
        ],
        [
         "3",
         "708",
         "63",
         "63",
         "1957",
         "1",
         "Female",
         "3 Madison Street",
         "40.71",
         "-73.99",
         "163145",
         "249925",
         "202328",
         "722",
         "4"
        ],
        [
         "4",
         "1164",
         "43",
         "70",
         "1976",
         "9",
         "Male",
         "9620 Valley Stream Drive",
         "37.76",
         "-122.44",
         "53797",
         "109687",
         "183855",
         "675",
         "1"
        ]
       ],
       "shape": {
        "columns": 14,
        "rows": 5
       }
      },
      "text/html": [
       "<div>\n",
       "<style scoped>\n",
       "    .dataframe tbody tr th:only-of-type {\n",
       "        vertical-align: middle;\n",
       "    }\n",
       "\n",
       "    .dataframe tbody tr th {\n",
       "        vertical-align: top;\n",
       "    }\n",
       "\n",
       "    .dataframe thead th {\n",
       "        text-align: right;\n",
       "    }\n",
       "</style>\n",
       "<table border=\"1\" class=\"dataframe\">\n",
       "  <thead>\n",
       "    <tr style=\"text-align: right;\">\n",
       "      <th></th>\n",
       "      <th>id</th>\n",
       "      <th>current_age</th>\n",
       "      <th>retirement_age</th>\n",
       "      <th>birth_year</th>\n",
       "      <th>birth_month</th>\n",
       "      <th>gender</th>\n",
       "      <th>address</th>\n",
       "      <th>latitude</th>\n",
       "      <th>longitude</th>\n",
       "      <th>per_capita_income</th>\n",
       "      <th>yearly_income</th>\n",
       "      <th>total_debt</th>\n",
       "      <th>credit_score</th>\n",
       "      <th>num_credit_cards</th>\n",
       "    </tr>\n",
       "  </thead>\n",
       "  <tbody>\n",
       "    <tr>\n",
       "      <th>0</th>\n",
       "      <td>825</td>\n",
       "      <td>53</td>\n",
       "      <td>66</td>\n",
       "      <td>1966</td>\n",
       "      <td>11</td>\n",
       "      <td>Female</td>\n",
       "      <td>462 Rose Lane</td>\n",
       "      <td>34.15</td>\n",
       "      <td>-117.76</td>\n",
       "      <td>29278</td>\n",
       "      <td>59696</td>\n",
       "      <td>127613</td>\n",
       "      <td>787</td>\n",
       "      <td>5</td>\n",
       "    </tr>\n",
       "    <tr>\n",
       "      <th>1</th>\n",
       "      <td>1746</td>\n",
       "      <td>53</td>\n",
       "      <td>68</td>\n",
       "      <td>1966</td>\n",
       "      <td>12</td>\n",
       "      <td>Female</td>\n",
       "      <td>3606 Federal Boulevard</td>\n",
       "      <td>40.76</td>\n",
       "      <td>-73.74</td>\n",
       "      <td>37891</td>\n",
       "      <td>77254</td>\n",
       "      <td>191349</td>\n",
       "      <td>701</td>\n",
       "      <td>5</td>\n",
       "    </tr>\n",
       "    <tr>\n",
       "      <th>2</th>\n",
       "      <td>1718</td>\n",
       "      <td>81</td>\n",
       "      <td>67</td>\n",
       "      <td>1938</td>\n",
       "      <td>11</td>\n",
       "      <td>Female</td>\n",
       "      <td>766 Third Drive</td>\n",
       "      <td>34.02</td>\n",
       "      <td>-117.89</td>\n",
       "      <td>22681</td>\n",
       "      <td>33483</td>\n",
       "      <td>196</td>\n",
       "      <td>698</td>\n",
       "      <td>5</td>\n",
       "    </tr>\n",
       "    <tr>\n",
       "      <th>3</th>\n",
       "      <td>708</td>\n",
       "      <td>63</td>\n",
       "      <td>63</td>\n",
       "      <td>1957</td>\n",
       "      <td>1</td>\n",
       "      <td>Female</td>\n",
       "      <td>3 Madison Street</td>\n",
       "      <td>40.71</td>\n",
       "      <td>-73.99</td>\n",
       "      <td>163145</td>\n",
       "      <td>249925</td>\n",
       "      <td>202328</td>\n",
       "      <td>722</td>\n",
       "      <td>4</td>\n",
       "    </tr>\n",
       "    <tr>\n",
       "      <th>4</th>\n",
       "      <td>1164</td>\n",
       "      <td>43</td>\n",
       "      <td>70</td>\n",
       "      <td>1976</td>\n",
       "      <td>9</td>\n",
       "      <td>Male</td>\n",
       "      <td>9620 Valley Stream Drive</td>\n",
       "      <td>37.76</td>\n",
       "      <td>-122.44</td>\n",
       "      <td>53797</td>\n",
       "      <td>109687</td>\n",
       "      <td>183855</td>\n",
       "      <td>675</td>\n",
       "      <td>1</td>\n",
       "    </tr>\n",
       "  </tbody>\n",
       "</table>\n",
       "</div>"
      ],
      "text/plain": [
       "     id  current_age  retirement_age  birth_year  birth_month  gender  \\\n",
       "0   825           53              66        1966           11  Female   \n",
       "1  1746           53              68        1966           12  Female   \n",
       "2  1718           81              67        1938           11  Female   \n",
       "3   708           63              63        1957            1  Female   \n",
       "4  1164           43              70        1976            9    Male   \n",
       "\n",
       "                    address  latitude  longitude  per_capita_income  \\\n",
       "0             462 Rose Lane     34.15    -117.76              29278   \n",
       "1    3606 Federal Boulevard     40.76     -73.74              37891   \n",
       "2           766 Third Drive     34.02    -117.89              22681   \n",
       "3          3 Madison Street     40.71     -73.99             163145   \n",
       "4  9620 Valley Stream Drive     37.76    -122.44              53797   \n",
       "\n",
       "   yearly_income  total_debt  credit_score  num_credit_cards  \n",
       "0          59696      127613           787                 5  \n",
       "1          77254      191349           701                 5  \n",
       "2          33483         196           698                 5  \n",
       "3         249925      202328           722                 4  \n",
       "4         109687      183855           675                 1  "
      ]
     },
     "execution_count": 20,
     "metadata": {},
     "output_type": "execute_result"
    }
   ],
   "source": [
    "df2.head()"
   ]
  },
  {
   "cell_type": "code",
   "execution_count": 24,
   "id": "c9e591a8",
   "metadata": {},
   "outputs": [
    {
     "name": "stdout",
     "output_type": "stream",
     "text": [
      "<class 'pandas.core.frame.DataFrame'>\n",
      "RangeIndex: 2000 entries, 0 to 1999\n",
      "Data columns (total 14 columns):\n",
      " #   Column             Non-Null Count  Dtype  \n",
      "---  ------             --------------  -----  \n",
      " 0   id                 2000 non-null   int64  \n",
      " 1   current_age        2000 non-null   int64  \n",
      " 2   retirement_age     2000 non-null   int64  \n",
      " 3   birth_year         2000 non-null   int64  \n",
      " 4   birth_month        2000 non-null   int64  \n",
      " 5   gender             2000 non-null   object \n",
      " 6   address            2000 non-null   object \n",
      " 7   latitude           2000 non-null   float64\n",
      " 8   longitude          2000 non-null   float64\n",
      " 9   per_capita_income  2000 non-null   int64  \n",
      " 10  yearly_income      2000 non-null   int64  \n",
      " 11  total_debt         2000 non-null   int64  \n",
      " 12  credit_score       2000 non-null   int64  \n",
      " 13  num_credit_cards   2000 non-null   int64  \n",
      "dtypes: float64(2), int64(10), object(2)\n",
      "memory usage: 218.9+ KB\n"
     ]
    }
   ],
   "source": [
    "df2.info()"
   ]
  },
  {
   "cell_type": "code",
   "execution_count": null,
   "id": "baf772fe",
   "metadata": {},
   "outputs": [],
   "source": [
    "import pandas as pd\n",
    "import logging\n",
    "import ETL.config as config\n",
    "\n",
    "\n",
    "logger = logging.getLogger(__name__)\n",
    "\n",
    "#etl_users.py\n",
    "import pandas as pd\n",
    "import logging\n",
    "import ETL.config as config\n",
    "logger = logging.getLogger(__name__)\n",
    "\n",
    "\n",
    "def users_transform(df: pd.DataFrame) -> pd.DataFrame:\n",
    "    \"\"\"\n",
    "    Transform the users DataFrame.\n",
    "    \n",
    "    Args:\n",
    "        df (pd.DataFrame): The DataFrame to transform.\n",
    "        \n",
    "    Returns:\n",
    "        pd.DataFrame: The transformed DataFrame.\n",
    "    \"\"\"\n",
    "    critical_columns = ['user_id']\n",
    "    columns_to_remove = []\n",
    "    columns_to_rename = {'id': 'user_id'}\n",
    "\n",
    "    try:\n",
    "        logger.info('Starting transformation of users DataFrame')\n",
    "\n",
    "        df_cleaned = df.copy()  # Create a copy to avoid modifying the original DataFrame\n",
    "        df_cleaned = df_cleaned.drop(columns=columns_to_remove) # Remove specified columns\n",
    "        df_cleaned = df_cleaned.rename(columns=columns_to_rename) # Rename specified columns\n",
    "\n",
    "        duplicates_count = df_cleaned.duplicated(subset=critical_columns).sum()\n",
    "        if duplicates_count > 0:\n",
    "            duplicates = df.loc[df_cleaned.duplicated(subset=critical_columns), critical_columns]\n",
    "            logger.info(f\"Found {duplicates_count} duplicate records based on columns {critical_columns}.\")\n",
    "            logger.info(f\"Duplicate records:\\n{duplicates}\")\n",
    "            raise ValueError(f'{duplicates_count} duplicate records found in CARDS data {critical_columns} columns.')\n",
    "\n",
    "        #clean up values from columns\n",
    "        df_cleaned['per_capita_income'] = df_cleaned['per_capita_income'].fillna(0).str.extract(r'(\\d+)').astype(int)\n",
    "        df_cleaned['yearly_income'] = df_cleaned['yearly_income'].fillna(0).str.extract(r'(\\d+)').astype(int)\n",
    "        df_cleaned['total_debt'] = df_cleaned['total_debt'].fillna(0).str.extract(r'(\\d+)').astype(int)\n",
    "        df_cleaned['address'] = df_cleaned['address'].fillna('n/a').str.replace(r'\\d+', '', regex=True).str.strip().astype(str)\n",
    "\n",
    "        logger.info('✅Transformation of users DataFrame completed successfully')\n",
    "        return df_cleaned\n",
    "    \n",
    "    except Exception as e:\n",
    "        logger.error(f'❌Error during transformation of users DataFrame: {e}')\n",
    "        raise \n",
    "\n",
    "\n"
   ]
  },
  {
   "cell_type": "code",
   "execution_count": 28,
   "id": "c3bb32fa",
   "metadata": {},
   "outputs": [
    {
     "data": {
      "application/vnd.microsoft.datawrangler.viewer.v0+json": {
       "columns": [
        {
         "name": "index",
         "rawType": "int64",
         "type": "integer"
        },
        {
         "name": "user_id",
         "rawType": "int64",
         "type": "integer"
        },
        {
         "name": "current_age",
         "rawType": "int64",
         "type": "integer"
        },
        {
         "name": "retirement_age",
         "rawType": "int64",
         "type": "integer"
        },
        {
         "name": "birth_year",
         "rawType": "int64",
         "type": "integer"
        },
        {
         "name": "birth_month",
         "rawType": "int64",
         "type": "integer"
        },
        {
         "name": "gender",
         "rawType": "object",
         "type": "string"
        },
        {
         "name": "address",
         "rawType": "object",
         "type": "string"
        },
        {
         "name": "latitude",
         "rawType": "float64",
         "type": "float"
        },
        {
         "name": "longitude",
         "rawType": "float64",
         "type": "float"
        },
        {
         "name": "per_capita_income",
         "rawType": "int64",
         "type": "integer"
        },
        {
         "name": "yearly_income",
         "rawType": "int64",
         "type": "integer"
        },
        {
         "name": "total_debt",
         "rawType": "int64",
         "type": "integer"
        },
        {
         "name": "credit_score",
         "rawType": "int64",
         "type": "integer"
        },
        {
         "name": "num_credit_cards",
         "rawType": "int64",
         "type": "integer"
        }
       ],
       "ref": "c2c4e870-b88a-40f9-95c7-24f8c0e0b500",
       "rows": [
        [
         "1731",
         "1649",
         "64",
         "63",
         "1956",
         "2",
         "Male",
         "8146 Third Avenue",
         "29.79",
         "-95.82",
         "0",
         "399",
         "323",
         "729",
         "3"
        ],
        [
         "1340",
         "1404",
         "52",
         "71",
         "1967",
         "11",
         "Female",
         "68 Sixth Avenue",
         "32.3",
         "-95.47",
         "17886",
         "36472",
         "80469",
         "526",
         "2"
        ],
        [
         "693",
         "1259",
         "64",
         "69",
         "1955",
         "7",
         "Female",
         "729 Littlewood Avenue",
         "41.18",
         "-73.42",
         "94302",
         "192269",
         "100192",
         "700",
         "6"
        ],
        [
         "1412",
         "1911",
         "58",
         "75",
         "1961",
         "11",
         "Female",
         "3856 Valley Boulevard",
         "37.08",
         "-94.5",
         "16574",
         "33793",
         "108196",
         "768",
         "4"
        ],
        [
         "217",
         "1664",
         "38",
         "66",
         "1981",
         "10",
         "Male",
         "311 Fifth Drive",
         "42.27",
         "-83.73",
         "34119",
         "69566",
         "50003",
         "791",
         "4"
        ]
       ],
       "shape": {
        "columns": 14,
        "rows": 5
       }
      },
      "text/html": [
       "<div>\n",
       "<style scoped>\n",
       "    .dataframe tbody tr th:only-of-type {\n",
       "        vertical-align: middle;\n",
       "    }\n",
       "\n",
       "    .dataframe tbody tr th {\n",
       "        vertical-align: top;\n",
       "    }\n",
       "\n",
       "    .dataframe thead th {\n",
       "        text-align: right;\n",
       "    }\n",
       "</style>\n",
       "<table border=\"1\" class=\"dataframe\">\n",
       "  <thead>\n",
       "    <tr style=\"text-align: right;\">\n",
       "      <th></th>\n",
       "      <th>user_id</th>\n",
       "      <th>current_age</th>\n",
       "      <th>retirement_age</th>\n",
       "      <th>birth_year</th>\n",
       "      <th>birth_month</th>\n",
       "      <th>gender</th>\n",
       "      <th>address</th>\n",
       "      <th>latitude</th>\n",
       "      <th>longitude</th>\n",
       "      <th>per_capita_income</th>\n",
       "      <th>yearly_income</th>\n",
       "      <th>total_debt</th>\n",
       "      <th>credit_score</th>\n",
       "      <th>num_credit_cards</th>\n",
       "    </tr>\n",
       "  </thead>\n",
       "  <tbody>\n",
       "    <tr>\n",
       "      <th>1731</th>\n",
       "      <td>1649</td>\n",
       "      <td>64</td>\n",
       "      <td>63</td>\n",
       "      <td>1956</td>\n",
       "      <td>2</td>\n",
       "      <td>Male</td>\n",
       "      <td>8146 Third Avenue</td>\n",
       "      <td>29.79</td>\n",
       "      <td>-95.82</td>\n",
       "      <td>0</td>\n",
       "      <td>399</td>\n",
       "      <td>323</td>\n",
       "      <td>729</td>\n",
       "      <td>3</td>\n",
       "    </tr>\n",
       "    <tr>\n",
       "      <th>1340</th>\n",
       "      <td>1404</td>\n",
       "      <td>52</td>\n",
       "      <td>71</td>\n",
       "      <td>1967</td>\n",
       "      <td>11</td>\n",
       "      <td>Female</td>\n",
       "      <td>68 Sixth Avenue</td>\n",
       "      <td>32.30</td>\n",
       "      <td>-95.47</td>\n",
       "      <td>17886</td>\n",
       "      <td>36472</td>\n",
       "      <td>80469</td>\n",
       "      <td>526</td>\n",
       "      <td>2</td>\n",
       "    </tr>\n",
       "    <tr>\n",
       "      <th>693</th>\n",
       "      <td>1259</td>\n",
       "      <td>64</td>\n",
       "      <td>69</td>\n",
       "      <td>1955</td>\n",
       "      <td>7</td>\n",
       "      <td>Female</td>\n",
       "      <td>729 Littlewood Avenue</td>\n",
       "      <td>41.18</td>\n",
       "      <td>-73.42</td>\n",
       "      <td>94302</td>\n",
       "      <td>192269</td>\n",
       "      <td>100192</td>\n",
       "      <td>700</td>\n",
       "      <td>6</td>\n",
       "    </tr>\n",
       "    <tr>\n",
       "      <th>1412</th>\n",
       "      <td>1911</td>\n",
       "      <td>58</td>\n",
       "      <td>75</td>\n",
       "      <td>1961</td>\n",
       "      <td>11</td>\n",
       "      <td>Female</td>\n",
       "      <td>3856 Valley Boulevard</td>\n",
       "      <td>37.08</td>\n",
       "      <td>-94.50</td>\n",
       "      <td>16574</td>\n",
       "      <td>33793</td>\n",
       "      <td>108196</td>\n",
       "      <td>768</td>\n",
       "      <td>4</td>\n",
       "    </tr>\n",
       "    <tr>\n",
       "      <th>217</th>\n",
       "      <td>1664</td>\n",
       "      <td>38</td>\n",
       "      <td>66</td>\n",
       "      <td>1981</td>\n",
       "      <td>10</td>\n",
       "      <td>Male</td>\n",
       "      <td>311 Fifth Drive</td>\n",
       "      <td>42.27</td>\n",
       "      <td>-83.73</td>\n",
       "      <td>34119</td>\n",
       "      <td>69566</td>\n",
       "      <td>50003</td>\n",
       "      <td>791</td>\n",
       "      <td>4</td>\n",
       "    </tr>\n",
       "  </tbody>\n",
       "</table>\n",
       "</div>"
      ],
      "text/plain": [
       "      user_id  current_age  retirement_age  birth_year  birth_month  gender  \\\n",
       "1731     1649           64              63        1956            2    Male   \n",
       "1340     1404           52              71        1967           11  Female   \n",
       "693      1259           64              69        1955            7  Female   \n",
       "1412     1911           58              75        1961           11  Female   \n",
       "217      1664           38              66        1981           10    Male   \n",
       "\n",
       "                    address  latitude  longitude  per_capita_income  \\\n",
       "1731      8146 Third Avenue     29.79     -95.82                  0   \n",
       "1340        68 Sixth Avenue     32.30     -95.47              17886   \n",
       "693   729 Littlewood Avenue     41.18     -73.42              94302   \n",
       "1412  3856 Valley Boulevard     37.08     -94.50              16574   \n",
       "217         311 Fifth Drive     42.27     -83.73              34119   \n",
       "\n",
       "      yearly_income  total_debt  credit_score  num_credit_cards  \n",
       "1731            399         323           729                 3  \n",
       "1340          36472       80469           526                 2  \n",
       "693          192269      100192           700                 6  \n",
       "1412          33793      108196           768                 4  \n",
       "217           69566       50003           791                 4  "
      ]
     },
     "execution_count": 28,
     "metadata": {},
     "output_type": "execute_result"
    }
   ],
   "source": [
    "users = pd.read_csv(config.USERS_FILE_LOCAL)\n",
    "users_transformed = users_transform(users)\n",
    "users_transformed.sample(5)"
   ]
  },
  {
   "cell_type": "code",
   "execution_count": 29,
   "id": "e8950db2",
   "metadata": {},
   "outputs": [
    {
     "data": {
      "application/vnd.microsoft.datawrangler.viewer.v0+json": {
       "columns": [
        {
         "name": "index",
         "rawType": "int64",
         "type": "integer"
        },
        {
         "name": "address",
         "rawType": "object",
         "type": "string"
        }
       ],
       "ref": "039f4cf0-7b7c-4642-b699-d098a764305e",
       "rows": [
        [
         "0",
         "Rose Lane"
        ],
        [
         "1",
         "Federal Boulevard"
        ],
        [
         "2",
         "Third Drive"
        ],
        [
         "3",
         "Madison Street"
        ],
        [
         "4",
         "Valley Stream Drive"
        ],
        [
         "5",
         "Birch Lane"
        ],
        [
         "6",
         "Fifth Street"
        ],
        [
         "7",
         "Ninth Street"
        ],
        [
         "8",
         "Spruce Avenue"
        ],
        [
         "9",
         "Grant Street"
        ],
        [
         "10",
         "Fifth Lane"
        ],
        [
         "11",
         "Littlewood Lane"
        ],
        [
         "12",
         "Fourth Boulevard"
        ],
        [
         "13",
         "Jefferson Drive"
        ],
        [
         "14",
         "East Street"
        ],
        [
         "15",
         "Washington Drive"
        ],
        [
         "16",
         "Hillside Drive"
        ],
        [
         "17",
         "Birch Street"
        ],
        [
         "18",
         "Spruce Boulevard"
        ],
        [
         "19",
         "Tenth Lane"
        ],
        [
         "20",
         "Lake Avenue"
        ],
        [
         "21",
         "Essex Drive"
        ],
        [
         "22",
         "Washington Avenue"
        ],
        [
         "23",
         "Wessex Avenue"
        ],
        [
         "24",
         "Eighth Boulevard"
        ],
        [
         "25",
         "Mill Boulevard"
        ],
        [
         "26",
         "Wessex Avenue"
        ],
        [
         "27",
         "Norfolk Boulevard"
        ],
        [
         "28",
         "Bayview Avenue"
        ],
        [
         "29",
         "Washington Street"
        ],
        [
         "30",
         "Seventh Drive"
        ],
        [
         "31",
         "Tenth Boulevard"
        ],
        [
         "32",
         "Birch Drive"
        ],
        [
         "33",
         "Plum Lane"
        ],
        [
         "34",
         "Lincoln Avenue"
        ],
        [
         "35",
         "Spruce Drive"
        ],
        [
         "36",
         "Sussex Boulevard"
        ],
        [
         "37",
         "Fourth Street"
        ],
        [
         "38",
         "Mill Drive"
        ],
        [
         "39",
         "th Street"
        ],
        [
         "40",
         "Maple Drive"
        ],
        [
         "41",
         "Birch Boulevard"
        ],
        [
         "42",
         "Seventh Boulevard"
        ],
        [
         "43",
         "Little Creek Lane"
        ],
        [
         "44",
         "Rose Avenue"
        ],
        [
         "45",
         "Birch Lane"
        ],
        [
         "46",
         "th Drive"
        ],
        [
         "47",
         "Spruce Drive"
        ],
        [
         "48",
         "Essex Boulevard"
        ],
        [
         "49",
         "George Street"
        ]
       ],
       "shape": {
        "columns": 1,
        "rows": 2000
       }
      },
      "text/plain": [
       "0                 Rose Lane\n",
       "1         Federal Boulevard\n",
       "2               Third Drive\n",
       "3            Madison Street\n",
       "4       Valley Stream Drive\n",
       "               ...         \n",
       "1995         Lexington Lane\n",
       "1996              Elm Drive\n",
       "1997        Fifth Boulevard\n",
       "1998       Valley Boulevard\n",
       "1999      Ocean View Street\n",
       "Name: address, Length: 2000, dtype: object"
      ]
     },
     "execution_count": 29,
     "metadata": {},
     "output_type": "execute_result"
    }
   ],
   "source": [
    "users_transformed['address'].fillna('n/a').str.replace(r'\\d+', '', regex=True).str.strip().astype(str)"
   ]
  },
  {
   "cell_type": "code",
   "execution_count": 34,
   "id": "4db4c3f5",
   "metadata": {},
   "outputs": [
    {
     "data": {
      "application/vnd.microsoft.datawrangler.viewer.v0+json": {
       "columns": [
        {
         "name": "num_credit_cards",
         "rawType": "int64",
         "type": "integer"
        },
        {
         "name": "count",
         "rawType": "int64",
         "type": "integer"
        }
       ],
       "ref": "2e0425b8-a45b-4e87-a3b1-6ead97a742ed",
       "rows": [
        [
         "3",
         "449"
        ],
        [
         "1",
         "416"
        ],
        [
         "2",
         "388"
        ],
        [
         "4",
         "376"
        ],
        [
         "5",
         "206"
        ],
        [
         "6",
         "105"
        ],
        [
         "7",
         "40"
        ],
        [
         "8",
         "17"
        ],
        [
         "9",
         "3"
        ]
       ],
       "shape": {
        "columns": 1,
        "rows": 9
       }
      },
      "text/plain": [
       "num_credit_cards\n",
       "3    449\n",
       "1    416\n",
       "2    388\n",
       "4    376\n",
       "5    206\n",
       "6    105\n",
       "7     40\n",
       "8     17\n",
       "9      3\n",
       "Name: count, dtype: int64"
      ]
     },
     "execution_count": 34,
     "metadata": {},
     "output_type": "execute_result"
    }
   ],
   "source": [
    "df2['num_credit_cards'].value_counts()"
   ]
  },
  {
   "cell_type": "code",
   "execution_count": null,
   "id": "ce9f6403",
   "metadata": {},
   "outputs": [],
   "source": []
  }
 ],
 "metadata": {
  "kernelspec": {
   "display_name": "financial_transaction_project",
   "language": "python",
   "name": "python3"
  },
  "language_info": {
   "codemirror_mode": {
    "name": "ipython",
    "version": 3
   },
   "file_extension": ".py",
   "mimetype": "text/x-python",
   "name": "python",
   "nbconvert_exporter": "python",
   "pygments_lexer": "ipython3",
   "version": "3.13.0"
  }
 },
 "nbformat": 4,
 "nbformat_minor": 5
}
