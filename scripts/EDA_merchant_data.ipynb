{
 "cells": [
  {
   "cell_type": "code",
   "execution_count": 2,
   "id": "64919fb1",
   "metadata": {},
   "outputs": [],
   "source": [
    "import pandas as pd\n",
    "import logging\n",
    "import ETL.extract_data as extract_data\n",
    "import ETL.config as config\n",
    "import ETL.utils as utils\n",
    "import polars as pl\n",
    "import importlib\n",
    "importlib.reload(config)\n",
    "importlib.reload(extract_data)\n",
    "\n",
    "# Configure logging\n",
    "logger = logging.getLogger(__name__)"
   ]
  },
  {
   "cell_type": "code",
   "execution_count": 15,
   "id": "dc802bfc",
   "metadata": {},
   "outputs": [
    {
     "data": {
      "application/vnd.microsoft.datawrangler.viewer.v0+json": {
       "columns": [
        {
         "name": "index",
         "rawType": "int64",
         "type": "integer"
        },
        {
         "name": "id",
         "rawType": "int64",
         "type": "integer"
        },
        {
         "name": "date",
         "rawType": "object",
         "type": "string"
        },
        {
         "name": "client_id",
         "rawType": "int64",
         "type": "integer"
        },
        {
         "name": "card_id",
         "rawType": "int64",
         "type": "integer"
        },
        {
         "name": "amount",
         "rawType": "object",
         "type": "string"
        },
        {
         "name": "use_chip",
         "rawType": "object",
         "type": "string"
        },
        {
         "name": "merchant_id",
         "rawType": "int64",
         "type": "integer"
        },
        {
         "name": "merchant_city",
         "rawType": "object",
         "type": "string"
        },
        {
         "name": "merchant_state",
         "rawType": "object",
         "type": "unknown"
        },
        {
         "name": "zip",
         "rawType": "float64",
         "type": "float"
        },
        {
         "name": "mcc",
         "rawType": "int64",
         "type": "integer"
        },
        {
         "name": "errors",
         "rawType": "object",
         "type": "unknown"
        }
       ],
       "ref": "9555c793-db30-4d89-a7b1-93d3b5d4990f",
       "rows": [
        [
         "0",
         "18881487",
         "2017-01-01 00:01:00",
         "301",
         "3742",
         "$7.05",
         "Online Transaction",
         "39021",
         "ONLINE",
         null,
         null,
         "4784",
         null
        ],
        [
         "1",
         "18881488",
         "2017-01-01 00:01:00",
         "1129",
         "2677",
         "$100.00",
         "Chip Transaction",
         "27092",
         "San Marcos",
         "TX",
         "78666.0",
         "4829",
         null
        ],
        [
         "2",
         "18881490",
         "2017-01-01 00:04:00",
         "316",
         "5857",
         "$130.29",
         "Chip Transaction",
         "6389",
         "Houston",
         "TX",
         "77047.0",
         "5300",
         null
        ],
        [
         "3",
         "18881491",
         "2017-01-01 00:04:00",
         "566",
         "3439",
         "$12.39",
         "Online Transaction",
         "18563",
         "ONLINE",
         null,
         null,
         "4121",
         null
        ],
        [
         "4",
         "18881492",
         "2017-01-01 00:04:00",
         "1357",
         "3649",
         "$20.67",
         "Chip Transaction",
         "61195",
         "Tacoma",
         "WA",
         "98404.0",
         "5541",
         null
        ]
       ],
       "shape": {
        "columns": 12,
        "rows": 5
       }
      },
      "text/html": [
       "<div>\n",
       "<style scoped>\n",
       "    .dataframe tbody tr th:only-of-type {\n",
       "        vertical-align: middle;\n",
       "    }\n",
       "\n",
       "    .dataframe tbody tr th {\n",
       "        vertical-align: top;\n",
       "    }\n",
       "\n",
       "    .dataframe thead th {\n",
       "        text-align: right;\n",
       "    }\n",
       "</style>\n",
       "<table border=\"1\" class=\"dataframe\">\n",
       "  <thead>\n",
       "    <tr style=\"text-align: right;\">\n",
       "      <th></th>\n",
       "      <th>id</th>\n",
       "      <th>date</th>\n",
       "      <th>client_id</th>\n",
       "      <th>card_id</th>\n",
       "      <th>amount</th>\n",
       "      <th>use_chip</th>\n",
       "      <th>merchant_id</th>\n",
       "      <th>merchant_city</th>\n",
       "      <th>merchant_state</th>\n",
       "      <th>zip</th>\n",
       "      <th>mcc</th>\n",
       "      <th>errors</th>\n",
       "    </tr>\n",
       "  </thead>\n",
       "  <tbody>\n",
       "    <tr>\n",
       "      <th>0</th>\n",
       "      <td>18881487</td>\n",
       "      <td>2017-01-01 00:01:00</td>\n",
       "      <td>301</td>\n",
       "      <td>3742</td>\n",
       "      <td>$7.05</td>\n",
       "      <td>Online Transaction</td>\n",
       "      <td>39021</td>\n",
       "      <td>ONLINE</td>\n",
       "      <td>NaN</td>\n",
       "      <td>NaN</td>\n",
       "      <td>4784</td>\n",
       "      <td>NaN</td>\n",
       "    </tr>\n",
       "    <tr>\n",
       "      <th>1</th>\n",
       "      <td>18881488</td>\n",
       "      <td>2017-01-01 00:01:00</td>\n",
       "      <td>1129</td>\n",
       "      <td>2677</td>\n",
       "      <td>$100.00</td>\n",
       "      <td>Chip Transaction</td>\n",
       "      <td>27092</td>\n",
       "      <td>San Marcos</td>\n",
       "      <td>TX</td>\n",
       "      <td>78666.0</td>\n",
       "      <td>4829</td>\n",
       "      <td>NaN</td>\n",
       "    </tr>\n",
       "    <tr>\n",
       "      <th>2</th>\n",
       "      <td>18881490</td>\n",
       "      <td>2017-01-01 00:04:00</td>\n",
       "      <td>316</td>\n",
       "      <td>5857</td>\n",
       "      <td>$130.29</td>\n",
       "      <td>Chip Transaction</td>\n",
       "      <td>6389</td>\n",
       "      <td>Houston</td>\n",
       "      <td>TX</td>\n",
       "      <td>77047.0</td>\n",
       "      <td>5300</td>\n",
       "      <td>NaN</td>\n",
       "    </tr>\n",
       "    <tr>\n",
       "      <th>3</th>\n",
       "      <td>18881491</td>\n",
       "      <td>2017-01-01 00:04:00</td>\n",
       "      <td>566</td>\n",
       "      <td>3439</td>\n",
       "      <td>$12.39</td>\n",
       "      <td>Online Transaction</td>\n",
       "      <td>18563</td>\n",
       "      <td>ONLINE</td>\n",
       "      <td>NaN</td>\n",
       "      <td>NaN</td>\n",
       "      <td>4121</td>\n",
       "      <td>NaN</td>\n",
       "    </tr>\n",
       "    <tr>\n",
       "      <th>4</th>\n",
       "      <td>18881492</td>\n",
       "      <td>2017-01-01 00:04:00</td>\n",
       "      <td>1357</td>\n",
       "      <td>3649</td>\n",
       "      <td>$20.67</td>\n",
       "      <td>Chip Transaction</td>\n",
       "      <td>61195</td>\n",
       "      <td>Tacoma</td>\n",
       "      <td>WA</td>\n",
       "      <td>98404.0</td>\n",
       "      <td>5541</td>\n",
       "      <td>NaN</td>\n",
       "    </tr>\n",
       "  </tbody>\n",
       "</table>\n",
       "</div>"
      ],
      "text/plain": [
       "         id                 date  client_id  card_id   amount  \\\n",
       "0  18881487  2017-01-01 00:01:00        301     3742    $7.05   \n",
       "1  18881488  2017-01-01 00:01:00       1129     2677  $100.00   \n",
       "2  18881490  2017-01-01 00:04:00        316     5857  $130.29   \n",
       "3  18881491  2017-01-01 00:04:00        566     3439   $12.39   \n",
       "4  18881492  2017-01-01 00:04:00       1357     3649   $20.67   \n",
       "\n",
       "             use_chip  merchant_id merchant_city merchant_state      zip  \\\n",
       "0  Online Transaction        39021        ONLINE            NaN      NaN   \n",
       "1    Chip Transaction        27092    San Marcos             TX  78666.0   \n",
       "2    Chip Transaction         6389       Houston             TX  77047.0   \n",
       "3  Online Transaction        18563        ONLINE            NaN      NaN   \n",
       "4    Chip Transaction        61195        Tacoma             WA  98404.0   \n",
       "\n",
       "    mcc errors  \n",
       "0  4784    NaN  \n",
       "1  4829    NaN  \n",
       "2  5300    NaN  \n",
       "3  4121    NaN  \n",
       "4  5541    NaN  "
      ]
     },
     "execution_count": 15,
     "metadata": {},
     "output_type": "execute_result"
    }
   ],
   "source": [
    "df = pd.read_csv(config.FILTERED_TRANSACTIONS_FILE_LOCAL,low_memory=True)\n",
    "df.head()"
   ]
  },
  {
   "cell_type": "code",
   "execution_count": 16,
   "id": "80d15a16",
   "metadata": {},
   "outputs": [],
   "source": [
    "df['surrogate_key'] = df.index"
   ]
  },
  {
   "cell_type": "code",
   "execution_count": null,
   "id": "33e977a3",
   "metadata": {},
   "outputs": [
    {
     "data": {
      "application/vnd.microsoft.datawrangler.viewer.v0+json": {
       "columns": [
        {
         "name": "index",
         "rawType": "int64",
         "type": "integer"
        },
        {
         "name": "id",
         "rawType": "int64",
         "type": "integer"
        },
        {
         "name": "date",
         "rawType": "object",
         "type": "string"
        },
        {
         "name": "client_id",
         "rawType": "int64",
         "type": "integer"
        },
        {
         "name": "card_id",
         "rawType": "int64",
         "type": "integer"
        },
        {
         "name": "amount",
         "rawType": "object",
         "type": "string"
        },
        {
         "name": "use_chip",
         "rawType": "object",
         "type": "string"
        },
        {
         "name": "merchant_id",
         "rawType": "int64",
         "type": "integer"
        },
        {
         "name": "merchant_city",
         "rawType": "object",
         "type": "string"
        },
        {
         "name": "merchant_state",
         "rawType": "object",
         "type": "string"
        },
        {
         "name": "zip",
         "rawType": "float64",
         "type": "float"
        },
        {
         "name": "mcc",
         "rawType": "int64",
         "type": "integer"
        },
        {
         "name": "errors",
         "rawType": "object",
         "type": "unknown"
        },
        {
         "name": "surrogate_key",
         "rawType": "int64",
         "type": "integer"
        }
       ],
       "ref": "e74c385f-2ca9-4225-819a-3e5c52db634f",
       "rows": [
        [
         "1060814",
         "20188073",
         "2017-10-04 16:03:00",
         "565",
         "1314",
         "$9.38",
         "Swipe Transaction",
         "75506",
         "Carrollton",
         "TX",
         "75006.0",
         "5921",
         null,
         "1060814"
        ],
        [
         "2255417",
         "21660842",
         "2018-08-12 19:52:00",
         "461",
         "3172",
         "$25.42",
         "Chip Transaction",
         "19964",
         "Canton",
         "MI",
         "48188.0",
         "5311",
         null,
         "2255417"
        ],
        [
         "2436206",
         "21883991",
         "2018-09-29 08:01:00",
         "348",
         "3073",
         "$49.25",
         "Chip Transaction",
         "18215",
         "Trenton",
         "NJ",
         "8628.0",
         "5719",
         null,
         "2436206"
        ]
       ],
       "shape": {
        "columns": 13,
        "rows": 3
       }
      },
      "text/html": [
       "<div>\n",
       "<style scoped>\n",
       "    .dataframe tbody tr th:only-of-type {\n",
       "        vertical-align: middle;\n",
       "    }\n",
       "\n",
       "    .dataframe tbody tr th {\n",
       "        vertical-align: top;\n",
       "    }\n",
       "\n",
       "    .dataframe thead th {\n",
       "        text-align: right;\n",
       "    }\n",
       "</style>\n",
       "<table border=\"1\" class=\"dataframe\">\n",
       "  <thead>\n",
       "    <tr style=\"text-align: right;\">\n",
       "      <th></th>\n",
       "      <th>id</th>\n",
       "      <th>date</th>\n",
       "      <th>client_id</th>\n",
       "      <th>card_id</th>\n",
       "      <th>amount</th>\n",
       "      <th>use_chip</th>\n",
       "      <th>merchant_id</th>\n",
       "      <th>merchant_city</th>\n",
       "      <th>merchant_state</th>\n",
       "      <th>zip</th>\n",
       "      <th>mcc</th>\n",
       "      <th>errors</th>\n",
       "      <th>surrogate_key</th>\n",
       "    </tr>\n",
       "  </thead>\n",
       "  <tbody>\n",
       "    <tr>\n",
       "      <th>1060814</th>\n",
       "      <td>20188073</td>\n",
       "      <td>2017-10-04 16:03:00</td>\n",
       "      <td>565</td>\n",
       "      <td>1314</td>\n",
       "      <td>$9.38</td>\n",
       "      <td>Swipe Transaction</td>\n",
       "      <td>75506</td>\n",
       "      <td>Carrollton</td>\n",
       "      <td>TX</td>\n",
       "      <td>75006.0</td>\n",
       "      <td>5921</td>\n",
       "      <td>NaN</td>\n",
       "      <td>1060814</td>\n",
       "    </tr>\n",
       "    <tr>\n",
       "      <th>2255417</th>\n",
       "      <td>21660842</td>\n",
       "      <td>2018-08-12 19:52:00</td>\n",
       "      <td>461</td>\n",
       "      <td>3172</td>\n",
       "      <td>$25.42</td>\n",
       "      <td>Chip Transaction</td>\n",
       "      <td>19964</td>\n",
       "      <td>Canton</td>\n",
       "      <td>MI</td>\n",
       "      <td>48188.0</td>\n",
       "      <td>5311</td>\n",
       "      <td>NaN</td>\n",
       "      <td>2255417</td>\n",
       "    </tr>\n",
       "    <tr>\n",
       "      <th>2436206</th>\n",
       "      <td>21883991</td>\n",
       "      <td>2018-09-29 08:01:00</td>\n",
       "      <td>348</td>\n",
       "      <td>3073</td>\n",
       "      <td>$49.25</td>\n",
       "      <td>Chip Transaction</td>\n",
       "      <td>18215</td>\n",
       "      <td>Trenton</td>\n",
       "      <td>NJ</td>\n",
       "      <td>8628.0</td>\n",
       "      <td>5719</td>\n",
       "      <td>NaN</td>\n",
       "      <td>2436206</td>\n",
       "    </tr>\n",
       "  </tbody>\n",
       "</table>\n",
       "</div>"
      ],
      "text/plain": [
       "               id                 date  client_id  card_id  amount  \\\n",
       "1060814  20188073  2017-10-04 16:03:00        565     1314   $9.38   \n",
       "2255417  21660842  2018-08-12 19:52:00        461     3172  $25.42   \n",
       "2436206  21883991  2018-09-29 08:01:00        348     3073  $49.25   \n",
       "\n",
       "                  use_chip  merchant_id merchant_city merchant_state      zip  \\\n",
       "1060814  Swipe Transaction        75506    Carrollton             TX  75006.0   \n",
       "2255417   Chip Transaction        19964        Canton             MI  48188.0   \n",
       "2436206   Chip Transaction        18215       Trenton             NJ   8628.0   \n",
       "\n",
       "          mcc errors  surrogate_key  \n",
       "1060814  5921    NaN        1060814  \n",
       "2255417  5311    NaN        2255417  \n",
       "2436206  5719    NaN        2436206  "
      ]
     },
     "execution_count": 19,
     "metadata": {},
     "output_type": "execute_result"
    },
    {
     "ename": "",
     "evalue": "",
     "output_type": "error",
     "traceback": [
      "\u001b[1;31mThe Kernel crashed while executing code in the current cell or a previous cell. \n",
      "\u001b[1;31mPlease review the code in the cell(s) to identify a possible cause of the failure. \n",
      "\u001b[1;31mClick <a href='https://aka.ms/vscodeJupyterKernelCrash'>here</a> for more info. \n",
      "\u001b[1;31mView Jupyter <a href='command:jupyter.viewOutput'>log</a> for further details."
     ]
    }
   ],
   "source": [
    "df.sample(3)"
   ]
  },
  {
   "cell_type": "code",
   "execution_count": 11,
   "id": "fe8fe6b3",
   "metadata": {},
   "outputs": [
    {
     "data": {
      "application/vnd.microsoft.datawrangler.viewer.v0+json": {
       "columns": [
        {
         "name": "index",
         "rawType": "int64",
         "type": "integer"
        },
        {
         "name": "id",
         "rawType": "int64",
         "type": "integer"
        },
        {
         "name": "date",
         "rawType": "object",
         "type": "string"
        },
        {
         "name": "client_id",
         "rawType": "int64",
         "type": "integer"
        },
        {
         "name": "card_id",
         "rawType": "int64",
         "type": "integer"
        },
        {
         "name": "amount",
         "rawType": "object",
         "type": "string"
        },
        {
         "name": "use_chip",
         "rawType": "object",
         "type": "string"
        },
        {
         "name": "merchant_id",
         "rawType": "int64",
         "type": "integer"
        },
        {
         "name": "merchant_city",
         "rawType": "object",
         "type": "string"
        },
        {
         "name": "merchant_state",
         "rawType": "object",
         "type": "unknown"
        },
        {
         "name": "zip",
         "rawType": "int64",
         "type": "integer"
        },
        {
         "name": "mcc",
         "rawType": "int64",
         "type": "integer"
        },
        {
         "name": "errors",
         "rawType": "object",
         "type": "unknown"
        }
       ],
       "ref": "f4a33fd1-5c32-4c45-8cc6-1f049e8f3796",
       "rows": [
        [
         "8366577",
         "17672203",
         "2016-04-18 01:35:00",
         "1077",
         "214",
         "$3.05",
         "Chip Transaction",
         "43293",
         "Ukiah",
         "CA",
         "95482",
         "5499",
         null
        ],
        [
         "8699440",
         "18080908",
         "2016-07-14 06:31:00",
         "1478",
         "5994",
         "$7.82",
         "Chip Transaction",
         "17493",
         "Lincoln",
         "CA",
         "95648",
         "5812",
         null
        ],
        [
         "236643",
         "7758134",
         "2010-03-13 16:01:00",
         "642",
         "5934",
         "$49.72",
         "Online Transaction",
         "88459",
         "ONLINE",
         null,
         "0",
         "5311",
         null
        ],
        [
         "7554531",
         "16676026",
         "2015-09-16 21:35:00",
         "1842",
         "3743",
         "$16.49",
         "Chip Transaction",
         "94974",
         "Albuquerque",
         "NM",
         "87121",
         "5812",
         null
        ],
        [
         "10523931",
         "20325215",
         "2017-11-02 17:27:00",
         "1581",
         "5840",
         "$31.75",
         "Chip Transaction",
         "67570",
         "Ballwin",
         "MO",
         "63011",
         "5311",
         null
        ],
        [
         "7980744",
         "17198376",
         "2016-01-06 12:45:00",
         "1453",
         "1117",
         "$10.15",
         "Chip Transaction",
         "45926",
         "Phil Campbell",
         "AL",
         "35581",
         "5814",
         null
        ],
        [
         "11024631",
         "20941144",
         "2018-03-13 12:32:00",
         "1181",
         "5842",
         "$14.41",
         "Chip Transaction",
         "5720",
         "Concord",
         "NC",
         "28027",
         "5310",
         null
        ]
       ],
       "shape": {
        "columns": 12,
        "rows": 7
       }
      },
      "text/html": [
       "<div>\n",
       "<style scoped>\n",
       "    .dataframe tbody tr th:only-of-type {\n",
       "        vertical-align: middle;\n",
       "    }\n",
       "\n",
       "    .dataframe tbody tr th {\n",
       "        vertical-align: top;\n",
       "    }\n",
       "\n",
       "    .dataframe thead th {\n",
       "        text-align: right;\n",
       "    }\n",
       "</style>\n",
       "<table border=\"1\" class=\"dataframe\">\n",
       "  <thead>\n",
       "    <tr style=\"text-align: right;\">\n",
       "      <th></th>\n",
       "      <th>id</th>\n",
       "      <th>date</th>\n",
       "      <th>client_id</th>\n",
       "      <th>card_id</th>\n",
       "      <th>amount</th>\n",
       "      <th>use_chip</th>\n",
       "      <th>merchant_id</th>\n",
       "      <th>merchant_city</th>\n",
       "      <th>merchant_state</th>\n",
       "      <th>zip</th>\n",
       "      <th>mcc</th>\n",
       "      <th>errors</th>\n",
       "    </tr>\n",
       "  </thead>\n",
       "  <tbody>\n",
       "    <tr>\n",
       "      <th>8366577</th>\n",
       "      <td>17672203</td>\n",
       "      <td>2016-04-18 01:35:00</td>\n",
       "      <td>1077</td>\n",
       "      <td>214</td>\n",
       "      <td>$3.05</td>\n",
       "      <td>Chip Transaction</td>\n",
       "      <td>43293</td>\n",
       "      <td>Ukiah</td>\n",
       "      <td>CA</td>\n",
       "      <td>95482</td>\n",
       "      <td>5499</td>\n",
       "      <td>NaN</td>\n",
       "    </tr>\n",
       "    <tr>\n",
       "      <th>8699440</th>\n",
       "      <td>18080908</td>\n",
       "      <td>2016-07-14 06:31:00</td>\n",
       "      <td>1478</td>\n",
       "      <td>5994</td>\n",
       "      <td>$7.82</td>\n",
       "      <td>Chip Transaction</td>\n",
       "      <td>17493</td>\n",
       "      <td>Lincoln</td>\n",
       "      <td>CA</td>\n",
       "      <td>95648</td>\n",
       "      <td>5812</td>\n",
       "      <td>NaN</td>\n",
       "    </tr>\n",
       "    <tr>\n",
       "      <th>236643</th>\n",
       "      <td>7758134</td>\n",
       "      <td>2010-03-13 16:01:00</td>\n",
       "      <td>642</td>\n",
       "      <td>5934</td>\n",
       "      <td>$49.72</td>\n",
       "      <td>Online Transaction</td>\n",
       "      <td>88459</td>\n",
       "      <td>ONLINE</td>\n",
       "      <td>NaN</td>\n",
       "      <td>0</td>\n",
       "      <td>5311</td>\n",
       "      <td>NaN</td>\n",
       "    </tr>\n",
       "    <tr>\n",
       "      <th>7554531</th>\n",
       "      <td>16676026</td>\n",
       "      <td>2015-09-16 21:35:00</td>\n",
       "      <td>1842</td>\n",
       "      <td>3743</td>\n",
       "      <td>$16.49</td>\n",
       "      <td>Chip Transaction</td>\n",
       "      <td>94974</td>\n",
       "      <td>Albuquerque</td>\n",
       "      <td>NM</td>\n",
       "      <td>87121</td>\n",
       "      <td>5812</td>\n",
       "      <td>NaN</td>\n",
       "    </tr>\n",
       "    <tr>\n",
       "      <th>10523931</th>\n",
       "      <td>20325215</td>\n",
       "      <td>2017-11-02 17:27:00</td>\n",
       "      <td>1581</td>\n",
       "      <td>5840</td>\n",
       "      <td>$31.75</td>\n",
       "      <td>Chip Transaction</td>\n",
       "      <td>67570</td>\n",
       "      <td>Ballwin</td>\n",
       "      <td>MO</td>\n",
       "      <td>63011</td>\n",
       "      <td>5311</td>\n",
       "      <td>NaN</td>\n",
       "    </tr>\n",
       "    <tr>\n",
       "      <th>7980744</th>\n",
       "      <td>17198376</td>\n",
       "      <td>2016-01-06 12:45:00</td>\n",
       "      <td>1453</td>\n",
       "      <td>1117</td>\n",
       "      <td>$10.15</td>\n",
       "      <td>Chip Transaction</td>\n",
       "      <td>45926</td>\n",
       "      <td>Phil Campbell</td>\n",
       "      <td>AL</td>\n",
       "      <td>35581</td>\n",
       "      <td>5814</td>\n",
       "      <td>NaN</td>\n",
       "    </tr>\n",
       "    <tr>\n",
       "      <th>11024631</th>\n",
       "      <td>20941144</td>\n",
       "      <td>2018-03-13 12:32:00</td>\n",
       "      <td>1181</td>\n",
       "      <td>5842</td>\n",
       "      <td>$14.41</td>\n",
       "      <td>Chip Transaction</td>\n",
       "      <td>5720</td>\n",
       "      <td>Concord</td>\n",
       "      <td>NC</td>\n",
       "      <td>28027</td>\n",
       "      <td>5310</td>\n",
       "      <td>NaN</td>\n",
       "    </tr>\n",
       "  </tbody>\n",
       "</table>\n",
       "</div>"
      ],
      "text/plain": [
       "                id                 date  client_id  card_id  amount  \\\n",
       "8366577   17672203  2016-04-18 01:35:00       1077      214   $3.05   \n",
       "8699440   18080908  2016-07-14 06:31:00       1478     5994   $7.82   \n",
       "236643     7758134  2010-03-13 16:01:00        642     5934  $49.72   \n",
       "7554531   16676026  2015-09-16 21:35:00       1842     3743  $16.49   \n",
       "10523931  20325215  2017-11-02 17:27:00       1581     5840  $31.75   \n",
       "7980744   17198376  2016-01-06 12:45:00       1453     1117  $10.15   \n",
       "11024631  20941144  2018-03-13 12:32:00       1181     5842  $14.41   \n",
       "\n",
       "                    use_chip  merchant_id  merchant_city merchant_state  \\\n",
       "8366577     Chip Transaction        43293          Ukiah             CA   \n",
       "8699440     Chip Transaction        17493        Lincoln             CA   \n",
       "236643    Online Transaction        88459         ONLINE            NaN   \n",
       "7554531     Chip Transaction        94974    Albuquerque             NM   \n",
       "10523931    Chip Transaction        67570        Ballwin             MO   \n",
       "7980744     Chip Transaction        45926  Phil Campbell             AL   \n",
       "11024631    Chip Transaction         5720        Concord             NC   \n",
       "\n",
       "            zip   mcc errors  \n",
       "8366577   95482  5499    NaN  \n",
       "8699440   95648  5812    NaN  \n",
       "236643        0  5311    NaN  \n",
       "7554531   87121  5812    NaN  \n",
       "10523931  63011  5311    NaN  \n",
       "7980744   35581  5814    NaN  \n",
       "11024631  28027  5310    NaN  "
      ]
     },
     "execution_count": 11,
     "metadata": {},
     "output_type": "execute_result"
    }
   ],
   "source": [
    "subset_col = ['merchant_id','merchant_city','merchant_state', 'zip', 'mcc']\n",
    "duplicated_col = df[df.duplicated(subset=subset_col,keep=False)]\n",
    "duplicated_col.sample(7)"
   ]
  },
  {
   "cell_type": "code",
   "execution_count": 12,
   "id": "9d6f006f",
   "metadata": {},
   "outputs": [
    {
     "data": {
      "application/vnd.microsoft.datawrangler.viewer.v0+json": {
       "columns": [
        {
         "name": "index",
         "rawType": "int64",
         "type": "integer"
        },
        {
         "name": "id",
         "rawType": "int64",
         "type": "integer"
        },
        {
         "name": "date",
         "rawType": "object",
         "type": "string"
        },
        {
         "name": "client_id",
         "rawType": "int64",
         "type": "integer"
        },
        {
         "name": "card_id",
         "rawType": "int64",
         "type": "integer"
        },
        {
         "name": "amount",
         "rawType": "object",
         "type": "string"
        },
        {
         "name": "use_chip",
         "rawType": "object",
         "type": "string"
        },
        {
         "name": "merchant_id",
         "rawType": "int64",
         "type": "integer"
        },
        {
         "name": "merchant_city",
         "rawType": "object",
         "type": "string"
        },
        {
         "name": "merchant_state",
         "rawType": "object",
         "type": "unknown"
        },
        {
         "name": "zip",
         "rawType": "int64",
         "type": "integer"
        },
        {
         "name": "mcc",
         "rawType": "int64",
         "type": "integer"
        },
        {
         "name": "errors",
         "rawType": "object",
         "type": "unknown"
        }
       ],
       "ref": "79092fae-6a39-4d3e-aea2-19272be4c5ee",
       "rows": [
        [
         "745404",
         "8368078",
         "2010-08-10 14:27:00",
         "497",
         "2829",
         "$18.75",
         "Swipe Transaction",
         "41184",
         "Akron",
         "IA",
         "51001",
         "5310",
         null
        ],
        [
         "1375609",
         "9130059",
         "2011-02-08 15:50:00",
         "229",
         "5942",
         "$0.92",
         "Swipe Transaction",
         "41184",
         "Akron",
         "IA",
         "51001",
         "5310",
         null
        ],
        [
         "4520185",
         "12961837",
         "2013-06-30 22:13:00",
         "194",
         "5587",
         "$13.51",
         "Swipe Transaction",
         "41184",
         "Akron",
         "IA",
         "51001",
         "5310",
         null
        ],
        [
         "8803764",
         "18208901",
         "2016-08-10 12:02:00",
         "120",
         "3806",
         "$81.89",
         "Chip Transaction",
         "41184",
         "Akron",
         "IA",
         "51001",
         "5310",
         null
        ],
        [
         "13045988",
         "23440661",
         "2019-08-24 15:30:00",
         "229",
         "2683",
         "$0.85",
         "Swipe Transaction",
         "41184",
         "Akron",
         "IA",
         "51001",
         "5310",
         null
        ],
        [
         "116152",
         "7614054",
         "2010-02-05 12:15:00",
         "487",
         "2835",
         "$19.14",
         "Swipe Transaction",
         "41184",
         "Albany",
         "NY",
         "12203",
         "5310",
         null
        ],
        [
         "406939",
         "7962156",
         "2010-05-03 14:26:00",
         "487",
         "2024",
         "$13.21",
         "Swipe Transaction",
         "41184",
         "Albany",
         "NY",
         "12203",
         "5310",
         "Bad PIN"
        ],
        [
         "618580",
         "8215794",
         "2010-07-04 18:08:00",
         "487",
         "2835",
         "$88.65",
         "Swipe Transaction",
         "41184",
         "Albany",
         "NY",
         "12203",
         "5310",
         null
        ],
        [
         "877670",
         "8527282",
         "2010-09-17 21:25:00",
         "487",
         "2835",
         "$11.96",
         "Swipe Transaction",
         "41184",
         "Albany",
         "NY",
         "12203",
         "5310",
         null
        ],
        [
         "1372859",
         "9126693",
         "2011-02-07 21:28:00",
         "487",
         "2024",
         "$9.90",
         "Swipe Transaction",
         "41184",
         "Albany",
         "NY",
         "12203",
         "5310",
         null
        ],
        [
         "2571038",
         "10585101",
         "2012-01-11 21:28:00",
         "487",
         "2024",
         "$12.45",
         "Swipe Transaction",
         "41184",
         "Albany",
         "NY",
         "12203",
         "5310",
         null
        ],
        [
         "2757511",
         "10812804",
         "2012-03-04 18:34:00",
         "487",
         "2835",
         "$112.43",
         "Swipe Transaction",
         "41184",
         "Albany",
         "NY",
         "12203",
         "5310",
         null
        ],
        [
         "2793790",
         "10857169",
         "2012-03-14 21:20:00",
         "487",
         "2835",
         "$14.98",
         "Swipe Transaction",
         "41184",
         "Albany",
         "NY",
         "12203",
         "5310",
         null
        ],
        [
         "2838802",
         "10912213",
         "2012-03-27 12:21:00",
         "487",
         "2024",
         "$20.45",
         "Swipe Transaction",
         "41184",
         "Albany",
         "NY",
         "12203",
         "5310",
         null
        ],
        [
         "2846116",
         "10921163",
         "2012-03-29 12:20:00",
         "487",
         "2024",
         "$18.06",
         "Swipe Transaction",
         "41184",
         "Albany",
         "NY",
         "12203",
         "5310",
         null
        ],
        [
         "3014950",
         "11126750",
         "2012-05-15 12:08:00",
         "487",
         "2024",
         "$18.32",
         "Swipe Transaction",
         "41184",
         "Albany",
         "NY",
         "12203",
         "5310",
         null
        ],
        [
         "3396765",
         "11591721",
         "2012-08-28 11:56:00",
         "487",
         "2835",
         "$73.37",
         "Swipe Transaction",
         "41184",
         "Albany",
         "NY",
         "12203",
         "5310",
         null
        ],
        [
         "3418476",
         "11618106",
         "2012-09-03 11:45:00",
         "487",
         "2024",
         "$68.35",
         "Swipe Transaction",
         "41184",
         "Albany",
         "NY",
         "12203",
         "5310",
         null
        ],
        [
         "3515242",
         "11736145",
         "2012-09-29 18:58:00",
         "487",
         "2835",
         "$151.11",
         "Swipe Transaction",
         "41184",
         "Albany",
         "NY",
         "12203",
         "5310",
         null
        ],
        [
         "3582852",
         "11818290",
         "2012-10-18 12:23:00",
         "487",
         "2024",
         "$12.47",
         "Swipe Transaction",
         "41184",
         "Albany",
         "NY",
         "12203",
         "5310",
         null
        ],
        [
         "3926219",
         "12236774",
         "2013-01-20 21:22:00",
         "487",
         "2024",
         "$14.06",
         "Swipe Transaction",
         "41184",
         "Albany",
         "NY",
         "12203",
         "5310",
         null
        ],
        [
         "3973173",
         "12293946",
         "2013-02-02 21:24:00",
         "487",
         "2835",
         "$16.10",
         "Swipe Transaction",
         "41184",
         "Albany",
         "NY",
         "12203",
         "5310",
         null
        ],
        [
         "4497249",
         "12933942",
         "2013-06-24 18:30:00",
         "487",
         "2024",
         "$98.07",
         "Swipe Transaction",
         "41184",
         "Albany",
         "NY",
         "12203",
         "5310",
         null
        ],
        [
         "4529212",
         "12972882",
         "2013-07-03 12:10:00",
         "487",
         "2835",
         "$84.14",
         "Swipe Transaction",
         "41184",
         "Albany",
         "NY",
         "12203",
         "5310",
         null
        ],
        [
         "4562418",
         "13013235",
         "2013-07-12 08:37:00",
         "487",
         "2024",
         "$14.00",
         "Swipe Transaction",
         "41184",
         "Albany",
         "NY",
         "12203",
         "5310",
         null
        ],
        [
         "4637415",
         "13104582",
         "2013-08-01 08:52:00",
         "487",
         "2835",
         "$14.31",
         "Swipe Transaction",
         "41184",
         "Albany",
         "NY",
         "12203",
         "5310",
         null
        ],
        [
         "4904225",
         "13429911",
         "2013-10-11 18:38:00",
         "487",
         "2835",
         "$113.06",
         "Swipe Transaction",
         "41184",
         "Albany",
         "NY",
         "12203",
         "5310",
         null
        ],
        [
         "5004758",
         "13552602",
         "2013-11-07 18:30:00",
         "487",
         "2835",
         "$118.54",
         "Swipe Transaction",
         "41184",
         "Albany",
         "NY",
         "12203",
         "5310",
         null
        ],
        [
         "5029082",
         "13582337",
         "2013-11-14 11:32:00",
         "487",
         "2835",
         "$81.18",
         "Swipe Transaction",
         "41184",
         "Albany",
         "NY",
         "12203",
         "5310",
         null
        ],
        [
         "5138620",
         "13716407",
         "2013-12-13 21:16:00",
         "487",
         "2024",
         "$16.16",
         "Swipe Transaction",
         "41184",
         "Albany",
         "NY",
         "12203",
         "5310",
         null
        ],
        [
         "5263891",
         "13869371",
         "2014-01-16 11:42:00",
         "487",
         "2024",
         "$58.06",
         "Swipe Transaction",
         "41184",
         "Albany",
         "NY",
         "12203",
         "5310",
         null
        ],
        [
         "5364339",
         "13992212",
         "2014-02-12 08:50:00",
         "487",
         "2024",
         "$13.94",
         "Swipe Transaction",
         "41184",
         "Albany",
         "NY",
         "12203",
         "5310",
         null
        ],
        [
         "5701221",
         "14404031",
         "2014-05-13 12:16:00",
         "487",
         "2024",
         "$14.44",
         "Swipe Transaction",
         "41184",
         "Albany",
         "NY",
         "12203",
         "5310",
         null
        ],
        [
         "5731980",
         "14441699",
         "2014-05-21 18:36:00",
         "487",
         "2024",
         "$91.53",
         "Swipe Transaction",
         "41184",
         "Albany",
         "NY",
         "12203",
         "5310",
         "Insufficient Balance"
        ],
        [
         "5732016",
         "14441742",
         "2014-05-21 18:48:00",
         "487",
         "2024",
         "$138.74",
         "Swipe Transaction",
         "41184",
         "Albany",
         "NY",
         "12203",
         "5310",
         null
        ],
        [
         "5986780",
         "14753585",
         "2014-07-28 21:01:00",
         "487",
         "2024",
         "$12.74",
         "Swipe Transaction",
         "41184",
         "Albany",
         "NY",
         "12203",
         "5310",
         null
        ],
        [
         "6237692",
         "15061110",
         "2014-10-03 21:26:00",
         "487",
         "2024",
         "$12.75",
         "Swipe Transaction",
         "41184",
         "Albany",
         "NY",
         "12203",
         "5310",
         null
        ],
        [
         "6768901",
         "15713454",
         "2015-02-22 12:26:00",
         "487",
         "2024",
         "$18.94",
         "Chip Transaction",
         "41184",
         "Albany",
         "NY",
         "12203",
         "5310",
         null
        ],
        [
         "7183109",
         "16221449",
         "2015-06-11 18:31:00",
         "487",
         "2024",
         "$128.47",
         "Chip Transaction",
         "41184",
         "Albany",
         "NY",
         "12203",
         "5310",
         null
        ],
        [
         "7244259",
         "16296257",
         "2015-06-27 18:02:00",
         "487",
         "2024",
         "$141.39",
         "Chip Transaction",
         "41184",
         "Albany",
         "NY",
         "12203",
         "5310",
         null
        ],
        [
         "7358971",
         "16436486",
         "2015-07-27 14:50:00",
         "487",
         "2024",
         "$8.57",
         "Chip Transaction",
         "41184",
         "Albany",
         "NY",
         "12203",
         "5310",
         null
        ],
        [
         "7698642",
         "16852559",
         "2015-10-24 18:30:00",
         "487",
         "2024",
         "$118.36",
         "Chip Transaction",
         "41184",
         "Albany",
         "NY",
         "12203",
         "5310",
         null
        ],
        [
         "7701050",
         "16855559",
         "2015-10-25 11:52:00",
         "487",
         "2024",
         "$61.48",
         "Chip Transaction",
         "41184",
         "Albany",
         "NY",
         "12203",
         "5310",
         null
        ],
        [
         "7917938",
         "17121397",
         "2015-12-21 08:37:00",
         "487",
         "2024",
         "$14.05",
         "Chip Transaction",
         "41184",
         "Albany",
         "NY",
         "12203",
         "5310",
         null
        ],
        [
         "7924659",
         "17129719",
         "2015-12-22 21:26:00",
         "487",
         "2024",
         "$186.15",
         "Chip Transaction",
         "41184",
         "Albany",
         "NY",
         "12203",
         "5310",
         null
        ],
        [
         "8139390",
         "17393488",
         "2016-02-17 08:39:00",
         "487",
         "2024",
         "$13.33",
         "Chip Transaction",
         "41184",
         "Albany",
         "NY",
         "12203",
         "5310",
         null
        ],
        [
         "8509249",
         "17847564",
         "2016-05-25 12:29:00",
         "487",
         "2024",
         "$22.28",
         "Chip Transaction",
         "41184",
         "Albany",
         "NY",
         "12203",
         "5310",
         null
        ],
        [
         "8849623",
         "18265255",
         "2016-08-22 12:43:00",
         "487",
         "2024",
         "$56.47",
         "Chip Transaction",
         "41184",
         "Albany",
         "NY",
         "12203",
         "5310",
         null
        ],
        [
         "8886888",
         "18310869",
         "2016-09-01 08:02:00",
         "487",
         "2024",
         "$73.04",
         "Chip Transaction",
         "41184",
         "Albany",
         "NY",
         "12203",
         "5310",
         null
        ],
        [
         "9089549",
         "18559777",
         "2016-10-24 11:39:00",
         "487",
         "2024",
         "$57.95",
         "Chip Transaction",
         "41184",
         "Albany",
         "NY",
         "12203",
         "5310",
         null
        ]
       ],
       "shape": {
        "columns": 12,
        "rows": 7919
       }
      },
      "text/html": [
       "<div>\n",
       "<style scoped>\n",
       "    .dataframe tbody tr th:only-of-type {\n",
       "        vertical-align: middle;\n",
       "    }\n",
       "\n",
       "    .dataframe tbody tr th {\n",
       "        vertical-align: top;\n",
       "    }\n",
       "\n",
       "    .dataframe thead th {\n",
       "        text-align: right;\n",
       "    }\n",
       "</style>\n",
       "<table border=\"1\" class=\"dataframe\">\n",
       "  <thead>\n",
       "    <tr style=\"text-align: right;\">\n",
       "      <th></th>\n",
       "      <th>id</th>\n",
       "      <th>date</th>\n",
       "      <th>client_id</th>\n",
       "      <th>card_id</th>\n",
       "      <th>amount</th>\n",
       "      <th>use_chip</th>\n",
       "      <th>merchant_id</th>\n",
       "      <th>merchant_city</th>\n",
       "      <th>merchant_state</th>\n",
       "      <th>zip</th>\n",
       "      <th>mcc</th>\n",
       "      <th>errors</th>\n",
       "    </tr>\n",
       "  </thead>\n",
       "  <tbody>\n",
       "    <tr>\n",
       "      <th>745404</th>\n",
       "      <td>8368078</td>\n",
       "      <td>2010-08-10 14:27:00</td>\n",
       "      <td>497</td>\n",
       "      <td>2829</td>\n",
       "      <td>$18.75</td>\n",
       "      <td>Swipe Transaction</td>\n",
       "      <td>41184</td>\n",
       "      <td>Akron</td>\n",
       "      <td>IA</td>\n",
       "      <td>51001</td>\n",
       "      <td>5310</td>\n",
       "      <td>NaN</td>\n",
       "    </tr>\n",
       "    <tr>\n",
       "      <th>1375609</th>\n",
       "      <td>9130059</td>\n",
       "      <td>2011-02-08 15:50:00</td>\n",
       "      <td>229</td>\n",
       "      <td>5942</td>\n",
       "      <td>$0.92</td>\n",
       "      <td>Swipe Transaction</td>\n",
       "      <td>41184</td>\n",
       "      <td>Akron</td>\n",
       "      <td>IA</td>\n",
       "      <td>51001</td>\n",
       "      <td>5310</td>\n",
       "      <td>NaN</td>\n",
       "    </tr>\n",
       "    <tr>\n",
       "      <th>4520185</th>\n",
       "      <td>12961837</td>\n",
       "      <td>2013-06-30 22:13:00</td>\n",
       "      <td>194</td>\n",
       "      <td>5587</td>\n",
       "      <td>$13.51</td>\n",
       "      <td>Swipe Transaction</td>\n",
       "      <td>41184</td>\n",
       "      <td>Akron</td>\n",
       "      <td>IA</td>\n",
       "      <td>51001</td>\n",
       "      <td>5310</td>\n",
       "      <td>NaN</td>\n",
       "    </tr>\n",
       "    <tr>\n",
       "      <th>8803764</th>\n",
       "      <td>18208901</td>\n",
       "      <td>2016-08-10 12:02:00</td>\n",
       "      <td>120</td>\n",
       "      <td>3806</td>\n",
       "      <td>$81.89</td>\n",
       "      <td>Chip Transaction</td>\n",
       "      <td>41184</td>\n",
       "      <td>Akron</td>\n",
       "      <td>IA</td>\n",
       "      <td>51001</td>\n",
       "      <td>5310</td>\n",
       "      <td>NaN</td>\n",
       "    </tr>\n",
       "    <tr>\n",
       "      <th>13045988</th>\n",
       "      <td>23440661</td>\n",
       "      <td>2019-08-24 15:30:00</td>\n",
       "      <td>229</td>\n",
       "      <td>2683</td>\n",
       "      <td>$0.85</td>\n",
       "      <td>Swipe Transaction</td>\n",
       "      <td>41184</td>\n",
       "      <td>Akron</td>\n",
       "      <td>IA</td>\n",
       "      <td>51001</td>\n",
       "      <td>5310</td>\n",
       "      <td>NaN</td>\n",
       "    </tr>\n",
       "    <tr>\n",
       "      <th>...</th>\n",
       "      <td>...</td>\n",
       "      <td>...</td>\n",
       "      <td>...</td>\n",
       "      <td>...</td>\n",
       "      <td>...</td>\n",
       "      <td>...</td>\n",
       "      <td>...</td>\n",
       "      <td>...</td>\n",
       "      <td>...</td>\n",
       "      <td>...</td>\n",
       "      <td>...</td>\n",
       "      <td>...</td>\n",
       "    </tr>\n",
       "    <tr>\n",
       "      <th>13264521</th>\n",
       "      <td>23710868</td>\n",
       "      <td>2019-10-21 06:03:00</td>\n",
       "      <td>197</td>\n",
       "      <td>1302</td>\n",
       "      <td>$41.52</td>\n",
       "      <td>Swipe Transaction</td>\n",
       "      <td>41184</td>\n",
       "      <td>Wilmore</td>\n",
       "      <td>KY</td>\n",
       "      <td>40390</td>\n",
       "      <td>5310</td>\n",
       "      <td>NaN</td>\n",
       "    </tr>\n",
       "    <tr>\n",
       "      <th>13272041</th>\n",
       "      <td>23720021</td>\n",
       "      <td>2019-10-23 06:04:00</td>\n",
       "      <td>197</td>\n",
       "      <td>1302</td>\n",
       "      <td>$39.79</td>\n",
       "      <td>Swipe Transaction</td>\n",
       "      <td>41184</td>\n",
       "      <td>Wilmore</td>\n",
       "      <td>KY</td>\n",
       "      <td>40390</td>\n",
       "      <td>5310</td>\n",
       "      <td>NaN</td>\n",
       "    </tr>\n",
       "    <tr>\n",
       "      <th>13294849</th>\n",
       "      <td>23748194</td>\n",
       "      <td>2019-10-29 00:45:00</td>\n",
       "      <td>197</td>\n",
       "      <td>1302</td>\n",
       "      <td>$27.95</td>\n",
       "      <td>Swipe Transaction</td>\n",
       "      <td>41184</td>\n",
       "      <td>Wilmore</td>\n",
       "      <td>KY</td>\n",
       "      <td>40390</td>\n",
       "      <td>5310</td>\n",
       "      <td>NaN</td>\n",
       "    </tr>\n",
       "    <tr>\n",
       "      <th>13298620</th>\n",
       "      <td>23752869</td>\n",
       "      <td>2019-10-30 06:12:00</td>\n",
       "      <td>197</td>\n",
       "      <td>1302</td>\n",
       "      <td>$48.79</td>\n",
       "      <td>Swipe Transaction</td>\n",
       "      <td>41184</td>\n",
       "      <td>Wilmore</td>\n",
       "      <td>KY</td>\n",
       "      <td>40390</td>\n",
       "      <td>5310</td>\n",
       "      <td>NaN</td>\n",
       "    </tr>\n",
       "    <tr>\n",
       "      <th>13302265</th>\n",
       "      <td>23757317</td>\n",
       "      <td>2019-10-31 06:26:00</td>\n",
       "      <td>197</td>\n",
       "      <td>1302</td>\n",
       "      <td>$50.65</td>\n",
       "      <td>Swipe Transaction</td>\n",
       "      <td>41184</td>\n",
       "      <td>Wilmore</td>\n",
       "      <td>KY</td>\n",
       "      <td>40390</td>\n",
       "      <td>5310</td>\n",
       "      <td>NaN</td>\n",
       "    </tr>\n",
       "  </tbody>\n",
       "</table>\n",
       "<p>7919 rows × 12 columns</p>\n",
       "</div>"
      ],
      "text/plain": [
       "                id                 date  client_id  card_id  amount  \\\n",
       "745404     8368078  2010-08-10 14:27:00        497     2829  $18.75   \n",
       "1375609    9130059  2011-02-08 15:50:00        229     5942   $0.92   \n",
       "4520185   12961837  2013-06-30 22:13:00        194     5587  $13.51   \n",
       "8803764   18208901  2016-08-10 12:02:00        120     3806  $81.89   \n",
       "13045988  23440661  2019-08-24 15:30:00        229     2683   $0.85   \n",
       "...            ...                  ...        ...      ...     ...   \n",
       "13264521  23710868  2019-10-21 06:03:00        197     1302  $41.52   \n",
       "13272041  23720021  2019-10-23 06:04:00        197     1302  $39.79   \n",
       "13294849  23748194  2019-10-29 00:45:00        197     1302  $27.95   \n",
       "13298620  23752869  2019-10-30 06:12:00        197     1302  $48.79   \n",
       "13302265  23757317  2019-10-31 06:26:00        197     1302  $50.65   \n",
       "\n",
       "                   use_chip  merchant_id merchant_city merchant_state    zip  \\\n",
       "745404    Swipe Transaction        41184         Akron             IA  51001   \n",
       "1375609   Swipe Transaction        41184         Akron             IA  51001   \n",
       "4520185   Swipe Transaction        41184         Akron             IA  51001   \n",
       "8803764    Chip Transaction        41184         Akron             IA  51001   \n",
       "13045988  Swipe Transaction        41184         Akron             IA  51001   \n",
       "...                     ...          ...           ...            ...    ...   \n",
       "13264521  Swipe Transaction        41184       Wilmore             KY  40390   \n",
       "13272041  Swipe Transaction        41184       Wilmore             KY  40390   \n",
       "13294849  Swipe Transaction        41184       Wilmore             KY  40390   \n",
       "13298620  Swipe Transaction        41184       Wilmore             KY  40390   \n",
       "13302265  Swipe Transaction        41184       Wilmore             KY  40390   \n",
       "\n",
       "           mcc errors  \n",
       "745404    5310    NaN  \n",
       "1375609   5310    NaN  \n",
       "4520185   5310    NaN  \n",
       "8803764   5310    NaN  \n",
       "13045988  5310    NaN  \n",
       "...        ...    ...  \n",
       "13264521  5310    NaN  \n",
       "13272041  5310    NaN  \n",
       "13294849  5310    NaN  \n",
       "13298620  5310    NaN  \n",
       "13302265  5310    NaN  \n",
       "\n",
       "[7919 rows x 12 columns]"
      ]
     },
     "execution_count": 12,
     "metadata": {},
     "output_type": "execute_result"
    }
   ],
   "source": [
    "df.loc[df['merchant_id'] == 41184].sort_values(by=['merchant_id','merchant_city','merchant_state', 'zip', 'mcc'])"
   ]
  },
  {
   "cell_type": "code",
   "execution_count": 5,
   "id": "79cc5a8e",
   "metadata": {},
   "outputs": [],
   "source": [
    "df['zip'] = df['zip'].fillna(0).astype(str).str.replace(r'\\.0$', '', regex=True).astype(int)   "
   ]
  },
  {
   "cell_type": "code",
   "execution_count": 7,
   "id": "38eeabe5",
   "metadata": {},
   "outputs": [
    {
     "data": {
      "application/vnd.microsoft.datawrangler.viewer.v0+json": {
       "columns": [
        {
         "name": "index",
         "rawType": "int64",
         "type": "integer"
        },
        {
         "name": "id",
         "rawType": "int64",
         "type": "integer"
        },
        {
         "name": "date",
         "rawType": "object",
         "type": "string"
        },
        {
         "name": "client_id",
         "rawType": "int64",
         "type": "integer"
        },
        {
         "name": "card_id",
         "rawType": "int64",
         "type": "integer"
        },
        {
         "name": "amount",
         "rawType": "object",
         "type": "string"
        },
        {
         "name": "use_chip",
         "rawType": "object",
         "type": "string"
        },
        {
         "name": "merchant_id",
         "rawType": "int64",
         "type": "integer"
        },
        {
         "name": "merchant_city",
         "rawType": "object",
         "type": "string"
        },
        {
         "name": "merchant_state",
         "rawType": "object",
         "type": "unknown"
        },
        {
         "name": "zip",
         "rawType": "int64",
         "type": "integer"
        },
        {
         "name": "mcc",
         "rawType": "int64",
         "type": "integer"
        },
        {
         "name": "errors",
         "rawType": "object",
         "type": "unknown"
        }
       ],
       "ref": "8c40a18e-ac65-4e7d-a425-05ba56696a11",
       "rows": [
        [
         "7",
         "7475335",
         "2010-01-01 00:14:00",
         "1684",
         "2140",
         "$26.46",
         "Online Transaction",
         "39021",
         "ONLINE",
         null,
         "0",
         "4784",
         null
        ],
        [
         "8",
         "7475336",
         "2010-01-01 00:21:00",
         "335",
         "5131",
         "$261.58",
         "Online Transaction",
         "50292",
         "ONLINE",
         null,
         "0",
         "7801",
         null
        ],
        [
         "18",
         "7475346",
         "2010-01-01 00:34:00",
         "394",
         "4717",
         "$26.04",
         "Online Transaction",
         "39021",
         "ONLINE",
         null,
         "0",
         "4784",
         null
        ],
        [
         "24",
         "7475353",
         "2010-01-01 00:43:00",
         "301",
         "3742",
         "$10.17",
         "Online Transaction",
         "39021",
         "ONLINE",
         null,
         "0",
         "4784",
         null
        ],
        [
         "26",
         "7475356",
         "2010-01-01 00:45:00",
         "566",
         "3439",
         "$16.86",
         "Online Transaction",
         "16798",
         "ONLINE",
         null,
         "0",
         "4121",
         null
        ],
        [
         "29",
         "7475359",
         "2010-01-01 00:48:00",
         "1127",
         "3869",
         "$22.57",
         "Online Transaction",
         "39021",
         "ONLINE",
         null,
         "0",
         "4784",
         null
        ],
        [
         "35",
         "7475365",
         "2010-01-01 01:01:00",
         "820",
         "127",
         "$270.22",
         "Online Transaction",
         "73186",
         "ONLINE",
         null,
         "0",
         "4814",
         null
        ],
        [
         "37",
         "7475367",
         "2010-01-01 01:06:00",
         "1758",
         "4686",
         "$87.09",
         "Online Transaction",
         "17976",
         "ONLINE",
         null,
         "0",
         "4900",
         null
        ],
        [
         "41",
         "7475372",
         "2010-01-01 01:11:00",
         "566",
         "5577",
         "$14.66",
         "Online Transaction",
         "16798",
         "ONLINE",
         null,
         "0",
         "4121",
         null
        ],
        [
         "43",
         "7475374",
         "2010-01-01 01:13:00",
         "1684",
         "94",
         "$12.67",
         "Online Transaction",
         "39021",
         "ONLINE",
         null,
         "0",
         "4784",
         null
        ],
        [
         "56",
         "7475391",
         "2010-01-01 01:41:00",
         "1087",
         "1029",
         "$62.98",
         "Online Transaction",
         "17976",
         "ONLINE",
         null,
         "0",
         "4900",
         null
        ],
        [
         "57",
         "7475394",
         "2010-01-01 01:46:00",
         "1575",
         "224",
         "$34.34",
         "Online Transaction",
         "16798",
         "ONLINE",
         null,
         "0",
         "4121",
         null
        ],
        [
         "64",
         "7475401",
         "2010-01-01 01:54:00",
         "1449",
         "241",
         "$119.23",
         "Online Transaction",
         "87530",
         "ONLINE",
         null,
         "0",
         "4900",
         null
        ],
        [
         "66",
         "7475403",
         "2010-01-01 01:56:00",
         "760",
         "5876",
         "$52.98",
         "Online Transaction",
         "39021",
         "ONLINE",
         null,
         "0",
         "4784",
         null
        ],
        [
         "84",
         "7475425",
         "2010-01-01 02:16:00",
         "241",
         "58",
         "$38.11",
         "Online Transaction",
         "17976",
         "ONLINE",
         null,
         "0",
         "4900",
         null
        ],
        [
         "86",
         "7475427",
         "2010-01-01 02:17:00",
         "1776",
         "4938",
         "$66.05",
         "Online Transaction",
         "39021",
         "ONLINE",
         null,
         "0",
         "4784",
         null
        ],
        [
         "90",
         "7475432",
         "2010-01-01 02:25:00",
         "1214",
         "5508",
         "$51.58",
         "Online Transaction",
         "98436",
         "ONLINE",
         null,
         "0",
         "5192",
         null
        ],
        [
         "117",
         "7475463",
         "2010-01-01 03:11:00",
         "1921",
         "1181",
         "$40.89",
         "Online Transaction",
         "59350",
         "ONLINE",
         null,
         "0",
         "7922",
         null
        ],
        [
         "122",
         "7475468",
         "2010-01-01 03:20:00",
         "121",
         "5952",
         "$58.47",
         "Online Transaction",
         "80770",
         "ONLINE",
         null,
         "0",
         "7922",
         null
        ],
        [
         "137",
         "7475485",
         "2010-01-01 03:57:00",
         "185",
         "5361",
         "$15.89",
         "Online Transaction",
         "39261",
         "ONLINE",
         null,
         "0",
         "5815",
         null
        ],
        [
         "142",
         "7475490",
         "2010-01-01 04:14:00",
         "585",
         "5881",
         "$20.86",
         "Online Transaction",
         "41122",
         "ONLINE",
         null,
         "0",
         "4784",
         null
        ],
        [
         "143",
         "7475491",
         "2010-01-01 04:17:00",
         "356",
         "3251",
         "$7.71",
         "Online Transaction",
         "50404",
         "ONLINE",
         null,
         "0",
         "4784",
         null
        ],
        [
         "146",
         "7475494",
         "2010-01-01 04:21:00",
         "103",
         "5113",
         "$166.34",
         "Online Transaction",
         "56276",
         "ONLINE",
         null,
         "0",
         "4899",
         null
        ],
        [
         "152",
         "7475500",
         "2010-01-01 04:30:00",
         "1905",
         "5807",
         "$54.98",
         "Online Transaction",
         "73186",
         "ONLINE",
         null,
         "0",
         "4814",
         null
        ],
        [
         "153",
         "7475501",
         "2010-01-01 04:31:00",
         "526",
         "5917",
         "$22.23",
         "Online Transaction",
         "16798",
         "ONLINE",
         null,
         "0",
         "4121",
         null
        ],
        [
         "159",
         "7475509",
         "2010-01-01 04:45:00",
         "1718",
         "4706",
         "$46.21",
         "Online Transaction",
         "15143",
         "ONLINE",
         null,
         "0",
         "4784",
         null
        ],
        [
         "160",
         "7475510",
         "2010-01-01 04:49:00",
         "1629",
         "4290",
         "$26.38",
         "Online Transaction",
         "39021",
         "ONLINE",
         null,
         "0",
         "4784",
         null
        ],
        [
         "169",
         "7475519",
         "2010-01-01 05:04:00",
         "1540",
         "5562",
         "$46.05",
         "Online Transaction",
         "39021",
         "ONLINE",
         null,
         "0",
         "4784",
         null
        ],
        [
         "170",
         "7475520",
         "2010-01-01 05:05:00",
         "1102",
         "2822",
         "$185.60",
         "Online Transaction",
         "80770",
         "ONLINE",
         null,
         "0",
         "7922",
         null
        ],
        [
         "174",
         "7475524",
         "2010-01-01 05:12:00",
         "1445",
         "3722",
         "$4.43",
         "Online Transaction",
         "39021",
         "ONLINE",
         null,
         "0",
         "4784",
         null
        ],
        [
         "183",
         "7475534",
         "2010-01-01 05:30:00",
         "1034",
         "4622",
         "$41.30",
         "Online Transaction",
         "17976",
         "ONLINE",
         null,
         "0",
         "4900",
         null
        ],
        [
         "194",
         "7475546",
         "2010-01-01 05:43:00",
         "1540",
         "3763",
         "$46.01",
         "Online Transaction",
         "39021",
         "ONLINE",
         null,
         "0",
         "4784",
         null
        ],
        [
         "202",
         "7475559",
         "2010-01-01 05:52:00",
         "822",
         "5385",
         "$10.45",
         "Online Transaction",
         "50292",
         "ONLINE",
         null,
         "0",
         "7801",
         null
        ],
        [
         "209",
         "7475567",
         "2010-01-01 05:57:00",
         "327",
         "5512",
         "$61.86",
         "Online Transaction",
         "39021",
         "ONLINE",
         null,
         "0",
         "4784",
         null
        ],
        [
         "214",
         "7475572",
         "2010-01-01 06:01:00",
         "592",
         "4133",
         "$12.81",
         "Online Transaction",
         "39021",
         "ONLINE",
         null,
         "0",
         "4784",
         null
        ],
        [
         "220",
         "7475578",
         "2010-01-01 06:02:00",
         "38",
         "2526",
         "$14.67",
         "Online Transaction",
         "50404",
         "ONLINE",
         null,
         "0",
         "4784",
         null
        ],
        [
         "226",
         "7475586",
         "2010-01-01 06:03:00",
         "1696",
         "2408",
         "$9.68",
         "Online Transaction",
         "39021",
         "ONLINE",
         null,
         "0",
         "4784",
         null
        ],
        [
         "231",
         "7475592",
         "2010-01-01 06:07:00",
         "112",
         "1134",
         "$23.61",
         "Online Transaction",
         "39021",
         "ONLINE",
         null,
         "0",
         "4784",
         null
        ],
        [
         "238",
         "7475601",
         "2010-01-01 06:08:00",
         "1692",
         "5371",
         "$42.28",
         "Online Transaction",
         "39021",
         "ONLINE",
         null,
         "0",
         "4784",
         null
        ],
        [
         "244",
         "7475607",
         "2010-01-01 06:10:00",
         "135",
         "2808",
         "$189.29",
         "Online Transaction",
         "90999",
         "ONLINE",
         null,
         "0",
         "4722",
         null
        ],
        [
         "248",
         "7475611",
         "2010-01-01 06:10:00",
         "1797",
         "1127",
         "$28.84",
         "Online Transaction",
         "15143",
         "ONLINE",
         null,
         "0",
         "4784",
         "Bad Expiration"
        ],
        [
         "258",
         "7475623",
         "2010-01-01 06:16:00",
         "135",
         "2808",
         "$-148.00",
         "Online Transaction",
         "90999",
         "ONLINE",
         null,
         "0",
         "4722",
         null
        ],
        [
         "268",
         "7475636",
         "2010-01-01 06:18:00",
         "1052",
         "3651",
         "$18.26",
         "Online Transaction",
         "15143",
         "ONLINE",
         null,
         "0",
         "4784",
         null
        ],
        [
         "273",
         "7475641",
         "2010-01-01 06:19:00",
         "1299",
         "3263",
         "$27.28",
         "Online Transaction",
         "39021",
         "ONLINE",
         null,
         "0",
         "4784",
         null
        ],
        [
         "275",
         "7475643",
         "2010-01-01 06:19:00",
         "1797",
         "1127",
         "$38.58",
         "Online Transaction",
         "15143",
         "ONLINE",
         null,
         "0",
         "4784",
         "Bad Card Number"
        ],
        [
         "284",
         "7475652",
         "2010-01-01 06:23:00",
         "1138",
         "2122",
         "$36.33",
         "Online Transaction",
         "39021",
         "ONLINE",
         null,
         "0",
         "4784",
         null
        ],
        [
         "285",
         "7475654",
         "2010-01-01 06:24:00",
         "327",
         "5512",
         "$47.61",
         "Online Transaction",
         "39021",
         "ONLINE",
         null,
         "0",
         "4784",
         null
        ],
        [
         "293",
         "7475664",
         "2010-01-01 06:26:00",
         "1445",
         "4716",
         "$3.86",
         "Online Transaction",
         "39021",
         "ONLINE",
         null,
         "0",
         "4784",
         null
        ],
        [
         "320",
         "7475699",
         "2010-01-01 06:38:00",
         "1604",
         "2188",
         "$3.66",
         "Online Transaction",
         "85247",
         "ONLINE",
         null,
         "0",
         "5815",
         null
        ],
        [
         "330",
         "7475712",
         "2010-01-01 06:41:00",
         "1898",
         "4543",
         "$40.40",
         "Online Transaction",
         "39021",
         "ONLINE",
         null,
         "0",
         "4784",
         null
        ]
       ],
       "shape": {
        "columns": 12,
        "rows": 1652706
       }
      },
      "text/html": [
       "<div>\n",
       "<style scoped>\n",
       "    .dataframe tbody tr th:only-of-type {\n",
       "        vertical-align: middle;\n",
       "    }\n",
       "\n",
       "    .dataframe tbody tr th {\n",
       "        vertical-align: top;\n",
       "    }\n",
       "\n",
       "    .dataframe thead th {\n",
       "        text-align: right;\n",
       "    }\n",
       "</style>\n",
       "<table border=\"1\" class=\"dataframe\">\n",
       "  <thead>\n",
       "    <tr style=\"text-align: right;\">\n",
       "      <th></th>\n",
       "      <th>id</th>\n",
       "      <th>date</th>\n",
       "      <th>client_id</th>\n",
       "      <th>card_id</th>\n",
       "      <th>amount</th>\n",
       "      <th>use_chip</th>\n",
       "      <th>merchant_id</th>\n",
       "      <th>merchant_city</th>\n",
       "      <th>merchant_state</th>\n",
       "      <th>zip</th>\n",
       "      <th>mcc</th>\n",
       "      <th>errors</th>\n",
       "    </tr>\n",
       "  </thead>\n",
       "  <tbody>\n",
       "    <tr>\n",
       "      <th>7</th>\n",
       "      <td>7475335</td>\n",
       "      <td>2010-01-01 00:14:00</td>\n",
       "      <td>1684</td>\n",
       "      <td>2140</td>\n",
       "      <td>$26.46</td>\n",
       "      <td>Online Transaction</td>\n",
       "      <td>39021</td>\n",
       "      <td>ONLINE</td>\n",
       "      <td>NaN</td>\n",
       "      <td>0</td>\n",
       "      <td>4784</td>\n",
       "      <td>NaN</td>\n",
       "    </tr>\n",
       "    <tr>\n",
       "      <th>8</th>\n",
       "      <td>7475336</td>\n",
       "      <td>2010-01-01 00:21:00</td>\n",
       "      <td>335</td>\n",
       "      <td>5131</td>\n",
       "      <td>$261.58</td>\n",
       "      <td>Online Transaction</td>\n",
       "      <td>50292</td>\n",
       "      <td>ONLINE</td>\n",
       "      <td>NaN</td>\n",
       "      <td>0</td>\n",
       "      <td>7801</td>\n",
       "      <td>NaN</td>\n",
       "    </tr>\n",
       "    <tr>\n",
       "      <th>18</th>\n",
       "      <td>7475346</td>\n",
       "      <td>2010-01-01 00:34:00</td>\n",
       "      <td>394</td>\n",
       "      <td>4717</td>\n",
       "      <td>$26.04</td>\n",
       "      <td>Online Transaction</td>\n",
       "      <td>39021</td>\n",
       "      <td>ONLINE</td>\n",
       "      <td>NaN</td>\n",
       "      <td>0</td>\n",
       "      <td>4784</td>\n",
       "      <td>NaN</td>\n",
       "    </tr>\n",
       "    <tr>\n",
       "      <th>24</th>\n",
       "      <td>7475353</td>\n",
       "      <td>2010-01-01 00:43:00</td>\n",
       "      <td>301</td>\n",
       "      <td>3742</td>\n",
       "      <td>$10.17</td>\n",
       "      <td>Online Transaction</td>\n",
       "      <td>39021</td>\n",
       "      <td>ONLINE</td>\n",
       "      <td>NaN</td>\n",
       "      <td>0</td>\n",
       "      <td>4784</td>\n",
       "      <td>NaN</td>\n",
       "    </tr>\n",
       "    <tr>\n",
       "      <th>26</th>\n",
       "      <td>7475356</td>\n",
       "      <td>2010-01-01 00:45:00</td>\n",
       "      <td>566</td>\n",
       "      <td>3439</td>\n",
       "      <td>$16.86</td>\n",
       "      <td>Online Transaction</td>\n",
       "      <td>16798</td>\n",
       "      <td>ONLINE</td>\n",
       "      <td>NaN</td>\n",
       "      <td>0</td>\n",
       "      <td>4121</td>\n",
       "      <td>NaN</td>\n",
       "    </tr>\n",
       "    <tr>\n",
       "      <th>...</th>\n",
       "      <td>...</td>\n",
       "      <td>...</td>\n",
       "      <td>...</td>\n",
       "      <td>...</td>\n",
       "      <td>...</td>\n",
       "      <td>...</td>\n",
       "      <td>...</td>\n",
       "      <td>...</td>\n",
       "      <td>...</td>\n",
       "      <td>...</td>\n",
       "      <td>...</td>\n",
       "      <td>...</td>\n",
       "    </tr>\n",
       "    <tr>\n",
       "      <th>13305879</th>\n",
       "      <td>23761832</td>\n",
       "      <td>2019-10-31 23:22:00</td>\n",
       "      <td>1556</td>\n",
       "      <td>2972</td>\n",
       "      <td>$17.65</td>\n",
       "      <td>Online Transaction</td>\n",
       "      <td>88459</td>\n",
       "      <td>ONLINE</td>\n",
       "      <td>NaN</td>\n",
       "      <td>0</td>\n",
       "      <td>5311</td>\n",
       "      <td>NaN</td>\n",
       "    </tr>\n",
       "    <tr>\n",
       "      <th>13305880</th>\n",
       "      <td>23761833</td>\n",
       "      <td>2019-10-31 23:22:00</td>\n",
       "      <td>1797</td>\n",
       "      <td>5660</td>\n",
       "      <td>$34.81</td>\n",
       "      <td>Online Transaction</td>\n",
       "      <td>15143</td>\n",
       "      <td>ONLINE</td>\n",
       "      <td>NaN</td>\n",
       "      <td>0</td>\n",
       "      <td>4784</td>\n",
       "      <td>NaN</td>\n",
       "    </tr>\n",
       "    <tr>\n",
       "      <th>13305888</th>\n",
       "      <td>23761843</td>\n",
       "      <td>2019-10-31 23:33:00</td>\n",
       "      <td>1069</td>\n",
       "      <td>5167</td>\n",
       "      <td>$59.71</td>\n",
       "      <td>Online Transaction</td>\n",
       "      <td>39021</td>\n",
       "      <td>ONLINE</td>\n",
       "      <td>NaN</td>\n",
       "      <td>0</td>\n",
       "      <td>4784</td>\n",
       "      <td>NaN</td>\n",
       "    </tr>\n",
       "    <tr>\n",
       "      <th>13305897</th>\n",
       "      <td>23761853</td>\n",
       "      <td>2019-10-31 23:39:00</td>\n",
       "      <td>1422</td>\n",
       "      <td>5696</td>\n",
       "      <td>$694.30</td>\n",
       "      <td>Online Transaction</td>\n",
       "      <td>70268</td>\n",
       "      <td>ONLINE</td>\n",
       "      <td>NaN</td>\n",
       "      <td>0</td>\n",
       "      <td>4722</td>\n",
       "      <td>NaN</td>\n",
       "    </tr>\n",
       "    <tr>\n",
       "      <th>13305911</th>\n",
       "      <td>23761869</td>\n",
       "      <td>2019-10-31 23:56:00</td>\n",
       "      <td>1766</td>\n",
       "      <td>2066</td>\n",
       "      <td>$12.80</td>\n",
       "      <td>Online Transaction</td>\n",
       "      <td>39261</td>\n",
       "      <td>ONLINE</td>\n",
       "      <td>NaN</td>\n",
       "      <td>0</td>\n",
       "      <td>5815</td>\n",
       "      <td>NaN</td>\n",
       "    </tr>\n",
       "  </tbody>\n",
       "</table>\n",
       "<p>1652706 rows × 12 columns</p>\n",
       "</div>"
      ],
      "text/plain": [
       "                id                 date  client_id  card_id   amount  \\\n",
       "7          7475335  2010-01-01 00:14:00       1684     2140   $26.46   \n",
       "8          7475336  2010-01-01 00:21:00        335     5131  $261.58   \n",
       "18         7475346  2010-01-01 00:34:00        394     4717   $26.04   \n",
       "24         7475353  2010-01-01 00:43:00        301     3742   $10.17   \n",
       "26         7475356  2010-01-01 00:45:00        566     3439   $16.86   \n",
       "...            ...                  ...        ...      ...      ...   \n",
       "13305879  23761832  2019-10-31 23:22:00       1556     2972   $17.65   \n",
       "13305880  23761833  2019-10-31 23:22:00       1797     5660   $34.81   \n",
       "13305888  23761843  2019-10-31 23:33:00       1069     5167   $59.71   \n",
       "13305897  23761853  2019-10-31 23:39:00       1422     5696  $694.30   \n",
       "13305911  23761869  2019-10-31 23:56:00       1766     2066   $12.80   \n",
       "\n",
       "                    use_chip  merchant_id merchant_city merchant_state  zip  \\\n",
       "7         Online Transaction        39021        ONLINE            NaN    0   \n",
       "8         Online Transaction        50292        ONLINE            NaN    0   \n",
       "18        Online Transaction        39021        ONLINE            NaN    0   \n",
       "24        Online Transaction        39021        ONLINE            NaN    0   \n",
       "26        Online Transaction        16798        ONLINE            NaN    0   \n",
       "...                      ...          ...           ...            ...  ...   \n",
       "13305879  Online Transaction        88459        ONLINE            NaN    0   \n",
       "13305880  Online Transaction        15143        ONLINE            NaN    0   \n",
       "13305888  Online Transaction        39021        ONLINE            NaN    0   \n",
       "13305897  Online Transaction        70268        ONLINE            NaN    0   \n",
       "13305911  Online Transaction        39261        ONLINE            NaN    0   \n",
       "\n",
       "           mcc errors  \n",
       "7         4784    NaN  \n",
       "8         7801    NaN  \n",
       "18        4784    NaN  \n",
       "24        4784    NaN  \n",
       "26        4121    NaN  \n",
       "...        ...    ...  \n",
       "13305879  5311    NaN  \n",
       "13305880  4784    NaN  \n",
       "13305888  4784    NaN  \n",
       "13305897  4722    NaN  \n",
       "13305911  5815    NaN  \n",
       "\n",
       "[1652706 rows x 12 columns]"
      ]
     },
     "execution_count": 7,
     "metadata": {},
     "output_type": "execute_result"
    }
   ],
   "source": [
    "df.loc[df['zip'] == 0]"
   ]
  },
  {
   "cell_type": "code",
   "execution_count": 1,
   "id": "9b394cc4",
   "metadata": {},
   "outputs": [
    {
     "ename": "NameError",
     "evalue": "name 'df' is not defined",
     "output_type": "error",
     "traceback": [
      "\u001b[31m---------------------------------------------------------------------------\u001b[39m",
      "\u001b[31mNameError\u001b[39m                                 Traceback (most recent call last)",
      "\u001b[36mCell\u001b[39m\u001b[36m \u001b[39m\u001b[32mIn[1]\u001b[39m\u001b[32m, line 1\u001b[39m\n\u001b[32m----> \u001b[39m\u001b[32m1\u001b[39m df[\u001b[33m'\u001b[39m\u001b[33mzip\u001b[39m\u001b[33m'\u001b[39m] = \u001b[43mdf\u001b[49m[\u001b[33m'\u001b[39m\u001b[33mzip\u001b[39m\u001b[33m'\u001b[39m].str.replace(\u001b[33m'\u001b[39m\u001b[33m.0\u001b[39m\u001b[33m'\u001b[39m,\u001b[33m'\u001b[39m\u001b[33m'\u001b[39m)\n\u001b[32m      2\u001b[39m df.head()\n",
      "\u001b[31mNameError\u001b[39m: name 'df' is not defined"
     ]
    }
   ],
   "source": [
    "df['zip'] = df['zip'].str.replace('.0','')\n",
    "df.head()"
   ]
  },
  {
   "cell_type": "code",
   "execution_count": 4,
   "id": "ff4d69e1",
   "metadata": {},
   "outputs": [
    {
     "data": {
      "text/html": [
       "<div><style>\n",
       ".dataframe > thead > tr,\n",
       ".dataframe > tbody > tr {\n",
       "  text-align: right;\n",
       "  white-space: pre-wrap;\n",
       "}\n",
       "</style>\n",
       "<small>shape: (5, 12)</small><table border=\"1\" class=\"dataframe\"><thead><tr><th>id</th><th>date</th><th>client_id</th><th>card_id</th><th>amount</th><th>use_chip</th><th>merchant_id</th><th>merchant_city</th><th>merchant_state</th><th>zip</th><th>mcc</th><th>errors</th></tr><tr><td>i64</td><td>str</td><td>i64</td><td>i64</td><td>str</td><td>str</td><td>i64</td><td>str</td><td>str</td><td>f64</td><td>i64</td><td>str</td></tr></thead><tbody><tr><td>7475327</td><td>&quot;2010-01-01 00:01:00&quot;</td><td>1556</td><td>2972</td><td>&quot;$-77.00&quot;</td><td>&quot;Swipe Transaction&quot;</td><td>59935</td><td>&quot;Beulah&quot;</td><td>&quot;ND&quot;</td><td>58523.0</td><td>5499</td><td>null</td></tr><tr><td>7475328</td><td>&quot;2010-01-01 00:02:00&quot;</td><td>561</td><td>4575</td><td>&quot;$14.57&quot;</td><td>&quot;Swipe Transaction&quot;</td><td>67570</td><td>&quot;Bettendorf&quot;</td><td>&quot;IA&quot;</td><td>52722.0</td><td>5311</td><td>null</td></tr><tr><td>7475329</td><td>&quot;2010-01-01 00:02:00&quot;</td><td>1129</td><td>102</td><td>&quot;$80.00&quot;</td><td>&quot;Swipe Transaction&quot;</td><td>27092</td><td>&quot;Vista&quot;</td><td>&quot;CA&quot;</td><td>92084.0</td><td>4829</td><td>null</td></tr><tr><td>7475331</td><td>&quot;2010-01-01 00:05:00&quot;</td><td>430</td><td>2860</td><td>&quot;$200.00&quot;</td><td>&quot;Swipe Transaction&quot;</td><td>27092</td><td>&quot;Crown Point&quot;</td><td>&quot;IN&quot;</td><td>46307.0</td><td>4829</td><td>null</td></tr><tr><td>7475332</td><td>&quot;2010-01-01 00:06:00&quot;</td><td>848</td><td>3915</td><td>&quot;$46.41&quot;</td><td>&quot;Swipe Transaction&quot;</td><td>13051</td><td>&quot;Harwood&quot;</td><td>&quot;MD&quot;</td><td>20776.0</td><td>5813</td><td>null</td></tr></tbody></table></div>"
      ],
      "text/plain": [
       "shape: (5, 12)\n",
       "┌─────────┬────────────┬───────────┬─────────┬───┬────────────────┬─────────┬──────┬────────┐\n",
       "│ id      ┆ date       ┆ client_id ┆ card_id ┆ … ┆ merchant_state ┆ zip     ┆ mcc  ┆ errors │\n",
       "│ ---     ┆ ---        ┆ ---       ┆ ---     ┆   ┆ ---            ┆ ---     ┆ ---  ┆ ---    │\n",
       "│ i64     ┆ str        ┆ i64       ┆ i64     ┆   ┆ str            ┆ f64     ┆ i64  ┆ str    │\n",
       "╞═════════╪════════════╪═══════════╪═════════╪═══╪════════════════╪═════════╪══════╪════════╡\n",
       "│ 7475327 ┆ 2010-01-01 ┆ 1556      ┆ 2972    ┆ … ┆ ND             ┆ 58523.0 ┆ 5499 ┆ null   │\n",
       "│         ┆ 00:01:00   ┆           ┆         ┆   ┆                ┆         ┆      ┆        │\n",
       "│ 7475328 ┆ 2010-01-01 ┆ 561       ┆ 4575    ┆ … ┆ IA             ┆ 52722.0 ┆ 5311 ┆ null   │\n",
       "│         ┆ 00:02:00   ┆           ┆         ┆   ┆                ┆         ┆      ┆        │\n",
       "│ 7475329 ┆ 2010-01-01 ┆ 1129      ┆ 102     ┆ … ┆ CA             ┆ 92084.0 ┆ 4829 ┆ null   │\n",
       "│         ┆ 00:02:00   ┆           ┆         ┆   ┆                ┆         ┆      ┆        │\n",
       "│ 7475331 ┆ 2010-01-01 ┆ 430       ┆ 2860    ┆ … ┆ IN             ┆ 46307.0 ┆ 4829 ┆ null   │\n",
       "│         ┆ 00:05:00   ┆           ┆         ┆   ┆                ┆         ┆      ┆        │\n",
       "│ 7475332 ┆ 2010-01-01 ┆ 848       ┆ 3915    ┆ … ┆ MD             ┆ 20776.0 ┆ 5813 ┆ null   │\n",
       "│         ┆ 00:06:00   ┆           ┆         ┆   ┆                ┆         ┆      ┆        │\n",
       "└─────────┴────────────┴───────────┴─────────┴───┴────────────────┴─────────┴──────┴────────┘"
      ]
     },
     "execution_count": 4,
     "metadata": {},
     "output_type": "execute_result"
    }
   ],
   "source": [
    "polars_df = pl.read_csv(config.TRANSACTIONS_FILE_LOCAL).lazy().collect() \n",
    "polars_df.head()"
   ]
  },
  {
   "cell_type": "code",
   "execution_count": 10,
   "id": "084db3d4",
   "metadata": {},
   "outputs": [],
   "source": [
    "importlib.reload(config)\n",
    "df_2018 = df.query('date >= \"2017-01-01\"')  \n",
    "df_2018.to_csv(config.FILTERED_TRANSACTIONS_FILE_LOCAL, index=False)"
   ]
  },
  {
   "cell_type": "code",
   "execution_count": 12,
   "id": "292a32f1",
   "metadata": {},
   "outputs": [
    {
     "name": "stdout",
     "output_type": "stream",
     "text": [
      "<class 'pandas.core.frame.DataFrame'>\n",
      "Index: 3954066 entries, 9351849 to 13305914\n",
      "Data columns (total 12 columns):\n",
      " #   Column          Non-Null Count    Dtype  \n",
      "---  ------          --------------    -----  \n",
      " 0   id              3954066 non-null  int64  \n",
      " 1   date            3954066 non-null  object \n",
      " 2   client_id       3954066 non-null  int64  \n",
      " 3   card_id         3954066 non-null  int64  \n",
      " 4   amount          3954066 non-null  object \n",
      " 5   use_chip        3954066 non-null  object \n",
      " 6   merchant_id     3954066 non-null  int64  \n",
      " 7   merchant_city   3954066 non-null  object \n",
      " 8   merchant_state  3473293 non-null  object \n",
      " 9   zip             3444171 non-null  float64\n",
      " 10  mcc             3954066 non-null  int64  \n",
      " 11  errors          62903 non-null    object \n",
      "dtypes: float64(1), int64(5), object(6)\n",
      "memory usage: 392.2+ MB\n",
      "{'2017-01-01 00:01:00'}\n"
     ]
    }
   ],
   "source": [
    "df_2018.info(show_counts=True)\n",
    "print({df_2018['date'].min()})"
   ]
  },
  {
   "cell_type": "code",
   "execution_count": 25,
   "id": "f6ae91b4",
   "metadata": {},
   "outputs": [
    {
     "data": {
      "text/plain": [
       "(114128, 4)"
      ]
     },
     "execution_count": 25,
     "metadata": {},
     "output_type": "execute_result"
    }
   ],
   "source": [
    "dim_merchant = df_2018.loc[:,['merchant_id', 'merchant_city', 'merchant_state','mcc']].drop_duplicates()\n",
    "dim_merchant.shape\n"
   ]
  },
  {
   "cell_type": "code",
   "execution_count": 39,
   "id": "3d92dd02",
   "metadata": {},
   "outputs": [
    {
     "name": "stdout",
     "output_type": "stream",
     "text": [
      "<class 'pandas.core.frame.DataFrame'>\n",
      "Index: 114128 entries, 9351849 to 13305819\n",
      "Data columns (total 5 columns):\n",
      " #   Column          Non-Null Count   Dtype \n",
      "---  ------          --------------   ----- \n",
      " 0   merchant_id     114128 non-null  int64 \n",
      " 1   merchant_city   114128 non-null  object\n",
      " 2   merchant_state  114128 non-null  object\n",
      " 3   mcc             114128 non-null  int64 \n",
      " 4   zip             0 non-null       object\n",
      "dtypes: int64(2), object(3)\n",
      "memory usage: 5.2+ MB\n"
     ]
    }
   ],
   "source": [
    "dim_merchant.info()"
   ]
  },
  {
   "cell_type": "code",
   "execution_count": 34,
   "id": "4569ffc9",
   "metadata": {},
   "outputs": [
    {
     "data": {
      "text/plain": [
       "(147, 4)"
      ]
     },
     "execution_count": 34,
     "metadata": {},
     "output_type": "execute_result"
    }
   ],
   "source": [
    "online = dim_merchant.loc[dim_merchant['merchant_state'].isna()]\n",
    "online.shape"
   ]
  },
  {
   "cell_type": "code",
   "execution_count": 37,
   "id": "2707ca9a",
   "metadata": {},
   "outputs": [
    {
     "data": {
      "application/vnd.microsoft.datawrangler.viewer.v0+json": {
       "columns": [
        {
         "name": "index",
         "rawType": "int64",
         "type": "integer"
        },
        {
         "name": "merchant_id",
         "rawType": "int64",
         "type": "integer"
        },
        {
         "name": "merchant_city",
         "rawType": "object",
         "type": "string"
        },
        {
         "name": "merchant_state",
         "rawType": "object",
         "type": "string"
        },
        {
         "name": "mcc",
         "rawType": "int64",
         "type": "integer"
        },
        {
         "name": "zip",
         "rawType": "object",
         "type": "unknown"
        }
       ],
       "ref": "706ab785-b6d5-4eb3-a7ea-986be4d56323",
       "rows": [
        [
         "9351849",
         "39021",
         "ONLINE",
         "ONLINE",
         "4784",
         null
        ],
        [
         "9351850",
         "27092",
         "San Marcos",
         "TX",
         "4829",
         null
        ],
        [
         "9351851",
         "6389",
         "Houston",
         "TX",
         "5300",
         null
        ],
        [
         "9351852",
         "18563",
         "ONLINE",
         "ONLINE",
         "4121",
         null
        ],
        [
         "9351853",
         "61195",
         "Tacoma",
         "WA",
         "5541",
         null
        ],
        [
         "9351854",
         "58215",
         "Cleveland",
         "OH",
         "5813",
         null
        ],
        [
         "9351855",
         "75781",
         "Brooklyn",
         "NY",
         "5411",
         null
        ],
        [
         "9351857",
         "73186",
         "ONLINE",
         "ONLINE",
         "4814",
         null
        ],
        [
         "9351858",
         "27092",
         "Crown Point",
         "IN",
         "4829",
         null
        ],
        [
         "9351859",
         "85986",
         "Jamaica",
         "NY",
         "5812",
         null
        ],
        [
         "9351860",
         "61498",
         "Middleton",
         "WI",
         "5813",
         null
        ],
        [
         "9351861",
         "50867",
         "Columbus",
         "OH",
         "5541",
         null
        ],
        [
         "9351863",
         "36500",
         "Panama City",
         "FL",
         "5812",
         null
        ],
        [
         "9351865",
         "75781",
         "Seymour",
         "IL",
         "5411",
         null
        ],
        [
         "9351866",
         "88646",
         "Vacaville",
         "CA",
         "5812",
         null
        ],
        [
         "9351867",
         "25717",
         "Jacksonville",
         "FL",
         "5812",
         null
        ],
        [
         "9351868",
         "85247",
         "ONLINE",
         "ONLINE",
         "5815",
         null
        ],
        [
         "9351869",
         "7532",
         "Las Vegas",
         "NV",
         "5912",
         null
        ],
        [
         "9351870",
         "37074",
         "Los Angeles",
         "CA",
         "5813",
         null
        ],
        [
         "9351871",
         "7777",
         "Maple Valley",
         "WA",
         "3684",
         null
        ],
        [
         "9351875",
         "726",
         "ONLINE",
         "ONLINE",
         "4900",
         null
        ],
        [
         "9351876",
         "26810",
         "Hickory",
         "NC",
         "5541",
         null
        ],
        [
         "9351877",
         "16798",
         "ONLINE",
         "ONLINE",
         "4121",
         null
        ],
        [
         "9351878",
         "59474",
         "Cincinnati",
         "OH",
         "3722",
         null
        ],
        [
         "9351879",
         "69972",
         "Vacaville",
         "CA",
         "5814",
         null
        ],
        [
         "9351880",
         "51990",
         "Alamo",
         "TX",
         "5812",
         null
        ],
        [
         "9351882",
         "20561",
         "Meridian",
         "ID",
         "5912",
         null
        ],
        [
         "9351884",
         "83229",
         "Destin",
         "FL",
         "5411",
         null
        ],
        [
         "9351885",
         "61195",
         "North Hollywood",
         "CA",
         "5541",
         null
        ],
        [
         "9351889",
         "20519",
         "Rigby",
         "ID",
         "5942",
         null
        ],
        [
         "9351894",
         "12399",
         "Laurel",
         "MT",
         "5813",
         null
        ],
        [
         "9351895",
         "77736",
         "Grand Forks",
         "ND",
         "5921",
         null
        ],
        [
         "9351896",
         "93881",
         "Rosebud",
         "SD",
         "5411",
         null
        ],
        [
         "9351898",
         "82109",
         "Holly",
         "MI",
         "4121",
         null
        ],
        [
         "9351900",
         "86977",
         "Burlington",
         "IA",
         "5813",
         null
        ],
        [
         "9351904",
         "95109",
         "New Kensington",
         "PA",
         "7349",
         null
        ],
        [
         "9351906",
         "54850",
         "Oxford",
         "MS",
         "4814",
         null
        ],
        [
         "9351907",
         "92883",
         "Manasquan",
         "NJ",
         "5812",
         null
        ],
        [
         "9351909",
         "22204",
         "Bronx",
         "NY",
         "5541",
         null
        ],
        [
         "9351910",
         "86616",
         "Sarasota",
         "FL",
         "4814",
         null
        ],
        [
         "9351911",
         "20519",
         "Lorain",
         "OH",
         "5942",
         null
        ],
        [
         "9351912",
         "27868",
         "Geneva",
         "IN",
         "5813",
         null
        ],
        [
         "9351913",
         "6699",
         "Chantilly",
         "VA",
         "7995",
         null
        ],
        [
         "9351914",
         "32858",
         "Scottsdale",
         "AZ",
         "5311",
         null
        ],
        [
         "9351916",
         "71667",
         "Gwynn Oak",
         "MD",
         "7538",
         null
        ],
        [
         "9351917",
         "34490",
         "Lynwood",
         "CA",
         "5719",
         null
        ],
        [
         "9351918",
         "26158",
         "Great Falls",
         "MT",
         "5813",
         null
        ],
        [
         "9351920",
         "75781",
         "Canton",
         "MA",
         "5411",
         null
        ],
        [
         "9351921",
         "39261",
         "ONLINE",
         "ONLINE",
         "5815",
         null
        ],
        [
         "9351922",
         "61453",
         "Saint Thomas",
         "PA",
         "5921",
         null
        ]
       ],
       "shape": {
        "columns": 5,
        "rows": 114128
       }
      },
      "text/html": [
       "<div>\n",
       "<style scoped>\n",
       "    .dataframe tbody tr th:only-of-type {\n",
       "        vertical-align: middle;\n",
       "    }\n",
       "\n",
       "    .dataframe tbody tr th {\n",
       "        vertical-align: top;\n",
       "    }\n",
       "\n",
       "    .dataframe thead th {\n",
       "        text-align: right;\n",
       "    }\n",
       "</style>\n",
       "<table border=\"1\" class=\"dataframe\">\n",
       "  <thead>\n",
       "    <tr style=\"text-align: right;\">\n",
       "      <th></th>\n",
       "      <th>merchant_id</th>\n",
       "      <th>merchant_city</th>\n",
       "      <th>merchant_state</th>\n",
       "      <th>mcc</th>\n",
       "      <th>zip</th>\n",
       "    </tr>\n",
       "  </thead>\n",
       "  <tbody>\n",
       "    <tr>\n",
       "      <th>9351849</th>\n",
       "      <td>39021</td>\n",
       "      <td>ONLINE</td>\n",
       "      <td>ONLINE</td>\n",
       "      <td>4784</td>\n",
       "      <td>NaN</td>\n",
       "    </tr>\n",
       "    <tr>\n",
       "      <th>9351850</th>\n",
       "      <td>27092</td>\n",
       "      <td>San Marcos</td>\n",
       "      <td>TX</td>\n",
       "      <td>4829</td>\n",
       "      <td>NaN</td>\n",
       "    </tr>\n",
       "    <tr>\n",
       "      <th>9351851</th>\n",
       "      <td>6389</td>\n",
       "      <td>Houston</td>\n",
       "      <td>TX</td>\n",
       "      <td>5300</td>\n",
       "      <td>NaN</td>\n",
       "    </tr>\n",
       "    <tr>\n",
       "      <th>9351852</th>\n",
       "      <td>18563</td>\n",
       "      <td>ONLINE</td>\n",
       "      <td>ONLINE</td>\n",
       "      <td>4121</td>\n",
       "      <td>NaN</td>\n",
       "    </tr>\n",
       "    <tr>\n",
       "      <th>9351853</th>\n",
       "      <td>61195</td>\n",
       "      <td>Tacoma</td>\n",
       "      <td>WA</td>\n",
       "      <td>5541</td>\n",
       "      <td>NaN</td>\n",
       "    </tr>\n",
       "    <tr>\n",
       "      <th>...</th>\n",
       "      <td>...</td>\n",
       "      <td>...</td>\n",
       "      <td>...</td>\n",
       "      <td>...</td>\n",
       "      <td>...</td>\n",
       "    </tr>\n",
       "    <tr>\n",
       "      <th>13305644</th>\n",
       "      <td>7688</td>\n",
       "      <td>Olyphant</td>\n",
       "      <td>PA</td>\n",
       "      <td>5812</td>\n",
       "      <td>NaN</td>\n",
       "    </tr>\n",
       "    <tr>\n",
       "      <th>13305702</th>\n",
       "      <td>42245</td>\n",
       "      <td>Mesa</td>\n",
       "      <td>AZ</td>\n",
       "      <td>7538</td>\n",
       "      <td>NaN</td>\n",
       "    </tr>\n",
       "    <tr>\n",
       "      <th>13305737</th>\n",
       "      <td>52038</td>\n",
       "      <td>Gibsonia</td>\n",
       "      <td>PA</td>\n",
       "      <td>5813</td>\n",
       "      <td>NaN</td>\n",
       "    </tr>\n",
       "    <tr>\n",
       "      <th>13305772</th>\n",
       "      <td>87481</td>\n",
       "      <td>Cleveland</td>\n",
       "      <td>OH</td>\n",
       "      <td>8049</td>\n",
       "      <td>NaN</td>\n",
       "    </tr>\n",
       "    <tr>\n",
       "      <th>13305819</th>\n",
       "      <td>72515</td>\n",
       "      <td>King Ferry</td>\n",
       "      <td>NY</td>\n",
       "      <td>5814</td>\n",
       "      <td>NaN</td>\n",
       "    </tr>\n",
       "  </tbody>\n",
       "</table>\n",
       "<p>114128 rows × 5 columns</p>\n",
       "</div>"
      ],
      "text/plain": [
       "          merchant_id merchant_city merchant_state   mcc  zip\n",
       "9351849         39021        ONLINE         ONLINE  4784  NaN\n",
       "9351850         27092    San Marcos             TX  4829  NaN\n",
       "9351851          6389       Houston             TX  5300  NaN\n",
       "9351852         18563        ONLINE         ONLINE  4121  NaN\n",
       "9351853         61195        Tacoma             WA  5541  NaN\n",
       "...               ...           ...            ...   ...  ...\n",
       "13305644         7688      Olyphant             PA  5812  NaN\n",
       "13305702        42245          Mesa             AZ  7538  NaN\n",
       "13305737        52038      Gibsonia             PA  5813  NaN\n",
       "13305772        87481     Cleveland             OH  8049  NaN\n",
       "13305819        72515    King Ferry             NY  5814  NaN\n",
       "\n",
       "[114128 rows x 5 columns]"
      ]
     },
     "execution_count": 37,
     "metadata": {},
     "output_type": "execute_result"
    }
   ],
   "source": [
    "dim_merchant.loc[(dim_merchant['merchant_state'].isna()) & (dim_merchant['merchant_city'] == 'ONLINE'), ['merchant_state','zip']] = 'ONLINE'  \n",
    "dim_merchant"
   ]
  },
  {
   "cell_type": "code",
   "execution_count": 36,
   "id": "70a4697c",
   "metadata": {},
   "outputs": [
    {
     "data": {
      "application/vnd.microsoft.datawrangler.viewer.v0+json": {
       "columns": [
        {
         "name": "index",
         "rawType": "int64",
         "type": "integer"
        },
        {
         "name": "merchant_id",
         "rawType": "int64",
         "type": "integer"
        },
        {
         "name": "merchant_city",
         "rawType": "object",
         "type": "string"
        },
        {
         "name": "merchant_state",
         "rawType": "object",
         "type": "string"
        },
        {
         "name": "mcc",
         "rawType": "int64",
         "type": "integer"
        }
       ],
       "ref": "52b0d589-320c-4c37-aaa4-4de6ce8e6a0b",
       "rows": [
        [
         "9351849",
         "39021",
         "ONLINE",
         "ONLINE",
         "4784"
        ],
        [
         "9351852",
         "18563",
         "ONLINE",
         "ONLINE",
         "4121"
        ],
        [
         "9351857",
         "73186",
         "ONLINE",
         "ONLINE",
         "4814"
        ],
        [
         "9351868",
         "85247",
         "ONLINE",
         "ONLINE",
         "5815"
        ],
        [
         "9351875",
         "726",
         "ONLINE",
         "ONLINE",
         "4900"
        ],
        [
         "9351877",
         "16798",
         "ONLINE",
         "ONLINE",
         "4121"
        ],
        [
         "9351921",
         "39261",
         "ONLINE",
         "ONLINE",
         "5815"
        ],
        [
         "9351948",
         "17976",
         "ONLINE",
         "ONLINE",
         "4900"
        ],
        [
         "9351979",
         "27310",
         "ONLINE",
         "ONLINE",
         "7349"
        ],
        [
         "9351989",
         "9932",
         "ONLINE",
         "ONLINE",
         "5311"
        ],
        [
         "9352022",
         "15143",
         "ONLINE",
         "ONLINE",
         "4784"
        ],
        [
         "9352040",
         "50404",
         "ONLINE",
         "ONLINE",
         "4784"
        ],
        [
         "9352056",
         "37387",
         "ONLINE",
         "ONLINE",
         "4899"
        ],
        [
         "9352073",
         "79050",
         "ONLINE",
         "ONLINE",
         "4900"
        ],
        [
         "9352079",
         "61641",
         "ONLINE",
         "ONLINE",
         "4900"
        ],
        [
         "9352112",
         "41122",
         "ONLINE",
         "ONLINE",
         "4784"
        ],
        [
         "9352164",
         "96246",
         "ONLINE",
         "ONLINE",
         "4784"
        ],
        [
         "9352173",
         "88459",
         "ONLINE",
         "ONLINE",
         "5311"
        ],
        [
         "9352188",
         "87530",
         "ONLINE",
         "ONLINE",
         "4900"
        ],
        [
         "9352253",
         "84682",
         "ONLINE",
         "ONLINE",
         "4900"
        ],
        [
         "9352353",
         "80770",
         "ONLINE",
         "ONLINE",
         "7922"
        ],
        [
         "9352403",
         "96529",
         "ONLINE",
         "ONLINE",
         "4899"
        ],
        [
         "9352416",
         "88998",
         "ONLINE",
         "ONLINE",
         "4784"
        ],
        [
         "9352454",
         "81759",
         "ONLINE",
         "ONLINE",
         "7349"
        ],
        [
         "9352649",
         "94212",
         "ONLINE",
         "ONLINE",
         "7996"
        ],
        [
         "9352802",
         "89949",
         "ONLINE",
         "ONLINE",
         "7996"
        ],
        [
         "9352817",
         "56276",
         "ONLINE",
         "ONLINE",
         "4899"
        ],
        [
         "9352997",
         "51397",
         "ONLINE",
         "ONLINE",
         "5651"
        ],
        [
         "9353014",
         "4802",
         "ONLINE",
         "ONLINE",
         "4899"
        ],
        [
         "9353156",
         "32480",
         "ONLINE",
         "ONLINE",
         "4899"
        ],
        [
         "9353282",
         "52100",
         "ONLINE",
         "ONLINE",
         "7801"
        ],
        [
         "9353339",
         "70129",
         "ONLINE",
         "ONLINE",
         "7801"
        ],
        [
         "9353344",
         "59350",
         "ONLINE",
         "ONLINE",
         "7922"
        ],
        [
         "9353513",
         "47399",
         "ONLINE",
         "ONLINE",
         "5815"
        ],
        [
         "9353981",
         "84554",
         "ONLINE",
         "ONLINE",
         "7801"
        ],
        [
         "9354097",
         "38958",
         "ONLINE",
         "ONLINE",
         "7801"
        ],
        [
         "9354139",
         "34256",
         "ONLINE",
         "ONLINE",
         "7393"
        ],
        [
         "9354193",
         "63579",
         "ONLINE",
         "ONLINE",
         "4900"
        ],
        [
         "9354270",
         "13154",
         "ONLINE",
         "ONLINE",
         "4900"
        ],
        [
         "9354534",
         "50292",
         "ONLINE",
         "ONLINE",
         "7801"
        ],
        [
         "9354627",
         "23446",
         "ONLINE",
         "ONLINE",
         "7801"
        ],
        [
         "9355234",
         "6063",
         "ONLINE",
         "ONLINE",
         "4511"
        ],
        [
         "9355845",
         "94989",
         "ONLINE",
         "ONLINE",
         "5661"
        ],
        [
         "9355862",
         "86369",
         "ONLINE",
         "ONLINE",
         "4899"
        ],
        [
         "9356090",
         "31263",
         "ONLINE",
         "ONLINE",
         "4900"
        ],
        [
         "9356116",
         "43422",
         "ONLINE",
         "ONLINE",
         "6300"
        ],
        [
         "9356782",
         "74587",
         "ONLINE",
         "ONLINE",
         "5192"
        ],
        [
         "9356936",
         "89705",
         "ONLINE",
         "ONLINE",
         "5193"
        ],
        [
         "9357103",
         "45453",
         "ONLINE",
         "ONLINE",
         "6300"
        ],
        [
         "9357351",
         "88746",
         "ONLINE",
         "ONLINE",
         "6300"
        ]
       ],
       "shape": {
        "columns": 4,
        "rows": 147
       }
      },
      "text/html": [
       "<div>\n",
       "<style scoped>\n",
       "    .dataframe tbody tr th:only-of-type {\n",
       "        vertical-align: middle;\n",
       "    }\n",
       "\n",
       "    .dataframe tbody tr th {\n",
       "        vertical-align: top;\n",
       "    }\n",
       "\n",
       "    .dataframe thead th {\n",
       "        text-align: right;\n",
       "    }\n",
       "</style>\n",
       "<table border=\"1\" class=\"dataframe\">\n",
       "  <thead>\n",
       "    <tr style=\"text-align: right;\">\n",
       "      <th></th>\n",
       "      <th>merchant_id</th>\n",
       "      <th>merchant_city</th>\n",
       "      <th>merchant_state</th>\n",
       "      <th>mcc</th>\n",
       "    </tr>\n",
       "  </thead>\n",
       "  <tbody>\n",
       "    <tr>\n",
       "      <th>9351849</th>\n",
       "      <td>39021</td>\n",
       "      <td>ONLINE</td>\n",
       "      <td>ONLINE</td>\n",
       "      <td>4784</td>\n",
       "    </tr>\n",
       "    <tr>\n",
       "      <th>9351852</th>\n",
       "      <td>18563</td>\n",
       "      <td>ONLINE</td>\n",
       "      <td>ONLINE</td>\n",
       "      <td>4121</td>\n",
       "    </tr>\n",
       "    <tr>\n",
       "      <th>9351857</th>\n",
       "      <td>73186</td>\n",
       "      <td>ONLINE</td>\n",
       "      <td>ONLINE</td>\n",
       "      <td>4814</td>\n",
       "    </tr>\n",
       "    <tr>\n",
       "      <th>9351868</th>\n",
       "      <td>85247</td>\n",
       "      <td>ONLINE</td>\n",
       "      <td>ONLINE</td>\n",
       "      <td>5815</td>\n",
       "    </tr>\n",
       "    <tr>\n",
       "      <th>9351875</th>\n",
       "      <td>726</td>\n",
       "      <td>ONLINE</td>\n",
       "      <td>ONLINE</td>\n",
       "      <td>4900</td>\n",
       "    </tr>\n",
       "    <tr>\n",
       "      <th>...</th>\n",
       "      <td>...</td>\n",
       "      <td>...</td>\n",
       "      <td>...</td>\n",
       "      <td>...</td>\n",
       "    </tr>\n",
       "    <tr>\n",
       "      <th>12028681</th>\n",
       "      <td>79927</td>\n",
       "      <td>ONLINE</td>\n",
       "      <td>ONLINE</td>\n",
       "      <td>5912</td>\n",
       "    </tr>\n",
       "    <tr>\n",
       "      <th>12029327</th>\n",
       "      <td>41184</td>\n",
       "      <td>ONLINE</td>\n",
       "      <td>ONLINE</td>\n",
       "      <td>5310</td>\n",
       "    </tr>\n",
       "    <tr>\n",
       "      <th>12029625</th>\n",
       "      <td>65881</td>\n",
       "      <td>ONLINE</td>\n",
       "      <td>ONLINE</td>\n",
       "      <td>5311</td>\n",
       "    </tr>\n",
       "    <tr>\n",
       "      <th>12029783</th>\n",
       "      <td>15426</td>\n",
       "      <td>ONLINE</td>\n",
       "      <td>ONLINE</td>\n",
       "      <td>3390</td>\n",
       "    </tr>\n",
       "    <tr>\n",
       "      <th>12030682</th>\n",
       "      <td>31893</td>\n",
       "      <td>ONLINE</td>\n",
       "      <td>ONLINE</td>\n",
       "      <td>5311</td>\n",
       "    </tr>\n",
       "  </tbody>\n",
       "</table>\n",
       "<p>147 rows × 4 columns</p>\n",
       "</div>"
      ],
      "text/plain": [
       "          merchant_id merchant_city merchant_state   mcc\n",
       "9351849         39021        ONLINE         ONLINE  4784\n",
       "9351852         18563        ONLINE         ONLINE  4121\n",
       "9351857         73186        ONLINE         ONLINE  4814\n",
       "9351868         85247        ONLINE         ONLINE  5815\n",
       "9351875           726        ONLINE         ONLINE  4900\n",
       "...               ...           ...            ...   ...\n",
       "12028681        79927        ONLINE         ONLINE  5912\n",
       "12029327        41184        ONLINE         ONLINE  5310\n",
       "12029625        65881        ONLINE         ONLINE  5311\n",
       "12029783        15426        ONLINE         ONLINE  3390\n",
       "12030682        31893        ONLINE         ONLINE  5311\n",
       "\n",
       "[147 rows x 4 columns]"
      ]
     },
     "execution_count": 36,
     "metadata": {},
     "output_type": "execute_result"
    }
   ],
   "source": [
    "dim_merchant.loc[dim_merchant['merchant_state'] == 'ONLINE']"
   ]
  },
  {
   "cell_type": "code",
   "execution_count": 157,
   "id": "5f6c3da7",
   "metadata": {},
   "outputs": [
    {
     "data": {
      "text/plain": [
       "(197452, 4)"
      ]
     },
     "execution_count": 157,
     "metadata": {},
     "output_type": "execute_result"
    }
   ],
   "source": [
    "dim_merchant.to_csv(config.DIM_MERCHANT_FILE, index=False)\n",
    "dim_merchant.shape"
   ]
  },
  {
   "cell_type": "code",
   "execution_count": 143,
   "id": "2d63e513",
   "metadata": {},
   "outputs": [
    {
     "data": {
      "application/vnd.microsoft.datawrangler.viewer.v0+json": {
       "columns": [
        {
         "name": "index",
         "rawType": "int64",
         "type": "integer"
        },
        {
         "name": "merchant_id",
         "rawType": "int64",
         "type": "integer"
        },
        {
         "name": "merchant_city",
         "rawType": "object",
         "type": "string"
        },
        {
         "name": "merchant_state",
         "rawType": "object",
         "type": "string"
        },
        {
         "name": "mcc",
         "rawType": "int64",
         "type": "integer"
        }
       ],
       "ref": "75a66051-8a8b-42db-a566-9d940dc4c2a2",
       "rows": [
        [
         "0",
         "59935",
         "Beulah",
         "ND",
         "5499"
        ],
        [
         "1",
         "67570",
         "Bettendorf",
         "IA",
         "5311"
        ],
        [
         "2",
         "27092",
         "Vista",
         "CA",
         "4829"
        ],
        [
         "3",
         "27092",
         "Crown Point",
         "IN",
         "4829"
        ],
        [
         "4",
         "13051",
         "Harwood",
         "MD",
         "5813"
        ]
       ],
       "shape": {
        "columns": 4,
        "rows": 5
       }
      },
      "text/html": [
       "<div>\n",
       "<style scoped>\n",
       "    .dataframe tbody tr th:only-of-type {\n",
       "        vertical-align: middle;\n",
       "    }\n",
       "\n",
       "    .dataframe tbody tr th {\n",
       "        vertical-align: top;\n",
       "    }\n",
       "\n",
       "    .dataframe thead th {\n",
       "        text-align: right;\n",
       "    }\n",
       "</style>\n",
       "<table border=\"1\" class=\"dataframe\">\n",
       "  <thead>\n",
       "    <tr style=\"text-align: right;\">\n",
       "      <th></th>\n",
       "      <th>merchant_id</th>\n",
       "      <th>merchant_city</th>\n",
       "      <th>merchant_state</th>\n",
       "      <th>mcc</th>\n",
       "    </tr>\n",
       "  </thead>\n",
       "  <tbody>\n",
       "    <tr>\n",
       "      <th>0</th>\n",
       "      <td>59935</td>\n",
       "      <td>Beulah</td>\n",
       "      <td>ND</td>\n",
       "      <td>5499</td>\n",
       "    </tr>\n",
       "    <tr>\n",
       "      <th>1</th>\n",
       "      <td>67570</td>\n",
       "      <td>Bettendorf</td>\n",
       "      <td>IA</td>\n",
       "      <td>5311</td>\n",
       "    </tr>\n",
       "    <tr>\n",
       "      <th>2</th>\n",
       "      <td>27092</td>\n",
       "      <td>Vista</td>\n",
       "      <td>CA</td>\n",
       "      <td>4829</td>\n",
       "    </tr>\n",
       "    <tr>\n",
       "      <th>3</th>\n",
       "      <td>27092</td>\n",
       "      <td>Crown Point</td>\n",
       "      <td>IN</td>\n",
       "      <td>4829</td>\n",
       "    </tr>\n",
       "    <tr>\n",
       "      <th>4</th>\n",
       "      <td>13051</td>\n",
       "      <td>Harwood</td>\n",
       "      <td>MD</td>\n",
       "      <td>5813</td>\n",
       "    </tr>\n",
       "  </tbody>\n",
       "</table>\n",
       "</div>"
      ],
      "text/plain": [
       "   merchant_id merchant_city merchant_state   mcc\n",
       "0        59935        Beulah             ND  5499\n",
       "1        67570    Bettendorf             IA  5311\n",
       "2        27092         Vista             CA  4829\n",
       "3        27092   Crown Point             IN  4829\n",
       "4        13051       Harwood             MD  5813"
      ]
     },
     "execution_count": 143,
     "metadata": {},
     "output_type": "execute_result"
    }
   ],
   "source": [
    "dim_merchant.head()"
   ]
  },
  {
   "cell_type": "code",
   "execution_count": 109,
   "id": "d02ca6aa",
   "metadata": {},
   "outputs": [
    {
     "data": {
      "application/vnd.microsoft.datawrangler.viewer.v0+json": {
       "columns": [
        {
         "name": "index",
         "rawType": "int64",
         "type": "integer"
        },
        {
         "name": "merchant_state",
         "rawType": "object",
         "type": "string"
        },
        {
         "name": "merchant_city",
         "rawType": "object",
         "type": "string"
        },
        {
         "name": "merchant_id",
         "rawType": "int64",
         "type": "integer"
        }
       ],
       "ref": "d5be4587-a9d1-458d-b92a-2292f0634005",
       "rows": [
        [
         "0",
         "AA",
         "Dpo",
         "1"
        ],
        [
         "1",
         "AK",
         "Anchor Point",
         "1"
        ],
        [
         "2",
         "AK",
         "Anchorage",
         "89"
        ],
        [
         "3",
         "AK",
         "Barrow",
         "7"
        ],
        [
         "4",
         "AK",
         "Bethel",
         "1"
        ],
        [
         "5",
         "AK",
         "Big Lake",
         "3"
        ],
        [
         "6",
         "AK",
         "Chugiak",
         "4"
        ],
        [
         "7",
         "AK",
         "Copper Center",
         "5"
        ],
        [
         "8",
         "AK",
         "Cordova",
         "3"
        ],
        [
         "9",
         "AK",
         "Delta Junction",
         "2"
        ],
        [
         "10",
         "AK",
         "Dillingham",
         "1"
        ],
        [
         "11",
         "AK",
         "Douglas",
         "1"
        ],
        [
         "12",
         "AK",
         "Dutch Harbor",
         "3"
        ],
        [
         "13",
         "AK",
         "Eagle River",
         "8"
        ],
        [
         "14",
         "AK",
         "Fairbanks",
         "30"
        ],
        [
         "15",
         "AK",
         "Fort Wainwright",
         "2"
        ],
        [
         "16",
         "AK",
         "Gustavus",
         "1"
        ],
        [
         "17",
         "AK",
         "Haines",
         "2"
        ],
        [
         "18",
         "AK",
         "Homer",
         "1"
        ],
        [
         "19",
         "AK",
         "Hoonah",
         "1"
        ],
        [
         "20",
         "AK",
         "Hooper Bay",
         "2"
        ],
        [
         "21",
         "AK",
         "Juneau",
         "10"
        ],
        [
         "22",
         "AK",
         "Kasilof",
         "2"
        ],
        [
         "23",
         "AK",
         "Kenai",
         "14"
        ],
        [
         "24",
         "AK",
         "Ketchikan",
         "2"
        ],
        [
         "25",
         "AK",
         "King Salmon",
         "3"
        ],
        [
         "26",
         "AK",
         "Klawock",
         "1"
        ],
        [
         "27",
         "AK",
         "Kodiak",
         "10"
        ],
        [
         "28",
         "AK",
         "Mountain Village",
         "1"
        ],
        [
         "29",
         "AK",
         "Ninilchik",
         "1"
        ],
        [
         "30",
         "AK",
         "Nome",
         "1"
        ],
        [
         "31",
         "AK",
         "North Pole",
         "3"
        ],
        [
         "32",
         "AK",
         "Palmer",
         "12"
        ],
        [
         "33",
         "AK",
         "Petersburg",
         "5"
        ],
        [
         "34",
         "AK",
         "Quinhagak",
         "1"
        ],
        [
         "35",
         "AK",
         "Sitka",
         "6"
        ],
        [
         "36",
         "AK",
         "Skagway",
         "1"
        ],
        [
         "37",
         "AK",
         "Soldotna",
         "9"
        ],
        [
         "38",
         "AK",
         "Talkeetna",
         "1"
        ],
        [
         "39",
         "AK",
         "Tok",
         "2"
        ],
        [
         "40",
         "AK",
         "Unalaska",
         "1"
        ],
        [
         "41",
         "AK",
         "Valdez",
         "11"
        ],
        [
         "42",
         "AK",
         "Ward Cove",
         "8"
        ],
        [
         "43",
         "AK",
         "Wasilla",
         "33"
        ],
        [
         "44",
         "AK",
         "Willow",
         "1"
        ],
        [
         "45",
         "AK",
         "Yakutat",
         "1"
        ],
        [
         "46",
         "AL",
         "Abbeville",
         "4"
        ],
        [
         "47",
         "AL",
         "Adamsville",
         "1"
        ],
        [
         "48",
         "AL",
         "Adger",
         "2"
        ],
        [
         "49",
         "AL",
         "Alabaster",
         "9"
        ]
       ],
       "shape": {
        "columns": 3,
        "rows": 18638
       }
      },
      "text/html": [
       "<div>\n",
       "<style scoped>\n",
       "    .dataframe tbody tr th:only-of-type {\n",
       "        vertical-align: middle;\n",
       "    }\n",
       "\n",
       "    .dataframe tbody tr th {\n",
       "        vertical-align: top;\n",
       "    }\n",
       "\n",
       "    .dataframe thead th {\n",
       "        text-align: right;\n",
       "    }\n",
       "</style>\n",
       "<table border=\"1\" class=\"dataframe\">\n",
       "  <thead>\n",
       "    <tr style=\"text-align: right;\">\n",
       "      <th></th>\n",
       "      <th>merchant_state</th>\n",
       "      <th>merchant_city</th>\n",
       "      <th>merchant_id</th>\n",
       "    </tr>\n",
       "  </thead>\n",
       "  <tbody>\n",
       "    <tr>\n",
       "      <th>0</th>\n",
       "      <td>AA</td>\n",
       "      <td>Dpo</td>\n",
       "      <td>1</td>\n",
       "    </tr>\n",
       "    <tr>\n",
       "      <th>1</th>\n",
       "      <td>AK</td>\n",
       "      <td>Anchor Point</td>\n",
       "      <td>1</td>\n",
       "    </tr>\n",
       "    <tr>\n",
       "      <th>2</th>\n",
       "      <td>AK</td>\n",
       "      <td>Anchorage</td>\n",
       "      <td>89</td>\n",
       "    </tr>\n",
       "    <tr>\n",
       "      <th>3</th>\n",
       "      <td>AK</td>\n",
       "      <td>Barrow</td>\n",
       "      <td>7</td>\n",
       "    </tr>\n",
       "    <tr>\n",
       "      <th>4</th>\n",
       "      <td>AK</td>\n",
       "      <td>Bethel</td>\n",
       "      <td>1</td>\n",
       "    </tr>\n",
       "    <tr>\n",
       "      <th>...</th>\n",
       "      <td>...</td>\n",
       "      <td>...</td>\n",
       "      <td>...</td>\n",
       "    </tr>\n",
       "    <tr>\n",
       "      <th>18633</th>\n",
       "      <td>WY</td>\n",
       "      <td>Worland</td>\n",
       "      <td>8</td>\n",
       "    </tr>\n",
       "    <tr>\n",
       "      <th>18634</th>\n",
       "      <td>WY</td>\n",
       "      <td>Wright</td>\n",
       "      <td>2</td>\n",
       "    </tr>\n",
       "    <tr>\n",
       "      <th>18635</th>\n",
       "      <td>Yemen</td>\n",
       "      <td>Sanaa</td>\n",
       "      <td>3</td>\n",
       "    </tr>\n",
       "    <tr>\n",
       "      <th>18636</th>\n",
       "      <td>Zambia</td>\n",
       "      <td>Lusaka</td>\n",
       "      <td>5</td>\n",
       "    </tr>\n",
       "    <tr>\n",
       "      <th>18637</th>\n",
       "      <td>Zimbabwe</td>\n",
       "      <td>Harare</td>\n",
       "      <td>4</td>\n",
       "    </tr>\n",
       "  </tbody>\n",
       "</table>\n",
       "<p>18638 rows × 3 columns</p>\n",
       "</div>"
      ],
      "text/plain": [
       "      merchant_state merchant_city  merchant_id\n",
       "0                 AA           Dpo            1\n",
       "1                 AK  Anchor Point            1\n",
       "2                 AK     Anchorage           89\n",
       "3                 AK        Barrow            7\n",
       "4                 AK        Bethel            1\n",
       "...              ...           ...          ...\n",
       "18633             WY       Worland            8\n",
       "18634             WY        Wright            2\n",
       "18635          Yemen         Sanaa            3\n",
       "18636         Zambia        Lusaka            5\n",
       "18637       Zimbabwe        Harare            4\n",
       "\n",
       "[18638 rows x 3 columns]"
      ]
     },
     "execution_count": 109,
     "metadata": {},
     "output_type": "execute_result"
    }
   ],
   "source": [
    "dim_merchant.groupby(['merchant_state','merchant_city'])['merchant_id'].nunique().reset_index()"
   ]
  },
  {
   "cell_type": "code",
   "execution_count": 111,
   "id": "a15ba994",
   "metadata": {},
   "outputs": [
    {
     "data": {
      "text/plain": [
       "(74831,)"
      ]
     },
     "execution_count": 111,
     "metadata": {},
     "output_type": "execute_result"
    }
   ],
   "source": [
    "dim_merchant['merchant_id'].unique().shape"
   ]
  },
  {
   "cell_type": "code",
   "execution_count": 67,
   "id": "d0531266",
   "metadata": {},
   "outputs": [
    {
     "data": {
      "application/vnd.microsoft.datawrangler.viewer.v0+json": {
       "columns": [
        {
         "name": "index",
         "rawType": "int64",
         "type": "integer"
        },
        {
         "name": "id",
         "rawType": "int64",
         "type": "integer"
        },
        {
         "name": "date",
         "rawType": "datetime64[ns]",
         "type": "datetime"
        },
        {
         "name": "client_id",
         "rawType": "int64",
         "type": "integer"
        },
        {
         "name": "card_id",
         "rawType": "int64",
         "type": "integer"
        },
        {
         "name": "amount",
         "rawType": "object",
         "type": "string"
        },
        {
         "name": "use_chip",
         "rawType": "object",
         "type": "string"
        },
        {
         "name": "merchant_id",
         "rawType": "int64",
         "type": "integer"
        },
        {
         "name": "merchant_city",
         "rawType": "object",
         "type": "string"
        },
        {
         "name": "merchant_state",
         "rawType": "object",
         "type": "string"
        },
        {
         "name": "zip",
         "rawType": "float64",
         "type": "float"
        },
        {
         "name": "mcc",
         "rawType": "int64",
         "type": "integer"
        },
        {
         "name": "errors",
         "rawType": "object",
         "type": "unknown"
        }
       ],
       "ref": "a551af99-0e7e-49ee-94fe-979541b9fbcc",
       "rows": [
        [
         "11452949",
         "21470128",
         "2018-07-03 15:44:00",
         "1752",
         "3880",
         "$33.24",
         "Chip Transaction",
         "59935",
         "Abbeville",
         "LA",
         "70510.0",
         "5499",
         null
        ],
        [
         "12992421",
         "23374480",
         "2019-08-10 15:18:00",
         "1752",
         "3880",
         "$33.00",
         "Chip Transaction",
         "59935",
         "Abbeville",
         "LA",
         "70510.0",
         "5499",
         null
        ],
        [
         "12992404",
         "23374458",
         "2019-08-10 15:14:00",
         "1752",
         "3880",
         "$73.00",
         "Chip Transaction",
         "59935",
         "Abbeville",
         "LA",
         "70510.0",
         "5499",
         null
        ],
        [
         "12992364",
         "23374414",
         "2019-08-10 15:06:00",
         "1752",
         "3880",
         "$-73.00",
         "Chip Transaction",
         "59935",
         "Abbeville",
         "LA",
         "70510.0",
         "5499",
         "Bad PIN"
        ],
        [
         "12453555",
         "22707922",
         "2019-03-22 15:39:00",
         "1752",
         "3880",
         "$-94.00",
         "Chip Transaction",
         "59935",
         "Abbeville",
         "LA",
         "70510.0",
         "5499",
         null
        ],
        [
         "12453591",
         "22707968",
         "2019-03-22 15:47:00",
         "1752",
         "3880",
         "$94.00",
         "Chip Transaction",
         "59935",
         "Abbeville",
         "LA",
         "70510.0",
         "5499",
         null
        ],
        [
         "12453601",
         "22707980",
         "2019-03-22 15:49:00",
         "1752",
         "3880",
         "$36.67",
         "Chip Transaction",
         "59935",
         "Abbeville",
         "LA",
         "70510.0",
         "5499",
         null
        ],
        [
         "11392315",
         "21395166",
         "2018-06-17 15:55:00",
         "1752",
         "3880",
         "$-70.00",
         "Chip Transaction",
         "59935",
         "Abbeville",
         "LA",
         "70510.0",
         "5499",
         null
        ],
        [
         "11392283",
         "21395129",
         "2018-06-17 15:47:00",
         "1752",
         "3880",
         "$70.00",
         "Chip Transaction",
         "59935",
         "Abbeville",
         "LA",
         "70510.0",
         "5499",
         null
        ],
        [
         "11392269",
         "21395108",
         "2018-06-17 15:44:00",
         "1752",
         "3880",
         "$17.04",
         "Chip Transaction",
         "59935",
         "Abbeville",
         "LA",
         "70510.0",
         "5499",
         null
        ],
        [
         "9948073",
         "19615008",
         "2017-06-05 15:43:00",
         "1752",
         "3880",
         "$-94.00",
         "Chip Transaction",
         "59935",
         "Abbeville",
         "LA",
         "70510.0",
         "5499",
         null
        ],
        [
         "9948053",
         "19614979",
         "2017-06-05 15:36:00",
         "1752",
         "3880",
         "$34.98",
         "Chip Transaction",
         "59935",
         "Abbeville",
         "LA",
         "70510.0",
         "5499",
         null
        ],
        [
         "9948048",
         "19614971",
         "2017-06-05 15:34:00",
         "1752",
         "3880",
         "$94.00",
         "Chip Transaction",
         "59935",
         "Abbeville",
         "LA",
         "70510.0",
         "5499",
         null
        ],
        [
         "10734615",
         "20584580",
         "2017-12-27 15:33:00",
         "1752",
         "3880",
         "$52.00",
         "Chip Transaction",
         "59935",
         "Abbeville",
         "LA",
         "70510.0",
         "5499",
         null
        ],
        [
         "10734681",
         "20584658",
         "2017-12-27 15:46:00",
         "1752",
         "3880",
         "$32.44",
         "Chip Transaction",
         "59935",
         "Abbeville",
         "LA",
         "70510.0",
         "5499",
         null
        ],
        [
         "12441911",
         "22693483",
         "2019-03-19 15:26:00",
         "1752",
         "3880",
         "$-96.00",
         "Chip Transaction",
         "59935",
         "Abbeville",
         "LA",
         "70510.0",
         "5499",
         null
        ],
        [
         "10734699",
         "20584680",
         "2017-12-27 15:51:00",
         "1752",
         "3880",
         "$-52.00",
         "Chip Transaction",
         "59935",
         "Abbeville",
         "LA",
         "70510.0",
         "5499",
         null
        ],
        [
         "11384493",
         "21385384",
         "2018-06-15 15:51:00",
         "1752",
         "3880",
         "$95.00",
         "Chip Transaction",
         "59935",
         "Abbeville",
         "LA",
         "70510.0",
         "5499",
         null
        ],
        [
         "11384454",
         "21385339",
         "2018-06-15 15:42:00",
         "1752",
         "3880",
         "$-95.00",
         "Chip Transaction",
         "59935",
         "Abbeville",
         "LA",
         "70510.0",
         "5499",
         null
        ],
        [
         "9940997",
         "19606288",
         "2017-06-03 15:47:00",
         "1752",
         "3880",
         "$35.89",
         "Chip Transaction",
         "59935",
         "Abbeville",
         "LA",
         "70510.0",
         "5499",
         null
        ],
        [
         "9940986",
         "19606275",
         "2017-06-03 15:45:00",
         "1752",
         "3880",
         "$55.00",
         "Chip Transaction",
         "59935",
         "Abbeville",
         "LA",
         "70510.0",
         "5499",
         null
        ],
        [
         "9940944",
         "19606219",
         "2017-06-03 15:35:00",
         "1752",
         "3880",
         "$-55.00",
         "Chip Transaction",
         "59935",
         "Abbeville",
         "LA",
         "70510.0",
         "5499",
         null
        ],
        [
         "12988659",
         "23369832",
         "2019-08-09 15:52:00",
         "1752",
         "3880",
         "$-97.00",
         "Chip Transaction",
         "59935",
         "Abbeville",
         "LA",
         "70510.0",
         "5499",
         null
        ],
        [
         "12988652",
         "23369823",
         "2019-08-09 15:49:00",
         "1752",
         "3880",
         "$31.79",
         "Chip Transaction",
         "59935",
         "Abbeville",
         "LA",
         "70510.0",
         "5499",
         null
        ],
        [
         "12988643",
         "23369812",
         "2019-08-09 15:47:00",
         "1752",
         "3880",
         "$97.00",
         "Chip Transaction",
         "59935",
         "Abbeville",
         "LA",
         "70510.0",
         "5499",
         null
        ],
        [
         "9936902",
         "19601256",
         "2017-06-02 15:35:00",
         "1752",
         "3880",
         "$82.00",
         "Chip Transaction",
         "59935",
         "Abbeville",
         "LA",
         "70510.0",
         "5499",
         null
        ],
        [
         "9936893",
         "19601245",
         "2017-06-02 15:33:00",
         "1752",
         "3880",
         "$41.35",
         "Chip Transaction",
         "59935",
         "Abbeville",
         "LA",
         "70510.0",
         "5499",
         null
        ],
        [
         "9936877",
         "19601227",
         "2017-06-02 15:30:00",
         "1752",
         "3880",
         "$-82.00",
         "Chip Transaction",
         "59935",
         "Abbeville",
         "LA",
         "70510.0",
         "5499",
         null
        ],
        [
         "12476122",
         "22735933",
         "2019-03-28 15:35:00",
         "1752",
         "3880",
         "$34.57",
         "Chip Transaction",
         "59935",
         "Abbeville",
         "LA",
         "70510.0",
         "5499",
         null
        ],
        [
         "12476168",
         "22735996",
         "2019-03-28 15:48:00",
         "1752",
         "3880",
         "$51.00",
         "Chip Transaction",
         "59935",
         "Abbeville",
         "LA",
         "70510.0",
         "5499",
         null
        ],
        [
         "12476210",
         "22736063",
         "2019-03-28 15:59:00",
         "1752",
         "3880",
         "$-51.00",
         "Chip Transaction",
         "59935",
         "Abbeville",
         "LA",
         "70510.0",
         "5499",
         null
        ],
        [
         "11384529",
         "21385426",
         "2018-06-15 15:58:00",
         "1752",
         "3880",
         "$31.11",
         "Chip Transaction",
         "59935",
         "Abbeville",
         "LA",
         "70510.0",
         "5499",
         null
        ],
        [
         "12441825",
         "22693380",
         "2019-03-19 15:08:00",
         "1752",
         "3880",
         "$34.96",
         "Chip Transaction",
         "59935",
         "Abbeville",
         "LA",
         "70510.0",
         "5499",
         null
        ],
        [
         "12441820",
         "22693374",
         "2019-03-19 15:07:00",
         "1752",
         "3880",
         "$96.00",
         "Chip Transaction",
         "59935",
         "Abbeville",
         "LA",
         "70510.0",
         "5499",
         null
        ],
        [
         "11407164",
         "21413512",
         "2018-06-21 15:31:00",
         "1752",
         "3880",
         "$36.39",
         "Chip Transaction",
         "59935",
         "Abbeville",
         "LA",
         "70510.0",
         "5499",
         null
        ],
        [
         "9978997",
         "19653072",
         "2017-06-13 15:40:00",
         "1752",
         "3880",
         "$98.00",
         "Chip Transaction",
         "59935",
         "Abbeville",
         "LA",
         "70510.0",
         "5499",
         null
        ],
        [
         "9978969",
         "19653036",
         "2017-06-13 15:33:00",
         "1752",
         "3880",
         "$-98.00",
         "Chip Transaction",
         "59935",
         "Abbeville",
         "LA",
         "70510.0",
         "5499",
         null
        ],
        [
         "9975067",
         "19648267",
         "2017-06-12 15:51:00",
         "1752",
         "3880",
         "$-75.00",
         "Chip Transaction",
         "59935",
         "Abbeville",
         "LA",
         "70510.0",
         "5499",
         null
        ],
        [
         "9975066",
         "19648268",
         "2017-06-12 15:51:00",
         "1752",
         "3880",
         "$32.40",
         "Chip Transaction",
         "59935",
         "Abbeville",
         "LA",
         "70510.0",
         "5499",
         null
        ],
        [
         "9975043",
         "19648236",
         "2017-06-12 15:43:00",
         "1752",
         "3880",
         "$75.00",
         "Chip Transaction",
         "59935",
         "Abbeville",
         "LA",
         "70510.0",
         "5499",
         null
        ],
        [
         "10707637",
         "20551408",
         "2017-12-20 15:30:00",
         "1752",
         "3880",
         "$-76.00",
         "Chip Transaction",
         "59935",
         "Abbeville",
         "LA",
         "70510.0",
         "5499",
         null
        ],
        [
         "10707662",
         "20551440",
         "2017-12-20 15:36:00",
         "1752",
         "3880",
         "$76.00",
         "Chip Transaction",
         "59935",
         "Abbeville",
         "LA",
         "70510.0",
         "5499",
         null
        ],
        [
         "10707703",
         "20551490",
         "2017-12-20 15:46:00",
         "1752",
         "3880",
         "$37.37",
         "Chip Transaction",
         "59935",
         "Abbeville",
         "LA",
         "70510.0",
         "5499",
         null
        ],
        [
         "11418809",
         "21427905",
         "2018-06-24 15:24:00",
         "1752",
         "3880",
         "$38.90",
         "Chip Transaction",
         "59935",
         "Abbeville",
         "LA",
         "70510.0",
         "5499",
         null
        ],
        [
         "11418798",
         "21427887",
         "2018-06-24 15:21:00",
         "1752",
         "3880",
         "$58.00",
         "Chip Transaction",
         "59935",
         "Abbeville",
         "LA",
         "70510.0",
         "5499",
         null
        ],
        [
         "11418793",
         "21427882",
         "2018-06-24 15:20:00",
         "1752",
         "3880",
         "$38.90",
         "Chip Transaction",
         "59935",
         "Abbeville",
         "LA",
         "70510.0",
         "5499",
         "Bad PIN"
        ],
        [
         "11418785",
         "21427872",
         "2018-06-24 15:18:00",
         "1752",
         "3880",
         "$63.00",
         "Chip Transaction",
         "59935",
         "Abbeville",
         "LA",
         "70510.0",
         "5499",
         null
        ],
        [
         "11418778",
         "21427862",
         "2018-06-24 15:17:00",
         "1752",
         "3880",
         "$-63.00",
         "Chip Transaction",
         "59935",
         "Abbeville",
         "LA",
         "70510.0",
         "5499",
         null
        ],
        [
         "11418747",
         "21427826",
         "2018-06-24 15:08:00",
         "1752",
         "3880",
         "$-58.00",
         "Chip Transaction",
         "59935",
         "Abbeville",
         "LA",
         "70510.0",
         "5499",
         null
        ],
        [
         "12418711",
         "22664659",
         "2019-03-13 15:43:00",
         "1752",
         "3880",
         "$46.22",
         "Chip Transaction",
         "59935",
         "Abbeville",
         "LA",
         "70510.0",
         "5499",
         null
        ]
       ],
       "shape": {
        "columns": 12,
        "rows": 179341
       }
      },
      "text/html": [
       "<div>\n",
       "<style scoped>\n",
       "    .dataframe tbody tr th:only-of-type {\n",
       "        vertical-align: middle;\n",
       "    }\n",
       "\n",
       "    .dataframe tbody tr th {\n",
       "        vertical-align: top;\n",
       "    }\n",
       "\n",
       "    .dataframe thead th {\n",
       "        text-align: right;\n",
       "    }\n",
       "</style>\n",
       "<table border=\"1\" class=\"dataframe\">\n",
       "  <thead>\n",
       "    <tr style=\"text-align: right;\">\n",
       "      <th></th>\n",
       "      <th>id</th>\n",
       "      <th>date</th>\n",
       "      <th>client_id</th>\n",
       "      <th>card_id</th>\n",
       "      <th>amount</th>\n",
       "      <th>use_chip</th>\n",
       "      <th>merchant_id</th>\n",
       "      <th>merchant_city</th>\n",
       "      <th>merchant_state</th>\n",
       "      <th>zip</th>\n",
       "      <th>mcc</th>\n",
       "      <th>errors</th>\n",
       "    </tr>\n",
       "  </thead>\n",
       "  <tbody>\n",
       "    <tr>\n",
       "      <th>11452949</th>\n",
       "      <td>21470128</td>\n",
       "      <td>2018-07-03 15:44:00</td>\n",
       "      <td>1752</td>\n",
       "      <td>3880</td>\n",
       "      <td>$33.24</td>\n",
       "      <td>Chip Transaction</td>\n",
       "      <td>59935</td>\n",
       "      <td>Abbeville</td>\n",
       "      <td>LA</td>\n",
       "      <td>70510.0</td>\n",
       "      <td>5499</td>\n",
       "      <td>NaN</td>\n",
       "    </tr>\n",
       "    <tr>\n",
       "      <th>12992421</th>\n",
       "      <td>23374480</td>\n",
       "      <td>2019-08-10 15:18:00</td>\n",
       "      <td>1752</td>\n",
       "      <td>3880</td>\n",
       "      <td>$33.00</td>\n",
       "      <td>Chip Transaction</td>\n",
       "      <td>59935</td>\n",
       "      <td>Abbeville</td>\n",
       "      <td>LA</td>\n",
       "      <td>70510.0</td>\n",
       "      <td>5499</td>\n",
       "      <td>NaN</td>\n",
       "    </tr>\n",
       "    <tr>\n",
       "      <th>12992404</th>\n",
       "      <td>23374458</td>\n",
       "      <td>2019-08-10 15:14:00</td>\n",
       "      <td>1752</td>\n",
       "      <td>3880</td>\n",
       "      <td>$73.00</td>\n",
       "      <td>Chip Transaction</td>\n",
       "      <td>59935</td>\n",
       "      <td>Abbeville</td>\n",
       "      <td>LA</td>\n",
       "      <td>70510.0</td>\n",
       "      <td>5499</td>\n",
       "      <td>NaN</td>\n",
       "    </tr>\n",
       "    <tr>\n",
       "      <th>12992364</th>\n",
       "      <td>23374414</td>\n",
       "      <td>2019-08-10 15:06:00</td>\n",
       "      <td>1752</td>\n",
       "      <td>3880</td>\n",
       "      <td>$-73.00</td>\n",
       "      <td>Chip Transaction</td>\n",
       "      <td>59935</td>\n",
       "      <td>Abbeville</td>\n",
       "      <td>LA</td>\n",
       "      <td>70510.0</td>\n",
       "      <td>5499</td>\n",
       "      <td>Bad PIN</td>\n",
       "    </tr>\n",
       "    <tr>\n",
       "      <th>12453555</th>\n",
       "      <td>22707922</td>\n",
       "      <td>2019-03-22 15:39:00</td>\n",
       "      <td>1752</td>\n",
       "      <td>3880</td>\n",
       "      <td>$-94.00</td>\n",
       "      <td>Chip Transaction</td>\n",
       "      <td>59935</td>\n",
       "      <td>Abbeville</td>\n",
       "      <td>LA</td>\n",
       "      <td>70510.0</td>\n",
       "      <td>5499</td>\n",
       "      <td>NaN</td>\n",
       "    </tr>\n",
       "    <tr>\n",
       "      <th>...</th>\n",
       "      <td>...</td>\n",
       "      <td>...</td>\n",
       "      <td>...</td>\n",
       "      <td>...</td>\n",
       "      <td>...</td>\n",
       "      <td>...</td>\n",
       "      <td>...</td>\n",
       "      <td>...</td>\n",
       "      <td>...</td>\n",
       "      <td>...</td>\n",
       "      <td>...</td>\n",
       "      <td>...</td>\n",
       "    </tr>\n",
       "    <tr>\n",
       "      <th>12145825</th>\n",
       "      <td>22326308</td>\n",
       "      <td>2018-12-31 22:12:00</td>\n",
       "      <td>194</td>\n",
       "      <td>4273</td>\n",
       "      <td>$-95.00</td>\n",
       "      <td>Chip Transaction</td>\n",
       "      <td>59935</td>\n",
       "      <td>Zanesville</td>\n",
       "      <td>OH</td>\n",
       "      <td>43701.0</td>\n",
       "      <td>5499</td>\n",
       "      <td>NaN</td>\n",
       "    </tr>\n",
       "    <tr>\n",
       "      <th>12145832</th>\n",
       "      <td>22326315</td>\n",
       "      <td>2018-12-31 22:15:00</td>\n",
       "      <td>194</td>\n",
       "      <td>4273</td>\n",
       "      <td>$26.09</td>\n",
       "      <td>Chip Transaction</td>\n",
       "      <td>59935</td>\n",
       "      <td>Zanesville</td>\n",
       "      <td>OH</td>\n",
       "      <td>43701.0</td>\n",
       "      <td>5499</td>\n",
       "      <td>NaN</td>\n",
       "    </tr>\n",
       "    <tr>\n",
       "      <th>12134693</th>\n",
       "      <td>22312572</td>\n",
       "      <td>2018-12-28 22:04:00</td>\n",
       "      <td>194</td>\n",
       "      <td>5587</td>\n",
       "      <td>$71.00</td>\n",
       "      <td>Swipe Transaction</td>\n",
       "      <td>59935</td>\n",
       "      <td>Zanesville</td>\n",
       "      <td>OH</td>\n",
       "      <td>43701.0</td>\n",
       "      <td>5499</td>\n",
       "      <td>NaN</td>\n",
       "    </tr>\n",
       "    <tr>\n",
       "      <th>12142447</th>\n",
       "      <td>22322114</td>\n",
       "      <td>2018-12-30 22:29:00</td>\n",
       "      <td>194</td>\n",
       "      <td>4273</td>\n",
       "      <td>$83.00</td>\n",
       "      <td>Chip Transaction</td>\n",
       "      <td>59935</td>\n",
       "      <td>Zanesville</td>\n",
       "      <td>OH</td>\n",
       "      <td>43701.0</td>\n",
       "      <td>5499</td>\n",
       "      <td>NaN</td>\n",
       "    </tr>\n",
       "    <tr>\n",
       "      <th>11817685</th>\n",
       "      <td>21920575</td>\n",
       "      <td>2018-10-06 20:50:00</td>\n",
       "      <td>1919</td>\n",
       "      <td>5430</td>\n",
       "      <td>$9.62</td>\n",
       "      <td>Chip Transaction</td>\n",
       "      <td>59935</td>\n",
       "      <td>Zurich</td>\n",
       "      <td>Switzerland</td>\n",
       "      <td>NaN</td>\n",
       "      <td>5499</td>\n",
       "      <td>NaN</td>\n",
       "    </tr>\n",
       "  </tbody>\n",
       "</table>\n",
       "<p>179341 rows × 12 columns</p>\n",
       "</div>"
      ],
      "text/plain": [
       "                id                date  client_id  card_id   amount  \\\n",
       "11452949  21470128 2018-07-03 15:44:00       1752     3880   $33.24   \n",
       "12992421  23374480 2019-08-10 15:18:00       1752     3880   $33.00   \n",
       "12992404  23374458 2019-08-10 15:14:00       1752     3880   $73.00   \n",
       "12992364  23374414 2019-08-10 15:06:00       1752     3880  $-73.00   \n",
       "12453555  22707922 2019-03-22 15:39:00       1752     3880  $-94.00   \n",
       "...            ...                 ...        ...      ...      ...   \n",
       "12145825  22326308 2018-12-31 22:12:00        194     4273  $-95.00   \n",
       "12145832  22326315 2018-12-31 22:15:00        194     4273   $26.09   \n",
       "12134693  22312572 2018-12-28 22:04:00        194     5587   $71.00   \n",
       "12142447  22322114 2018-12-30 22:29:00        194     4273   $83.00   \n",
       "11817685  21920575 2018-10-06 20:50:00       1919     5430    $9.62   \n",
       "\n",
       "                   use_chip  merchant_id merchant_city merchant_state  \\\n",
       "11452949   Chip Transaction        59935     Abbeville             LA   \n",
       "12992421   Chip Transaction        59935     Abbeville             LA   \n",
       "12992404   Chip Transaction        59935     Abbeville             LA   \n",
       "12992364   Chip Transaction        59935     Abbeville             LA   \n",
       "12453555   Chip Transaction        59935     Abbeville             LA   \n",
       "...                     ...          ...           ...            ...   \n",
       "12145825   Chip Transaction        59935    Zanesville             OH   \n",
       "12145832   Chip Transaction        59935    Zanesville             OH   \n",
       "12134693  Swipe Transaction        59935    Zanesville             OH   \n",
       "12142447   Chip Transaction        59935    Zanesville             OH   \n",
       "11817685   Chip Transaction        59935        Zurich    Switzerland   \n",
       "\n",
       "              zip   mcc   errors  \n",
       "11452949  70510.0  5499      NaN  \n",
       "12992421  70510.0  5499      NaN  \n",
       "12992404  70510.0  5499      NaN  \n",
       "12992364  70510.0  5499  Bad PIN  \n",
       "12453555  70510.0  5499      NaN  \n",
       "...           ...   ...      ...  \n",
       "12145825  43701.0  5499      NaN  \n",
       "12145832  43701.0  5499      NaN  \n",
       "12134693  43701.0  5499      NaN  \n",
       "12142447  43701.0  5499      NaN  \n",
       "11817685      NaN  5499      NaN  \n",
       "\n",
       "[179341 rows x 12 columns]"
      ]
     },
     "execution_count": 67,
     "metadata": {},
     "output_type": "execute_result"
    }
   ],
   "source": [
    "df.loc[df['merchant_id'] == 59935,:].sort_values(by='merchant_city', ascending=True)"
   ]
  },
  {
   "cell_type": "code",
   "execution_count": 62,
   "id": "cc9159b4",
   "metadata": {},
   "outputs": [
    {
     "data": {
      "application/vnd.microsoft.datawrangler.viewer.v0+json": {
       "columns": [
        {
         "name": "index",
         "rawType": "int64",
         "type": "integer"
        },
        {
         "name": "merchant_id",
         "rawType": "int64",
         "type": "integer"
        },
        {
         "name": "merchant_city",
         "rawType": "object",
         "type": "string"
        },
        {
         "name": "merchant_state",
         "rawType": "object",
         "type": "string"
        }
       ],
       "ref": "bd28da36-353b-490f-abe1-3c4fbfc64964",
       "rows": [
        [
         "9373948",
         "59935",
         "Abbeville",
         "LA"
        ],
        [
         "9373896",
         "59935",
         "Aberdeen",
         "MD"
        ],
        [
         "9364780",
         "59935",
         "Abilene",
         "TX"
        ],
        [
         "12008354",
         "59935",
         "Absecon",
         "NJ"
        ],
        [
         "10710269",
         "59935",
         "Acapulco",
         "Mexico"
        ],
        [
         "9355239",
         "59935",
         "Acworth",
         "GA"
        ],
        [
         "9368305",
         "59935",
         "Adams",
         "WI"
        ],
        [
         "12764358",
         "59935",
         "Addison",
         "IL"
        ],
        [
         "11795284",
         "59935",
         "Adelanto",
         "CA"
        ],
        [
         "9688608",
         "59935",
         "Adrian",
         "MI"
        ],
        [
         "10428689",
         "59935",
         "Afton",
         "OK"
        ],
        [
         "11742861",
         "59935",
         "Agoura Hills",
         "CA"
        ],
        [
         "12546497",
         "59935",
         "Akron",
         "OH"
        ],
        [
         "12925861",
         "59935",
         "Akron",
         "IN"
        ],
        [
         "9999040",
         "59935",
         "Alamo",
         "CA"
        ],
        [
         "9567030",
         "59935",
         "Albany",
         "NY"
        ],
        [
         "9394950",
         "59935",
         "Albany",
         "GA"
        ],
        [
         "9428007",
         "59935",
         "Albuquerque",
         "NM"
        ],
        [
         "9354348",
         "59935",
         "Alburtis",
         "PA"
        ],
        [
         "9353190",
         "59935",
         "Alexander",
         "AR"
        ],
        [
         "10109959",
         "59935",
         "Alexandria",
         "VA"
        ],
        [
         "11386915",
         "59935",
         "Algonquin",
         "IL"
        ],
        [
         "9353395",
         "59935",
         "Alhambra",
         "CA"
        ],
        [
         "9360746",
         "59935",
         "Allen",
         "TX"
        ],
        [
         "10453426",
         "59935",
         "Allen Park",
         "MI"
        ],
        [
         "9374024",
         "59935",
         "Allentown",
         "PA"
        ],
        [
         "9396321",
         "59935",
         "Allston",
         "MA"
        ],
        [
         "9620780",
         "59935",
         "Alma",
         "AR"
        ],
        [
         "9367897",
         "59935",
         "Alpharetta",
         "GA"
        ],
        [
         "9524608",
         "59935",
         "Alsip",
         "IL"
        ],
        [
         "10161074",
         "59935",
         "Altadena",
         "CA"
        ],
        [
         "11773622",
         "59935",
         "Altamont",
         "NY"
        ],
        [
         "11046483",
         "59935",
         "Altamonte Springs",
         "FL"
        ],
        [
         "11851379",
         "59935",
         "Alton",
         "VA"
        ],
        [
         "9363758",
         "59935",
         "Alvin",
         "TX"
        ],
        [
         "10310983",
         "59935",
         "Amarillo",
         "TX"
        ],
        [
         "9875268",
         "59935",
         "Amsterdam",
         "Netherlands"
        ],
        [
         "10284622",
         "59935",
         "Anacortes",
         "WA"
        ],
        [
         "9361218",
         "59935",
         "Anaheim",
         "CA"
        ],
        [
         "9354111",
         "59935",
         "Anamosa",
         "IA"
        ],
        [
         "10249531",
         "59935",
         "Anchorage",
         "AK"
        ],
        [
         "10424478",
         "59935",
         "Anderson",
         "SC"
        ],
        [
         "9412857",
         "59935",
         "Andover",
         "KS"
        ],
        [
         "10204091",
         "59935",
         "Andover",
         "MA"
        ],
        [
         "11395775",
         "59935",
         "Andover",
         "NJ"
        ],
        [
         "9785612",
         "59935",
         "Angleton",
         "TX"
        ],
        [
         "9375548",
         "59935",
         "Ankeny",
         "IA"
        ],
        [
         "9471835",
         "59935",
         "Ann Arbor",
         "MI"
        ],
        [
         "9391284",
         "59935",
         "Annandale",
         "VA"
        ],
        [
         "10093881",
         "59935",
         "Annapolis",
         "MD"
        ]
       ],
       "shape": {
        "columns": 3,
        "rows": 1930
       }
      },
      "text/html": [
       "<div>\n",
       "<style scoped>\n",
       "    .dataframe tbody tr th:only-of-type {\n",
       "        vertical-align: middle;\n",
       "    }\n",
       "\n",
       "    .dataframe tbody tr th {\n",
       "        vertical-align: top;\n",
       "    }\n",
       "\n",
       "    .dataframe thead th {\n",
       "        text-align: right;\n",
       "    }\n",
       "</style>\n",
       "<table border=\"1\" class=\"dataframe\">\n",
       "  <thead>\n",
       "    <tr style=\"text-align: right;\">\n",
       "      <th></th>\n",
       "      <th>merchant_id</th>\n",
       "      <th>merchant_city</th>\n",
       "      <th>merchant_state</th>\n",
       "    </tr>\n",
       "  </thead>\n",
       "  <tbody>\n",
       "    <tr>\n",
       "      <th>9373948</th>\n",
       "      <td>59935</td>\n",
       "      <td>Abbeville</td>\n",
       "      <td>LA</td>\n",
       "    </tr>\n",
       "    <tr>\n",
       "      <th>9373896</th>\n",
       "      <td>59935</td>\n",
       "      <td>Aberdeen</td>\n",
       "      <td>MD</td>\n",
       "    </tr>\n",
       "    <tr>\n",
       "      <th>9364780</th>\n",
       "      <td>59935</td>\n",
       "      <td>Abilene</td>\n",
       "      <td>TX</td>\n",
       "    </tr>\n",
       "    <tr>\n",
       "      <th>12008354</th>\n",
       "      <td>59935</td>\n",
       "      <td>Absecon</td>\n",
       "      <td>NJ</td>\n",
       "    </tr>\n",
       "    <tr>\n",
       "      <th>10710269</th>\n",
       "      <td>59935</td>\n",
       "      <td>Acapulco</td>\n",
       "      <td>Mexico</td>\n",
       "    </tr>\n",
       "    <tr>\n",
       "      <th>...</th>\n",
       "      <td>...</td>\n",
       "      <td>...</td>\n",
       "      <td>...</td>\n",
       "    </tr>\n",
       "    <tr>\n",
       "      <th>12401703</th>\n",
       "      <td>59935</td>\n",
       "      <td>Youngstown</td>\n",
       "      <td>OH</td>\n",
       "    </tr>\n",
       "    <tr>\n",
       "      <th>9892370</th>\n",
       "      <td>59935</td>\n",
       "      <td>Ypsilanti</td>\n",
       "      <td>MI</td>\n",
       "    </tr>\n",
       "    <tr>\n",
       "      <th>11819678</th>\n",
       "      <td>59935</td>\n",
       "      <td>Yuma</td>\n",
       "      <td>AZ</td>\n",
       "    </tr>\n",
       "    <tr>\n",
       "      <th>11352790</th>\n",
       "      <td>59935</td>\n",
       "      <td>Zanesville</td>\n",
       "      <td>OH</td>\n",
       "    </tr>\n",
       "    <tr>\n",
       "      <th>11817685</th>\n",
       "      <td>59935</td>\n",
       "      <td>Zurich</td>\n",
       "      <td>Switzerland</td>\n",
       "    </tr>\n",
       "  </tbody>\n",
       "</table>\n",
       "<p>1930 rows × 3 columns</p>\n",
       "</div>"
      ],
      "text/plain": [
       "          merchant_id merchant_city merchant_state\n",
       "9373948         59935     Abbeville             LA\n",
       "9373896         59935      Aberdeen             MD\n",
       "9364780         59935       Abilene             TX\n",
       "12008354        59935       Absecon             NJ\n",
       "10710269        59935      Acapulco         Mexico\n",
       "...               ...           ...            ...\n",
       "12401703        59935    Youngstown             OH\n",
       "9892370         59935     Ypsilanti             MI\n",
       "11819678        59935          Yuma             AZ\n",
       "11352790        59935    Zanesville             OH\n",
       "11817685        59935        Zurich    Switzerland\n",
       "\n",
       "[1930 rows x 3 columns]"
      ]
     },
     "execution_count": 62,
     "metadata": {},
     "output_type": "execute_result"
    }
   ],
   "source": [
    "dim_merchant['merchant_id'].value_counts()\n",
    "dim_merchant.loc[dim_merchant['merchant_id'] == 59935,:].sort_values(by='merchant_city', ascending=True)"
   ]
  },
  {
   "cell_type": "code",
   "execution_count": 169,
   "id": "0cba97ae",
   "metadata": {},
   "outputs": [
    {
     "data": {
      "application/vnd.microsoft.datawrangler.viewer.v0+json": {
       "columns": [
        {
         "name": "index",
         "rawType": "int64",
         "type": "integer"
        },
        {
         "name": "mcc",
         "rawType": "int64",
         "type": "integer"
        },
        {
         "name": "description",
         "rawType": "object",
         "type": "string"
        }
       ],
       "ref": "d606709a-53c0-4718-be2b-6892825b79f5",
       "rows": [
        [
         "0",
         "5812",
         "Eating Places and Restaurants"
        ],
        [
         "1",
         "5541",
         "Service Stations"
        ],
        [
         "2",
         "7996",
         "Amusement Parks, Carnivals, Circuses"
        ],
        [
         "3",
         "5411",
         "Grocery Stores, Supermarkets"
        ],
        [
         "4",
         "4784",
         "Tolls and Bridge Fees"
        ],
        [
         "5",
         "4900",
         "Utilities - Electric, Gas, Water, Sanitary"
        ],
        [
         "6",
         "5942",
         "Book Stores"
        ],
        [
         "7",
         "5814",
         "Fast Food Restaurants"
        ],
        [
         "8",
         "4829",
         "Money Transfer"
        ],
        [
         "9",
         "5311",
         "Department Stores"
        ],
        [
         "10",
         "5211",
         "Lumber and Building Materials"
        ],
        [
         "11",
         "5310",
         "Discount Stores"
        ],
        [
         "12",
         "3780",
         "Computer Network Services"
        ],
        [
         "13",
         "5499",
         "Miscellaneous Food Stores"
        ],
        [
         "14",
         "4121",
         "Taxicabs and Limousines"
        ],
        [
         "15",
         "5300",
         "Wholesale Clubs"
        ],
        [
         "16",
         "5719",
         "Miscellaneous Home Furnishing Stores"
        ],
        [
         "17",
         "7832",
         "Motion Picture Theaters"
        ],
        [
         "18",
         "5813",
         "Drinking Places (Alcoholic Beverages)"
        ],
        [
         "19",
         "4814",
         "Telecommunication Services"
        ],
        [
         "20",
         "5661",
         "Shoe Stores"
        ],
        [
         "21",
         "5977",
         "Cosmetic Stores"
        ],
        [
         "22",
         "8099",
         "Medical Services"
        ],
        [
         "23",
         "7538",
         "Automotive Service Shops"
        ],
        [
         "24",
         "5912",
         "Drug Stores and Pharmacies"
        ],
        [
         "25",
         "4111",
         "Local and Suburban Commuter Transportation"
        ],
        [
         "26",
         "5815",
         "Digital Goods - Media, Books, Apps"
        ],
        [
         "27",
         "8021",
         "Dentists and Orthodontists"
        ],
        [
         "28",
         "5921",
         "Package Stores, Beer, Wine, Liquor"
        ],
        [
         "29",
         "5655",
         "Sports Apparel, Riding Apparel Stores"
        ],
        [
         "30",
         "7230",
         "Beauty and Barber Shops"
        ],
        [
         "31",
         "3390",
         "Miscellaneous Metalwork"
        ],
        [
         "32",
         "7922",
         "Theatrical Producers"
        ],
        [
         "33",
         "3722",
         "Passenger Railways"
        ],
        [
         "34",
         "5651",
         "Family Clothing Stores"
        ],
        [
         "35",
         "4899",
         "Cable, Satellite, and Other Pay Television Services"
        ],
        [
         "36",
         "5251",
         "Hardware Stores"
        ],
        [
         "37",
         "7995",
         "Betting (including Lottery Tickets, Casinos)"
        ],
        [
         "38",
         "3596",
         "Miscellaneous Machinery and Parts Manufacturing"
        ],
        [
         "39",
         "3730",
         "Ship Chandlers"
        ],
        [
         "40",
         "9402",
         "Postal Services - Government Only"
        ],
        [
         "41",
         "7801",
         "Athletic Fields, Commercial Sports"
        ],
        [
         "42",
         "5970",
         "Artist Supply Stores, Craft Shops"
        ],
        [
         "43",
         "5932",
         "Antique Shops"
        ],
        [
         "44",
         "5621",
         "Women's Ready-To-Wear Stores"
        ],
        [
         "45",
         "7349",
         "Cleaning and Maintenance Services"
        ],
        [
         "46",
         "4722",
         "Travel Agencies"
        ],
        [
         "47",
         "5193",
         "Florists Supplies, Nursery Stock and Flowers"
        ],
        [
         "48",
         "3775",
         "Railroad Freight"
        ],
        [
         "49",
         "3684",
         "Semiconductors and Related Devices"
        ]
       ],
       "shape": {
        "columns": 2,
        "rows": 109
       }
      },
      "text/html": [
       "<div>\n",
       "<style scoped>\n",
       "    .dataframe tbody tr th:only-of-type {\n",
       "        vertical-align: middle;\n",
       "    }\n",
       "\n",
       "    .dataframe tbody tr th {\n",
       "        vertical-align: top;\n",
       "    }\n",
       "\n",
       "    .dataframe thead th {\n",
       "        text-align: right;\n",
       "    }\n",
       "</style>\n",
       "<table border=\"1\" class=\"dataframe\">\n",
       "  <thead>\n",
       "    <tr style=\"text-align: right;\">\n",
       "      <th></th>\n",
       "      <th>mcc</th>\n",
       "      <th>description</th>\n",
       "    </tr>\n",
       "  </thead>\n",
       "  <tbody>\n",
       "    <tr>\n",
       "      <th>0</th>\n",
       "      <td>5812</td>\n",
       "      <td>Eating Places and Restaurants</td>\n",
       "    </tr>\n",
       "    <tr>\n",
       "      <th>1</th>\n",
       "      <td>5541</td>\n",
       "      <td>Service Stations</td>\n",
       "    </tr>\n",
       "    <tr>\n",
       "      <th>2</th>\n",
       "      <td>7996</td>\n",
       "      <td>Amusement Parks, Carnivals, Circuses</td>\n",
       "    </tr>\n",
       "    <tr>\n",
       "      <th>3</th>\n",
       "      <td>5411</td>\n",
       "      <td>Grocery Stores, Supermarkets</td>\n",
       "    </tr>\n",
       "    <tr>\n",
       "      <th>4</th>\n",
       "      <td>4784</td>\n",
       "      <td>Tolls and Bridge Fees</td>\n",
       "    </tr>\n",
       "    <tr>\n",
       "      <th>...</th>\n",
       "      <td>...</td>\n",
       "      <td>...</td>\n",
       "    </tr>\n",
       "    <tr>\n",
       "      <th>104</th>\n",
       "      <td>7549</td>\n",
       "      <td>Towing Services</td>\n",
       "    </tr>\n",
       "    <tr>\n",
       "      <th>105</th>\n",
       "      <td>5941</td>\n",
       "      <td>Sporting Goods Stores</td>\n",
       "    </tr>\n",
       "    <tr>\n",
       "      <th>106</th>\n",
       "      <td>5722</td>\n",
       "      <td>Household Appliance Stores</td>\n",
       "    </tr>\n",
       "    <tr>\n",
       "      <th>107</th>\n",
       "      <td>3009</td>\n",
       "      <td>Fabricated Structural Metal Products</td>\n",
       "    </tr>\n",
       "    <tr>\n",
       "      <th>108</th>\n",
       "      <td>5733</td>\n",
       "      <td>Music Stores - Musical Instruments</td>\n",
       "    </tr>\n",
       "  </tbody>\n",
       "</table>\n",
       "<p>109 rows × 2 columns</p>\n",
       "</div>"
      ],
      "text/plain": [
       "      mcc                           description\n",
       "0    5812         Eating Places and Restaurants\n",
       "1    5541                      Service Stations\n",
       "2    7996  Amusement Parks, Carnivals, Circuses\n",
       "3    5411          Grocery Stores, Supermarkets\n",
       "4    4784                 Tolls and Bridge Fees\n",
       "..    ...                                   ...\n",
       "104  7549                       Towing Services\n",
       "105  5941                 Sporting Goods Stores\n",
       "106  5722            Household Appliance Stores\n",
       "107  3009  Fabricated Structural Metal Products\n",
       "108  5733    Music Stores - Musical Instruments\n",
       "\n",
       "[109 rows x 2 columns]"
      ]
     },
     "execution_count": 169,
     "metadata": {},
     "output_type": "execute_result"
    }
   ],
   "source": [
    "import pandas as pd\n",
    "import json\n",
    "import logging\n",
    "\n",
    "logger = logging.getLogger(__name__)\n",
    "\n",
    "def extract_json_mcc_data(json_path:str, data_name:str) -> pd.DataFrame:\n",
    "    \"\"\"\n",
    "    Extracts data from a JSON file and returns it as a pandas DataFrame.\n",
    "    \n",
    "    Parameters:\n",
    "    json_path (str): The path to the JSON file.\n",
    "    data_name (str): The name of the data to be extracted.\n",
    "    \n",
    "    Returns:\n",
    "    pd.DataFrame: DataFrame containing the extracted data.\n",
    "    \"\"\"\n",
    "    try:\n",
    "        \n",
    "        with open(json_path, 'r') as f:\n",
    "            mcc_dict = json.load(f)\n",
    "\n",
    "        # Convert dictionary to DataFrame\n",
    "        df = pd.DataFrame(list(mcc_dict.items()), columns=['mcc', 'description'])\n",
    "        df['mcc'] = df['mcc'].astype(int)\n",
    "\n",
    "        return df\n",
    "    \n",
    "        logger.info(f'✅ Extracted {data_name} data with {len(df)} records')\n",
    "                \n",
    "    except Exception as e:\n",
    "        logger.error(f'❌Error extracting data from {data_name}: {e}')\n",
    "        raise\n",
    "\n",
    "test_mcc = extract_json_mcc_data(config.MCC_FILE_LOCAL, 'mcc_codes')\n",
    "test_mcc"
   ]
  },
  {
   "cell_type": "code",
   "execution_count": 176,
   "id": "986e8308",
   "metadata": {},
   "outputs": [],
   "source": [
    "def transform_dim_merchant(df: pd.DataFrame, data_name: str) -> pd.DataFrame:\n",
    "    \"\"\"\n",
    "    Transforms the merchant data by merging with MCC codes and adding a merchant key.\n",
    "    \n",
    "    Parameters:\n",
    "    df (pd.DataFrame): DataFrame containing the merchant data.\n",
    "    df2 (pd.DataFrame): DataFrame containing the MCC codes.\n",
    "    \n",
    "    Returns:\n",
    "    pd.DataFrame: Transformed DataFrame with additional columns.\n",
    "    \"\"\"\n",
    "    try:\n",
    "        dim_merchant = df.copy()\n",
    "        dim_merchant = df.loc[:,['merchant_id', 'merchant_city', 'merchant_state','mcc']].drop_duplicates()\n",
    "        mcc_df = extract_json_mcc_data(config.MCC_FILE_LOCAL, 'MCC')\n",
    "        dim_merchant_mcc = dim_merchant.merge(mcc_df, left_on='mcc', right_on='mcc', how='left').reset_index(drop=True)\n",
    "        dim_merchant_mcc['merchant_key'] = dim_merchant_mcc.index + 1\n",
    "        \n",
    "        return dim_merchant_mcc\n",
    "        logger.info(f'✅ Successfully transformed {data_name} with {len(dim_merchant_mcc)} records')\n",
    "    except Exception as e:\n",
    "        logger.error(f'❌Error transforming data: {e}')\n",
    "        raise\n",
    "\n",
    " "
   ]
  },
  {
   "cell_type": "code",
   "execution_count": 177,
   "id": "548dfde3",
   "metadata": {},
   "outputs": [
    {
     "data": {
      "application/vnd.microsoft.datawrangler.viewer.v0+json": {
       "columns": [
        {
         "name": "index",
         "rawType": "int64",
         "type": "integer"
        },
        {
         "name": "merchant_id",
         "rawType": "int64",
         "type": "integer"
        },
        {
         "name": "merchant_city",
         "rawType": "object",
         "type": "string"
        },
        {
         "name": "merchant_state",
         "rawType": "object",
         "type": "string"
        },
        {
         "name": "mcc",
         "rawType": "int64",
         "type": "integer"
        },
        {
         "name": "description",
         "rawType": "object",
         "type": "string"
        },
        {
         "name": "merchant_key",
         "rawType": "int64",
         "type": "integer"
        }
       ],
       "ref": "6b915b7a-fef4-4e5a-aa08-16a5eee04c1a",
       "rows": [
        [
         "0",
         "59935",
         "Beulah",
         "ND",
         "5499",
         "Miscellaneous Food Stores",
         "1"
        ],
        [
         "1",
         "67570",
         "Bettendorf",
         "IA",
         "5311",
         "Department Stores",
         "2"
        ],
        [
         "2",
         "27092",
         "Vista",
         "CA",
         "4829",
         "Money Transfer",
         "3"
        ],
        [
         "3",
         "27092",
         "Crown Point",
         "IN",
         "4829",
         "Money Transfer",
         "4"
        ],
        [
         "4",
         "13051",
         "Harwood",
         "MD",
         "5813",
         "Drinking Places (Alcoholic Beverages)",
         "5"
        ]
       ],
       "shape": {
        "columns": 6,
        "rows": 5
       }
      },
      "text/html": [
       "<div>\n",
       "<style scoped>\n",
       "    .dataframe tbody tr th:only-of-type {\n",
       "        vertical-align: middle;\n",
       "    }\n",
       "\n",
       "    .dataframe tbody tr th {\n",
       "        vertical-align: top;\n",
       "    }\n",
       "\n",
       "    .dataframe thead th {\n",
       "        text-align: right;\n",
       "    }\n",
       "</style>\n",
       "<table border=\"1\" class=\"dataframe\">\n",
       "  <thead>\n",
       "    <tr style=\"text-align: right;\">\n",
       "      <th></th>\n",
       "      <th>merchant_id</th>\n",
       "      <th>merchant_city</th>\n",
       "      <th>merchant_state</th>\n",
       "      <th>mcc</th>\n",
       "      <th>description</th>\n",
       "      <th>merchant_key</th>\n",
       "    </tr>\n",
       "  </thead>\n",
       "  <tbody>\n",
       "    <tr>\n",
       "      <th>0</th>\n",
       "      <td>59935</td>\n",
       "      <td>Beulah</td>\n",
       "      <td>ND</td>\n",
       "      <td>5499</td>\n",
       "      <td>Miscellaneous Food Stores</td>\n",
       "      <td>1</td>\n",
       "    </tr>\n",
       "    <tr>\n",
       "      <th>1</th>\n",
       "      <td>67570</td>\n",
       "      <td>Bettendorf</td>\n",
       "      <td>IA</td>\n",
       "      <td>5311</td>\n",
       "      <td>Department Stores</td>\n",
       "      <td>2</td>\n",
       "    </tr>\n",
       "    <tr>\n",
       "      <th>2</th>\n",
       "      <td>27092</td>\n",
       "      <td>Vista</td>\n",
       "      <td>CA</td>\n",
       "      <td>4829</td>\n",
       "      <td>Money Transfer</td>\n",
       "      <td>3</td>\n",
       "    </tr>\n",
       "    <tr>\n",
       "      <th>3</th>\n",
       "      <td>27092</td>\n",
       "      <td>Crown Point</td>\n",
       "      <td>IN</td>\n",
       "      <td>4829</td>\n",
       "      <td>Money Transfer</td>\n",
       "      <td>4</td>\n",
       "    </tr>\n",
       "    <tr>\n",
       "      <th>4</th>\n",
       "      <td>13051</td>\n",
       "      <td>Harwood</td>\n",
       "      <td>MD</td>\n",
       "      <td>5813</td>\n",
       "      <td>Drinking Places (Alcoholic Beverages)</td>\n",
       "      <td>5</td>\n",
       "    </tr>\n",
       "  </tbody>\n",
       "</table>\n",
       "</div>"
      ],
      "text/plain": [
       "   merchant_id merchant_city merchant_state   mcc  \\\n",
       "0        59935        Beulah             ND  5499   \n",
       "1        67570    Bettendorf             IA  5311   \n",
       "2        27092         Vista             CA  4829   \n",
       "3        27092   Crown Point             IN  4829   \n",
       "4        13051       Harwood             MD  5813   \n",
       "\n",
       "                             description  merchant_key  \n",
       "0              Miscellaneous Food Stores             1  \n",
       "1                      Department Stores             2  \n",
       "2                         Money Transfer             3  \n",
       "3                         Money Transfer             4  \n",
       "4  Drinking Places (Alcoholic Beverages)             5  "
      ]
     },
     "execution_count": 177,
     "metadata": {},
     "output_type": "execute_result"
    }
   ],
   "source": [
    "merchant_cleaned = transform_dim_merchant(df, 'dim_merchant')\n",
    "merchant_cleaned.head()"
   ]
  },
  {
   "cell_type": "code",
   "execution_count": null,
   "id": "fd494716",
   "metadata": {},
   "outputs": [],
   "source": [
    "       \n",
    "# Load JSON file\n",
    "with open(r'C:\\Users\\jimmy\\Documents\\Data Projects\\Project\\Financial Transactions Project\\data\\mcc_codes.json') as f:\n",
    "    mcc_dict = json.load(f)\n",
    "\n",
    "# Convert dictionary to DataFrame\n",
    "mcc_df = pd.DataFrame(list(mcc_dict.items()), columns=['mcc_code', 'description'])\n",
    "mcc_df['mcc_code'] = mcc_df['mcc_code'].astype(int)\n",
    "mcc_df.rename(columns={'mcc_code': 'mcc'}, inplace=True)\n",
    "\n",
    "mcc_df\n"
   ]
  },
  {
   "cell_type": "code",
   "execution_count": null,
   "id": "fe8c7e48",
   "metadata": {},
   "outputs": [],
   "source": [
    "dim_merchant_mcc = dim_merchant.merge(mcc_df, left_on='mcc', right_on='mcc', how='left').reset_index(drop=True)\n",
    "\n"
   ]
  },
  {
   "cell_type": "code",
   "execution_count": 150,
   "id": "0ef48119",
   "metadata": {},
   "outputs": [
    {
     "data": {
      "application/vnd.microsoft.datawrangler.viewer.v0+json": {
       "columns": [
        {
         "name": "index",
         "rawType": "int64",
         "type": "integer"
        },
        {
         "name": "merchant_id",
         "rawType": "int64",
         "type": "integer"
        },
        {
         "name": "merchant_city",
         "rawType": "object",
         "type": "string"
        },
        {
         "name": "merchant_state",
         "rawType": "object",
         "type": "string"
        },
        {
         "name": "mcc",
         "rawType": "int64",
         "type": "integer"
        },
        {
         "name": "description",
         "rawType": "object",
         "type": "string"
        },
        {
         "name": "merchant_key",
         "rawType": "int64",
         "type": "integer"
        }
       ],
       "ref": "4cb4a65a-63a5-41c4-9392-6be61a28ae8c",
       "rows": [
        [
         "0",
         "59935",
         "Beulah",
         "ND",
         "5499",
         "Miscellaneous Food Stores",
         "1"
        ],
        [
         "1",
         "67570",
         "Bettendorf",
         "IA",
         "5311",
         "Department Stores",
         "2"
        ],
        [
         "2",
         "27092",
         "Vista",
         "CA",
         "4829",
         "Money Transfer",
         "3"
        ],
        [
         "3",
         "27092",
         "Crown Point",
         "IN",
         "4829",
         "Money Transfer",
         "4"
        ],
        [
         "4",
         "13051",
         "Harwood",
         "MD",
         "5813",
         "Drinking Places (Alcoholic Beverages)",
         "5"
        ]
       ],
       "shape": {
        "columns": 6,
        "rows": 5
       }
      },
      "text/html": [
       "<div>\n",
       "<style scoped>\n",
       "    .dataframe tbody tr th:only-of-type {\n",
       "        vertical-align: middle;\n",
       "    }\n",
       "\n",
       "    .dataframe tbody tr th {\n",
       "        vertical-align: top;\n",
       "    }\n",
       "\n",
       "    .dataframe thead th {\n",
       "        text-align: right;\n",
       "    }\n",
       "</style>\n",
       "<table border=\"1\" class=\"dataframe\">\n",
       "  <thead>\n",
       "    <tr style=\"text-align: right;\">\n",
       "      <th></th>\n",
       "      <th>merchant_id</th>\n",
       "      <th>merchant_city</th>\n",
       "      <th>merchant_state</th>\n",
       "      <th>mcc</th>\n",
       "      <th>description</th>\n",
       "      <th>merchant_key</th>\n",
       "    </tr>\n",
       "  </thead>\n",
       "  <tbody>\n",
       "    <tr>\n",
       "      <th>0</th>\n",
       "      <td>59935</td>\n",
       "      <td>Beulah</td>\n",
       "      <td>ND</td>\n",
       "      <td>5499</td>\n",
       "      <td>Miscellaneous Food Stores</td>\n",
       "      <td>1</td>\n",
       "    </tr>\n",
       "    <tr>\n",
       "      <th>1</th>\n",
       "      <td>67570</td>\n",
       "      <td>Bettendorf</td>\n",
       "      <td>IA</td>\n",
       "      <td>5311</td>\n",
       "      <td>Department Stores</td>\n",
       "      <td>2</td>\n",
       "    </tr>\n",
       "    <tr>\n",
       "      <th>2</th>\n",
       "      <td>27092</td>\n",
       "      <td>Vista</td>\n",
       "      <td>CA</td>\n",
       "      <td>4829</td>\n",
       "      <td>Money Transfer</td>\n",
       "      <td>3</td>\n",
       "    </tr>\n",
       "    <tr>\n",
       "      <th>3</th>\n",
       "      <td>27092</td>\n",
       "      <td>Crown Point</td>\n",
       "      <td>IN</td>\n",
       "      <td>4829</td>\n",
       "      <td>Money Transfer</td>\n",
       "      <td>4</td>\n",
       "    </tr>\n",
       "    <tr>\n",
       "      <th>4</th>\n",
       "      <td>13051</td>\n",
       "      <td>Harwood</td>\n",
       "      <td>MD</td>\n",
       "      <td>5813</td>\n",
       "      <td>Drinking Places (Alcoholic Beverages)</td>\n",
       "      <td>5</td>\n",
       "    </tr>\n",
       "  </tbody>\n",
       "</table>\n",
       "</div>"
      ],
      "text/plain": [
       "   merchant_id merchant_city merchant_state   mcc  \\\n",
       "0        59935        Beulah             ND  5499   \n",
       "1        67570    Bettendorf             IA  5311   \n",
       "2        27092         Vista             CA  4829   \n",
       "3        27092   Crown Point             IN  4829   \n",
       "4        13051       Harwood             MD  5813   \n",
       "\n",
       "                             description  merchant_key  \n",
       "0              Miscellaneous Food Stores             1  \n",
       "1                      Department Stores             2  \n",
       "2                         Money Transfer             3  \n",
       "3                         Money Transfer             4  \n",
       "4  Drinking Places (Alcoholic Beverages)             5  "
      ]
     },
     "execution_count": 150,
     "metadata": {},
     "output_type": "execute_result"
    }
   ],
   "source": [
    "dim_merchant_mcc['merchant_key'] = dim_merchant_mcc.index + 1\n",
    "dim_merchant_mcc.head()"
   ]
  },
  {
   "cell_type": "code",
   "execution_count": 129,
   "id": "1ae4a5bd",
   "metadata": {},
   "outputs": [
    {
     "data": {
      "application/vnd.microsoft.datawrangler.viewer.v0+json": {
       "columns": [
        {
         "name": "index",
         "rawType": "int64",
         "type": "integer"
        },
        {
         "name": "merchant_id",
         "rawType": "int64",
         "type": "integer"
        },
        {
         "name": "mcc",
         "rawType": "int64",
         "type": "integer"
        }
       ],
       "ref": "b3cafe7b-338f-4414-a3e0-83f3b7d23771",
       "rows": [
        [
         "48",
         "73",
         "2"
        ],
        [
         "424",
         "569",
         "2"
        ],
        [
         "468",
         "631",
         "2"
        ],
        [
         "596",
         "795",
         "2"
        ],
        [
         "666",
         "889",
         "2"
        ],
        [
         "1301",
         "1733",
         "2"
        ],
        [
         "1608",
         "2129",
         "2"
        ],
        [
         "1818",
         "2414",
         "2"
        ],
        [
         "1928",
         "2562",
         "2"
        ],
        [
         "1980",
         "2628",
         "2"
        ],
        [
         "2074",
         "2751",
         "2"
        ],
        [
         "2083",
         "2765",
         "2"
        ],
        [
         "2199",
         "2915",
         "2"
        ],
        [
         "2436",
         "3228",
         "2"
        ],
        [
         "2472",
         "3277",
         "2"
        ],
        [
         "2493",
         "3306",
         "2"
        ],
        [
         "2858",
         "3788",
         "2"
        ],
        [
         "3076",
         "4084",
         "2"
        ],
        [
         "3082",
         "4091",
         "2"
        ],
        [
         "3302",
         "4379",
         "2"
        ],
        [
         "3415",
         "4535",
         "2"
        ],
        [
         "3639",
         "4842",
         "2"
        ],
        [
         "3672",
         "4881",
         "2"
        ],
        [
         "3682",
         "4896",
         "2"
        ],
        [
         "3855",
         "5114",
         "2"
        ],
        [
         "3857",
         "5116",
         "2"
        ],
        [
         "4400",
         "5843",
         "2"
        ],
        [
         "4538",
         "6032",
         "2"
        ],
        [
         "4848",
         "6450",
         "2"
        ],
        [
         "4877",
         "6489",
         "2"
        ],
        [
         "4884",
         "6499",
         "2"
        ],
        [
         "5369",
         "7180",
         "2"
        ],
        [
         "5430",
         "7255",
         "2"
        ],
        [
         "5741",
         "7690",
         "2"
        ],
        [
         "5841",
         "7820",
         "2"
        ],
        [
         "6141",
         "8203",
         "2"
        ],
        [
         "6468",
         "8643",
         "2"
        ],
        [
         "6547",
         "8742",
         "2"
        ],
        [
         "6712",
         "8968",
         "2"
        ],
        [
         "6860",
         "9172",
         "2"
        ],
        [
         "7033",
         "9424",
         "2"
        ],
        [
         "7145",
         "9571",
         "2"
        ],
        [
         "7198",
         "9641",
         "2"
        ],
        [
         "7253",
         "9714",
         "2"
        ],
        [
         "7404",
         "9924",
         "2"
        ],
        [
         "7543",
         "10099",
         "2"
        ],
        [
         "7811",
         "10458",
         "2"
        ],
        [
         "7923",
         "10598",
         "2"
        ],
        [
         "8073",
         "10793",
         "2"
        ],
        [
         "8086",
         "10810",
         "2"
        ]
       ],
       "shape": {
        "columns": 2,
        "rows": 456
       }
      },
      "text/html": [
       "<div>\n",
       "<style scoped>\n",
       "    .dataframe tbody tr th:only-of-type {\n",
       "        vertical-align: middle;\n",
       "    }\n",
       "\n",
       "    .dataframe tbody tr th {\n",
       "        vertical-align: top;\n",
       "    }\n",
       "\n",
       "    .dataframe thead th {\n",
       "        text-align: right;\n",
       "    }\n",
       "</style>\n",
       "<table border=\"1\" class=\"dataframe\">\n",
       "  <thead>\n",
       "    <tr style=\"text-align: right;\">\n",
       "      <th></th>\n",
       "      <th>merchant_id</th>\n",
       "      <th>mcc</th>\n",
       "    </tr>\n",
       "  </thead>\n",
       "  <tbody>\n",
       "    <tr>\n",
       "      <th>48</th>\n",
       "      <td>73</td>\n",
       "      <td>2</td>\n",
       "    </tr>\n",
       "    <tr>\n",
       "      <th>424</th>\n",
       "      <td>569</td>\n",
       "      <td>2</td>\n",
       "    </tr>\n",
       "    <tr>\n",
       "      <th>468</th>\n",
       "      <td>631</td>\n",
       "      <td>2</td>\n",
       "    </tr>\n",
       "    <tr>\n",
       "      <th>596</th>\n",
       "      <td>795</td>\n",
       "      <td>2</td>\n",
       "    </tr>\n",
       "    <tr>\n",
       "      <th>666</th>\n",
       "      <td>889</td>\n",
       "      <td>2</td>\n",
       "    </tr>\n",
       "    <tr>\n",
       "      <th>...</th>\n",
       "      <td>...</td>\n",
       "      <td>...</td>\n",
       "    </tr>\n",
       "    <tr>\n",
       "      <th>74052</th>\n",
       "      <td>99259</td>\n",
       "      <td>2</td>\n",
       "    </tr>\n",
       "    <tr>\n",
       "      <th>74218</th>\n",
       "      <td>99482</td>\n",
       "      <td>2</td>\n",
       "    </tr>\n",
       "    <tr>\n",
       "      <th>74385</th>\n",
       "      <td>99724</td>\n",
       "      <td>2</td>\n",
       "    </tr>\n",
       "    <tr>\n",
       "      <th>74616</th>\n",
       "      <td>100042</td>\n",
       "      <td>2</td>\n",
       "    </tr>\n",
       "    <tr>\n",
       "      <th>74781</th>\n",
       "      <td>100266</td>\n",
       "      <td>2</td>\n",
       "    </tr>\n",
       "  </tbody>\n",
       "</table>\n",
       "<p>456 rows × 2 columns</p>\n",
       "</div>"
      ],
      "text/plain": [
       "       merchant_id  mcc\n",
       "48              73    2\n",
       "424            569    2\n",
       "468            631    2\n",
       "596            795    2\n",
       "666            889    2\n",
       "...            ...  ...\n",
       "74052        99259    2\n",
       "74218        99482    2\n",
       "74385        99724    2\n",
       "74616       100042    2\n",
       "74781       100266    2\n",
       "\n",
       "[456 rows x 2 columns]"
      ]
     },
     "execution_count": 129,
     "metadata": {},
     "output_type": "execute_result"
    }
   ],
   "source": [
    "distinct_mcc = dim_merchant.groupby('merchant_id')['mcc'].nunique().reset_index()\n",
    "distinct_mcc.loc[distinct_mcc['mcc'] > 1,:]"
   ]
  },
  {
   "cell_type": "code",
   "execution_count": 100,
   "id": "f98b04dc",
   "metadata": {},
   "outputs": [
    {
     "name": "stdout",
     "output_type": "stream",
     "text": [
      "Column: merchant_id\n",
      "Total rows: 197423\n",
      "Unique values: 74831\n",
      "Unique values (including NaN): 74831\n",
      "Missing values: 0\n",
      "Data type: int64\n"
     ]
    }
   ],
   "source": [
    "# Comprehensive summary of a column\n",
    "def column_summary(df, column_name):\n",
    "    print(f\"Column: {column_name}\")\n",
    "    print(f\"Total rows: {len(df)}\")\n",
    "    print(f\"Unique values: {df[column_name].nunique()}\")\n",
    "    print(f\"Unique values (including NaN): {df[column_name].nunique(dropna=False)}\")\n",
    "    print(f\"Missing values: {df[column_name].isnull().sum()}\")\n",
    "    print(f\"Data type: {df[column_name].dtype}\")\n",
    "    \n",
    "column_summary(dim_merchant, 'merchant_id')"
   ]
  },
  {
   "cell_type": "code",
   "execution_count": 200,
   "id": "a5ad4205",
   "metadata": {},
   "outputs": [],
   "source": [
    "def extract_data(file_path: str, data_type: str, columns:list) -> pd.DataFrame:\n",
    "    \"\"\"\n",
    "    Generic function to extract data from CSV files and return as DataFrame.\n",
    "    Logs the number of records loaded or any errors encountered during the process.\n",
    "    \n",
    "    Args:\n",
    "        file_path (str): Path to the CSV file to extract\n",
    "        data_type (str): Name of the data type for logging purposes (e.g., 'cards', 'transactions', 'users')\n",
    "        columns (list): optional, If you need to filter columns in the extracting\n",
    "    Returns:\n",
    "        pd.DataFrame: DataFrame containing the extracted data\n",
    "        \n",
    "    Raises:\n",
    "        Exception: Re-raises any exception encountered during CSV reading\n",
    "    \"\"\"\n",
    "    try:\n",
    "        df = pd.read_csv(file_path,usecols=columns)\n",
    "        logger.info(f\"✅ Extracted {data_type} data.csv with {len(df)} records\")\n",
    "        return df\n",
    "    except Exception as e:\n",
    "        logger.error(f\"❌ Error extracting {data_type}_data.csv: {e}\")\n",
    "        raise\n",
    "\n",
    "columns1 = ['merchant_id', 'merchant_city', 'merchant_state', 'mcc']\n",
    "merchant = extract_data(r\"C:\\Users\\jimmy\\Documents\\Data Projects\\Project\\Financial Transactions Project\\data\\filtered_transactions_data.csv\", 'MERCHANT',columns1)\n"
   ]
  },
  {
   "cell_type": "code",
   "execution_count": 201,
   "id": "1dbc2ec7",
   "metadata": {},
   "outputs": [
    {
     "data": {
      "application/vnd.microsoft.datawrangler.viewer.v0+json": {
       "columns": [
        {
         "name": "index",
         "rawType": "int64",
         "type": "integer"
        },
        {
         "name": "merchant_id",
         "rawType": "int64",
         "type": "integer"
        },
        {
         "name": "merchant_city",
         "rawType": "object",
         "type": "string"
        },
        {
         "name": "merchant_state",
         "rawType": "object",
         "type": "unknown"
        },
        {
         "name": "mcc",
         "rawType": "int64",
         "type": "integer"
        }
       ],
       "ref": "5ae2ead2-b43f-45b1-ac2e-8c959d490f4e",
       "rows": [
        [
         "0",
         "20561",
         "Houston",
         "TX",
         "5912"
        ],
        [
         "1",
         "58192",
         "La Habra",
         "CA",
         "4900"
        ],
        [
         "2",
         "39021",
         "ONLINE",
         null,
         "4784"
        ],
        [
         "3",
         "42636",
         "Hallandale",
         "FL",
         "7802"
        ],
        [
         "4",
         "87819",
         "Miami",
         "FL",
         "5812"
        ],
        [
         "5",
         "27092",
         "Crown Point",
         "IN",
         "4829"
        ],
        [
         "6",
         "50867",
         "Columbus",
         "OH",
         "5541"
        ],
        [
         "7",
         "36500",
         "Panama City",
         "FL",
         "5812"
        ],
        [
         "8",
         "7058",
         "Hawthorne",
         "CA",
         "5411"
        ],
        [
         "9",
         "47399",
         "ONLINE",
         null,
         "5815"
        ],
        [
         "10",
         "25717",
         "Jacksonville",
         "FL",
         "5812"
        ],
        [
         "11",
         "88646",
         "Jamaica",
         "NY",
         "5812"
        ],
        [
         "12",
         "39021",
         "ONLINE",
         null,
         "4784"
        ],
        [
         "13",
         "18563",
         "ONLINE",
         null,
         "4121"
        ],
        [
         "14",
         "20519",
         "San Benito",
         "TX",
         "5942"
        ],
        [
         "15",
         "37074",
         "Los Angeles",
         "CA",
         "5813"
        ],
        [
         "16",
         "69972",
         "Vacaville",
         "CA",
         "5814"
        ],
        [
         "17",
         "28079",
         "Ray City",
         "GA",
         "5411"
        ],
        [
         "18",
         "18563",
         "ONLINE",
         null,
         "4121"
        ],
        [
         "19",
         "82268",
         "Columbus",
         "OH",
         "5411"
        ],
        [
         "20",
         "12796",
         "Red Hook",
         "NY",
         "7922"
        ],
        [
         "21",
         "78632",
         "Tacoma",
         "WA",
         "5921"
        ],
        [
         "22",
         "58215",
         "Cleveland",
         "OH",
         "5813"
        ],
        [
         "23",
         "21586",
         "Grand Forks",
         "ND",
         "5411"
        ],
        [
         "24",
         "69972",
         "Vacaville",
         "CA",
         "5814"
        ],
        [
         "25",
         "35451",
         "Selma",
         "AL",
         "5812"
        ],
        [
         "26",
         "51090",
         "Irwin",
         "PA",
         "5812"
        ],
        [
         "27",
         "22204",
         "Meridian",
         "ID",
         "5541"
        ],
        [
         "28",
         "39021",
         "ONLINE",
         null,
         "4784"
        ],
        [
         "29",
         "50404",
         "ONLINE",
         null,
         "4784"
        ],
        [
         "30",
         "39021",
         "ONLINE",
         null,
         "4784"
        ],
        [
         "31",
         "44795",
         "Marysville",
         "OH",
         "3780"
        ],
        [
         "32",
         "59935",
         "Hailey",
         "ID",
         "5499"
        ],
        [
         "33",
         "62105",
         "Dickinson",
         "TX",
         "5411"
        ],
        [
         "34",
         "14528",
         "Garden City",
         "NY",
         "5499"
        ],
        [
         "35",
         "50783",
         "Higley",
         "AZ",
         "5411"
        ],
        [
         "36",
         "44795",
         "Marysville",
         "OH",
         "3780"
        ],
        [
         "37",
         "32480",
         "ONLINE",
         null,
         "4899"
        ],
        [
         "38",
         "70129",
         "ONLINE",
         null,
         "7801"
        ],
        [
         "39",
         "75936",
         "Jamaica",
         "NY",
         "5814"
        ],
        [
         "40",
         "4547",
         "Cordele",
         "GA",
         "5912"
        ],
        [
         "41",
         "5548",
         "Wilson",
         "NC",
         "5813"
        ],
        [
         "42",
         "18563",
         "ONLINE",
         null,
         "4121"
        ],
        [
         "43",
         "32175",
         "Los Angeles",
         "CA",
         "7538"
        ],
        [
         "44",
         "39021",
         "ONLINE",
         null,
         "4784"
        ],
        [
         "45",
         "82109",
         "Holly",
         "MI",
         "4121"
        ],
        [
         "46",
         "75781",
         "Manasquan",
         "NJ",
         "5411"
        ],
        [
         "47",
         "14003",
         "Charleston",
         "SC",
         "5812"
        ],
        [
         "48",
         "88945",
         "Cedar Park",
         "TX",
         "5813"
        ],
        [
         "49",
         "59935",
         "North Hollywood",
         "CA",
         "5499"
        ]
       ],
       "shape": {
        "columns": 4,
        "rows": 2554758
       }
      },
      "text/html": [
       "<div>\n",
       "<style scoped>\n",
       "    .dataframe tbody tr th:only-of-type {\n",
       "        vertical-align: middle;\n",
       "    }\n",
       "\n",
       "    .dataframe tbody tr th {\n",
       "        vertical-align: top;\n",
       "    }\n",
       "\n",
       "    .dataframe thead th {\n",
       "        text-align: right;\n",
       "    }\n",
       "</style>\n",
       "<table border=\"1\" class=\"dataframe\">\n",
       "  <thead>\n",
       "    <tr style=\"text-align: right;\">\n",
       "      <th></th>\n",
       "      <th>merchant_id</th>\n",
       "      <th>merchant_city</th>\n",
       "      <th>merchant_state</th>\n",
       "      <th>mcc</th>\n",
       "    </tr>\n",
       "  </thead>\n",
       "  <tbody>\n",
       "    <tr>\n",
       "      <th>0</th>\n",
       "      <td>20561</td>\n",
       "      <td>Houston</td>\n",
       "      <td>TX</td>\n",
       "      <td>5912</td>\n",
       "    </tr>\n",
       "    <tr>\n",
       "      <th>1</th>\n",
       "      <td>58192</td>\n",
       "      <td>La Habra</td>\n",
       "      <td>CA</td>\n",
       "      <td>4900</td>\n",
       "    </tr>\n",
       "    <tr>\n",
       "      <th>2</th>\n",
       "      <td>39021</td>\n",
       "      <td>ONLINE</td>\n",
       "      <td>NaN</td>\n",
       "      <td>4784</td>\n",
       "    </tr>\n",
       "    <tr>\n",
       "      <th>3</th>\n",
       "      <td>42636</td>\n",
       "      <td>Hallandale</td>\n",
       "      <td>FL</td>\n",
       "      <td>7802</td>\n",
       "    </tr>\n",
       "    <tr>\n",
       "      <th>4</th>\n",
       "      <td>87819</td>\n",
       "      <td>Miami</td>\n",
       "      <td>FL</td>\n",
       "      <td>5812</td>\n",
       "    </tr>\n",
       "    <tr>\n",
       "      <th>...</th>\n",
       "      <td>...</td>\n",
       "      <td>...</td>\n",
       "      <td>...</td>\n",
       "      <td>...</td>\n",
       "    </tr>\n",
       "    <tr>\n",
       "      <th>2554753</th>\n",
       "      <td>86438</td>\n",
       "      <td>West Covina</td>\n",
       "      <td>CA</td>\n",
       "      <td>5499</td>\n",
       "    </tr>\n",
       "    <tr>\n",
       "      <th>2554754</th>\n",
       "      <td>39261</td>\n",
       "      <td>ONLINE</td>\n",
       "      <td>NaN</td>\n",
       "      <td>5815</td>\n",
       "    </tr>\n",
       "    <tr>\n",
       "      <th>2554755</th>\n",
       "      <td>2925</td>\n",
       "      <td>Allen</td>\n",
       "      <td>TX</td>\n",
       "      <td>4900</td>\n",
       "    </tr>\n",
       "    <tr>\n",
       "      <th>2554756</th>\n",
       "      <td>46284</td>\n",
       "      <td>Daly City</td>\n",
       "      <td>CA</td>\n",
       "      <td>5411</td>\n",
       "    </tr>\n",
       "    <tr>\n",
       "      <th>2554757</th>\n",
       "      <td>24658</td>\n",
       "      <td>Greenbrier</td>\n",
       "      <td>TN</td>\n",
       "      <td>5921</td>\n",
       "    </tr>\n",
       "  </tbody>\n",
       "</table>\n",
       "<p>2554758 rows × 4 columns</p>\n",
       "</div>"
      ],
      "text/plain": [
       "         merchant_id merchant_city merchant_state   mcc\n",
       "0              20561       Houston             TX  5912\n",
       "1              58192      La Habra             CA  4900\n",
       "2              39021        ONLINE            NaN  4784\n",
       "3              42636    Hallandale             FL  7802\n",
       "4              87819         Miami             FL  5812\n",
       "...              ...           ...            ...   ...\n",
       "2554753        86438   West Covina             CA  5499\n",
       "2554754        39261        ONLINE            NaN  5815\n",
       "2554755         2925         Allen             TX  4900\n",
       "2554756        46284     Daly City             CA  5411\n",
       "2554757        24658    Greenbrier             TN  5921\n",
       "\n",
       "[2554758 rows x 4 columns]"
      ]
     },
     "execution_count": 201,
     "metadata": {},
     "output_type": "execute_result"
    }
   ],
   "source": [
    "merchant"
   ]
  },
  {
   "cell_type": "code",
   "execution_count": null,
   "id": "15e053f7",
   "metadata": {},
   "outputs": [],
   "source": []
  }
 ],
 "metadata": {
  "kernelspec": {
   "display_name": "financial_transaction_project",
   "language": "python",
   "name": "python3"
  },
  "language_info": {
   "codemirror_mode": {
    "name": "ipython",
    "version": 3
   },
   "file_extension": ".py",
   "mimetype": "text/x-python",
   "name": "python",
   "nbconvert_exporter": "python",
   "pygments_lexer": "ipython3",
   "version": "3.13.0"
  }
 },
 "nbformat": 4,
 "nbformat_minor": 5
}
