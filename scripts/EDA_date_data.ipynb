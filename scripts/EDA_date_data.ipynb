{
 "cells": [
  {
   "cell_type": "code",
   "execution_count": 2,
   "id": "d1490775",
   "metadata": {},
   "outputs": [],
   "source": [
    "import pandas as pd\n",
    "import numpy as np\n",
    "import logging\n",
    "import importlib\n",
    "import ETL.config as config\n",
    "import ETL.extract_data as extract\n",
    "import ETL.utils as utils\n",
    "\n",
    "importlib.reload(config)\n",
    "importlib.reload(utils)\n",
    "\n",
    "logger = logging.getLogger(__name__)"
   ]
  },
  {
   "cell_type": "code",
   "execution_count": 3,
   "id": "8c90e4b4",
   "metadata": {},
   "outputs": [],
   "source": [
    "df = extract.extract_data(config.FILTERED_TRANSACTIONS_FILE_LOCAL,'DATE',['date'])"
   ]
  },
  {
   "cell_type": "code",
   "execution_count": 39,
   "id": "13cc0b1d",
   "metadata": {},
   "outputs": [
    {
     "name": "stdout",
     "output_type": "stream",
     "text": [
      "3954066\n"
     ]
    }
   ],
   "source": [
    "df.drop_duplicates()\n",
    "df.sample(10)\n",
    "print(len(df))"
   ]
  },
  {
   "cell_type": "code",
   "execution_count": 66,
   "id": "03cfd7f5",
   "metadata": {},
   "outputs": [
    {
     "data": {
      "application/vnd.microsoft.datawrangler.viewer.v0+json": {
       "columns": [
        {
         "name": "index",
         "rawType": "int64",
         "type": "integer"
        },
        {
         "name": "date",
         "rawType": "object",
         "type": "string"
        }
       ],
       "ref": "8de17c13-d3c6-4a01-a818-126466a5afb4",
       "rows": [
        [
         "2150514",
         "2018-07-16 13:03:00"
        ],
        [
         "2871556",
         "2019-01-21 08:39:00"
        ],
        [
         "3841546",
         "2019-10-02 12:07:00"
        ],
        [
         "1234387",
         "2017-11-18 21:33:00"
        ],
        [
         "477742",
         "2017-05-05 14:48:00"
        ],
        [
         "1811144",
         "2018-04-18 14:21:00"
        ],
        [
         "1364958",
         "2017-12-23 06:13:00"
        ],
        [
         "3950679",
         "2019-10-31 07:26:00"
        ],
        [
         "1355196",
         "2017-12-20 13:08:00"
        ],
        [
         "1618184",
         "2018-02-27 07:44:00"
        ]
       ],
       "shape": {
        "columns": 1,
        "rows": 10
       }
      },
      "text/html": [
       "<div>\n",
       "<style scoped>\n",
       "    .dataframe tbody tr th:only-of-type {\n",
       "        vertical-align: middle;\n",
       "    }\n",
       "\n",
       "    .dataframe tbody tr th {\n",
       "        vertical-align: top;\n",
       "    }\n",
       "\n",
       "    .dataframe thead th {\n",
       "        text-align: right;\n",
       "    }\n",
       "</style>\n",
       "<table border=\"1\" class=\"dataframe\">\n",
       "  <thead>\n",
       "    <tr style=\"text-align: right;\">\n",
       "      <th></th>\n",
       "      <th>date</th>\n",
       "    </tr>\n",
       "  </thead>\n",
       "  <tbody>\n",
       "    <tr>\n",
       "      <th>2150514</th>\n",
       "      <td>2018-07-16 13:03:00</td>\n",
       "    </tr>\n",
       "    <tr>\n",
       "      <th>2871556</th>\n",
       "      <td>2019-01-21 08:39:00</td>\n",
       "    </tr>\n",
       "    <tr>\n",
       "      <th>3841546</th>\n",
       "      <td>2019-10-02 12:07:00</td>\n",
       "    </tr>\n",
       "    <tr>\n",
       "      <th>1234387</th>\n",
       "      <td>2017-11-18 21:33:00</td>\n",
       "    </tr>\n",
       "    <tr>\n",
       "      <th>477742</th>\n",
       "      <td>2017-05-05 14:48:00</td>\n",
       "    </tr>\n",
       "    <tr>\n",
       "      <th>1811144</th>\n",
       "      <td>2018-04-18 14:21:00</td>\n",
       "    </tr>\n",
       "    <tr>\n",
       "      <th>1364958</th>\n",
       "      <td>2017-12-23 06:13:00</td>\n",
       "    </tr>\n",
       "    <tr>\n",
       "      <th>3950679</th>\n",
       "      <td>2019-10-31 07:26:00</td>\n",
       "    </tr>\n",
       "    <tr>\n",
       "      <th>1355196</th>\n",
       "      <td>2017-12-20 13:08:00</td>\n",
       "    </tr>\n",
       "    <tr>\n",
       "      <th>1618184</th>\n",
       "      <td>2018-02-27 07:44:00</td>\n",
       "    </tr>\n",
       "  </tbody>\n",
       "</table>\n",
       "</div>"
      ],
      "text/plain": [
       "                        date\n",
       "2150514  2018-07-16 13:03:00\n",
       "2871556  2019-01-21 08:39:00\n",
       "3841546  2019-10-02 12:07:00\n",
       "1234387  2017-11-18 21:33:00\n",
       "477742   2017-05-05 14:48:00\n",
       "1811144  2018-04-18 14:21:00\n",
       "1364958  2017-12-23 06:13:00\n",
       "3950679  2019-10-31 07:26:00\n",
       "1355196  2017-12-20 13:08:00\n",
       "1618184  2018-02-27 07:44:00"
      ]
     },
     "execution_count": 66,
     "metadata": {},
     "output_type": "execute_result"
    }
   ],
   "source": [
    "df.sample(10)"
   ]
  },
  {
   "cell_type": "code",
   "execution_count": 58,
   "id": "ce2515ba",
   "metadata": {},
   "outputs": [],
   "source": [
    "df['date_key'] = df['date'].str.replace(r'[^A-Za-z0-9]','',regex=True).str[:8]"
   ]
  },
  {
   "cell_type": "code",
   "execution_count": 7,
   "id": "e28506a9",
   "metadata": {},
   "outputs": [
    {
     "name": "stdout",
     "output_type": "stream",
     "text": [
      "<class 'pandas.core.frame.DataFrame'>\n",
      "RangeIndex: 3954066 entries, 0 to 3954065\n",
      "Data columns (total 1 columns):\n",
      " #   Column  Non-Null Count    Dtype \n",
      "---  ------  --------------    ----- \n",
      " 0   date    3954066 non-null  object\n",
      "dtypes: object(1)\n",
      "memory usage: 30.2+ MB\n"
     ]
    }
   ],
   "source": [
    "df.info(show_counts=True)"
   ]
  },
  {
   "cell_type": "code",
   "execution_count": null,
   "id": "6b14ff4a",
   "metadata": {},
   "outputs": [],
   "source": [
    "df['date'] = pd.to_datetime(df['date'])\n",
    "df['year']"
   ]
  },
  {
   "cell_type": "code",
   "execution_count": 12,
   "id": "0575ed30",
   "metadata": {},
   "outputs": [
    {
     "data": {
      "application/vnd.microsoft.datawrangler.viewer.v0+json": {
       "columns": [
        {
         "name": "date",
         "rawType": "int32",
         "type": "integer"
        },
        {
         "name": "count",
         "rawType": "int64",
         "type": "integer"
        }
       ],
       "ref": "cd37713d-d0b5-4588-b40f-7f897e54d5c0",
       "rows": [
        [
         "2017",
         "1399308"
        ],
        [
         "2018",
         "1394792"
        ],
        [
         "2019",
         "1159966"
        ]
       ],
       "shape": {
        "columns": 1,
        "rows": 3
       }
      },
      "text/plain": [
       "date\n",
       "2017    1399308\n",
       "2018    1394792\n",
       "2019    1159966\n",
       "Name: count, dtype: int64"
      ]
     },
     "execution_count": 12,
     "metadata": {},
     "output_type": "execute_result"
    }
   ],
   "source": [
    "df['date'].dt.year.value_counts()"
   ]
  },
  {
   "cell_type": "code",
   "execution_count": null,
   "id": "299d321b",
   "metadata": {},
   "outputs": [
    {
     "data": {
      "application/vnd.microsoft.datawrangler.viewer.v0+json": {
       "columns": [
        {
         "name": "date",
         "rawType": "object",
         "type": "string"
        },
        {
         "name": "count",
         "rawType": "int64",
         "type": "integer"
        }
       ],
       "ref": "1a45a775-4a3d-4fec-9624-c2669aba1148",
       "rows": [
        [
         "November",
         "230180"
        ],
        [
         "December",
         "237131"
        ],
        [
         "February",
         "320509"
        ],
        [
         "April",
         "344230"
        ],
        [
         "September",
         "344752"
        ],
        [
         "June",
         "345242"
        ],
        [
         "October",
         "353234"
        ],
        [
         "May",
         "354319"
        ],
        [
         "January",
         "355568"
        ],
        [
         "March",
         "355889"
        ],
        [
         "July",
         "356339"
        ],
        [
         "August",
         "356673"
        ]
       ],
       "shape": {
        "columns": 1,
        "rows": 12
       }
      },
      "text/plain": [
       "date\n",
       "November     230180\n",
       "December     237131\n",
       "February     320509\n",
       "April        344230\n",
       "September    344752\n",
       "June         345242\n",
       "October      353234\n",
       "May          354319\n",
       "January      355568\n",
       "March        355889\n",
       "July         356339\n",
       "August       356673\n",
       "Name: count, dtype: int64"
      ]
     },
     "execution_count": 15,
     "metadata": {},
     "output_type": "execute_result"
    }
   ],
   "source": [
    "df['date'].dt.month_name().value_counts()"
   ]
  },
  {
   "cell_type": "code",
   "execution_count": null,
   "id": "12d07f9a",
   "metadata": {},
   "outputs": [],
   "source": [
    "df['date'] = pd.to_datetime(df['date'])\n",
    "df['year'] = df['date'].dt.year\n",
    "df['quarter'] = df['date'].dt.quarter\n",
    "df['month'] = df['date'].dt.month\n",
    "df['month_name'] = df['date'].dt.month_name()\n",
    "df['day'] = df['date'].dt.day\n",
    "df['day_name'] = df['date'].dt.day_name()\n",
    "df['day_of_week'] = df['date'].dt.day_of_week\n",
    "df['day_type'] = (df['date'].dt.weekday > 5).map({True: 'Weekend', False: 'Weekday'})"
   ]
  },
  {
   "cell_type": "code",
   "execution_count": 34,
   "id": "3856c3b1",
   "metadata": {},
   "outputs": [],
   "source": [
    "df['hour'] = df['date'].dt.hour\n",
    "df['minute'] = df['date'].dt.minute"
   ]
  },
  {
   "cell_type": "code",
   "execution_count": 67,
   "id": "9d825143",
   "metadata": {},
   "outputs": [
    {
     "data": {
      "application/vnd.microsoft.datawrangler.viewer.v0+json": {
       "columns": [
        {
         "name": "index",
         "rawType": "int64",
         "type": "integer"
        },
        {
         "name": "date",
         "rawType": "object",
         "type": "string"
        }
       ],
       "ref": "67a041a9-0929-43cf-8ebc-1a8105d2d364",
       "rows": [
        [
         "3388284",
         "2019-06-06 06:22:00"
        ],
        [
         "573362",
         "2017-05-30 16:19:00"
        ],
        [
         "2671293",
         "2018-11-29 18:04:00"
        ],
        [
         "3289573",
         "2019-05-11 06:53:00"
        ],
        [
         "2711988",
         "2018-12-10 12:13:00"
        ],
        [
         "3185512",
         "2019-04-13 16:37:00"
        ],
        [
         "1746531",
         "2018-04-01 15:32:00"
        ],
        [
         "1729547",
         "2018-03-28 10:47:00"
        ],
        [
         "3131932",
         "2019-03-30 14:55:00"
        ],
        [
         "176952",
         "2017-02-16 09:14:00"
        ]
       ],
       "shape": {
        "columns": 1,
        "rows": 10
       }
      },
      "text/html": [
       "<div>\n",
       "<style scoped>\n",
       "    .dataframe tbody tr th:only-of-type {\n",
       "        vertical-align: middle;\n",
       "    }\n",
       "\n",
       "    .dataframe tbody tr th {\n",
       "        vertical-align: top;\n",
       "    }\n",
       "\n",
       "    .dataframe thead th {\n",
       "        text-align: right;\n",
       "    }\n",
       "</style>\n",
       "<table border=\"1\" class=\"dataframe\">\n",
       "  <thead>\n",
       "    <tr style=\"text-align: right;\">\n",
       "      <th></th>\n",
       "      <th>date</th>\n",
       "    </tr>\n",
       "  </thead>\n",
       "  <tbody>\n",
       "    <tr>\n",
       "      <th>3388284</th>\n",
       "      <td>2019-06-06 06:22:00</td>\n",
       "    </tr>\n",
       "    <tr>\n",
       "      <th>573362</th>\n",
       "      <td>2017-05-30 16:19:00</td>\n",
       "    </tr>\n",
       "    <tr>\n",
       "      <th>2671293</th>\n",
       "      <td>2018-11-29 18:04:00</td>\n",
       "    </tr>\n",
       "    <tr>\n",
       "      <th>3289573</th>\n",
       "      <td>2019-05-11 06:53:00</td>\n",
       "    </tr>\n",
       "    <tr>\n",
       "      <th>2711988</th>\n",
       "      <td>2018-12-10 12:13:00</td>\n",
       "    </tr>\n",
       "    <tr>\n",
       "      <th>3185512</th>\n",
       "      <td>2019-04-13 16:37:00</td>\n",
       "    </tr>\n",
       "    <tr>\n",
       "      <th>1746531</th>\n",
       "      <td>2018-04-01 15:32:00</td>\n",
       "    </tr>\n",
       "    <tr>\n",
       "      <th>1729547</th>\n",
       "      <td>2018-03-28 10:47:00</td>\n",
       "    </tr>\n",
       "    <tr>\n",
       "      <th>3131932</th>\n",
       "      <td>2019-03-30 14:55:00</td>\n",
       "    </tr>\n",
       "    <tr>\n",
       "      <th>176952</th>\n",
       "      <td>2017-02-16 09:14:00</td>\n",
       "    </tr>\n",
       "  </tbody>\n",
       "</table>\n",
       "</div>"
      ],
      "text/plain": [
       "                        date\n",
       "3388284  2019-06-06 06:22:00\n",
       "573362   2017-05-30 16:19:00\n",
       "2671293  2018-11-29 18:04:00\n",
       "3289573  2019-05-11 06:53:00\n",
       "2711988  2018-12-10 12:13:00\n",
       "3185512  2019-04-13 16:37:00\n",
       "1746531  2018-04-01 15:32:00\n",
       "1729547  2018-03-28 10:47:00\n",
       "3131932  2019-03-30 14:55:00\n",
       "176952   2017-02-16 09:14:00"
      ]
     },
     "execution_count": 67,
     "metadata": {},
     "output_type": "execute_result"
    }
   ],
   "source": [
    "df.sample(10)"
   ]
  },
  {
   "cell_type": "code",
   "execution_count": 4,
   "id": "868dfc1f",
   "metadata": {},
   "outputs": [],
   "source": [
    "def create_dim_date(df: pd.DataFrame, data_name: str) -> pd.DataFrame:\n",
    "    '''\n",
    "    Creates a date dimension table from a given DataFrame containing date-related data.\n",
    "\n",
    "    Parameters:\n",
    "    df : pd.DataFrame\n",
    "        Input DataFrame that includes at least one column with datetime or date information.\n",
    "    \n",
    "    data_name : str\n",
    "        A label or identifier used to name or tag the generated date dimension table.\n",
    "\n",
    "    Returns:\n",
    "    pd.DataFrame\n",
    "        A transformed DataFrame structured as a date dimension, with additional time-related columns such as:\n",
    "        - year\n",
    "        - quarter\n",
    "        - month\n",
    "        - day\n",
    "        - day of week\n",
    "        - flags for holiday or weekend\n",
    "        - custom hierarchy levels (if needed)\n",
    "    '''\n",
    "    bins   = [-1, 15, 30, 45, 59] #use it to create ['minute_block']\n",
    "    labels = ['0015', '1630', '3145', '4659'] #use it to create ['minute_block']\n",
    "    \n",
    "\n",
    "    try:\n",
    "        logger.info(f'Starting ETL {data_name} data')\n",
    "        \n",
    "        df = df.drop_duplicates()\n",
    "        df['date'] = pd.to_datetime(df['date'], errors='raise')\n",
    "        dt = df['date'].dt\n",
    "\n",
    "        df['year'] = dt.year\n",
    "        df['quarter'] = dt.quarter\n",
    "        df['month'] = dt.month.astype(str).str.zfill(2)\n",
    "        df['month_name'] = dt.month_name()\n",
    "        df['day'] = dt.day.astype(str).str.zfill(2)\n",
    "        df['day_name'] = dt.day_name()\n",
    "        df['day_of_week'] = dt.day_of_week\n",
    "        df['day_type'] = (dt.weekday > 5).map({True: 'Weekend', False: 'Weekday'})\n",
    "        df['hour'] = dt.hour.astype(str).str.zfill(2)\n",
    "        df['minute_block'] = pd.cut(pd.to_datetime(df['date']).dt.minute, bins=bins, labels=labels).astype(str)\n",
    "        #df['date_key'] = df['date'].astype(str).str.replace(r'[^A-Za-z0-9]','',regex=True).str[:8] + df['minute_block'].astype(str)\n",
    "        \n",
    "        df['date_key'] = (\n",
    "        df['year'].astype(str) +\n",
    "        df['month'].astype(str) +\n",
    "        df['day'].astype(str) +\n",
    "        df['hour'].astype(str) +\n",
    "        df['minute_block']\n",
    "        )\n",
    "        df['date_key'] = df['date_key'].astype(int)\n",
    "\n",
    "        return df.drop(columns='date').drop_duplicates()\n",
    "\n",
    "    except Exception as e:\n",
    "        logger.info(f'Error in creating date dimension for {data_name}: {e}')\n",
    "        raise"
   ]
  },
  {
   "cell_type": "code",
   "execution_count": 5,
   "id": "29b7b506",
   "metadata": {},
   "outputs": [
    {
     "data": {
      "application/vnd.microsoft.datawrangler.viewer.v0+json": {
       "columns": [
        {
         "name": "index",
         "rawType": "int64",
         "type": "integer"
        },
        {
         "name": "date",
         "rawType": "object",
         "type": "string"
        }
       ],
       "ref": "9f41e10d-9ae1-4091-8ab9-eb8f6c772e1c",
       "rows": [
        [
         "2928548",
         "2019-02-05 08:02:00"
        ],
        [
         "3050141",
         "2019-03-09 08:52:00"
        ],
        [
         "2387329",
         "2018-09-16 09:51:00"
        ],
        [
         "3482097",
         "2019-06-30 12:13:00"
        ],
        [
         "3573751",
         "2019-07-24 10:53:00"
        ]
       ],
       "shape": {
        "columns": 1,
        "rows": 5
       }
      },
      "text/html": [
       "<div>\n",
       "<style scoped>\n",
       "    .dataframe tbody tr th:only-of-type {\n",
       "        vertical-align: middle;\n",
       "    }\n",
       "\n",
       "    .dataframe tbody tr th {\n",
       "        vertical-align: top;\n",
       "    }\n",
       "\n",
       "    .dataframe thead th {\n",
       "        text-align: right;\n",
       "    }\n",
       "</style>\n",
       "<table border=\"1\" class=\"dataframe\">\n",
       "  <thead>\n",
       "    <tr style=\"text-align: right;\">\n",
       "      <th></th>\n",
       "      <th>date</th>\n",
       "    </tr>\n",
       "  </thead>\n",
       "  <tbody>\n",
       "    <tr>\n",
       "      <th>2928548</th>\n",
       "      <td>2019-02-05 08:02:00</td>\n",
       "    </tr>\n",
       "    <tr>\n",
       "      <th>3050141</th>\n",
       "      <td>2019-03-09 08:52:00</td>\n",
       "    </tr>\n",
       "    <tr>\n",
       "      <th>2387329</th>\n",
       "      <td>2018-09-16 09:51:00</td>\n",
       "    </tr>\n",
       "    <tr>\n",
       "      <th>3482097</th>\n",
       "      <td>2019-06-30 12:13:00</td>\n",
       "    </tr>\n",
       "    <tr>\n",
       "      <th>3573751</th>\n",
       "      <td>2019-07-24 10:53:00</td>\n",
       "    </tr>\n",
       "  </tbody>\n",
       "</table>\n",
       "</div>"
      ],
      "text/plain": [
       "                        date\n",
       "2928548  2019-02-05 08:02:00\n",
       "3050141  2019-03-09 08:52:00\n",
       "2387329  2018-09-16 09:51:00\n",
       "3482097  2019-06-30 12:13:00\n",
       "3573751  2019-07-24 10:53:00"
      ]
     },
     "execution_count": 5,
     "metadata": {},
     "output_type": "execute_result"
    }
   ],
   "source": [
    "df.sample(5)"
   ]
  },
  {
   "cell_type": "code",
   "execution_count": 6,
   "id": "99c3c4ca",
   "metadata": {},
   "outputs": [
    {
     "name": "stderr",
     "output_type": "stream",
     "text": [
      "C:\\Users\\jimmy\\AppData\\Local\\Temp\\ipykernel_28456\\1166741491.py:31: SettingWithCopyWarning: \n",
      "A value is trying to be set on a copy of a slice from a DataFrame.\n",
      "Try using .loc[row_indexer,col_indexer] = value instead\n",
      "\n",
      "See the caveats in the documentation: https://pandas.pydata.org/pandas-docs/stable/user_guide/indexing.html#returning-a-view-versus-a-copy\n",
      "  df['date'] = pd.to_datetime(df['date'], errors='raise')\n",
      "C:\\Users\\jimmy\\AppData\\Local\\Temp\\ipykernel_28456\\1166741491.py:34: SettingWithCopyWarning: \n",
      "A value is trying to be set on a copy of a slice from a DataFrame.\n",
      "Try using .loc[row_indexer,col_indexer] = value instead\n",
      "\n",
      "See the caveats in the documentation: https://pandas.pydata.org/pandas-docs/stable/user_guide/indexing.html#returning-a-view-versus-a-copy\n",
      "  df['year'] = dt.year\n",
      "C:\\Users\\jimmy\\AppData\\Local\\Temp\\ipykernel_28456\\1166741491.py:35: SettingWithCopyWarning: \n",
      "A value is trying to be set on a copy of a slice from a DataFrame.\n",
      "Try using .loc[row_indexer,col_indexer] = value instead\n",
      "\n",
      "See the caveats in the documentation: https://pandas.pydata.org/pandas-docs/stable/user_guide/indexing.html#returning-a-view-versus-a-copy\n",
      "  df['quarter'] = dt.quarter\n",
      "C:\\Users\\jimmy\\AppData\\Local\\Temp\\ipykernel_28456\\1166741491.py:36: SettingWithCopyWarning: \n",
      "A value is trying to be set on a copy of a slice from a DataFrame.\n",
      "Try using .loc[row_indexer,col_indexer] = value instead\n",
      "\n",
      "See the caveats in the documentation: https://pandas.pydata.org/pandas-docs/stable/user_guide/indexing.html#returning-a-view-versus-a-copy\n",
      "  df['month'] = dt.month.astype(str).str.zfill(2)\n",
      "C:\\Users\\jimmy\\AppData\\Local\\Temp\\ipykernel_28456\\1166741491.py:37: SettingWithCopyWarning: \n",
      "A value is trying to be set on a copy of a slice from a DataFrame.\n",
      "Try using .loc[row_indexer,col_indexer] = value instead\n",
      "\n",
      "See the caveats in the documentation: https://pandas.pydata.org/pandas-docs/stable/user_guide/indexing.html#returning-a-view-versus-a-copy\n",
      "  df['month_name'] = dt.month_name()\n",
      "C:\\Users\\jimmy\\AppData\\Local\\Temp\\ipykernel_28456\\1166741491.py:38: SettingWithCopyWarning: \n",
      "A value is trying to be set on a copy of a slice from a DataFrame.\n",
      "Try using .loc[row_indexer,col_indexer] = value instead\n",
      "\n",
      "See the caveats in the documentation: https://pandas.pydata.org/pandas-docs/stable/user_guide/indexing.html#returning-a-view-versus-a-copy\n",
      "  df['day'] = dt.day.astype(str).str.zfill(2)\n",
      "C:\\Users\\jimmy\\AppData\\Local\\Temp\\ipykernel_28456\\1166741491.py:39: SettingWithCopyWarning: \n",
      "A value is trying to be set on a copy of a slice from a DataFrame.\n",
      "Try using .loc[row_indexer,col_indexer] = value instead\n",
      "\n",
      "See the caveats in the documentation: https://pandas.pydata.org/pandas-docs/stable/user_guide/indexing.html#returning-a-view-versus-a-copy\n",
      "  df['day_name'] = dt.day_name()\n",
      "C:\\Users\\jimmy\\AppData\\Local\\Temp\\ipykernel_28456\\1166741491.py:40: SettingWithCopyWarning: \n",
      "A value is trying to be set on a copy of a slice from a DataFrame.\n",
      "Try using .loc[row_indexer,col_indexer] = value instead\n",
      "\n",
      "See the caveats in the documentation: https://pandas.pydata.org/pandas-docs/stable/user_guide/indexing.html#returning-a-view-versus-a-copy\n",
      "  df['day_of_week'] = dt.day_of_week\n",
      "C:\\Users\\jimmy\\AppData\\Local\\Temp\\ipykernel_28456\\1166741491.py:41: SettingWithCopyWarning: \n",
      "A value is trying to be set on a copy of a slice from a DataFrame.\n",
      "Try using .loc[row_indexer,col_indexer] = value instead\n",
      "\n",
      "See the caveats in the documentation: https://pandas.pydata.org/pandas-docs/stable/user_guide/indexing.html#returning-a-view-versus-a-copy\n",
      "  df['day_type'] = (dt.weekday > 5).map({True: 'Weekend', False: 'Weekday'})\n",
      "C:\\Users\\jimmy\\AppData\\Local\\Temp\\ipykernel_28456\\1166741491.py:42: SettingWithCopyWarning: \n",
      "A value is trying to be set on a copy of a slice from a DataFrame.\n",
      "Try using .loc[row_indexer,col_indexer] = value instead\n",
      "\n",
      "See the caveats in the documentation: https://pandas.pydata.org/pandas-docs/stable/user_guide/indexing.html#returning-a-view-versus-a-copy\n",
      "  df['hour'] = dt.hour.astype(str).str.zfill(2)\n",
      "C:\\Users\\jimmy\\AppData\\Local\\Temp\\ipykernel_28456\\1166741491.py:43: SettingWithCopyWarning: \n",
      "A value is trying to be set on a copy of a slice from a DataFrame.\n",
      "Try using .loc[row_indexer,col_indexer] = value instead\n",
      "\n",
      "See the caveats in the documentation: https://pandas.pydata.org/pandas-docs/stable/user_guide/indexing.html#returning-a-view-versus-a-copy\n",
      "  df['minute_block'] = pd.cut(pd.to_datetime(df['date']).dt.minute, bins=bins, labels=labels).astype(str)\n",
      "C:\\Users\\jimmy\\AppData\\Local\\Temp\\ipykernel_28456\\1166741491.py:46: SettingWithCopyWarning: \n",
      "A value is trying to be set on a copy of a slice from a DataFrame.\n",
      "Try using .loc[row_indexer,col_indexer] = value instead\n",
      "\n",
      "See the caveats in the documentation: https://pandas.pydata.org/pandas-docs/stable/user_guide/indexing.html#returning-a-view-versus-a-copy\n",
      "  df['date_key'] = (\n",
      "C:\\Users\\jimmy\\AppData\\Local\\Temp\\ipykernel_28456\\1166741491.py:53: SettingWithCopyWarning: \n",
      "A value is trying to be set on a copy of a slice from a DataFrame.\n",
      "Try using .loc[row_indexer,col_indexer] = value instead\n",
      "\n",
      "See the caveats in the documentation: https://pandas.pydata.org/pandas-docs/stable/user_guide/indexing.html#returning-a-view-versus-a-copy\n",
      "  df['date_key'] = df['date_key'].astype(int)\n"
     ]
    }
   ],
   "source": [
    "dim_date = create_dim_date(df,'dim_date')"
   ]
  },
  {
   "cell_type": "code",
   "execution_count": 7,
   "id": "9befbcdc",
   "metadata": {},
   "outputs": [
    {
     "name": "stdout",
     "output_type": "stream",
     "text": [
      "<class 'pandas.core.frame.DataFrame'>\n",
      "Index: 99254 entries, 0 to 3954051\n",
      "Data columns (total 11 columns):\n",
      " #   Column        Non-Null Count  Dtype \n",
      "---  ------        --------------  ----- \n",
      " 0   year          99254 non-null  int32 \n",
      " 1   quarter       99254 non-null  int32 \n",
      " 2   month         99254 non-null  object\n",
      " 3   month_name    99254 non-null  object\n",
      " 4   day           99254 non-null  object\n",
      " 5   day_name      99254 non-null  object\n",
      " 6   day_of_week   99254 non-null  int32 \n",
      " 7   day_type      99254 non-null  object\n",
      " 8   hour          99254 non-null  object\n",
      " 9   minute_block  99254 non-null  object\n",
      " 10  date_key      99254 non-null  int64 \n",
      "dtypes: int32(3), int64(1), object(7)\n",
      "memory usage: 8.0+ MB\n"
     ]
    }
   ],
   "source": [
    "dim_date.info()"
   ]
  },
  {
   "cell_type": "code",
   "execution_count": 202,
   "id": "5350d3ee",
   "metadata": {},
   "outputs": [
    {
     "data": {
      "application/vnd.microsoft.datawrangler.viewer.v0+json": {
       "columns": [
        {
         "name": "index",
         "rawType": "int64",
         "type": "integer"
        },
        {
         "name": "year",
         "rawType": "int32",
         "type": "integer"
        },
        {
         "name": "quarter",
         "rawType": "int32",
         "type": "integer"
        },
        {
         "name": "month",
         "rawType": "object",
         "type": "string"
        },
        {
         "name": "month_name",
         "rawType": "object",
         "type": "string"
        },
        {
         "name": "day",
         "rawType": "object",
         "type": "string"
        },
        {
         "name": "day_name",
         "rawType": "object",
         "type": "string"
        },
        {
         "name": "day_of_week",
         "rawType": "int32",
         "type": "integer"
        },
        {
         "name": "day_type",
         "rawType": "object",
         "type": "string"
        },
        {
         "name": "hour",
         "rawType": "object",
         "type": "string"
        },
        {
         "name": "minute_block",
         "rawType": "object",
         "type": "string"
        },
        {
         "name": "date_key",
         "rawType": "int64",
         "type": "integer"
        }
       ],
       "ref": "a97ee01e-c0e0-40a7-a274-ecd10b4be7f8",
       "rows": [
        [
         "217616",
         "2017",
         "1",
         "02",
         "February",
         "26",
         "Sunday",
         "6",
         "Weekend",
         "17",
         "4659",
         "20170226174659"
        ],
        [
         "616252",
         "2017",
         "2",
         "06",
         "June",
         "10",
         "Saturday",
         "5",
         "Weekday",
         "16",
         "4659",
         "20170610164659"
        ],
        [
         "728706",
         "2017",
         "3",
         "07",
         "July",
         "10",
         "Monday",
         "0",
         "Weekday",
         "03",
         "3145",
         "20170710033145"
        ],
        [
         "1148130",
         "2017",
         "4",
         "10",
         "October",
         "27",
         "Friday",
         "4",
         "Weekday",
         "13",
         "0015",
         "20171027130015"
        ],
        [
         "666139",
         "2017",
         "2",
         "06",
         "June",
         "23",
         "Friday",
         "4",
         "Weekday",
         "16",
         "4659",
         "20170623164659"
        ],
        [
         "665519",
         "2017",
         "2",
         "06",
         "June",
         "23",
         "Friday",
         "4",
         "Weekday",
         "14",
         "1630",
         "20170623141630"
        ],
        [
         "324558",
         "2017",
         "1",
         "03",
         "March",
         "26",
         "Sunday",
         "6",
         "Weekend",
         "20",
         "0015",
         "20170326200015"
        ],
        [
         "3744625",
         "2019",
         "3",
         "09",
         "September",
         "06",
         "Friday",
         "4",
         "Weekday",
         "20",
         "3145",
         "20190906203145"
        ],
        [
         "2527840",
         "2018",
         "4",
         "10",
         "October",
         "23",
         "Tuesday",
         "1",
         "Weekday",
         "10",
         "0015",
         "20181023100015"
        ],
        [
         "271852",
         "2017",
         "1",
         "03",
         "March",
         "13",
         "Monday",
         "0",
         "Weekday",
         "01",
         "3145",
         "20170313013145"
        ]
       ],
       "shape": {
        "columns": 11,
        "rows": 10
       }
      },
      "text/html": [
       "<div>\n",
       "<style scoped>\n",
       "    .dataframe tbody tr th:only-of-type {\n",
       "        vertical-align: middle;\n",
       "    }\n",
       "\n",
       "    .dataframe tbody tr th {\n",
       "        vertical-align: top;\n",
       "    }\n",
       "\n",
       "    .dataframe thead th {\n",
       "        text-align: right;\n",
       "    }\n",
       "</style>\n",
       "<table border=\"1\" class=\"dataframe\">\n",
       "  <thead>\n",
       "    <tr style=\"text-align: right;\">\n",
       "      <th></th>\n",
       "      <th>year</th>\n",
       "      <th>quarter</th>\n",
       "      <th>month</th>\n",
       "      <th>month_name</th>\n",
       "      <th>day</th>\n",
       "      <th>day_name</th>\n",
       "      <th>day_of_week</th>\n",
       "      <th>day_type</th>\n",
       "      <th>hour</th>\n",
       "      <th>minute_block</th>\n",
       "      <th>date_key</th>\n",
       "    </tr>\n",
       "  </thead>\n",
       "  <tbody>\n",
       "    <tr>\n",
       "      <th>217616</th>\n",
       "      <td>2017</td>\n",
       "      <td>1</td>\n",
       "      <td>02</td>\n",
       "      <td>February</td>\n",
       "      <td>26</td>\n",
       "      <td>Sunday</td>\n",
       "      <td>6</td>\n",
       "      <td>Weekend</td>\n",
       "      <td>17</td>\n",
       "      <td>4659</td>\n",
       "      <td>20170226174659</td>\n",
       "    </tr>\n",
       "    <tr>\n",
       "      <th>616252</th>\n",
       "      <td>2017</td>\n",
       "      <td>2</td>\n",
       "      <td>06</td>\n",
       "      <td>June</td>\n",
       "      <td>10</td>\n",
       "      <td>Saturday</td>\n",
       "      <td>5</td>\n",
       "      <td>Weekday</td>\n",
       "      <td>16</td>\n",
       "      <td>4659</td>\n",
       "      <td>20170610164659</td>\n",
       "    </tr>\n",
       "    <tr>\n",
       "      <th>728706</th>\n",
       "      <td>2017</td>\n",
       "      <td>3</td>\n",
       "      <td>07</td>\n",
       "      <td>July</td>\n",
       "      <td>10</td>\n",
       "      <td>Monday</td>\n",
       "      <td>0</td>\n",
       "      <td>Weekday</td>\n",
       "      <td>03</td>\n",
       "      <td>3145</td>\n",
       "      <td>20170710033145</td>\n",
       "    </tr>\n",
       "    <tr>\n",
       "      <th>1148130</th>\n",
       "      <td>2017</td>\n",
       "      <td>4</td>\n",
       "      <td>10</td>\n",
       "      <td>October</td>\n",
       "      <td>27</td>\n",
       "      <td>Friday</td>\n",
       "      <td>4</td>\n",
       "      <td>Weekday</td>\n",
       "      <td>13</td>\n",
       "      <td>0015</td>\n",
       "      <td>20171027130015</td>\n",
       "    </tr>\n",
       "    <tr>\n",
       "      <th>666139</th>\n",
       "      <td>2017</td>\n",
       "      <td>2</td>\n",
       "      <td>06</td>\n",
       "      <td>June</td>\n",
       "      <td>23</td>\n",
       "      <td>Friday</td>\n",
       "      <td>4</td>\n",
       "      <td>Weekday</td>\n",
       "      <td>16</td>\n",
       "      <td>4659</td>\n",
       "      <td>20170623164659</td>\n",
       "    </tr>\n",
       "    <tr>\n",
       "      <th>665519</th>\n",
       "      <td>2017</td>\n",
       "      <td>2</td>\n",
       "      <td>06</td>\n",
       "      <td>June</td>\n",
       "      <td>23</td>\n",
       "      <td>Friday</td>\n",
       "      <td>4</td>\n",
       "      <td>Weekday</td>\n",
       "      <td>14</td>\n",
       "      <td>1630</td>\n",
       "      <td>20170623141630</td>\n",
       "    </tr>\n",
       "    <tr>\n",
       "      <th>324558</th>\n",
       "      <td>2017</td>\n",
       "      <td>1</td>\n",
       "      <td>03</td>\n",
       "      <td>March</td>\n",
       "      <td>26</td>\n",
       "      <td>Sunday</td>\n",
       "      <td>6</td>\n",
       "      <td>Weekend</td>\n",
       "      <td>20</td>\n",
       "      <td>0015</td>\n",
       "      <td>20170326200015</td>\n",
       "    </tr>\n",
       "    <tr>\n",
       "      <th>3744625</th>\n",
       "      <td>2019</td>\n",
       "      <td>3</td>\n",
       "      <td>09</td>\n",
       "      <td>September</td>\n",
       "      <td>06</td>\n",
       "      <td>Friday</td>\n",
       "      <td>4</td>\n",
       "      <td>Weekday</td>\n",
       "      <td>20</td>\n",
       "      <td>3145</td>\n",
       "      <td>20190906203145</td>\n",
       "    </tr>\n",
       "    <tr>\n",
       "      <th>2527840</th>\n",
       "      <td>2018</td>\n",
       "      <td>4</td>\n",
       "      <td>10</td>\n",
       "      <td>October</td>\n",
       "      <td>23</td>\n",
       "      <td>Tuesday</td>\n",
       "      <td>1</td>\n",
       "      <td>Weekday</td>\n",
       "      <td>10</td>\n",
       "      <td>0015</td>\n",
       "      <td>20181023100015</td>\n",
       "    </tr>\n",
       "    <tr>\n",
       "      <th>271852</th>\n",
       "      <td>2017</td>\n",
       "      <td>1</td>\n",
       "      <td>03</td>\n",
       "      <td>March</td>\n",
       "      <td>13</td>\n",
       "      <td>Monday</td>\n",
       "      <td>0</td>\n",
       "      <td>Weekday</td>\n",
       "      <td>01</td>\n",
       "      <td>3145</td>\n",
       "      <td>20170313013145</td>\n",
       "    </tr>\n",
       "  </tbody>\n",
       "</table>\n",
       "</div>"
      ],
      "text/plain": [
       "         year  quarter month month_name day  day_name  day_of_week day_type  \\\n",
       "217616   2017        1    02   February  26    Sunday            6  Weekend   \n",
       "616252   2017        2    06       June  10  Saturday            5  Weekday   \n",
       "728706   2017        3    07       July  10    Monday            0  Weekday   \n",
       "1148130  2017        4    10    October  27    Friday            4  Weekday   \n",
       "666139   2017        2    06       June  23    Friday            4  Weekday   \n",
       "665519   2017        2    06       June  23    Friday            4  Weekday   \n",
       "324558   2017        1    03      March  26    Sunday            6  Weekend   \n",
       "3744625  2019        3    09  September  06    Friday            4  Weekday   \n",
       "2527840  2018        4    10    October  23   Tuesday            1  Weekday   \n",
       "271852   2017        1    03      March  13    Monday            0  Weekday   \n",
       "\n",
       "        hour minute_block        date_key  \n",
       "217616    17         4659  20170226174659  \n",
       "616252    16         4659  20170610164659  \n",
       "728706    03         3145  20170710033145  \n",
       "1148130   13         0015  20171027130015  \n",
       "666139    16         4659  20170623164659  \n",
       "665519    14         1630  20170623141630  \n",
       "324558    20         0015  20170326200015  \n",
       "3744625   20         3145  20190906203145  \n",
       "2527840   10         0015  20181023100015  \n",
       "271852    01         3145  20170313013145  "
      ]
     },
     "execution_count": 202,
     "metadata": {},
     "output_type": "execute_result"
    }
   ],
   "source": [
    "dim_date.sample(10)"
   ]
  },
  {
   "cell_type": "code",
   "execution_count": 182,
   "id": "a6d89bd3",
   "metadata": {},
   "outputs": [
    {
     "data": {
      "application/vnd.microsoft.datawrangler.viewer.v0+json": {
       "columns": [
        {
         "name": "index",
         "rawType": "int64",
         "type": "integer"
        },
        {
         "name": "date",
         "rawType": "object",
         "type": "string"
        }
       ],
       "ref": "9005c138-17e1-4d6c-b635-27a66c2687c3",
       "rows": [
        [
         "1283060",
         "2017-12-01 15:17:00"
        ],
        [
         "713301",
         "2017-07-06 02:06:00"
        ],
        [
         "2129110",
         "2018-07-10 23:07:00"
        ]
       ],
       "shape": {
        "columns": 1,
        "rows": 3
       }
      },
      "text/plain": [
       "1283060    2017-12-01 15:17:00\n",
       "713301     2017-07-06 02:06:00\n",
       "2129110    2018-07-10 23:07:00\n",
       "Name: date, dtype: object"
      ]
     },
     "execution_count": 182,
     "metadata": {},
     "output_type": "execute_result"
    }
   ],
   "source": [
    "df = df.drop_duplicates()\n",
    "df.shape\n",
    "df.sample(3)"
   ]
  },
  {
   "cell_type": "code",
   "execution_count": null,
   "id": "0f1ba814",
   "metadata": {},
   "outputs": [
    {
     "data": {
      "application/vnd.microsoft.datawrangler.viewer.v0+json": {
       "columns": [
        {
         "name": "index",
         "rawType": "int64",
         "type": "integer"
        },
        {
         "name": "year",
         "rawType": "int32",
         "type": "integer"
        },
        {
         "name": "quarter",
         "rawType": "int32",
         "type": "integer"
        },
        {
         "name": "month",
         "rawType": "int32",
         "type": "integer"
        },
        {
         "name": "month_name",
         "rawType": "object",
         "type": "string"
        },
        {
         "name": "day",
         "rawType": "int32",
         "type": "integer"
        },
        {
         "name": "day_name",
         "rawType": "object",
         "type": "string"
        },
        {
         "name": "day_of_week",
         "rawType": "int32",
         "type": "integer"
        },
        {
         "name": "day_type",
         "rawType": "object",
         "type": "string"
        },
        {
         "name": "hour",
         "rawType": "int32",
         "type": "integer"
        },
        {
         "name": "minute_block",
         "rawType": "category",
         "type": "unknown"
        },
        {
         "name": "date_key",
         "rawType": "string",
         "type": "string"
        }
       ],
       "ref": "fa074f1f-4b1b-4dca-98fc-061d37832324",
       "rows": [
        [
         "1399308",
         "2018",
         "1",
         "1",
         "January",
         "1",
         "Monday",
         "0",
         "Weekday",
         "0",
         "015",
         "2018010100015"
        ],
        [
         "1399318",
         "2018",
         "1",
         "1",
         "January",
         "1",
         "Monday",
         "0",
         "Weekday",
         "0",
         "1630",
         "20180101001630"
        ],
        [
         "1399322",
         "2018",
         "1",
         "1",
         "January",
         "1",
         "Monday",
         "0",
         "Weekday",
         "0",
         "3145",
         "20180101003145"
        ],
        [
         "1399333",
         "2018",
         "1",
         "1",
         "January",
         "1",
         "Monday",
         "0",
         "Weekday",
         "0",
         "4659",
         "20180101004659"
        ],
        [
         "1399339",
         "2018",
         "1",
         "1",
         "January",
         "1",
         "Monday",
         "0",
         "Weekday",
         "1",
         "015",
         "2018010101015"
        ],
        [
         "1399347",
         "2018",
         "1",
         "1",
         "January",
         "1",
         "Monday",
         "0",
         "Weekday",
         "1",
         "1630",
         "20180101011630"
        ],
        [
         "1399358",
         "2018",
         "1",
         "1",
         "January",
         "1",
         "Monday",
         "0",
         "Weekday",
         "1",
         "3145",
         "20180101013145"
        ],
        [
         "1399363",
         "2018",
         "1",
         "1",
         "January",
         "1",
         "Monday",
         "0",
         "Weekday",
         "1",
         "4659",
         "20180101014659"
        ],
        [
         "1399379",
         "2018",
         "1",
         "1",
         "January",
         "1",
         "Monday",
         "0",
         "Weekday",
         "2",
         "015",
         "2018010102015"
        ],
        [
         "1399389",
         "2018",
         "1",
         "1",
         "January",
         "1",
         "Monday",
         "0",
         "Weekday",
         "2",
         "1630",
         "20180101021630"
        ],
        [
         "1399399",
         "2018",
         "1",
         "1",
         "January",
         "1",
         "Monday",
         "0",
         "Weekday",
         "2",
         "3145",
         "20180101023145"
        ],
        [
         "1399403",
         "2018",
         "1",
         "1",
         "January",
         "1",
         "Monday",
         "0",
         "Weekday",
         "2",
         "4659",
         "20180101024659"
        ],
        [
         "1399406",
         "2018",
         "1",
         "1",
         "January",
         "1",
         "Monday",
         "0",
         "Weekday",
         "3",
         "015",
         "2018010103015"
        ],
        [
         "1399408",
         "2018",
         "1",
         "1",
         "January",
         "1",
         "Monday",
         "0",
         "Weekday",
         "3",
         "1630",
         "20180101031630"
        ],
        [
         "1399419",
         "2018",
         "1",
         "1",
         "January",
         "1",
         "Monday",
         "0",
         "Weekday",
         "3",
         "3145",
         "20180101033145"
        ],
        [
         "1399428",
         "2018",
         "1",
         "1",
         "January",
         "1",
         "Monday",
         "0",
         "Weekday",
         "3",
         "4659",
         "20180101034659"
        ],
        [
         "1399433",
         "2018",
         "1",
         "1",
         "January",
         "1",
         "Monday",
         "0",
         "Weekday",
         "4",
         "015",
         "2018010104015"
        ],
        [
         "1399439",
         "2018",
         "1",
         "1",
         "January",
         "1",
         "Monday",
         "0",
         "Weekday",
         "4",
         "1630",
         "20180101041630"
        ],
        [
         "1399444",
         "2018",
         "1",
         "1",
         "January",
         "1",
         "Monday",
         "0",
         "Weekday",
         "4",
         "3145",
         "20180101043145"
        ],
        [
         "1399458",
         "2018",
         "1",
         "1",
         "January",
         "1",
         "Monday",
         "0",
         "Weekday",
         "4",
         "4659",
         "20180101044659"
        ],
        [
         "1399468",
         "2018",
         "1",
         "1",
         "January",
         "1",
         "Monday",
         "0",
         "Weekday",
         "5",
         "015",
         "2018010105015"
        ],
        [
         "1399485",
         "2018",
         "1",
         "1",
         "January",
         "1",
         "Monday",
         "0",
         "Weekday",
         "5",
         "1630",
         "20180101051630"
        ],
        [
         "1399495",
         "2018",
         "1",
         "1",
         "January",
         "1",
         "Monday",
         "0",
         "Weekday",
         "5",
         "3145",
         "20180101053145"
        ],
        [
         "1399517",
         "2018",
         "1",
         "1",
         "January",
         "1",
         "Monday",
         "0",
         "Weekday",
         "5",
         "4659",
         "20180101054659"
        ],
        [
         "1399533",
         "2018",
         "1",
         "1",
         "January",
         "1",
         "Monday",
         "0",
         "Weekday",
         "6",
         "015",
         "2018010106015"
        ],
        [
         "1399586",
         "2018",
         "1",
         "1",
         "January",
         "1",
         "Monday",
         "0",
         "Weekday",
         "6",
         "1630",
         "20180101061630"
        ],
        [
         "1399629",
         "2018",
         "1",
         "1",
         "January",
         "1",
         "Monday",
         "0",
         "Weekday",
         "6",
         "3145",
         "20180101063145"
        ],
        [
         "1399679",
         "2018",
         "1",
         "1",
         "January",
         "1",
         "Monday",
         "0",
         "Weekday",
         "6",
         "4659",
         "20180101064659"
        ],
        [
         "1399719",
         "2018",
         "1",
         "1",
         "January",
         "1",
         "Monday",
         "0",
         "Weekday",
         "7",
         "015",
         "2018010107015"
        ],
        [
         "1399789",
         "2018",
         "1",
         "1",
         "January",
         "1",
         "Monday",
         "0",
         "Weekday",
         "7",
         "1630",
         "20180101071630"
        ],
        [
         "1399859",
         "2018",
         "1",
         "1",
         "January",
         "1",
         "Monday",
         "0",
         "Weekday",
         "7",
         "3145",
         "20180101073145"
        ],
        [
         "1399929",
         "2018",
         "1",
         "1",
         "January",
         "1",
         "Monday",
         "0",
         "Weekday",
         "7",
         "4659",
         "20180101074659"
        ],
        [
         "1399989",
         "2018",
         "1",
         "1",
         "January",
         "1",
         "Monday",
         "0",
         "Weekday",
         "8",
         "015",
         "2018010108015"
        ],
        [
         "1400056",
         "2018",
         "1",
         "1",
         "January",
         "1",
         "Monday",
         "0",
         "Weekday",
         "8",
         "1630",
         "20180101081630"
        ],
        [
         "1400122",
         "2018",
         "1",
         "1",
         "January",
         "1",
         "Monday",
         "0",
         "Weekday",
         "8",
         "3145",
         "20180101083145"
        ],
        [
         "1400198",
         "2018",
         "1",
         "1",
         "January",
         "1",
         "Monday",
         "0",
         "Weekday",
         "8",
         "4659",
         "20180101084659"
        ],
        [
         "1400252",
         "2018",
         "1",
         "1",
         "January",
         "1",
         "Monday",
         "0",
         "Weekday",
         "9",
         "015",
         "2018010109015"
        ],
        [
         "1400320",
         "2018",
         "1",
         "1",
         "January",
         "1",
         "Monday",
         "0",
         "Weekday",
         "9",
         "1630",
         "20180101091630"
        ],
        [
         "1400379",
         "2018",
         "1",
         "1",
         "January",
         "1",
         "Monday",
         "0",
         "Weekday",
         "9",
         "3145",
         "20180101093145"
        ],
        [
         "1400444",
         "2018",
         "1",
         "1",
         "January",
         "1",
         "Monday",
         "0",
         "Weekday",
         "9",
         "4659",
         "20180101094659"
        ],
        [
         "1400507",
         "2018",
         "1",
         "1",
         "January",
         "1",
         "Monday",
         "0",
         "Weekday",
         "10",
         "015",
         "2018010110015"
        ],
        [
         "1400575",
         "2018",
         "1",
         "1",
         "January",
         "1",
         "Monday",
         "0",
         "Weekday",
         "10",
         "1630",
         "20180101101630"
        ],
        [
         "1400654",
         "2018",
         "1",
         "1",
         "January",
         "1",
         "Monday",
         "0",
         "Weekday",
         "10",
         "3145",
         "20180101103145"
        ],
        [
         "1400732",
         "2018",
         "1",
         "1",
         "January",
         "1",
         "Monday",
         "0",
         "Weekday",
         "10",
         "4659",
         "20180101104659"
        ],
        [
         "1400792",
         "2018",
         "1",
         "1",
         "January",
         "1",
         "Monday",
         "0",
         "Weekday",
         "11",
         "015",
         "2018010111015"
        ],
        [
         "1400887",
         "2018",
         "1",
         "1",
         "January",
         "1",
         "Monday",
         "0",
         "Weekday",
         "11",
         "1630",
         "20180101111630"
        ],
        [
         "1400969",
         "2018",
         "1",
         "1",
         "January",
         "1",
         "Monday",
         "0",
         "Weekday",
         "11",
         "3145",
         "20180101113145"
        ],
        [
         "1401057",
         "2018",
         "1",
         "1",
         "January",
         "1",
         "Monday",
         "0",
         "Weekday",
         "11",
         "4659",
         "20180101114659"
        ],
        [
         "1401128",
         "2018",
         "1",
         "1",
         "January",
         "1",
         "Monday",
         "0",
         "Weekday",
         "12",
         "015",
         "2018010112015"
        ],
        [
         "1401203",
         "2018",
         "1",
         "1",
         "January",
         "1",
         "Monday",
         "0",
         "Weekday",
         "12",
         "1630",
         "20180101121630"
        ]
       ],
       "shape": {
        "columns": 11,
        "rows": 96
       }
      },
      "text/html": [
       "<div>\n",
       "<style scoped>\n",
       "    .dataframe tbody tr th:only-of-type {\n",
       "        vertical-align: middle;\n",
       "    }\n",
       "\n",
       "    .dataframe tbody tr th {\n",
       "        vertical-align: top;\n",
       "    }\n",
       "\n",
       "    .dataframe thead th {\n",
       "        text-align: right;\n",
       "    }\n",
       "</style>\n",
       "<table border=\"1\" class=\"dataframe\">\n",
       "  <thead>\n",
       "    <tr style=\"text-align: right;\">\n",
       "      <th></th>\n",
       "      <th>year</th>\n",
       "      <th>quarter</th>\n",
       "      <th>month</th>\n",
       "      <th>month_name</th>\n",
       "      <th>day</th>\n",
       "      <th>day_name</th>\n",
       "      <th>day_of_week</th>\n",
       "      <th>day_type</th>\n",
       "      <th>hour</th>\n",
       "      <th>minute_block</th>\n",
       "      <th>date_key</th>\n",
       "    </tr>\n",
       "  </thead>\n",
       "  <tbody>\n",
       "    <tr>\n",
       "      <th>1399308</th>\n",
       "      <td>2018</td>\n",
       "      <td>1</td>\n",
       "      <td>1</td>\n",
       "      <td>January</td>\n",
       "      <td>1</td>\n",
       "      <td>Monday</td>\n",
       "      <td>0</td>\n",
       "      <td>Weekday</td>\n",
       "      <td>0</td>\n",
       "      <td>015</td>\n",
       "      <td>2018010100015</td>\n",
       "    </tr>\n",
       "    <tr>\n",
       "      <th>1399318</th>\n",
       "      <td>2018</td>\n",
       "      <td>1</td>\n",
       "      <td>1</td>\n",
       "      <td>January</td>\n",
       "      <td>1</td>\n",
       "      <td>Monday</td>\n",
       "      <td>0</td>\n",
       "      <td>Weekday</td>\n",
       "      <td>0</td>\n",
       "      <td>1630</td>\n",
       "      <td>20180101001630</td>\n",
       "    </tr>\n",
       "    <tr>\n",
       "      <th>1399322</th>\n",
       "      <td>2018</td>\n",
       "      <td>1</td>\n",
       "      <td>1</td>\n",
       "      <td>January</td>\n",
       "      <td>1</td>\n",
       "      <td>Monday</td>\n",
       "      <td>0</td>\n",
       "      <td>Weekday</td>\n",
       "      <td>0</td>\n",
       "      <td>3145</td>\n",
       "      <td>20180101003145</td>\n",
       "    </tr>\n",
       "    <tr>\n",
       "      <th>1399333</th>\n",
       "      <td>2018</td>\n",
       "      <td>1</td>\n",
       "      <td>1</td>\n",
       "      <td>January</td>\n",
       "      <td>1</td>\n",
       "      <td>Monday</td>\n",
       "      <td>0</td>\n",
       "      <td>Weekday</td>\n",
       "      <td>0</td>\n",
       "      <td>4659</td>\n",
       "      <td>20180101004659</td>\n",
       "    </tr>\n",
       "    <tr>\n",
       "      <th>1399339</th>\n",
       "      <td>2018</td>\n",
       "      <td>1</td>\n",
       "      <td>1</td>\n",
       "      <td>January</td>\n",
       "      <td>1</td>\n",
       "      <td>Monday</td>\n",
       "      <td>0</td>\n",
       "      <td>Weekday</td>\n",
       "      <td>1</td>\n",
       "      <td>015</td>\n",
       "      <td>2018010101015</td>\n",
       "    </tr>\n",
       "    <tr>\n",
       "      <th>...</th>\n",
       "      <td>...</td>\n",
       "      <td>...</td>\n",
       "      <td>...</td>\n",
       "      <td>...</td>\n",
       "      <td>...</td>\n",
       "      <td>...</td>\n",
       "      <td>...</td>\n",
       "      <td>...</td>\n",
       "      <td>...</td>\n",
       "      <td>...</td>\n",
       "      <td>...</td>\n",
       "    </tr>\n",
       "    <tr>\n",
       "      <th>1403339</th>\n",
       "      <td>2018</td>\n",
       "      <td>1</td>\n",
       "      <td>1</td>\n",
       "      <td>January</td>\n",
       "      <td>1</td>\n",
       "      <td>Monday</td>\n",
       "      <td>0</td>\n",
       "      <td>Weekday</td>\n",
       "      <td>22</td>\n",
       "      <td>4659</td>\n",
       "      <td>20180101224659</td>\n",
       "    </tr>\n",
       "    <tr>\n",
       "      <th>1403367</th>\n",
       "      <td>2018</td>\n",
       "      <td>1</td>\n",
       "      <td>1</td>\n",
       "      <td>January</td>\n",
       "      <td>1</td>\n",
       "      <td>Monday</td>\n",
       "      <td>0</td>\n",
       "      <td>Weekday</td>\n",
       "      <td>23</td>\n",
       "      <td>015</td>\n",
       "      <td>2018010123015</td>\n",
       "    </tr>\n",
       "    <tr>\n",
       "      <th>1403375</th>\n",
       "      <td>2018</td>\n",
       "      <td>1</td>\n",
       "      <td>1</td>\n",
       "      <td>January</td>\n",
       "      <td>1</td>\n",
       "      <td>Monday</td>\n",
       "      <td>0</td>\n",
       "      <td>Weekday</td>\n",
       "      <td>23</td>\n",
       "      <td>1630</td>\n",
       "      <td>20180101231630</td>\n",
       "    </tr>\n",
       "    <tr>\n",
       "      <th>1403383</th>\n",
       "      <td>2018</td>\n",
       "      <td>1</td>\n",
       "      <td>1</td>\n",
       "      <td>January</td>\n",
       "      <td>1</td>\n",
       "      <td>Monday</td>\n",
       "      <td>0</td>\n",
       "      <td>Weekday</td>\n",
       "      <td>23</td>\n",
       "      <td>3145</td>\n",
       "      <td>20180101233145</td>\n",
       "    </tr>\n",
       "    <tr>\n",
       "      <th>1403401</th>\n",
       "      <td>2018</td>\n",
       "      <td>1</td>\n",
       "      <td>1</td>\n",
       "      <td>January</td>\n",
       "      <td>1</td>\n",
       "      <td>Monday</td>\n",
       "      <td>0</td>\n",
       "      <td>Weekday</td>\n",
       "      <td>23</td>\n",
       "      <td>4659</td>\n",
       "      <td>20180101234659</td>\n",
       "    </tr>\n",
       "  </tbody>\n",
       "</table>\n",
       "<p>96 rows × 11 columns</p>\n",
       "</div>"
      ],
      "text/plain": [
       "         year  quarter  month month_name  day day_name  day_of_week day_type  \\\n",
       "1399308  2018        1      1    January    1   Monday            0  Weekday   \n",
       "1399318  2018        1      1    January    1   Monday            0  Weekday   \n",
       "1399322  2018        1      1    January    1   Monday            0  Weekday   \n",
       "1399333  2018        1      1    January    1   Monday            0  Weekday   \n",
       "1399339  2018        1      1    January    1   Monday            0  Weekday   \n",
       "...       ...      ...    ...        ...  ...      ...          ...      ...   \n",
       "1403339  2018        1      1    January    1   Monday            0  Weekday   \n",
       "1403367  2018        1      1    January    1   Monday            0  Weekday   \n",
       "1403375  2018        1      1    January    1   Monday            0  Weekday   \n",
       "1403383  2018        1      1    January    1   Monday            0  Weekday   \n",
       "1403401  2018        1      1    January    1   Monday            0  Weekday   \n",
       "\n",
       "         hour minute_block        date_key  \n",
       "1399308     0          015   2018010100015  \n",
       "1399318     0         1630  20180101001630  \n",
       "1399322     0         3145  20180101003145  \n",
       "1399333     0         4659  20180101004659  \n",
       "1399339     1          015   2018010101015  \n",
       "...       ...          ...             ...  \n",
       "1403339    22         4659  20180101224659  \n",
       "1403367    23          015   2018010123015  \n",
       "1403375    23         1630  20180101231630  \n",
       "1403383    23         3145  20180101233145  \n",
       "1403401    23         4659  20180101234659  \n",
       "\n",
       "[96 rows x 11 columns]"
      ]
     },
     "execution_count": 119,
     "metadata": {},
     "output_type": "execute_result"
    }
   ],
   "source": [
    "dim_date.loc[dim_date['date_key'].astype(str).str.contains('^20180101')]"
   ]
  },
  {
   "cell_type": "code",
   "execution_count": 122,
   "id": "0e1b1b79",
   "metadata": {},
   "outputs": [
    {
     "data": {
      "text/plain": [
       "(99254, 11)"
      ]
     },
     "execution_count": 122,
     "metadata": {},
     "output_type": "execute_result"
    }
   ],
   "source": [
    "dim_date.shape"
   ]
  },
  {
   "cell_type": "code",
   "execution_count": null,
   "id": "73eea675",
   "metadata": {},
   "outputs": [],
   "source": [
    "#alternative function\n",
    "def create_dim_date(df: pd.DataFrame, data_name: str) -> pd.DataFrame:\n",
    "    '''\n",
    "    Creates a date dimension table from a given DataFrame containing date-related data.\n",
    "\n",
    "    Parameters:\n",
    "    df : pd.DataFrame\n",
    "        Input DataFrame that includes at least one column with datetime or date information.\n",
    "    \n",
    "    data_name : str\n",
    "        A label or identifier used to name or tag the generated date dimension table.\n",
    "\n",
    "    Returns:\n",
    "    pd.DataFrame\n",
    "        A transformed DataFrame structured as a date dimension, with additional time-related columns such as:\n",
    "        - year\n",
    "        - quarter\n",
    "        - month\n",
    "        - day\n",
    "        - day of week\n",
    "        - flags for holiday or weekend\n",
    "        - custom hierarchy levels (if needed)\n",
    "    '''\n",
    "    bins   = [-1, 15, 30, 45, 59] #use them to create ['minute_block']\n",
    "    labels = ['015', '1630', '3145', '4659'] #use them to create ['minute_block']\n",
    "    \n",
    "\n",
    "    try:\n",
    "        logger.info(f'Starting ETL {data_name} data')\n",
    "        \n",
    "        df = df.copy()\n",
    "        df['date'] = pd.to_datetime(df['date'])\n",
    "        dt = df['date'].dt\n",
    "\n",
    "        df['year'] = dt.year\n",
    "        df['quarter'] = dt.quarter\n",
    "        df['month'] = dt.month\n",
    "        df['month_name'] = dt.month_name()\n",
    "        df['day'] = dt.day\n",
    "        df['day_name'] = dt.day_name()\n",
    "        df['day_of_week'] = dt.day_of_week\n",
    "        df['day_type'] = (dt.weekday > 5).map({True: 'Weekend', False: 'Weekday'})\n",
    "        df['hour'] = dt.hour\n",
    "        df['minute_block'] = pd.cut(pd.to_datetime(df['date']).dt.minute, bins=bins, labels=labels)\n",
    "        df['date_key'] = df['date'].astype(str).str.replace(r'[^A-Za-z0-9]','',regex=True).str[:8] + df['minute_block'].astype(str)\n",
    "        df['date_key'] = df['date_key'].astype(int)\n",
    "        \n",
    "        return df.drop(columns= 'date').drop_duplicates()\n",
    "\n",
    "    except Exception as e:\n",
    "        logger.info(f'Error in creating date dimension for {data_name}: {e}')\n",
    "        raise"
   ]
  },
  {
   "cell_type": "code",
   "execution_count": 18,
   "id": "4fb3460d",
   "metadata": {},
   "outputs": [
    {
     "name": "stdout",
     "output_type": "stream",
     "text": [
      "0    12345\n",
      "1    67890\n",
      "dtype: int64\n"
     ]
    }
   ],
   "source": [
    "data = pd.Series(['$12345', '$67890'])\n",
    "cleaned = data.replace(r'[/$]', '', regex=True).astype(int)\n",
    "print(cleaned)\n"
   ]
  },
  {
   "cell_type": "code",
   "execution_count": null,
   "id": "4e150d38",
   "metadata": {},
   "outputs": [],
   "source": []
  }
 ],
 "metadata": {
  "kernelspec": {
   "display_name": "financial_transaction_project",
   "language": "python",
   "name": "python3"
  },
  "language_info": {
   "codemirror_mode": {
    "name": "ipython",
    "version": 3
   },
   "file_extension": ".py",
   "mimetype": "text/x-python",
   "name": "python",
   "nbconvert_exporter": "python",
   "pygments_lexer": "ipython3",
   "version": "3.13.0"
  }
 },
 "nbformat": 4,
 "nbformat_minor": 5
}
