{
 "cells": [
  {
   "cell_type": "code",
   "execution_count": 5,
   "id": "8eb07584",
   "metadata": {},
   "outputs": [],
   "source": [
    "import pandas as pd\n",
    "import numpy as np\n",
    "import ETL.config as config\n",
    "import ETL.utils as utils\n",
    "import ETL.extract_data as extract\n",
    "import ETL.load_data as load\n",
    "import logging\n",
    "import re\n",
    "import importlib\n",
    "from sqlalchemy.engine.url import URL\n",
    "from sqlalchemy import create_engine\n",
    "from sqlalchemy.engine import Engine\n",
    "importlib.reload(config)\n",
    "importlib.reload(extract)\n",
    "logger = logging.getLogger(__name__)"
   ]
  },
  {
   "cell_type": "code",
   "execution_count": 18,
   "id": "82dff797",
   "metadata": {},
   "outputs": [],
   "source": [
    "columns_to_extract = ['id', 'date', 'client_id', 'card_id', 'amount', 'use_chip', 'merchant_id', 'errors']\n",
    "df = extract.extract_data(config.FILTERED_TRANSACTIONS_FILE_LOCAL,'TRANSACTIONS')"
   ]
  },
  {
   "cell_type": "code",
   "execution_count": 4,
   "id": "8abf2bb6",
   "metadata": {},
   "outputs": [
    {
     "data": {
      "application/vnd.microsoft.datawrangler.viewer.v0+json": {
       "columns": [
        {
         "name": "index",
         "rawType": "int64",
         "type": "integer"
        },
        {
         "name": "id",
         "rawType": "int64",
         "type": "integer"
        },
        {
         "name": "date",
         "rawType": "object",
         "type": "string"
        },
        {
         "name": "client_id",
         "rawType": "int64",
         "type": "integer"
        },
        {
         "name": "card_id",
         "rawType": "int64",
         "type": "integer"
        },
        {
         "name": "amount",
         "rawType": "object",
         "type": "string"
        },
        {
         "name": "use_chip",
         "rawType": "object",
         "type": "string"
        },
        {
         "name": "merchant_id",
         "rawType": "int64",
         "type": "integer"
        },
        {
         "name": "merchant_city",
         "rawType": "object",
         "type": "string"
        },
        {
         "name": "merchant_state",
         "rawType": "object",
         "type": "unknown"
        },
        {
         "name": "zip",
         "rawType": "float64",
         "type": "float"
        },
        {
         "name": "mcc",
         "rawType": "int64",
         "type": "integer"
        },
        {
         "name": "errors",
         "rawType": "object",
         "type": "unknown"
        }
       ],
       "ref": "18eed20d-3fbd-4568-a292-50f8bff158ac",
       "rows": [
        [
         "0",
         "18881487",
         "2017-01-01 00:01:00",
         "301",
         "3742",
         "$7.05",
         "Online Transaction",
         "39021",
         "ONLINE",
         null,
         null,
         "4784",
         null
        ],
        [
         "1",
         "18881488",
         "2017-01-01 00:01:00",
         "1129",
         "2677",
         "$100.00",
         "Chip Transaction",
         "27092",
         "San Marcos",
         "TX",
         "78666.0",
         "4829",
         null
        ],
        [
         "2",
         "18881490",
         "2017-01-01 00:04:00",
         "316",
         "5857",
         "$130.29",
         "Chip Transaction",
         "6389",
         "Houston",
         "TX",
         "77047.0",
         "5300",
         null
        ],
        [
         "3",
         "18881491",
         "2017-01-01 00:04:00",
         "566",
         "3439",
         "$12.39",
         "Online Transaction",
         "18563",
         "ONLINE",
         null,
         null,
         "4121",
         null
        ],
        [
         "4",
         "18881492",
         "2017-01-01 00:04:00",
         "1357",
         "3649",
         "$20.67",
         "Chip Transaction",
         "61195",
         "Tacoma",
         "WA",
         "98404.0",
         "5541",
         null
        ]
       ],
       "shape": {
        "columns": 12,
        "rows": 5
       }
      },
      "text/html": [
       "<div>\n",
       "<style scoped>\n",
       "    .dataframe tbody tr th:only-of-type {\n",
       "        vertical-align: middle;\n",
       "    }\n",
       "\n",
       "    .dataframe tbody tr th {\n",
       "        vertical-align: top;\n",
       "    }\n",
       "\n",
       "    .dataframe thead th {\n",
       "        text-align: right;\n",
       "    }\n",
       "</style>\n",
       "<table border=\"1\" class=\"dataframe\">\n",
       "  <thead>\n",
       "    <tr style=\"text-align: right;\">\n",
       "      <th></th>\n",
       "      <th>id</th>\n",
       "      <th>date</th>\n",
       "      <th>client_id</th>\n",
       "      <th>card_id</th>\n",
       "      <th>amount</th>\n",
       "      <th>use_chip</th>\n",
       "      <th>merchant_id</th>\n",
       "      <th>merchant_city</th>\n",
       "      <th>merchant_state</th>\n",
       "      <th>zip</th>\n",
       "      <th>mcc</th>\n",
       "      <th>errors</th>\n",
       "    </tr>\n",
       "  </thead>\n",
       "  <tbody>\n",
       "    <tr>\n",
       "      <th>0</th>\n",
       "      <td>18881487</td>\n",
       "      <td>2017-01-01 00:01:00</td>\n",
       "      <td>301</td>\n",
       "      <td>3742</td>\n",
       "      <td>$7.05</td>\n",
       "      <td>Online Transaction</td>\n",
       "      <td>39021</td>\n",
       "      <td>ONLINE</td>\n",
       "      <td>NaN</td>\n",
       "      <td>NaN</td>\n",
       "      <td>4784</td>\n",
       "      <td>NaN</td>\n",
       "    </tr>\n",
       "    <tr>\n",
       "      <th>1</th>\n",
       "      <td>18881488</td>\n",
       "      <td>2017-01-01 00:01:00</td>\n",
       "      <td>1129</td>\n",
       "      <td>2677</td>\n",
       "      <td>$100.00</td>\n",
       "      <td>Chip Transaction</td>\n",
       "      <td>27092</td>\n",
       "      <td>San Marcos</td>\n",
       "      <td>TX</td>\n",
       "      <td>78666.0</td>\n",
       "      <td>4829</td>\n",
       "      <td>NaN</td>\n",
       "    </tr>\n",
       "    <tr>\n",
       "      <th>2</th>\n",
       "      <td>18881490</td>\n",
       "      <td>2017-01-01 00:04:00</td>\n",
       "      <td>316</td>\n",
       "      <td>5857</td>\n",
       "      <td>$130.29</td>\n",
       "      <td>Chip Transaction</td>\n",
       "      <td>6389</td>\n",
       "      <td>Houston</td>\n",
       "      <td>TX</td>\n",
       "      <td>77047.0</td>\n",
       "      <td>5300</td>\n",
       "      <td>NaN</td>\n",
       "    </tr>\n",
       "    <tr>\n",
       "      <th>3</th>\n",
       "      <td>18881491</td>\n",
       "      <td>2017-01-01 00:04:00</td>\n",
       "      <td>566</td>\n",
       "      <td>3439</td>\n",
       "      <td>$12.39</td>\n",
       "      <td>Online Transaction</td>\n",
       "      <td>18563</td>\n",
       "      <td>ONLINE</td>\n",
       "      <td>NaN</td>\n",
       "      <td>NaN</td>\n",
       "      <td>4121</td>\n",
       "      <td>NaN</td>\n",
       "    </tr>\n",
       "    <tr>\n",
       "      <th>4</th>\n",
       "      <td>18881492</td>\n",
       "      <td>2017-01-01 00:04:00</td>\n",
       "      <td>1357</td>\n",
       "      <td>3649</td>\n",
       "      <td>$20.67</td>\n",
       "      <td>Chip Transaction</td>\n",
       "      <td>61195</td>\n",
       "      <td>Tacoma</td>\n",
       "      <td>WA</td>\n",
       "      <td>98404.0</td>\n",
       "      <td>5541</td>\n",
       "      <td>NaN</td>\n",
       "    </tr>\n",
       "  </tbody>\n",
       "</table>\n",
       "</div>"
      ],
      "text/plain": [
       "         id                 date  client_id  card_id   amount  \\\n",
       "0  18881487  2017-01-01 00:01:00        301     3742    $7.05   \n",
       "1  18881488  2017-01-01 00:01:00       1129     2677  $100.00   \n",
       "2  18881490  2017-01-01 00:04:00        316     5857  $130.29   \n",
       "3  18881491  2017-01-01 00:04:00        566     3439   $12.39   \n",
       "4  18881492  2017-01-01 00:04:00       1357     3649   $20.67   \n",
       "\n",
       "             use_chip  merchant_id merchant_city merchant_state      zip  \\\n",
       "0  Online Transaction        39021        ONLINE            NaN      NaN   \n",
       "1    Chip Transaction        27092    San Marcos             TX  78666.0   \n",
       "2    Chip Transaction         6389       Houston             TX  77047.0   \n",
       "3  Online Transaction        18563        ONLINE            NaN      NaN   \n",
       "4    Chip Transaction        61195        Tacoma             WA  98404.0   \n",
       "\n",
       "    mcc errors  \n",
       "0  4784    NaN  \n",
       "1  4829    NaN  \n",
       "2  5300    NaN  \n",
       "3  4121    NaN  \n",
       "4  5541    NaN  "
      ]
     },
     "execution_count": 4,
     "metadata": {},
     "output_type": "execute_result"
    }
   ],
   "source": [
    "df.head()"
   ]
  },
  {
   "cell_type": "code",
   "execution_count": 75,
   "id": "75d85583",
   "metadata": {},
   "outputs": [
    {
     "data": {
      "application/vnd.microsoft.datawrangler.viewer.v0+json": {
       "columns": [
        {
         "name": "index",
         "rawType": "int64",
         "type": "integer"
        },
        {
         "name": "merchant_id",
         "rawType": "int64",
         "type": "integer"
        },
        {
         "name": "merchant_city",
         "rawType": "object",
         "type": "string"
        },
        {
         "name": "merchant_state",
         "rawType": "object",
         "type": "string"
        },
        {
         "name": "zip",
         "rawType": "float64",
         "type": "float"
        },
        {
         "name": "id",
         "rawType": "int64",
         "type": "integer"
        }
       ],
       "ref": "0df2914a-564e-4a00-ba76-09d7ae6a8214",
       "rows": [
        [
         "0",
         "34490",
         "Bell Gardens",
         "CA",
         "90201.0",
         "8"
        ],
        [
         "1",
         "34490",
         "Panama City",
         "FL",
         "32408.0",
         "20"
        ]
       ],
       "shape": {
        "columns": 5,
        "rows": 2
       }
      },
      "text/html": [
       "<div>\n",
       "<style scoped>\n",
       "    .dataframe tbody tr th:only-of-type {\n",
       "        vertical-align: middle;\n",
       "    }\n",
       "\n",
       "    .dataframe tbody tr th {\n",
       "        vertical-align: top;\n",
       "    }\n",
       "\n",
       "    .dataframe thead th {\n",
       "        text-align: right;\n",
       "    }\n",
       "</style>\n",
       "<table border=\"1\" class=\"dataframe\">\n",
       "  <thead>\n",
       "    <tr style=\"text-align: right;\">\n",
       "      <th></th>\n",
       "      <th>merchant_id</th>\n",
       "      <th>merchant_city</th>\n",
       "      <th>merchant_state</th>\n",
       "      <th>zip</th>\n",
       "      <th>id</th>\n",
       "    </tr>\n",
       "  </thead>\n",
       "  <tbody>\n",
       "    <tr>\n",
       "      <th>0</th>\n",
       "      <td>34490</td>\n",
       "      <td>Bell Gardens</td>\n",
       "      <td>CA</td>\n",
       "      <td>90201.0</td>\n",
       "      <td>8</td>\n",
       "    </tr>\n",
       "    <tr>\n",
       "      <th>1</th>\n",
       "      <td>34490</td>\n",
       "      <td>Panama City</td>\n",
       "      <td>FL</td>\n",
       "      <td>32408.0</td>\n",
       "      <td>20</td>\n",
       "    </tr>\n",
       "  </tbody>\n",
       "</table>\n",
       "</div>"
      ],
      "text/plain": [
       "   merchant_id merchant_city merchant_state      zip  id\n",
       "0        34490  Bell Gardens             CA  90201.0   8\n",
       "1        34490   Panama City             FL  32408.0  20"
      ]
     },
     "execution_count": 75,
     "metadata": {},
     "output_type": "execute_result"
    }
   ],
   "source": [
    "ids = [19100281, 19110974, 19118596, 19220791, 19222235, 19245702, 19335469, 19353887, 19363476, 19467826, 19501046, 19638179, 19661597, 19771623, 19863784, 20207021, 20234388, 20239423, 20280867, 20295484, 20374879, 20635830, 20674353, 20739797, 20758120, 22144017, 22144852, 22148139, 22157714, 22159060, 22949891, 23325365, 23340160]\n",
    "df.loc[df['id'].isin(ids)].groupby(['merchant_id','merchant_city','merchant_state','zip'])['id'].count().reset_index()\n",
    "# print(df.loc[df['id'].isin(ids)]['merchant_id'].value_counts())\n",
    "# print(df.loc[df['id'].isin(ids)]['merchant_city'].value_counts())\n",
    "# print(df.loc[df['id'].isin(ids)]['merchant_state'].value_counts())\n",
    "# print(df.loc[df['id'].isin(ids)]['zip'].value_counts())\n",
    "# print(df.loc[df['id'].isin(ids)]['mcc'].value_counts())"
   ]
  },
  {
   "cell_type": "code",
   "execution_count": 53,
   "id": "b866d742",
   "metadata": {},
   "outputs": [
    {
     "data": {
      "text/plain": [
       "np.int64(0)"
      ]
     },
     "execution_count": 53,
     "metadata": {},
     "output_type": "execute_result"
    }
   ],
   "source": [
    "df['id'].duplicated().sum()"
   ]
  },
  {
   "cell_type": "code",
   "execution_count": 5,
   "id": "b3ca3588",
   "metadata": {},
   "outputs": [
    {
     "data": {
      "application/vnd.microsoft.datawrangler.viewer.v0+json": {
       "columns": [
        {
         "name": "index",
         "rawType": "int64",
         "type": "integer"
        },
        {
         "name": "merchant_id",
         "rawType": "int64",
         "type": "integer"
        },
        {
         "name": "merchant_state",
         "rawType": "object",
         "type": "string"
        },
        {
         "name": "merchant_city",
         "rawType": "object",
         "type": "string"
        },
        {
         "name": "zip",
         "rawType": "float64",
         "type": "float"
        },
        {
         "name": "mcc",
         "rawType": "int64",
         "type": "integer"
        }
       ],
       "ref": "70726edb-e9dc-4de1-a223-2baf8d762aa7",
       "rows": [
        [
         "14517",
         "75506",
         "TX",
         "Carrollton",
         "75006.0",
         "5921"
        ],
        [
         "21916",
         "75506",
         "MI",
         "Holly",
         "48442.0",
         "5921"
        ],
        [
         "3887438",
         "75506",
         "TX",
         "Bryan",
         "77802.0",
         "5921"
        ],
        [
         "3912147",
         "75506",
         "AL",
         "Owens Cross Roads",
         "35763.0",
         "5921"
        ]
       ],
       "shape": {
        "columns": 5,
        "rows": 4
       }
      },
      "text/html": [
       "<div>\n",
       "<style scoped>\n",
       "    .dataframe tbody tr th:only-of-type {\n",
       "        vertical-align: middle;\n",
       "    }\n",
       "\n",
       "    .dataframe tbody tr th {\n",
       "        vertical-align: top;\n",
       "    }\n",
       "\n",
       "    .dataframe thead th {\n",
       "        text-align: right;\n",
       "    }\n",
       "</style>\n",
       "<table border=\"1\" class=\"dataframe\">\n",
       "  <thead>\n",
       "    <tr style=\"text-align: right;\">\n",
       "      <th></th>\n",
       "      <th>merchant_id</th>\n",
       "      <th>merchant_state</th>\n",
       "      <th>merchant_city</th>\n",
       "      <th>zip</th>\n",
       "      <th>mcc</th>\n",
       "    </tr>\n",
       "  </thead>\n",
       "  <tbody>\n",
       "    <tr>\n",
       "      <th>14517</th>\n",
       "      <td>75506</td>\n",
       "      <td>TX</td>\n",
       "      <td>Carrollton</td>\n",
       "      <td>75006.0</td>\n",
       "      <td>5921</td>\n",
       "    </tr>\n",
       "    <tr>\n",
       "      <th>21916</th>\n",
       "      <td>75506</td>\n",
       "      <td>MI</td>\n",
       "      <td>Holly</td>\n",
       "      <td>48442.0</td>\n",
       "      <td>5921</td>\n",
       "    </tr>\n",
       "    <tr>\n",
       "      <th>3887438</th>\n",
       "      <td>75506</td>\n",
       "      <td>TX</td>\n",
       "      <td>Bryan</td>\n",
       "      <td>77802.0</td>\n",
       "      <td>5921</td>\n",
       "    </tr>\n",
       "    <tr>\n",
       "      <th>3912147</th>\n",
       "      <td>75506</td>\n",
       "      <td>AL</td>\n",
       "      <td>Owens Cross Roads</td>\n",
       "      <td>35763.0</td>\n",
       "      <td>5921</td>\n",
       "    </tr>\n",
       "  </tbody>\n",
       "</table>\n",
       "</div>"
      ],
      "text/plain": [
       "         merchant_id merchant_state      merchant_city      zip   mcc\n",
       "14517          75506             TX         Carrollton  75006.0  5921\n",
       "21916          75506             MI              Holly  48442.0  5921\n",
       "3887438        75506             TX              Bryan  77802.0  5921\n",
       "3912147        75506             AL  Owens Cross Roads  35763.0  5921"
      ]
     },
     "execution_count": 5,
     "metadata": {},
     "output_type": "execute_result"
    }
   ],
   "source": [
    "df.loc[df['merchant_id'].isin([75506]),][['merchant_id','merchant_state','merchant_city','zip', 'mcc']].drop_duplicates()\n"
   ]
  },
  {
   "cell_type": "code",
   "execution_count": 6,
   "id": "be5991ea",
   "metadata": {},
   "outputs": [
    {
     "data": {
      "text/plain": [
       "np.int64(0)"
      ]
     },
     "execution_count": 6,
     "metadata": {},
     "output_type": "execute_result"
    }
   ],
   "source": [
    "df.duplicated().sum()\n"
   ]
  },
  {
   "cell_type": "code",
   "execution_count": 7,
   "id": "39c7533f",
   "metadata": {},
   "outputs": [
    {
     "name": "stdout",
     "output_type": "stream",
     "text": [
      "<class 'pandas.core.frame.DataFrame'>\n",
      "RangeIndex: 3954066 entries, 0 to 3954065\n",
      "Data columns (total 12 columns):\n",
      " #   Column          Non-Null Count    Dtype  \n",
      "---  ------          --------------    -----  \n",
      " 0   id              3954066 non-null  int64  \n",
      " 1   date            3954066 non-null  object \n",
      " 2   client_id       3954066 non-null  int64  \n",
      " 3   card_id         3954066 non-null  int64  \n",
      " 4   amount          3954066 non-null  object \n",
      " 5   use_chip        3954066 non-null  object \n",
      " 6   merchant_id     3954066 non-null  int64  \n",
      " 7   merchant_city   3954066 non-null  object \n",
      " 8   merchant_state  3473293 non-null  object \n",
      " 9   zip             3444171 non-null  float64\n",
      " 10  mcc             3954066 non-null  int64  \n",
      " 11  errors          62903 non-null    object \n",
      "dtypes: float64(1), int64(5), object(6)\n",
      "memory usage: 362.0+ MB\n"
     ]
    }
   ],
   "source": [
    "df.info(show_counts=True)"
   ]
  },
  {
   "cell_type": "code",
   "execution_count": 8,
   "id": "fc658e37",
   "metadata": {},
   "outputs": [
    {
     "data": {
      "application/vnd.microsoft.datawrangler.viewer.v0+json": {
       "columns": [
        {
         "name": "index",
         "rawType": "object",
         "type": "string"
        },
        {
         "name": "id",
         "rawType": "float64",
         "type": "float"
        },
        {
         "name": "date",
         "rawType": "object",
         "type": "unknown"
        },
        {
         "name": "client_id",
         "rawType": "float64",
         "type": "float"
        },
        {
         "name": "card_id",
         "rawType": "float64",
         "type": "float"
        },
        {
         "name": "amount",
         "rawType": "object",
         "type": "unknown"
        },
        {
         "name": "use_chip",
         "rawType": "object",
         "type": "unknown"
        },
        {
         "name": "merchant_id",
         "rawType": "float64",
         "type": "float"
        },
        {
         "name": "merchant_city",
         "rawType": "object",
         "type": "unknown"
        },
        {
         "name": "merchant_state",
         "rawType": "object",
         "type": "unknown"
        },
        {
         "name": "zip",
         "rawType": "float64",
         "type": "float"
        },
        {
         "name": "mcc",
         "rawType": "float64",
         "type": "float"
        },
        {
         "name": "errors",
         "rawType": "object",
         "type": "unknown"
        }
       ],
       "ref": "b8a5a0d7-3e93-4673-9a69-1f6d305fa5cc",
       "rows": [
        [
         "count",
         "3954066.0",
         "3954066",
         "3954066.0",
         "3954066.0",
         "3954066",
         "3954066",
         "3954066.0",
         "3954066",
         "3473293",
         "3444171.0",
         "3954066.0",
         "62903"
        ],
        [
         "unique",
         null,
         "1201258",
         null,
         null,
         "52701",
         "3",
         null,
         "9870",
         "147",
         null,
         null,
         "21"
        ],
        [
         "top",
         null,
         "2018-11-23 07:16:00",
         null,
         null,
         "$80.00",
         "Chip Transaction",
         null,
         "ONLINE",
         "CA",
         null,
         null,
         "Insufficient Balance"
        ],
        [
         "freq",
         null,
         "17",
         null,
         null,
         "38607",
         "2809950",
         null,
         "480773",
         "423235",
         null,
         null,
         "38838"
        ],
        [
         "mean",
         "21318930.45057695",
         null,
         "1026.9164761033326",
         "3485.4138357832167",
         null,
         null,
         "47666.620249636704",
         null,
         null,
         "51327.24863544812",
         "5564.362553128855",
         null
        ],
        [
         "std",
         "1409082.101615613",
         null,
         "580.5413366345144",
         "1676.1951674646011",
         null,
         null,
         "25825.7494822944",
         null,
         null,
         "29415.663816130465",
         "877.7942114784192",
         null
        ],
        [
         "min",
         "18881487.0",
         null,
         "0.0",
         "0.0",
         null,
         null,
         "2.0",
         null,
         null,
         "1001.0",
         "1711.0",
         null
        ],
        [
         "25%",
         "20099210.25",
         null,
         "525.0",
         "2416.0",
         null,
         null,
         "25875.0",
         null,
         null,
         "28586.0",
         "5300.0",
         null
        ],
        [
         "50%",
         "21316726.0",
         null,
         "1069.0",
         "3596.0",
         null,
         null,
         "45926.0",
         null,
         null,
         "47803.0",
         "5499.0",
         null
        ],
        [
         "75%",
         "22538733.75",
         null,
         "1531.0",
         "4894.0",
         null,
         null,
         "67591.0",
         null,
         null,
         "78016.0",
         "5812.0",
         null
        ],
        [
         "max",
         "23761874.0",
         null,
         "1998.0",
         "6144.0",
         null,
         null,
         "100340.0",
         null,
         null,
         "99928.0",
         "9402.0",
         null
        ]
       ],
       "shape": {
        "columns": 12,
        "rows": 11
       }
      },
      "text/html": [
       "<div>\n",
       "<style scoped>\n",
       "    .dataframe tbody tr th:only-of-type {\n",
       "        vertical-align: middle;\n",
       "    }\n",
       "\n",
       "    .dataframe tbody tr th {\n",
       "        vertical-align: top;\n",
       "    }\n",
       "\n",
       "    .dataframe thead th {\n",
       "        text-align: right;\n",
       "    }\n",
       "</style>\n",
       "<table border=\"1\" class=\"dataframe\">\n",
       "  <thead>\n",
       "    <tr style=\"text-align: right;\">\n",
       "      <th></th>\n",
       "      <th>id</th>\n",
       "      <th>date</th>\n",
       "      <th>client_id</th>\n",
       "      <th>card_id</th>\n",
       "      <th>amount</th>\n",
       "      <th>use_chip</th>\n",
       "      <th>merchant_id</th>\n",
       "      <th>merchant_city</th>\n",
       "      <th>merchant_state</th>\n",
       "      <th>zip</th>\n",
       "      <th>mcc</th>\n",
       "      <th>errors</th>\n",
       "    </tr>\n",
       "  </thead>\n",
       "  <tbody>\n",
       "    <tr>\n",
       "      <th>count</th>\n",
       "      <td>3.954066e+06</td>\n",
       "      <td>3954066</td>\n",
       "      <td>3.954066e+06</td>\n",
       "      <td>3.954066e+06</td>\n",
       "      <td>3954066</td>\n",
       "      <td>3954066</td>\n",
       "      <td>3.954066e+06</td>\n",
       "      <td>3954066</td>\n",
       "      <td>3473293</td>\n",
       "      <td>3.444171e+06</td>\n",
       "      <td>3.954066e+06</td>\n",
       "      <td>62903</td>\n",
       "    </tr>\n",
       "    <tr>\n",
       "      <th>unique</th>\n",
       "      <td>NaN</td>\n",
       "      <td>1201258</td>\n",
       "      <td>NaN</td>\n",
       "      <td>NaN</td>\n",
       "      <td>52701</td>\n",
       "      <td>3</td>\n",
       "      <td>NaN</td>\n",
       "      <td>9870</td>\n",
       "      <td>147</td>\n",
       "      <td>NaN</td>\n",
       "      <td>NaN</td>\n",
       "      <td>21</td>\n",
       "    </tr>\n",
       "    <tr>\n",
       "      <th>top</th>\n",
       "      <td>NaN</td>\n",
       "      <td>2018-11-23 07:16:00</td>\n",
       "      <td>NaN</td>\n",
       "      <td>NaN</td>\n",
       "      <td>$80.00</td>\n",
       "      <td>Chip Transaction</td>\n",
       "      <td>NaN</td>\n",
       "      <td>ONLINE</td>\n",
       "      <td>CA</td>\n",
       "      <td>NaN</td>\n",
       "      <td>NaN</td>\n",
       "      <td>Insufficient Balance</td>\n",
       "    </tr>\n",
       "    <tr>\n",
       "      <th>freq</th>\n",
       "      <td>NaN</td>\n",
       "      <td>17</td>\n",
       "      <td>NaN</td>\n",
       "      <td>NaN</td>\n",
       "      <td>38607</td>\n",
       "      <td>2809950</td>\n",
       "      <td>NaN</td>\n",
       "      <td>480773</td>\n",
       "      <td>423235</td>\n",
       "      <td>NaN</td>\n",
       "      <td>NaN</td>\n",
       "      <td>38838</td>\n",
       "    </tr>\n",
       "    <tr>\n",
       "      <th>mean</th>\n",
       "      <td>2.131893e+07</td>\n",
       "      <td>NaN</td>\n",
       "      <td>1.026916e+03</td>\n",
       "      <td>3.485414e+03</td>\n",
       "      <td>NaN</td>\n",
       "      <td>NaN</td>\n",
       "      <td>4.766662e+04</td>\n",
       "      <td>NaN</td>\n",
       "      <td>NaN</td>\n",
       "      <td>5.132725e+04</td>\n",
       "      <td>5.564363e+03</td>\n",
       "      <td>NaN</td>\n",
       "    </tr>\n",
       "    <tr>\n",
       "      <th>std</th>\n",
       "      <td>1.409082e+06</td>\n",
       "      <td>NaN</td>\n",
       "      <td>5.805413e+02</td>\n",
       "      <td>1.676195e+03</td>\n",
       "      <td>NaN</td>\n",
       "      <td>NaN</td>\n",
       "      <td>2.582575e+04</td>\n",
       "      <td>NaN</td>\n",
       "      <td>NaN</td>\n",
       "      <td>2.941566e+04</td>\n",
       "      <td>8.777942e+02</td>\n",
       "      <td>NaN</td>\n",
       "    </tr>\n",
       "    <tr>\n",
       "      <th>min</th>\n",
       "      <td>1.888149e+07</td>\n",
       "      <td>NaN</td>\n",
       "      <td>0.000000e+00</td>\n",
       "      <td>0.000000e+00</td>\n",
       "      <td>NaN</td>\n",
       "      <td>NaN</td>\n",
       "      <td>2.000000e+00</td>\n",
       "      <td>NaN</td>\n",
       "      <td>NaN</td>\n",
       "      <td>1.001000e+03</td>\n",
       "      <td>1.711000e+03</td>\n",
       "      <td>NaN</td>\n",
       "    </tr>\n",
       "    <tr>\n",
       "      <th>25%</th>\n",
       "      <td>2.009921e+07</td>\n",
       "      <td>NaN</td>\n",
       "      <td>5.250000e+02</td>\n",
       "      <td>2.416000e+03</td>\n",
       "      <td>NaN</td>\n",
       "      <td>NaN</td>\n",
       "      <td>2.587500e+04</td>\n",
       "      <td>NaN</td>\n",
       "      <td>NaN</td>\n",
       "      <td>2.858600e+04</td>\n",
       "      <td>5.300000e+03</td>\n",
       "      <td>NaN</td>\n",
       "    </tr>\n",
       "    <tr>\n",
       "      <th>50%</th>\n",
       "      <td>2.131673e+07</td>\n",
       "      <td>NaN</td>\n",
       "      <td>1.069000e+03</td>\n",
       "      <td>3.596000e+03</td>\n",
       "      <td>NaN</td>\n",
       "      <td>NaN</td>\n",
       "      <td>4.592600e+04</td>\n",
       "      <td>NaN</td>\n",
       "      <td>NaN</td>\n",
       "      <td>4.780300e+04</td>\n",
       "      <td>5.499000e+03</td>\n",
       "      <td>NaN</td>\n",
       "    </tr>\n",
       "    <tr>\n",
       "      <th>75%</th>\n",
       "      <td>2.253873e+07</td>\n",
       "      <td>NaN</td>\n",
       "      <td>1.531000e+03</td>\n",
       "      <td>4.894000e+03</td>\n",
       "      <td>NaN</td>\n",
       "      <td>NaN</td>\n",
       "      <td>6.759100e+04</td>\n",
       "      <td>NaN</td>\n",
       "      <td>NaN</td>\n",
       "      <td>7.801600e+04</td>\n",
       "      <td>5.812000e+03</td>\n",
       "      <td>NaN</td>\n",
       "    </tr>\n",
       "    <tr>\n",
       "      <th>max</th>\n",
       "      <td>2.376187e+07</td>\n",
       "      <td>NaN</td>\n",
       "      <td>1.998000e+03</td>\n",
       "      <td>6.144000e+03</td>\n",
       "      <td>NaN</td>\n",
       "      <td>NaN</td>\n",
       "      <td>1.003400e+05</td>\n",
       "      <td>NaN</td>\n",
       "      <td>NaN</td>\n",
       "      <td>9.992800e+04</td>\n",
       "      <td>9.402000e+03</td>\n",
       "      <td>NaN</td>\n",
       "    </tr>\n",
       "  </tbody>\n",
       "</table>\n",
       "</div>"
      ],
      "text/plain": [
       "                  id                 date     client_id       card_id  \\\n",
       "count   3.954066e+06              3954066  3.954066e+06  3.954066e+06   \n",
       "unique           NaN              1201258           NaN           NaN   \n",
       "top              NaN  2018-11-23 07:16:00           NaN           NaN   \n",
       "freq             NaN                   17           NaN           NaN   \n",
       "mean    2.131893e+07                  NaN  1.026916e+03  3.485414e+03   \n",
       "std     1.409082e+06                  NaN  5.805413e+02  1.676195e+03   \n",
       "min     1.888149e+07                  NaN  0.000000e+00  0.000000e+00   \n",
       "25%     2.009921e+07                  NaN  5.250000e+02  2.416000e+03   \n",
       "50%     2.131673e+07                  NaN  1.069000e+03  3.596000e+03   \n",
       "75%     2.253873e+07                  NaN  1.531000e+03  4.894000e+03   \n",
       "max     2.376187e+07                  NaN  1.998000e+03  6.144000e+03   \n",
       "\n",
       "         amount          use_chip   merchant_id merchant_city merchant_state  \\\n",
       "count   3954066           3954066  3.954066e+06       3954066        3473293   \n",
       "unique    52701                 3           NaN          9870            147   \n",
       "top      $80.00  Chip Transaction           NaN        ONLINE             CA   \n",
       "freq      38607           2809950           NaN        480773         423235   \n",
       "mean        NaN               NaN  4.766662e+04           NaN            NaN   \n",
       "std         NaN               NaN  2.582575e+04           NaN            NaN   \n",
       "min         NaN               NaN  2.000000e+00           NaN            NaN   \n",
       "25%         NaN               NaN  2.587500e+04           NaN            NaN   \n",
       "50%         NaN               NaN  4.592600e+04           NaN            NaN   \n",
       "75%         NaN               NaN  6.759100e+04           NaN            NaN   \n",
       "max         NaN               NaN  1.003400e+05           NaN            NaN   \n",
       "\n",
       "                 zip           mcc                errors  \n",
       "count   3.444171e+06  3.954066e+06                 62903  \n",
       "unique           NaN           NaN                    21  \n",
       "top              NaN           NaN  Insufficient Balance  \n",
       "freq             NaN           NaN                 38838  \n",
       "mean    5.132725e+04  5.564363e+03                   NaN  \n",
       "std     2.941566e+04  8.777942e+02                   NaN  \n",
       "min     1.001000e+03  1.711000e+03                   NaN  \n",
       "25%     2.858600e+04  5.300000e+03                   NaN  \n",
       "50%     4.780300e+04  5.499000e+03                   NaN  \n",
       "75%     7.801600e+04  5.812000e+03                   NaN  \n",
       "max     9.992800e+04  9.402000e+03                   NaN  "
      ]
     },
     "execution_count": 8,
     "metadata": {},
     "output_type": "execute_result"
    }
   ],
   "source": [
    "df.describe(include= 'all')"
   ]
  },
  {
   "cell_type": "code",
   "execution_count": 9,
   "id": "b889520a",
   "metadata": {},
   "outputs": [
    {
     "data": {
      "text/plain": [
       "np.int64(0)"
      ]
     },
     "execution_count": 9,
     "metadata": {},
     "output_type": "execute_result"
    }
   ],
   "source": [
    "df['id'].duplicated().sum()"
   ]
  },
  {
   "cell_type": "code",
   "execution_count": 10,
   "id": "10c345bd",
   "metadata": {},
   "outputs": [
    {
     "data": {
      "application/vnd.microsoft.datawrangler.viewer.v0+json": {
       "columns": [
        {
         "name": "use_chip",
         "rawType": "object",
         "type": "string"
        },
        {
         "name": "count",
         "rawType": "int64",
         "type": "integer"
        }
       ],
       "ref": "28402110-06e6-49de-83dc-cfd4d45973df",
       "rows": [
        [
         "Chip Transaction",
         "2809950"
        ],
        [
         "Swipe Transaction",
         "666777"
        ],
        [
         "Online Transaction",
         "477339"
        ]
       ],
       "shape": {
        "columns": 1,
        "rows": 3
       }
      },
      "text/plain": [
       "use_chip\n",
       "Chip Transaction      2809950\n",
       "Swipe Transaction      666777\n",
       "Online Transaction     477339\n",
       "Name: count, dtype: int64"
      ]
     },
     "execution_count": 10,
     "metadata": {},
     "output_type": "execute_result"
    }
   ],
   "source": [
    "df['use_chip'].value_counts(dropna=False)"
   ]
  },
  {
   "cell_type": "code",
   "execution_count": 11,
   "id": "bfee0105",
   "metadata": {},
   "outputs": [
    {
     "data": {
      "application/vnd.microsoft.datawrangler.viewer.v0+json": {
       "columns": [
        {
         "name": "errors",
         "rawType": "object",
         "type": "unknown"
        },
        {
         "name": "count",
         "rawType": "int64",
         "type": "integer"
        }
       ],
       "ref": "d3de88cf-fe79-41cc-a0a2-16e093db9cf0",
       "rows": [
        [
         null,
         "3891163"
        ],
        [
         "Insufficient Balance",
         "38838"
        ],
        [
         "Bad PIN",
         "9601"
        ],
        [
         "Technical Glitch",
         "7828"
        ],
        [
         "Bad Card Number",
         "2389"
        ],
        [
         "Bad Expiration",
         "1859"
        ],
        [
         "Bad CVV",
         "1783"
        ],
        [
         "Bad Zipcode",
         "328"
        ],
        [
         "Bad PIN,Insufficient Balance",
         "92"
        ],
        [
         "Insufficient Balance,Technical Glitch",
         "72"
        ],
        [
         "Bad PIN,Technical Glitch",
         "24"
        ],
        [
         "Bad Card Number,Insufficient Balance",
         "21"
        ],
        [
         "Bad CVV,Insufficient Balance",
         "14"
        ],
        [
         "Bad Expiration,Bad CVV",
         "13"
        ],
        [
         "Bad Card Number,Bad CVV",
         "13"
        ],
        [
         "Bad Expiration,Insufficient Balance",
         "8"
        ],
        [
         "Bad Expiration,Technical Glitch",
         "7"
        ],
        [
         "Bad Card Number,Bad Expiration",
         "5"
        ],
        [
         "Bad Zipcode,Insufficient Balance",
         "3"
        ],
        [
         "Bad Card Number,Technical Glitch",
         "3"
        ],
        [
         "Bad CVV,Technical Glitch",
         "1"
        ],
        [
         "Bad Zipcode,Technical Glitch",
         "1"
        ]
       ],
       "shape": {
        "columns": 1,
        "rows": 22
       }
      },
      "text/plain": [
       "errors\n",
       "NaN                                      3891163\n",
       "Insufficient Balance                       38838\n",
       "Bad PIN                                     9601\n",
       "Technical Glitch                            7828\n",
       "Bad Card Number                             2389\n",
       "Bad Expiration                              1859\n",
       "Bad CVV                                     1783\n",
       "Bad Zipcode                                  328\n",
       "Bad PIN,Insufficient Balance                  92\n",
       "Insufficient Balance,Technical Glitch         72\n",
       "Bad PIN,Technical Glitch                      24\n",
       "Bad Card Number,Insufficient Balance          21\n",
       "Bad CVV,Insufficient Balance                  14\n",
       "Bad Expiration,Bad CVV                        13\n",
       "Bad Card Number,Bad CVV                       13\n",
       "Bad Expiration,Insufficient Balance            8\n",
       "Bad Expiration,Technical Glitch                7\n",
       "Bad Card Number,Bad Expiration                 5\n",
       "Bad Zipcode,Insufficient Balance               3\n",
       "Bad Card Number,Technical Glitch               3\n",
       "Bad CVV,Technical Glitch                       1\n",
       "Bad Zipcode,Technical Glitch                   1\n",
       "Name: count, dtype: int64"
      ]
     },
     "execution_count": 11,
     "metadata": {},
     "output_type": "execute_result"
    }
   ],
   "source": [
    "df['errors'].value_counts(dropna=False)"
   ]
  },
  {
   "cell_type": "code",
   "execution_count": 12,
   "id": "862f3564",
   "metadata": {},
   "outputs": [
    {
     "data": {
      "application/vnd.microsoft.datawrangler.viewer.v0+json": {
       "columns": [
        {
         "name": "index",
         "rawType": "int64",
         "type": "integer"
        },
        {
         "name": "id",
         "rawType": "int64",
         "type": "integer"
        },
        {
         "name": "date",
         "rawType": "object",
         "type": "string"
        },
        {
         "name": "client_id",
         "rawType": "int64",
         "type": "integer"
        },
        {
         "name": "card_id",
         "rawType": "int64",
         "type": "integer"
        },
        {
         "name": "amount",
         "rawType": "object",
         "type": "string"
        },
        {
         "name": "use_chip",
         "rawType": "object",
         "type": "string"
        },
        {
         "name": "merchant_id",
         "rawType": "int64",
         "type": "integer"
        },
        {
         "name": "merchant_city",
         "rawType": "object",
         "type": "string"
        },
        {
         "name": "merchant_state",
         "rawType": "object",
         "type": "unknown"
        },
        {
         "name": "zip",
         "rawType": "float64",
         "type": "float"
        },
        {
         "name": "mcc",
         "rawType": "int64",
         "type": "integer"
        },
        {
         "name": "errors",
         "rawType": "object",
         "type": "string"
        }
       ],
       "ref": "96dd6bfc-bad9-43a8-bcd6-28224767dca1",
       "rows": [
        [
         "41785",
         "18932850",
         "2017-01-11 20:48:00",
         "1066",
         "1301",
         "$100.00",
         "Chip Transaction",
         "27092",
         "Newtown",
         "PA",
         "18940.0",
         "4829",
         "Bad PIN,Insufficient Balance"
        ],
        [
         "70900",
         "18968680",
         "2017-01-19 12:48:00",
         "742",
         "3943",
         "$122.00",
         "Swipe Transaction",
         "59935",
         "Manassas",
         "VA",
         "20109.0",
         "5499",
         "Bad PIN,Insufficient Balance"
        ],
        [
         "73792",
         "18972236",
         "2017-01-20 08:48:00",
         "1209",
         "4573",
         "$112.35",
         "Chip Transaction",
         "50867",
         "Yonkers",
         "NY",
         "10710.0",
         "5541",
         "Insufficient Balance,Technical Glitch"
        ],
        [
         "87704",
         "18989416",
         "2017-01-24 00:44:00",
         "1357",
         "4611",
         "$22.22",
         "Chip Transaction",
         "50783",
         "Tacoma",
         "WA",
         "98404.0",
         "5411",
         "Bad PIN,Insufficient Balance"
        ],
        [
         "132631",
         "19044741",
         "2017-02-04 14:57:00",
         "1425",
         "5929",
         "$37.14",
         "Swipe Transaction",
         "83743",
         "Essex",
         "IL",
         "60935.0",
         "7538",
         "Bad PIN,Insufficient Balance"
        ],
        [
         "133631",
         "19045972",
         "2017-02-04 20:49:00",
         "1039",
         "5791",
         "$27.77",
         "Chip Transaction",
         "34584",
         "Los Angeles",
         "CA",
         "90033.0",
         "5812",
         "Bad PIN,Insufficient Balance"
        ],
        [
         "134603",
         "19047158",
         "2017-02-05 08:32:00",
         "566",
         "2543",
         "$87.10",
         "Swipe Transaction",
         "48919",
         "Holly",
         "MI",
         "48442.0",
         "5311",
         "Insufficient Balance,Technical Glitch"
        ],
        [
         "139097",
         "19052636",
         "2017-02-06 12:37:00",
         "858",
         "2633",
         "$-88.00",
         "Chip Transaction",
         "5248",
         "Georgetown",
         "TX",
         "78633.0",
         "5499",
         "Insufficient Balance,Technical Glitch"
        ],
        [
         "144003",
         "19058611",
         "2017-02-07 15:47:00",
         "933",
         "4997",
         "$41.05",
         "Chip Transaction",
         "87625",
         "Tulsa",
         "OK",
         "74101.0",
         "5812",
         "Insufficient Balance,Technical Glitch"
        ],
        [
         "165804",
         "19085477",
         "2017-02-13 10:59:00",
         "107",
         "5349",
         "$66.00",
         "Swipe Transaction",
         "59935",
         "Alexander",
         "AR",
         "72002.0",
         "5499",
         "Insufficient Balance,Technical Glitch"
        ],
        [
         "179466",
         "19102273",
         "2017-02-16 20:36:00",
         "84",
         "5750",
         "$57.54",
         "Chip Transaction",
         "88729",
         "Lansing",
         "NC",
         "28643.0",
         "5300",
         "Bad PIN,Insufficient Balance"
        ],
        [
         "228657",
         "19162601",
         "2017-03-01 15:59:00",
         "852",
         "4187",
         "$-80.00",
         "Chip Transaction",
         "26810",
         "Chiefland",
         "FL",
         "32644.0",
         "5541",
         "Bad PIN,Insufficient Balance"
        ],
        [
         "237703",
         "19173770",
         "2017-03-04 05:47:00",
         "757",
         "4175",
         "$117.42",
         "Chip Transaction",
         "7777",
         "Nassau",
         "The Bahamas",
         null,
         "3684",
         "Bad PIN,Insufficient Balance"
        ],
        [
         "312314",
         "19265300",
         "2017-03-23 15:22:00",
         "1214",
         "4771",
         "$59.00",
         "Swipe Transaction",
         "43293",
         "Foxboro",
         "MA",
         "2035.0",
         "5499",
         "Bad PIN,Insufficient Balance"
        ],
        [
         "333080",
         "19290766",
         "2017-03-29 07:08:00",
         "954",
         "5586",
         "$80.00",
         "Chip Transaction",
         "27092",
         "Riverside",
         "CA",
         "92508.0",
         "4829",
         "Bad PIN,Insufficient Balance"
        ],
        [
         "363069",
         "19327462",
         "2017-04-05 19:02:00",
         "128",
         "5048",
         "$77.00",
         "Chip Transaction",
         "22204",
         "Houston",
         "TX",
         "77062.0",
         "5541",
         "Insufficient Balance,Technical Glitch"
        ],
        [
         "384925",
         "19354377",
         "2017-04-11 13:47:00",
         "1846",
         "3297",
         "$120.00",
         "Swipe Transaction",
         "27092",
         "Springfield",
         "MO",
         "65802.0",
         "4829",
         "Bad PIN,Insufficient Balance"
        ],
        [
         "392292",
         "19363344",
         "2017-04-13 11:43:00",
         "1445",
         "4716",
         "$67.36",
         "Chip Transaction",
         "61195",
         "Elkhart",
         "IN",
         "46514.0",
         "5541",
         "Bad PIN,Insufficient Balance"
        ],
        [
         "401714",
         "19374874",
         "2017-04-15 18:15:00",
         "1451",
         "3226",
         "$27.60",
         "Chip Transaction",
         "50867",
         "Revere",
         "MA",
         "2151.0",
         "5541",
         "Bad PIN,Insufficient Balance"
        ],
        [
         "407817",
         "19382456",
         "2017-04-17 13:54:00",
         "1193",
         "4533",
         "$76.53",
         "Swipe Transaction",
         "43293",
         "Callicoon",
         "NY",
         "12723.0",
         "5499",
         "Insufficient Balance,Technical Glitch"
        ],
        [
         "478542",
         "19469629",
         "2017-05-05 19:10:00",
         "1214",
         "5508",
         "$128.15",
         "Online Transaction",
         "84682",
         "ONLINE",
         null,
         null,
         "4900",
         "Insufficient Balance,Technical Glitch"
        ],
        [
         "483091",
         "19475260",
         "2017-05-07 00:46:00",
         "361",
         "5839",
         "$6.64",
         "Swipe Transaction",
         "59397",
         "Hawthorne",
         "CA",
         "90250.0",
         "5812",
         "Bad PIN,Insufficient Balance"
        ],
        [
         "517394",
         "19517655",
         "2017-05-16 07:35:00",
         "954",
         "2220",
         "$80.00",
         "Chip Transaction",
         "27092",
         "Riverside",
         "CA",
         "92508.0",
         "4829",
         "Insufficient Balance,Technical Glitch"
        ],
        [
         "546970",
         "19554210",
         "2017-05-23 17:54:00",
         "1516",
         "1002",
         "$145.63",
         "Chip Transaction",
         "15574",
         "Port Saint Lucie",
         "FL",
         "34952.0",
         "3393",
         "Bad PIN,Insufficient Balance"
        ],
        [
         "584819",
         "19600974",
         "2017-06-02 14:41:00",
         "1031",
         "130",
         "$137.65",
         "Chip Transaction",
         "30286",
         "Castle Rock",
         "CO",
         "80104.0",
         "4814",
         "Insufficient Balance,Technical Glitch"
        ],
        [
         "647162",
         "19677869",
         "2017-06-18 19:56:00",
         "1130",
         "2446",
         "$100.99",
         "Chip Transaction",
         "81833",
         "Federal Way",
         "WA",
         "98003.0",
         "5912",
         "Insufficient Balance,Technical Glitch"
        ],
        [
         "677505",
         "19715412",
         "2017-06-26 18:34:00",
         "1082",
         "3308",
         "$60.00",
         "Chip Transaction",
         "27092",
         "Fresno",
         "CA",
         "93710.0",
         "4829",
         "Bad PIN,Insufficient Balance"
        ],
        [
         "692161",
         "19733537",
         "2017-06-30 12:54:00",
         "402",
         "2536",
         "$59.45",
         "Chip Transaction",
         "34829",
         "Loganville",
         "GA",
         "30052.0",
         "7230",
         "Insufficient Balance,Technical Glitch"
        ],
        [
         "700270",
         "19743564",
         "2017-07-02 15:31:00",
         "86",
         "3178",
         "$40.00",
         "Chip Transaction",
         "27092",
         "Clarkston",
         "GA",
         "30021.0",
         "4829",
         "Bad PIN,Insufficient Balance"
        ],
        [
         "812801",
         "19882529",
         "2017-08-01 02:32:00",
         "57",
         "6006",
         "$79.51",
         "Chip Transaction",
         "13523",
         "Tucson",
         "AZ",
         "85741.0",
         "5310",
         "Insufficient Balance,Technical Glitch"
        ],
        [
         "829222",
         "19902796",
         "2017-08-05 08:24:00",
         "219",
         "4609",
         "$9.73",
         "Chip Transaction",
         "83480",
         "Harrison",
         "MI",
         "48625.0",
         "9402",
         "Bad PIN,Insufficient Balance"
        ],
        [
         "880247",
         "19965872",
         "2017-08-18 14:56:00",
         "1940",
         "4218",
         "$8.55",
         "Chip Transaction",
         "51952",
         "Corona",
         "NY",
         "11368.0",
         "5812",
         "Insufficient Balance,Technical Glitch"
        ],
        [
         "882292",
         "19968368",
         "2017-08-19 07:44:00",
         "472",
         "3811",
         "$-95.00",
         "Chip Transaction",
         "59935",
         "Round Lake",
         "IL",
         "60073.0",
         "5499",
         "Bad PIN,Insufficient Balance"
        ],
        [
         "893944",
         "19982744",
         "2017-08-22 09:27:00",
         "615",
         "5479",
         "$100.00",
         "Chip Transaction",
         "27092",
         "Channelview",
         "TX",
         "77530.0",
         "4829",
         "Insufficient Balance,Technical Glitch"
        ],
        [
         "949999",
         "20051855",
         "2017-09-05 19:13:00",
         "1330",
         "6045",
         "$124.15",
         "Swipe Transaction",
         "64925",
         "Goleta",
         "CA",
         "93117.0",
         "7922",
         "Insufficient Balance,Technical Glitch"
        ],
        [
         "977428",
         "20085632",
         "2017-09-13 00:31:00",
         "121",
         "349",
         "$85.53",
         "Chip Transaction",
         "91717",
         "Menasha",
         "WI",
         "54952.0",
         "5912",
         "Insufficient Balance,Technical Glitch"
        ],
        [
         "999806",
         "20113122",
         "2017-09-18 20:13:00",
         "502",
         "3521",
         "$60.00",
         "Swipe Transaction",
         "26810",
         "Rimersburg",
         "PA",
         "16248.0",
         "5541",
         "Bad PIN,Insufficient Balance"
        ],
        [
         "1016138",
         "20133178",
         "2017-09-22 23:09:00",
         "1523",
         "4521",
         "$100.00",
         "Chip Transaction",
         "61195",
         "Greensboro",
         "NC",
         "27407.0",
         "5541",
         "Bad PIN,Insufficient Balance"
        ],
        [
         "1037331",
         "20159228",
         "2017-09-28 13:41:00",
         "1384",
         "3723",
         "$37.56",
         "Chip Transaction",
         "22204",
         "San Antonio",
         "TX",
         "78250.0",
         "5541",
         "Bad PIN,Insufficient Balance"
        ],
        [
         "1042395",
         "20165408",
         "2017-09-29 19:38:00",
         "1243",
         "3884",
         "$42.20",
         "Chip Transaction",
         "36934",
         "Harrisburg",
         "PA",
         "17113.0",
         "7538",
         "Insufficient Balance,Technical Glitch"
        ],
        [
         "1057927",
         "20184552",
         "2017-10-03 23:32:00",
         "523",
         "2713",
         "$81.10",
         "Chip Transaction",
         "60569",
         "Holland",
         "MI",
         "49423.0",
         "5300",
         "Insufficient Balance,Technical Glitch"
        ],
        [
         "1063365",
         "20191237",
         "2017-10-05 10:53:00",
         "40",
         "3648",
         "$66.34",
         "Chip Transaction",
         "13598",
         "Springfield",
         "OH",
         "45506.0",
         "5300",
         "Insufficient Balance,Technical Glitch"
        ],
        [
         "1123408",
         "20265227",
         "2017-10-21 06:48:00",
         "851",
         "3613",
         "$68.40",
         "Chip Transaction",
         "66400",
         "Shelbyville",
         "KY",
         "40065.0",
         "7276",
         "Insufficient Balance,Technical Glitch"
        ],
        [
         "1139709",
         "20285316",
         "2017-10-25 10:54:00",
         "338",
         "1356",
         "$76.00",
         "Chip Transaction",
         "43293",
         "Glenwood",
         "NY",
         "14069.0",
         "5499",
         "Bad PIN,Insufficient Balance"
        ],
        [
         "1155472",
         "20304707",
         "2017-10-29 12:28:00",
         "122",
         "2034",
         "$80.00",
         "Chip Transaction",
         "27092",
         "Covington",
         "LA",
         "70433.0",
         "4829",
         "Insufficient Balance,Technical Glitch"
        ],
        [
         "1172418",
         "20325619",
         "2017-11-02 20:09:00",
         "464",
         "3233",
         "$120.00",
         "Chip Transaction",
         "27092",
         "Indianapolis",
         "IN",
         "46239.0",
         "4829",
         "Bad PIN,Insufficient Balance"
        ],
        [
         "1182427",
         "20337941",
         "2017-11-05 13:19:00",
         "1133",
         "2586",
         "$120.00",
         "Chip Transaction",
         "27092",
         "Perry",
         "NY",
         "14530.0",
         "4829",
         "Bad PIN,Insufficient Balance"
        ],
        [
         "1238826",
         "20407320",
         "2017-11-20 08:23:00",
         "234",
         "2052",
         "$56.85",
         "Chip Transaction",
         "29414",
         "Mesquite",
         "TX",
         "75150.0",
         "7230",
         "Bad PIN,Insufficient Balance"
        ],
        [
         "1271894",
         "20448090",
         "2017-11-28 18:00:00",
         "1352",
         "59",
         "$35.50",
         "Chip Transaction",
         "23481",
         "Traverse City",
         "MI",
         "49686.0",
         "5812",
         "Bad PIN,Insufficient Balance"
        ],
        [
         "1290126",
         "20470529",
         "2017-12-03 13:33:00",
         "1195",
         "3309",
         "$80.00",
         "Chip Transaction",
         "27092",
         "Austin",
         "MN",
         "55912.0",
         "4829",
         "Bad PIN,Insufficient Balance"
        ]
       ],
       "shape": {
        "columns": 12,
        "rows": 164
       }
      },
      "text/html": [
       "<div>\n",
       "<style scoped>\n",
       "    .dataframe tbody tr th:only-of-type {\n",
       "        vertical-align: middle;\n",
       "    }\n",
       "\n",
       "    .dataframe tbody tr th {\n",
       "        vertical-align: top;\n",
       "    }\n",
       "\n",
       "    .dataframe thead th {\n",
       "        text-align: right;\n",
       "    }\n",
       "</style>\n",
       "<table border=\"1\" class=\"dataframe\">\n",
       "  <thead>\n",
       "    <tr style=\"text-align: right;\">\n",
       "      <th></th>\n",
       "      <th>id</th>\n",
       "      <th>date</th>\n",
       "      <th>client_id</th>\n",
       "      <th>card_id</th>\n",
       "      <th>amount</th>\n",
       "      <th>use_chip</th>\n",
       "      <th>merchant_id</th>\n",
       "      <th>merchant_city</th>\n",
       "      <th>merchant_state</th>\n",
       "      <th>zip</th>\n",
       "      <th>mcc</th>\n",
       "      <th>errors</th>\n",
       "    </tr>\n",
       "  </thead>\n",
       "  <tbody>\n",
       "    <tr>\n",
       "      <th>41785</th>\n",
       "      <td>18932850</td>\n",
       "      <td>2017-01-11 20:48:00</td>\n",
       "      <td>1066</td>\n",
       "      <td>1301</td>\n",
       "      <td>$100.00</td>\n",
       "      <td>Chip Transaction</td>\n",
       "      <td>27092</td>\n",
       "      <td>Newtown</td>\n",
       "      <td>PA</td>\n",
       "      <td>18940.0</td>\n",
       "      <td>4829</td>\n",
       "      <td>Bad PIN,Insufficient Balance</td>\n",
       "    </tr>\n",
       "    <tr>\n",
       "      <th>70900</th>\n",
       "      <td>18968680</td>\n",
       "      <td>2017-01-19 12:48:00</td>\n",
       "      <td>742</td>\n",
       "      <td>3943</td>\n",
       "      <td>$122.00</td>\n",
       "      <td>Swipe Transaction</td>\n",
       "      <td>59935</td>\n",
       "      <td>Manassas</td>\n",
       "      <td>VA</td>\n",
       "      <td>20109.0</td>\n",
       "      <td>5499</td>\n",
       "      <td>Bad PIN,Insufficient Balance</td>\n",
       "    </tr>\n",
       "    <tr>\n",
       "      <th>73792</th>\n",
       "      <td>18972236</td>\n",
       "      <td>2017-01-20 08:48:00</td>\n",
       "      <td>1209</td>\n",
       "      <td>4573</td>\n",
       "      <td>$112.35</td>\n",
       "      <td>Chip Transaction</td>\n",
       "      <td>50867</td>\n",
       "      <td>Yonkers</td>\n",
       "      <td>NY</td>\n",
       "      <td>10710.0</td>\n",
       "      <td>5541</td>\n",
       "      <td>Insufficient Balance,Technical Glitch</td>\n",
       "    </tr>\n",
       "    <tr>\n",
       "      <th>87704</th>\n",
       "      <td>18989416</td>\n",
       "      <td>2017-01-24 00:44:00</td>\n",
       "      <td>1357</td>\n",
       "      <td>4611</td>\n",
       "      <td>$22.22</td>\n",
       "      <td>Chip Transaction</td>\n",
       "      <td>50783</td>\n",
       "      <td>Tacoma</td>\n",
       "      <td>WA</td>\n",
       "      <td>98404.0</td>\n",
       "      <td>5411</td>\n",
       "      <td>Bad PIN,Insufficient Balance</td>\n",
       "    </tr>\n",
       "    <tr>\n",
       "      <th>132631</th>\n",
       "      <td>19044741</td>\n",
       "      <td>2017-02-04 14:57:00</td>\n",
       "      <td>1425</td>\n",
       "      <td>5929</td>\n",
       "      <td>$37.14</td>\n",
       "      <td>Swipe Transaction</td>\n",
       "      <td>83743</td>\n",
       "      <td>Essex</td>\n",
       "      <td>IL</td>\n",
       "      <td>60935.0</td>\n",
       "      <td>7538</td>\n",
       "      <td>Bad PIN,Insufficient Balance</td>\n",
       "    </tr>\n",
       "    <tr>\n",
       "      <th>...</th>\n",
       "      <td>...</td>\n",
       "      <td>...</td>\n",
       "      <td>...</td>\n",
       "      <td>...</td>\n",
       "      <td>...</td>\n",
       "      <td>...</td>\n",
       "      <td>...</td>\n",
       "      <td>...</td>\n",
       "      <td>...</td>\n",
       "      <td>...</td>\n",
       "      <td>...</td>\n",
       "      <td>...</td>\n",
       "    </tr>\n",
       "    <tr>\n",
       "      <th>3865160</th>\n",
       "      <td>23652131</td>\n",
       "      <td>2019-10-08 13:50:00</td>\n",
       "      <td>779</td>\n",
       "      <td>119</td>\n",
       "      <td>$71.11</td>\n",
       "      <td>Chip Transaction</td>\n",
       "      <td>20561</td>\n",
       "      <td>Pottsboro</td>\n",
       "      <td>TX</td>\n",
       "      <td>75076.0</td>\n",
       "      <td>5912</td>\n",
       "      <td>Bad PIN,Insufficient Balance</td>\n",
       "    </tr>\n",
       "    <tr>\n",
       "      <th>3876947</th>\n",
       "      <td>23666767</td>\n",
       "      <td>2019-10-11 15:30:00</td>\n",
       "      <td>148</td>\n",
       "      <td>2144</td>\n",
       "      <td>$85.59</td>\n",
       "      <td>Chip Transaction</td>\n",
       "      <td>20561</td>\n",
       "      <td>Canterbury</td>\n",
       "      <td>NH</td>\n",
       "      <td>3224.0</td>\n",
       "      <td>5912</td>\n",
       "      <td>Bad PIN,Insufficient Balance</td>\n",
       "    </tr>\n",
       "    <tr>\n",
       "      <th>3877998</th>\n",
       "      <td>23668052</td>\n",
       "      <td>2019-10-11 22:21:00</td>\n",
       "      <td>1123</td>\n",
       "      <td>3010</td>\n",
       "      <td>$61.59</td>\n",
       "      <td>Chip Transaction</td>\n",
       "      <td>20416</td>\n",
       "      <td>Laurel Hill</td>\n",
       "      <td>NC</td>\n",
       "      <td>28351.0</td>\n",
       "      <td>5712</td>\n",
       "      <td>Bad PIN,Insufficient Balance</td>\n",
       "    </tr>\n",
       "    <tr>\n",
       "      <th>3909226</th>\n",
       "      <td>23706600</td>\n",
       "      <td>2019-10-20 07:41:00</td>\n",
       "      <td>674</td>\n",
       "      <td>4786</td>\n",
       "      <td>$60.55</td>\n",
       "      <td>Chip Transaction</td>\n",
       "      <td>37369</td>\n",
       "      <td>San Diego</td>\n",
       "      <td>CA</td>\n",
       "      <td>92154.0</td>\n",
       "      <td>4111</td>\n",
       "      <td>Insufficient Balance,Technical Glitch</td>\n",
       "    </tr>\n",
       "    <tr>\n",
       "      <th>3934890</th>\n",
       "      <td>23738190</td>\n",
       "      <td>2019-10-26 20:55:00</td>\n",
       "      <td>823</td>\n",
       "      <td>5524</td>\n",
       "      <td>$67.13</td>\n",
       "      <td>Chip Transaction</td>\n",
       "      <td>70648</td>\n",
       "      <td>Suffolk</td>\n",
       "      <td>VA</td>\n",
       "      <td>23434.0</td>\n",
       "      <td>5812</td>\n",
       "      <td>Insufficient Balance,Technical Glitch</td>\n",
       "    </tr>\n",
       "  </tbody>\n",
       "</table>\n",
       "<p>164 rows × 12 columns</p>\n",
       "</div>"
      ],
      "text/plain": [
       "               id                 date  client_id  card_id   amount  \\\n",
       "41785    18932850  2017-01-11 20:48:00       1066     1301  $100.00   \n",
       "70900    18968680  2017-01-19 12:48:00        742     3943  $122.00   \n",
       "73792    18972236  2017-01-20 08:48:00       1209     4573  $112.35   \n",
       "87704    18989416  2017-01-24 00:44:00       1357     4611   $22.22   \n",
       "132631   19044741  2017-02-04 14:57:00       1425     5929   $37.14   \n",
       "...           ...                  ...        ...      ...      ...   \n",
       "3865160  23652131  2019-10-08 13:50:00        779      119   $71.11   \n",
       "3876947  23666767  2019-10-11 15:30:00        148     2144   $85.59   \n",
       "3877998  23668052  2019-10-11 22:21:00       1123     3010   $61.59   \n",
       "3909226  23706600  2019-10-20 07:41:00        674     4786   $60.55   \n",
       "3934890  23738190  2019-10-26 20:55:00        823     5524   $67.13   \n",
       "\n",
       "                  use_chip  merchant_id merchant_city merchant_state      zip  \\\n",
       "41785     Chip Transaction        27092       Newtown             PA  18940.0   \n",
       "70900    Swipe Transaction        59935      Manassas             VA  20109.0   \n",
       "73792     Chip Transaction        50867       Yonkers             NY  10710.0   \n",
       "87704     Chip Transaction        50783        Tacoma             WA  98404.0   \n",
       "132631   Swipe Transaction        83743         Essex             IL  60935.0   \n",
       "...                    ...          ...           ...            ...      ...   \n",
       "3865160   Chip Transaction        20561     Pottsboro             TX  75076.0   \n",
       "3876947   Chip Transaction        20561    Canterbury             NH   3224.0   \n",
       "3877998   Chip Transaction        20416   Laurel Hill             NC  28351.0   \n",
       "3909226   Chip Transaction        37369     San Diego             CA  92154.0   \n",
       "3934890   Chip Transaction        70648       Suffolk             VA  23434.0   \n",
       "\n",
       "          mcc                                 errors  \n",
       "41785    4829           Bad PIN,Insufficient Balance  \n",
       "70900    5499           Bad PIN,Insufficient Balance  \n",
       "73792    5541  Insufficient Balance,Technical Glitch  \n",
       "87704    5411           Bad PIN,Insufficient Balance  \n",
       "132631   7538           Bad PIN,Insufficient Balance  \n",
       "...       ...                                    ...  \n",
       "3865160  5912           Bad PIN,Insufficient Balance  \n",
       "3876947  5912           Bad PIN,Insufficient Balance  \n",
       "3877998  5712           Bad PIN,Insufficient Balance  \n",
       "3909226  4111  Insufficient Balance,Technical Glitch  \n",
       "3934890  5812  Insufficient Balance,Technical Glitch  \n",
       "\n",
       "[164 rows x 12 columns]"
      ]
     },
     "execution_count": 12,
     "metadata": {},
     "output_type": "execute_result"
    }
   ],
   "source": [
    "df.loc[(df['errors'] == 'Bad PIN,Insufficient Balance') | (df['errors'] == 'Insufficient Balance,Technical Glitch')]"
   ]
  },
  {
   "cell_type": "code",
   "execution_count": 13,
   "id": "c96fb15f",
   "metadata": {},
   "outputs": [
    {
     "data": {
      "application/vnd.microsoft.datawrangler.viewer.v0+json": {
       "columns": [
        {
         "name": "amount",
         "rawType": "object",
         "type": "string"
        },
        {
         "name": "count",
         "rawType": "int64",
         "type": "integer"
        }
       ],
       "ref": "2ddfc1e6-c587-454c-af09-09a7fca1b4ab",
       "rows": [
        [
         "$.",
         "3760589"
        ],
        [
         "$-.",
         "193477"
        ]
       ],
       "shape": {
        "columns": 1,
        "rows": 2
       }
      },
      "text/plain": [
       "amount\n",
       "$.     3760589\n",
       "$-.     193477\n",
       "Name: count, dtype: int64"
      ]
     },
     "execution_count": 13,
     "metadata": {},
     "output_type": "execute_result"
    }
   ],
   "source": [
    "df['amount'].str.replace(r'[A-Za-z0-9]','',regex=True).value_counts()"
   ]
  },
  {
   "cell_type": "code",
   "execution_count": 14,
   "id": "8c98ba6b",
   "metadata": {},
   "outputs": [
    {
     "data": {
      "application/vnd.microsoft.datawrangler.viewer.v0+json": {
       "columns": [
        {
         "name": "index",
         "rawType": "int64",
         "type": "integer"
        },
        {
         "name": "merchant_key",
         "rawType": "int64",
         "type": "integer"
        },
        {
         "name": "merchant_id",
         "rawType": "int64",
         "type": "integer"
        },
        {
         "name": "merchant_state",
         "rawType": "object",
         "type": "string"
        },
        {
         "name": "merchant_city",
         "rawType": "object",
         "type": "string"
        },
        {
         "name": "zip",
         "rawType": "int64",
         "type": "integer"
        },
        {
         "name": "mcc",
         "rawType": "int64",
         "type": "integer"
        },
        {
         "name": "mcc_description",
         "rawType": "object",
         "type": "string"
        },
        {
         "name": "load_timestamp",
         "rawType": "datetime64[ns]",
         "type": "datetime"
        }
       ],
       "ref": "9a9a3ba1-006e-468a-82cd-f37e052ac856",
       "rows": [
        [
         "0",
         "0",
         "39021",
         "ONLINE",
         "ONLINE",
         "0",
         "4784",
         "Tolls and Bridge Fees",
         "2025-07-09 11:23:14.460641"
        ],
        [
         "1",
         "1",
         "27092",
         "TX",
         "San Marcos",
         "78666",
         "4829",
         "Money Transfer",
         "2025-07-09 11:23:14.464539"
        ],
        [
         "2",
         "2",
         "6389",
         "TX",
         "Houston",
         "77047",
         "5300",
         "Wholesale Clubs",
         "2025-07-09 11:23:14.464539"
        ],
        [
         "3",
         "3",
         "18563",
         "ONLINE",
         "ONLINE",
         "0",
         "4121",
         "Taxicabs and Limousines",
         "2025-07-09 11:23:14.464539"
        ],
        [
         "4",
         "4",
         "61195",
         "WA",
         "Tacoma",
         "98404",
         "5541",
         "Service Stations",
         "2025-07-09 11:23:14.464539"
        ],
        [
         "5",
         "5",
         "58215",
         "OH",
         "Cleveland",
         "44118",
         "5813",
         "Drinking Places (Alcoholic Beverages)",
         "2025-07-09 11:23:14.464539"
        ],
        [
         "6",
         "6",
         "75781",
         "NY",
         "Brooklyn",
         "11210",
         "5411",
         "Grocery Stores, Supermarkets",
         "2025-07-09 11:23:14.464539"
        ],
        [
         "7",
         "8",
         "73186",
         "ONLINE",
         "ONLINE",
         "0",
         "4814",
         "Telecommunication Services",
         "2025-07-09 11:23:14.464539"
        ],
        [
         "8",
         "9",
         "27092",
         "IN",
         "Crown Point",
         "46307",
         "4829",
         "Money Transfer",
         "2025-07-09 11:23:14.464539"
        ],
        [
         "9",
         "10",
         "85986",
         "NY",
         "Jamaica",
         "11434",
         "5812",
         "Eating Places and Restaurants",
         "2025-07-09 11:23:14.464539"
        ]
       ],
       "shape": {
        "columns": 8,
        "rows": 10
       }
      },
      "text/html": [
       "<div>\n",
       "<style scoped>\n",
       "    .dataframe tbody tr th:only-of-type {\n",
       "        vertical-align: middle;\n",
       "    }\n",
       "\n",
       "    .dataframe tbody tr th {\n",
       "        vertical-align: top;\n",
       "    }\n",
       "\n",
       "    .dataframe thead th {\n",
       "        text-align: right;\n",
       "    }\n",
       "</style>\n",
       "<table border=\"1\" class=\"dataframe\">\n",
       "  <thead>\n",
       "    <tr style=\"text-align: right;\">\n",
       "      <th></th>\n",
       "      <th>merchant_key</th>\n",
       "      <th>merchant_id</th>\n",
       "      <th>merchant_state</th>\n",
       "      <th>merchant_city</th>\n",
       "      <th>zip</th>\n",
       "      <th>mcc</th>\n",
       "      <th>mcc_description</th>\n",
       "      <th>load_timestamp</th>\n",
       "    </tr>\n",
       "  </thead>\n",
       "  <tbody>\n",
       "    <tr>\n",
       "      <th>0</th>\n",
       "      <td>0</td>\n",
       "      <td>39021</td>\n",
       "      <td>ONLINE</td>\n",
       "      <td>ONLINE</td>\n",
       "      <td>0</td>\n",
       "      <td>4784</td>\n",
       "      <td>Tolls and Bridge Fees</td>\n",
       "      <td>2025-07-09 11:23:14.460641</td>\n",
       "    </tr>\n",
       "    <tr>\n",
       "      <th>1</th>\n",
       "      <td>1</td>\n",
       "      <td>27092</td>\n",
       "      <td>TX</td>\n",
       "      <td>San Marcos</td>\n",
       "      <td>78666</td>\n",
       "      <td>4829</td>\n",
       "      <td>Money Transfer</td>\n",
       "      <td>2025-07-09 11:23:14.464539</td>\n",
       "    </tr>\n",
       "    <tr>\n",
       "      <th>2</th>\n",
       "      <td>2</td>\n",
       "      <td>6389</td>\n",
       "      <td>TX</td>\n",
       "      <td>Houston</td>\n",
       "      <td>77047</td>\n",
       "      <td>5300</td>\n",
       "      <td>Wholesale Clubs</td>\n",
       "      <td>2025-07-09 11:23:14.464539</td>\n",
       "    </tr>\n",
       "    <tr>\n",
       "      <th>3</th>\n",
       "      <td>3</td>\n",
       "      <td>18563</td>\n",
       "      <td>ONLINE</td>\n",
       "      <td>ONLINE</td>\n",
       "      <td>0</td>\n",
       "      <td>4121</td>\n",
       "      <td>Taxicabs and Limousines</td>\n",
       "      <td>2025-07-09 11:23:14.464539</td>\n",
       "    </tr>\n",
       "    <tr>\n",
       "      <th>4</th>\n",
       "      <td>4</td>\n",
       "      <td>61195</td>\n",
       "      <td>WA</td>\n",
       "      <td>Tacoma</td>\n",
       "      <td>98404</td>\n",
       "      <td>5541</td>\n",
       "      <td>Service Stations</td>\n",
       "      <td>2025-07-09 11:23:14.464539</td>\n",
       "    </tr>\n",
       "    <tr>\n",
       "      <th>5</th>\n",
       "      <td>5</td>\n",
       "      <td>58215</td>\n",
       "      <td>OH</td>\n",
       "      <td>Cleveland</td>\n",
       "      <td>44118</td>\n",
       "      <td>5813</td>\n",
       "      <td>Drinking Places (Alcoholic Beverages)</td>\n",
       "      <td>2025-07-09 11:23:14.464539</td>\n",
       "    </tr>\n",
       "    <tr>\n",
       "      <th>6</th>\n",
       "      <td>6</td>\n",
       "      <td>75781</td>\n",
       "      <td>NY</td>\n",
       "      <td>Brooklyn</td>\n",
       "      <td>11210</td>\n",
       "      <td>5411</td>\n",
       "      <td>Grocery Stores, Supermarkets</td>\n",
       "      <td>2025-07-09 11:23:14.464539</td>\n",
       "    </tr>\n",
       "    <tr>\n",
       "      <th>7</th>\n",
       "      <td>8</td>\n",
       "      <td>73186</td>\n",
       "      <td>ONLINE</td>\n",
       "      <td>ONLINE</td>\n",
       "      <td>0</td>\n",
       "      <td>4814</td>\n",
       "      <td>Telecommunication Services</td>\n",
       "      <td>2025-07-09 11:23:14.464539</td>\n",
       "    </tr>\n",
       "    <tr>\n",
       "      <th>8</th>\n",
       "      <td>9</td>\n",
       "      <td>27092</td>\n",
       "      <td>IN</td>\n",
       "      <td>Crown Point</td>\n",
       "      <td>46307</td>\n",
       "      <td>4829</td>\n",
       "      <td>Money Transfer</td>\n",
       "      <td>2025-07-09 11:23:14.464539</td>\n",
       "    </tr>\n",
       "    <tr>\n",
       "      <th>9</th>\n",
       "      <td>10</td>\n",
       "      <td>85986</td>\n",
       "      <td>NY</td>\n",
       "      <td>Jamaica</td>\n",
       "      <td>11434</td>\n",
       "      <td>5812</td>\n",
       "      <td>Eating Places and Restaurants</td>\n",
       "      <td>2025-07-09 11:23:14.464539</td>\n",
       "    </tr>\n",
       "  </tbody>\n",
       "</table>\n",
       "</div>"
      ],
      "text/plain": [
       "   merchant_key  merchant_id merchant_state merchant_city    zip   mcc  \\\n",
       "0             0        39021         ONLINE        ONLINE      0  4784   \n",
       "1             1        27092             TX    San Marcos  78666  4829   \n",
       "2             2         6389             TX       Houston  77047  5300   \n",
       "3             3        18563         ONLINE        ONLINE      0  4121   \n",
       "4             4        61195             WA        Tacoma  98404  5541   \n",
       "5             5        58215             OH     Cleveland  44118  5813   \n",
       "6             6        75781             NY      Brooklyn  11210  5411   \n",
       "7             8        73186         ONLINE        ONLINE      0  4814   \n",
       "8             9        27092             IN   Crown Point  46307  4829   \n",
       "9            10        85986             NY       Jamaica  11434  5812   \n",
       "\n",
       "                         mcc_description             load_timestamp  \n",
       "0                  Tolls and Bridge Fees 2025-07-09 11:23:14.460641  \n",
       "1                         Money Transfer 2025-07-09 11:23:14.464539  \n",
       "2                        Wholesale Clubs 2025-07-09 11:23:14.464539  \n",
       "3                Taxicabs and Limousines 2025-07-09 11:23:14.464539  \n",
       "4                       Service Stations 2025-07-09 11:23:14.464539  \n",
       "5  Drinking Places (Alcoholic Beverages) 2025-07-09 11:23:14.464539  \n",
       "6           Grocery Stores, Supermarkets 2025-07-09 11:23:14.464539  \n",
       "7             Telecommunication Services 2025-07-09 11:23:14.464539  \n",
       "8                         Money Transfer 2025-07-09 11:23:14.464539  \n",
       "9          Eating Places and Restaurants 2025-07-09 11:23:14.464539  "
      ]
     },
     "execution_count": 14,
     "metadata": {},
     "output_type": "execute_result"
    }
   ],
   "source": [
    "engine = load.create_database_connection()\n",
    "query = 'SELECT * FROM financial.dim_merchant'\n",
    "mcc = pd.read_sql(query,engine)\n",
    "mcc.head(10)"
   ]
  },
  {
   "cell_type": "code",
   "execution_count": 15,
   "id": "fd193c33",
   "metadata": {},
   "outputs": [
    {
     "name": "stdout",
     "output_type": "stream",
     "text": [
      "0\n"
     ]
    },
    {
     "data": {
      "application/vnd.microsoft.datawrangler.viewer.v0+json": {
       "columns": [
        {
         "name": "index",
         "rawType": "int64",
         "type": "integer"
        },
        {
         "name": "merchant_id",
         "rawType": "int64",
         "type": "integer"
        },
        {
         "name": "merchant_state",
         "rawType": "object",
         "type": "string"
        },
        {
         "name": "merchant_city",
         "rawType": "object",
         "type": "string"
        },
        {
         "name": "zip",
         "rawType": "int64",
         "type": "integer"
        },
        {
         "name": "mcc",
         "rawType": "int64",
         "type": "integer"
        },
        {
         "name": "mcc_description",
         "rawType": "object",
         "type": "string"
        },
        {
         "name": "load_timestamp",
         "rawType": "datetime64[ns]",
         "type": "datetime"
        }
       ],
       "ref": "cdd846b8-28ae-4160-82c5-500f7ae6f197",
       "rows": [
        [
         "1",
         "27092",
         "TX",
         "San Marcos",
         "78666",
         "4829",
         "Money Transfer",
         "2025-07-09 11:23:14.464539"
        ],
        [
         "8",
         "27092",
         "IN",
         "Crown Point",
         "46307",
         "4829",
         "Money Transfer",
         "2025-07-09 11:23:14.464539"
        ],
        [
         "54",
         "27092",
         "AZ",
         "Pinetop",
         "85935",
         "4829",
         "Money Transfer",
         "2025-07-09 11:23:14.465664"
        ],
        [
         "148",
         "27092",
         "FL",
         "Gainesville",
         "32608",
         "4829",
         "Money Transfer",
         "2025-07-09 11:23:14.468758"
        ],
        [
         "149",
         "27092",
         "WI",
         "Suring",
         "54174",
         "4829",
         "Money Transfer",
         "2025-07-09 11:23:14.468758"
        ],
        [
         "180",
         "27092",
         "OK",
         "Billings",
         "74630",
         "4829",
         "Money Transfer",
         "2025-07-09 11:23:14.469839"
        ],
        [
         "227",
         "27092",
         "NY",
         "Clinton",
         "13323",
         "4829",
         "Money Transfer",
         "2025-07-09 11:23:14.472265"
        ],
        [
         "271",
         "27092",
         "FL",
         "Daytona Beach",
         "32119",
         "4829",
         "Money Transfer",
         "2025-07-09 11:23:14.473952"
        ],
        [
         "279",
         "27092",
         "CA",
         "San Diego",
         "92128",
         "4829",
         "Money Transfer",
         "2025-07-09 11:23:14.473952"
        ],
        [
         "284",
         "27092",
         "FL",
         "Orlando",
         "32807",
         "4829",
         "Money Transfer",
         "2025-07-09 11:23:14.473952"
        ],
        [
         "289",
         "27092",
         "MS",
         "Lucedale",
         "39452",
         "4829",
         "Money Transfer",
         "2025-07-09 11:23:14.474513"
        ],
        [
         "305",
         "27092",
         "NC",
         "Benson",
         "27504",
         "4829",
         "Money Transfer",
         "2025-07-09 11:23:14.475095"
        ],
        [
         "308",
         "27092",
         "IN",
         "Shipshewana",
         "46565",
         "4829",
         "Money Transfer",
         "2025-07-09 11:23:14.475095"
        ],
        [
         "312",
         "27092",
         "KS",
         "Spring Hill",
         "66083",
         "4829",
         "Money Transfer",
         "2025-07-09 11:23:14.475095"
        ],
        [
         "328",
         "27092",
         "CA",
         "San Jose",
         "95111",
         "4829",
         "Money Transfer",
         "2025-07-09 11:23:14.475666"
        ],
        [
         "348",
         "27092",
         "KS",
         "Wichita",
         "67208",
         "4829",
         "Money Transfer",
         "2025-07-09 11:23:14.476240"
        ],
        [
         "355",
         "27092",
         "CA",
         "Riverside",
         "92508",
         "4829",
         "Money Transfer",
         "2025-07-09 11:23:14.476240"
        ],
        [
         "378",
         "27092",
         "MN",
         "Minneapolis",
         "55427",
         "4829",
         "Money Transfer",
         "2025-07-09 11:23:14.476804"
        ],
        [
         "406",
         "27092",
         "NY",
         "Brooklyn",
         "11236",
         "4829",
         "Money Transfer",
         "2025-07-09 11:23:14.477923"
        ],
        [
         "425",
         "27092",
         "AR",
         "Batesville",
         "72501",
         "4829",
         "Money Transfer",
         "2025-07-09 11:23:14.479087"
        ],
        [
         "444",
         "27092",
         "TN",
         "Memphis",
         "38116",
         "4829",
         "Money Transfer",
         "2025-07-09 11:23:14.479087"
        ],
        [
         "528",
         "27092",
         "NJ",
         "Chester",
         "7930",
         "4829",
         "Money Transfer",
         "2025-07-09 11:23:14.482218"
        ],
        [
         "538",
         "27092",
         "GA",
         "Atlanta",
         "31139",
         "4829",
         "Money Transfer",
         "2025-07-09 11:23:14.482793"
        ],
        [
         "554",
         "27092",
         "CA",
         "Sacramento",
         "95823",
         "4829",
         "Money Transfer",
         "2025-07-09 11:23:14.483979"
        ],
        [
         "568",
         "27092",
         "NV",
         "Henderson",
         "89074",
         "4829",
         "Money Transfer",
         "2025-07-09 11:23:14.484561"
        ],
        [
         "569",
         "27092",
         "OR",
         "Medford",
         "97501",
         "4829",
         "Money Transfer",
         "2025-07-09 11:23:14.484561"
        ],
        [
         "582",
         "27092",
         "TX",
         "Channelview",
         "77530",
         "4829",
         "Money Transfer",
         "2025-07-09 11:23:14.485087"
        ],
        [
         "598",
         "27092",
         "IL",
         "Orland Park",
         "60462",
         "4829",
         "Money Transfer",
         "2025-07-09 11:23:14.485649"
        ],
        [
         "623",
         "27092",
         "CA",
         "Sacramento",
         "95829",
         "4829",
         "Money Transfer",
         "2025-07-09 11:23:14.486258"
        ],
        [
         "652",
         "27092",
         "CA",
         "North Hollywood",
         "91605",
         "4829",
         "Money Transfer",
         "2025-07-09 11:23:14.486909"
        ],
        [
         "703",
         "27092",
         "LA",
         "Shreveport",
         "71108",
         "4829",
         "Money Transfer",
         "2025-07-09 11:23:14.488766"
        ],
        [
         "725",
         "27092",
         "AK",
         "Anchorage",
         "99504",
         "4829",
         "Money Transfer",
         "2025-07-09 11:23:14.489362"
        ],
        [
         "785",
         "27092",
         "OR",
         "Eugene",
         "97404",
         "4829",
         "Money Transfer",
         "2025-07-09 11:23:14.491061"
        ],
        [
         "787",
         "27092",
         "NY",
         "New York",
         "10010",
         "4829",
         "Money Transfer",
         "2025-07-09 11:23:14.491628"
        ],
        [
         "858",
         "27092",
         "CA",
         "Dinuba",
         "93618",
         "4829",
         "Money Transfer",
         "2025-07-09 11:23:14.493977"
        ],
        [
         "888",
         "27092",
         "FL",
         "Sanford",
         "32771",
         "4829",
         "Money Transfer",
         "2025-07-09 11:23:14.495126"
        ],
        [
         "892",
         "27092",
         "NM",
         "Clovis",
         "88101",
         "4829",
         "Money Transfer",
         "2025-07-09 11:23:14.495126"
        ],
        [
         "907",
         "27092",
         "CO",
         "Longmont",
         "80503",
         "4829",
         "Money Transfer",
         "2025-07-09 11:23:14.495686"
        ],
        [
         "931",
         "27092",
         "OK",
         "Muldrow",
         "74948",
         "4829",
         "Money Transfer",
         "2025-07-09 11:23:14.496798"
        ],
        [
         "935",
         "27092",
         "TX",
         "Texas City",
         "77590",
         "4829",
         "Money Transfer",
         "2025-07-09 11:23:14.496798"
        ],
        [
         "961",
         "27092",
         "CA",
         "Torrance",
         "90503",
         "4829",
         "Money Transfer",
         "2025-07-09 11:23:14.497924"
        ],
        [
         "995",
         "27092",
         "KY",
         "Louisville",
         "40213",
         "4829",
         "Money Transfer",
         "2025-07-09 11:23:14.499200"
        ],
        [
         "1012",
         "27092",
         "IN",
         "Terre Haute",
         "47803",
         "4829",
         "Money Transfer",
         "2025-07-09 11:23:14.546572"
        ],
        [
         "1028",
         "27092",
         "MS",
         "Meridian",
         "39301",
         "4829",
         "Money Transfer",
         "2025-07-09 11:23:14.547184"
        ],
        [
         "1034",
         "27092",
         "NC",
         "Hendersonville",
         "28792",
         "4829",
         "Money Transfer",
         "2025-07-09 11:23:14.547184"
        ],
        [
         "1040",
         "27092",
         "NJ",
         "West New York",
         "7093",
         "4829",
         "Money Transfer",
         "2025-07-09 11:23:14.547781"
        ],
        [
         "1077",
         "27092",
         "CA",
         "Fontana",
         "92336",
         "4829",
         "Money Transfer",
         "2025-07-09 11:23:14.549229"
        ],
        [
         "1104",
         "27092",
         "NY",
         "Clyde",
         "14433",
         "4829",
         "Money Transfer",
         "2025-07-09 11:23:14.549229"
        ],
        [
         "1111",
         "27092",
         "MI",
         "Livonia",
         "48152",
         "4829",
         "Money Transfer",
         "2025-07-09 11:23:14.549229"
        ],
        [
         "1115",
         "27092",
         "ND",
         "Fargo",
         "58104",
         "4829",
         "Money Transfer",
         "2025-07-09 11:23:14.549229"
        ]
       ],
       "shape": {
        "columns": 7,
        "rows": 1176
       }
      },
      "text/html": [
       "<div>\n",
       "<style scoped>\n",
       "    .dataframe tbody tr th:only-of-type {\n",
       "        vertical-align: middle;\n",
       "    }\n",
       "\n",
       "    .dataframe tbody tr th {\n",
       "        vertical-align: top;\n",
       "    }\n",
       "\n",
       "    .dataframe thead th {\n",
       "        text-align: right;\n",
       "    }\n",
       "</style>\n",
       "<table border=\"1\" class=\"dataframe\">\n",
       "  <thead>\n",
       "    <tr style=\"text-align: right;\">\n",
       "      <th></th>\n",
       "      <th>merchant_id</th>\n",
       "      <th>merchant_state</th>\n",
       "      <th>merchant_city</th>\n",
       "      <th>zip</th>\n",
       "      <th>mcc</th>\n",
       "      <th>mcc_description</th>\n",
       "      <th>load_timestamp</th>\n",
       "    </tr>\n",
       "  </thead>\n",
       "  <tbody>\n",
       "    <tr>\n",
       "      <th>1</th>\n",
       "      <td>27092</td>\n",
       "      <td>TX</td>\n",
       "      <td>San Marcos</td>\n",
       "      <td>78666</td>\n",
       "      <td>4829</td>\n",
       "      <td>Money Transfer</td>\n",
       "      <td>2025-07-09 11:23:14.464539</td>\n",
       "    </tr>\n",
       "    <tr>\n",
       "      <th>8</th>\n",
       "      <td>27092</td>\n",
       "      <td>IN</td>\n",
       "      <td>Crown Point</td>\n",
       "      <td>46307</td>\n",
       "      <td>4829</td>\n",
       "      <td>Money Transfer</td>\n",
       "      <td>2025-07-09 11:23:14.464539</td>\n",
       "    </tr>\n",
       "    <tr>\n",
       "      <th>54</th>\n",
       "      <td>27092</td>\n",
       "      <td>AZ</td>\n",
       "      <td>Pinetop</td>\n",
       "      <td>85935</td>\n",
       "      <td>4829</td>\n",
       "      <td>Money Transfer</td>\n",
       "      <td>2025-07-09 11:23:14.465664</td>\n",
       "    </tr>\n",
       "    <tr>\n",
       "      <th>148</th>\n",
       "      <td>27092</td>\n",
       "      <td>FL</td>\n",
       "      <td>Gainesville</td>\n",
       "      <td>32608</td>\n",
       "      <td>4829</td>\n",
       "      <td>Money Transfer</td>\n",
       "      <td>2025-07-09 11:23:14.468758</td>\n",
       "    </tr>\n",
       "    <tr>\n",
       "      <th>149</th>\n",
       "      <td>27092</td>\n",
       "      <td>WI</td>\n",
       "      <td>Suring</td>\n",
       "      <td>54174</td>\n",
       "      <td>4829</td>\n",
       "      <td>Money Transfer</td>\n",
       "      <td>2025-07-09 11:23:14.468758</td>\n",
       "    </tr>\n",
       "    <tr>\n",
       "      <th>...</th>\n",
       "      <td>...</td>\n",
       "      <td>...</td>\n",
       "      <td>...</td>\n",
       "      <td>...</td>\n",
       "      <td>...</td>\n",
       "      <td>...</td>\n",
       "      <td>...</td>\n",
       "    </tr>\n",
       "    <tr>\n",
       "      <th>119699</th>\n",
       "      <td>27092</td>\n",
       "      <td>WI</td>\n",
       "      <td>Coon Valley</td>\n",
       "      <td>54623</td>\n",
       "      <td>4829</td>\n",
       "      <td>Money Transfer</td>\n",
       "      <td>2025-07-09 11:23:32.040131</td>\n",
       "    </tr>\n",
       "    <tr>\n",
       "      <th>119855</th>\n",
       "      <td>27092</td>\n",
       "      <td>IN</td>\n",
       "      <td>Bloomington</td>\n",
       "      <td>47401</td>\n",
       "      <td>4829</td>\n",
       "      <td>Money Transfer</td>\n",
       "      <td>2025-07-09 11:23:32.045374</td>\n",
       "    </tr>\n",
       "    <tr>\n",
       "      <th>121320</th>\n",
       "      <td>27092</td>\n",
       "      <td>TX</td>\n",
       "      <td>Dallas</td>\n",
       "      <td>75220</td>\n",
       "      <td>4829</td>\n",
       "      <td>Money Transfer</td>\n",
       "      <td>2025-07-09 11:23:32.315355</td>\n",
       "    </tr>\n",
       "    <tr>\n",
       "      <th>121466</th>\n",
       "      <td>27092</td>\n",
       "      <td>CA</td>\n",
       "      <td>Chino Hills</td>\n",
       "      <td>91709</td>\n",
       "      <td>4829</td>\n",
       "      <td>Money Transfer</td>\n",
       "      <td>2025-07-09 11:23:32.319505</td>\n",
       "    </tr>\n",
       "    <tr>\n",
       "      <th>121679</th>\n",
       "      <td>27092</td>\n",
       "      <td>OK</td>\n",
       "      <td>Oklahoma City</td>\n",
       "      <td>73139</td>\n",
       "      <td>4829</td>\n",
       "      <td>Money Transfer</td>\n",
       "      <td>2025-07-09 11:23:32.326206</td>\n",
       "    </tr>\n",
       "  </tbody>\n",
       "</table>\n",
       "<p>1176 rows × 7 columns</p>\n",
       "</div>"
      ],
      "text/plain": [
       "        merchant_id merchant_state  merchant_city    zip   mcc  \\\n",
       "1             27092             TX     San Marcos  78666  4829   \n",
       "8             27092             IN    Crown Point  46307  4829   \n",
       "54            27092             AZ        Pinetop  85935  4829   \n",
       "148           27092             FL    Gainesville  32608  4829   \n",
       "149           27092             WI         Suring  54174  4829   \n",
       "...             ...            ...            ...    ...   ...   \n",
       "119699        27092             WI    Coon Valley  54623  4829   \n",
       "119855        27092             IN    Bloomington  47401  4829   \n",
       "121320        27092             TX         Dallas  75220  4829   \n",
       "121466        27092             CA    Chino Hills  91709  4829   \n",
       "121679        27092             OK  Oklahoma City  73139  4829   \n",
       "\n",
       "       mcc_description             load_timestamp  \n",
       "1       Money Transfer 2025-07-09 11:23:14.464539  \n",
       "8       Money Transfer 2025-07-09 11:23:14.464539  \n",
       "54      Money Transfer 2025-07-09 11:23:14.465664  \n",
       "148     Money Transfer 2025-07-09 11:23:14.468758  \n",
       "149     Money Transfer 2025-07-09 11:23:14.468758  \n",
       "...                ...                        ...  \n",
       "119699  Money Transfer 2025-07-09 11:23:32.040131  \n",
       "119855  Money Transfer 2025-07-09 11:23:32.045374  \n",
       "121320  Money Transfer 2025-07-09 11:23:32.315355  \n",
       "121466  Money Transfer 2025-07-09 11:23:32.319505  \n",
       "121679  Money Transfer 2025-07-09 11:23:32.326206  \n",
       "\n",
       "[1176 rows x 7 columns]"
      ]
     },
     "execution_count": 15,
     "metadata": {},
     "output_type": "execute_result"
    }
   ],
   "source": [
    "test_mcc= mcc.drop(columns='merchant_key')\n",
    "print(test_mcc.duplicated().sum())\n",
    "test_mcc[test_mcc['merchant_id'] == 27092]"
   ]
  },
  {
   "cell_type": "code",
   "execution_count": null,
   "id": "6210bf34",
   "metadata": {},
   "outputs": [],
   "source": [
    "def transform_fact_transactions(df: pd.DataFrame, data_name: str)->pd.DataFrame: \n",
    "    '''\n",
    "    Function to transform TRANSACTIONS fact data\n",
    "\n",
    "    Parameters:\n",
    "        df (pd.DataFrame): The DataFrame to transform.\n",
    "        data_name (str): data name of the dim\n",
    "    Returns:\n",
    "        pd.DataFrame: The transformed DataFrame.\n",
    "    \n",
    "    '''\n",
    "    \n",
    "    columns_to_rename = {'id': 'transaction_id' , 'use_chip': 'card_entry_method', 'errors':'transaction_error'\n",
    "                         ,'date':'transaction_date', 'client_id':'user_id'}\n",
    "    query = 'SELECT merchant_key,merchant_id,merchant_city,merchant_state,zip,mcc FROM financial.dim_merchant'\n",
    "    merge_on = ['merchant_id','merchant_city','merchant_state', 'zip','mcc']\n",
    "    columns_to_remove = ['merchant_id', 'merchant_city', 'merchant_state','zip', 'mcc']\n",
    "    bins   = [-1, 15, 30, 45, 59] #use it to create ['minute_block']\n",
    "    labels = ['0015', '1630', '3145', '4659'] #use it to create ['minute_block']\n",
    "\n",
    "    try:\n",
    "        logger.info(f'Starting transform {data_name} fact data')\n",
    "\n",
    "        df = df.copy()\n",
    "        df_cleaned = df.rename(columns=columns_to_rename)\n",
    "        df_cleaned['amount'] = df_cleaned['amount'].str.replace('$','').astype(float)\n",
    "        df_cleaned.loc[(df_cleaned['merchant_state'].isna()) & (df_cleaned['merchant_city'] == 'ONLINE'), ['merchant_state']] = 'ONLINE'\n",
    "        df_cleaned.loc[(df_cleaned['merchant_state'] == 'ONLINE') & (df_cleaned['merchant_city'] == 'ONLINE'), 'zip'] = 0\n",
    "        df_cleaned['zip'] = df_cleaned['zip'].fillna(0).astype(int)\n",
    "        df_cleaned['transaction_date'] = pd.to_datetime(df_cleaned['transaction_date'])\n",
    "        #df_cleaned['zip'] = df_cleaned['zip'].astype(str).str.replace(r'\\.0$', '', regex=True)\n",
    "        df['minute_block'] = pd.cut(pd.to_datetime(df['date']).dt.minute, bins=bins, labels=labels).astype(str)\n",
    "        df_cleaned['date_key'] = (\n",
    "            df_cleaned['date'].astype(str)\n",
    "                .str.replace(r'[^A-Za-z0-9]', '', regex=True)\n",
    "                .str[:8]\n",
    "            + df_cleaned['minute_block'].astype(str)\n",
    "            )\n",
    "\n",
    "        \n",
    "\n",
    "        engine = load.create_database_connection()\n",
    "        mcc = pd.read_sql(query,engine)\n",
    "        df_cleaned = df_cleaned.merge(mcc, left_on= merge_on, right_on= merge_on, how='left')\n",
    "        df_cleaned = df_cleaned.drop(columns= columns_to_remove)\n",
    "\n",
    "    \n",
    "        logger.info(f'✅ Successfully transformed {data_name} data with {len(df_cleaned)} records')\n",
    "        return df_cleaned\n",
    "        \n",
    "\n",
    "    except Exception as e:\n",
    "        logger.info(f'❌Error transforming {data_name} data: {e}')\n",
    "        raise"
   ]
  },
  {
   "cell_type": "code",
   "execution_count": 87,
   "id": "971ad1c3",
   "metadata": {},
   "outputs": [],
   "source": [
    "test_copy = df.copy()\n",
    "transactions = transform_fact_transactions(test_copy,'TRANSACTIONS')\n",
    "        "
   ]
  },
  {
   "cell_type": "code",
   "execution_count": 39,
   "id": "56d7c9dd",
   "metadata": {},
   "outputs": [
    {
     "name": "stdout",
     "output_type": "stream",
     "text": [
      "<class 'pandas.core.frame.DataFrame'>\n",
      "RangeIndex: 3954099 entries, 0 to 3954098\n",
      "Data columns (total 8 columns):\n",
      " #   Column             Non-Null Count    Dtype         \n",
      "---  ------             --------------    -----         \n",
      " 0   transaction_id     3954099 non-null  int64         \n",
      " 1   transaction_date   3954099 non-null  datetime64[ns]\n",
      " 2   user_id            3954099 non-null  int64         \n",
      " 3   card_id            3954099 non-null  int64         \n",
      " 4   amount             3954099 non-null  float64       \n",
      " 5   card_entry_method  3954099 non-null  object        \n",
      " 6   transaction_error  62903 non-null    object        \n",
      " 7   merchant_key       3954099 non-null  int64         \n",
      "dtypes: datetime64[ns](1), float64(1), int64(4), object(2)\n",
      "memory usage: 241.3+ MB\n"
     ]
    }
   ],
   "source": [
    "transactions.info(show_counts=True)"
   ]
  },
  {
   "cell_type": "code",
   "execution_count": 88,
   "id": "e8ada842",
   "metadata": {},
   "outputs": [
    {
     "data": {
      "text/plain": [
       "np.int64(0)"
      ]
     },
     "execution_count": 88,
     "metadata": {},
     "output_type": "execute_result"
    }
   ],
   "source": [
    "transactions['transaction_id'].duplicated().sum()"
   ]
  },
  {
   "cell_type": "code",
   "execution_count": 40,
   "id": "4f66fd17",
   "metadata": {},
   "outputs": [
    {
     "data": {
      "application/vnd.microsoft.datawrangler.viewer.v0+json": {
       "columns": [
        {
         "name": "index",
         "rawType": "int64",
         "type": "integer"
        },
        {
         "name": "transaction_id",
         "rawType": "int64",
         "type": "integer"
        },
        {
         "name": "transaction_date",
         "rawType": "datetime64[ns]",
         "type": "datetime"
        },
        {
         "name": "user_id",
         "rawType": "int64",
         "type": "integer"
        },
        {
         "name": "card_id",
         "rawType": "int64",
         "type": "integer"
        },
        {
         "name": "amount",
         "rawType": "float64",
         "type": "float"
        },
        {
         "name": "card_entry_method",
         "rawType": "object",
         "type": "string"
        },
        {
         "name": "transaction_error",
         "rawType": "object",
         "type": "unknown"
        },
        {
         "name": "merchant_key",
         "rawType": "int64",
         "type": "integer"
        }
       ],
       "ref": "fad36cce-4a20-4d73-84a5-dad6cfcb02a4",
       "rows": [
        [
         "2356406",
         "21785227",
         "2018-09-08 08:04:00",
         "116",
         "6072",
         "55.0",
         "Chip Transaction",
         null,
         "289"
        ],
        [
         "940106",
         "20039640",
         "2017-09-03 08:32:00",
         "379",
         "327",
         "799.55",
         "Chip Transaction",
         null,
         "940091"
        ],
        [
         "3014597",
         "22599660",
         "2019-02-27 22:12:00",
         "719",
         "5518",
         "64.78",
         "Chip Transaction",
         null,
         "755171"
        ],
        [
         "1683928",
         "20954900",
         "2018-03-16 10:31:00",
         "1966",
         "6029",
         "29.78",
         "Chip Transaction",
         null,
         "1401"
        ],
        [
         "2234669",
         "21635225",
         "2018-08-07 14:22:00",
         "28",
         "5198",
         "87.47",
         "Swipe Transaction",
         null,
         "242297"
        ],
        [
         "2307228",
         "21724751",
         "2018-08-26 10:46:00",
         "1861",
         "4898",
         "71.0",
         "Chip Transaction",
         null,
         "26699"
        ],
        [
         "2886321",
         "22440477",
         "2019-01-25 07:49:00",
         "882",
         "3467",
         "27.37",
         "Online Transaction",
         null,
         "10467"
        ],
        [
         "3015719",
         "22601028",
         "2019-02-28 08:56:00",
         "1946",
         "5701",
         "22.7",
         "Chip Transaction",
         null,
         "141845"
        ],
        [
         "2927151",
         "22491005",
         "2019-02-04 16:52:00",
         "1301",
         "3189",
         "0.65",
         "Chip Transaction",
         null,
         "10620"
        ],
        [
         "8459",
         "18891909",
         "2017-01-03 08:50:00",
         "921",
         "3135",
         "75.49",
         "Swipe Transaction",
         null,
         "1777"
        ]
       ],
       "shape": {
        "columns": 8,
        "rows": 10
       }
      },
      "text/html": [
       "<div>\n",
       "<style scoped>\n",
       "    .dataframe tbody tr th:only-of-type {\n",
       "        vertical-align: middle;\n",
       "    }\n",
       "\n",
       "    .dataframe tbody tr th {\n",
       "        vertical-align: top;\n",
       "    }\n",
       "\n",
       "    .dataframe thead th {\n",
       "        text-align: right;\n",
       "    }\n",
       "</style>\n",
       "<table border=\"1\" class=\"dataframe\">\n",
       "  <thead>\n",
       "    <tr style=\"text-align: right;\">\n",
       "      <th></th>\n",
       "      <th>transaction_id</th>\n",
       "      <th>transaction_date</th>\n",
       "      <th>user_id</th>\n",
       "      <th>card_id</th>\n",
       "      <th>amount</th>\n",
       "      <th>card_entry_method</th>\n",
       "      <th>transaction_error</th>\n",
       "      <th>merchant_key</th>\n",
       "    </tr>\n",
       "  </thead>\n",
       "  <tbody>\n",
       "    <tr>\n",
       "      <th>2356406</th>\n",
       "      <td>21785227</td>\n",
       "      <td>2018-09-08 08:04:00</td>\n",
       "      <td>116</td>\n",
       "      <td>6072</td>\n",
       "      <td>55.00</td>\n",
       "      <td>Chip Transaction</td>\n",
       "      <td>NaN</td>\n",
       "      <td>289</td>\n",
       "    </tr>\n",
       "    <tr>\n",
       "      <th>940106</th>\n",
       "      <td>20039640</td>\n",
       "      <td>2017-09-03 08:32:00</td>\n",
       "      <td>379</td>\n",
       "      <td>327</td>\n",
       "      <td>799.55</td>\n",
       "      <td>Chip Transaction</td>\n",
       "      <td>NaN</td>\n",
       "      <td>940091</td>\n",
       "    </tr>\n",
       "    <tr>\n",
       "      <th>3014597</th>\n",
       "      <td>22599660</td>\n",
       "      <td>2019-02-27 22:12:00</td>\n",
       "      <td>719</td>\n",
       "      <td>5518</td>\n",
       "      <td>64.78</td>\n",
       "      <td>Chip Transaction</td>\n",
       "      <td>NaN</td>\n",
       "      <td>755171</td>\n",
       "    </tr>\n",
       "    <tr>\n",
       "      <th>1683928</th>\n",
       "      <td>20954900</td>\n",
       "      <td>2018-03-16 10:31:00</td>\n",
       "      <td>1966</td>\n",
       "      <td>6029</td>\n",
       "      <td>29.78</td>\n",
       "      <td>Chip Transaction</td>\n",
       "      <td>NaN</td>\n",
       "      <td>1401</td>\n",
       "    </tr>\n",
       "    <tr>\n",
       "      <th>2234669</th>\n",
       "      <td>21635225</td>\n",
       "      <td>2018-08-07 14:22:00</td>\n",
       "      <td>28</td>\n",
       "      <td>5198</td>\n",
       "      <td>87.47</td>\n",
       "      <td>Swipe Transaction</td>\n",
       "      <td>NaN</td>\n",
       "      <td>242297</td>\n",
       "    </tr>\n",
       "    <tr>\n",
       "      <th>2307228</th>\n",
       "      <td>21724751</td>\n",
       "      <td>2018-08-26 10:46:00</td>\n",
       "      <td>1861</td>\n",
       "      <td>4898</td>\n",
       "      <td>71.00</td>\n",
       "      <td>Chip Transaction</td>\n",
       "      <td>NaN</td>\n",
       "      <td>26699</td>\n",
       "    </tr>\n",
       "    <tr>\n",
       "      <th>2886321</th>\n",
       "      <td>22440477</td>\n",
       "      <td>2019-01-25 07:49:00</td>\n",
       "      <td>882</td>\n",
       "      <td>3467</td>\n",
       "      <td>27.37</td>\n",
       "      <td>Online Transaction</td>\n",
       "      <td>NaN</td>\n",
       "      <td>10467</td>\n",
       "    </tr>\n",
       "    <tr>\n",
       "      <th>3015719</th>\n",
       "      <td>22601028</td>\n",
       "      <td>2019-02-28 08:56:00</td>\n",
       "      <td>1946</td>\n",
       "      <td>5701</td>\n",
       "      <td>22.70</td>\n",
       "      <td>Chip Transaction</td>\n",
       "      <td>NaN</td>\n",
       "      <td>141845</td>\n",
       "    </tr>\n",
       "    <tr>\n",
       "      <th>2927151</th>\n",
       "      <td>22491005</td>\n",
       "      <td>2019-02-04 16:52:00</td>\n",
       "      <td>1301</td>\n",
       "      <td>3189</td>\n",
       "      <td>0.65</td>\n",
       "      <td>Chip Transaction</td>\n",
       "      <td>NaN</td>\n",
       "      <td>10620</td>\n",
       "    </tr>\n",
       "    <tr>\n",
       "      <th>8459</th>\n",
       "      <td>18891909</td>\n",
       "      <td>2017-01-03 08:50:00</td>\n",
       "      <td>921</td>\n",
       "      <td>3135</td>\n",
       "      <td>75.49</td>\n",
       "      <td>Swipe Transaction</td>\n",
       "      <td>NaN</td>\n",
       "      <td>1777</td>\n",
       "    </tr>\n",
       "  </tbody>\n",
       "</table>\n",
       "</div>"
      ],
      "text/plain": [
       "         transaction_id    transaction_date  user_id  card_id  amount  \\\n",
       "2356406        21785227 2018-09-08 08:04:00      116     6072   55.00   \n",
       "940106         20039640 2017-09-03 08:32:00      379      327  799.55   \n",
       "3014597        22599660 2019-02-27 22:12:00      719     5518   64.78   \n",
       "1683928        20954900 2018-03-16 10:31:00     1966     6029   29.78   \n",
       "2234669        21635225 2018-08-07 14:22:00       28     5198   87.47   \n",
       "2307228        21724751 2018-08-26 10:46:00     1861     4898   71.00   \n",
       "2886321        22440477 2019-01-25 07:49:00      882     3467   27.37   \n",
       "3015719        22601028 2019-02-28 08:56:00     1946     5701   22.70   \n",
       "2927151        22491005 2019-02-04 16:52:00     1301     3189    0.65   \n",
       "8459           18891909 2017-01-03 08:50:00      921     3135   75.49   \n",
       "\n",
       "          card_entry_method transaction_error  merchant_key  \n",
       "2356406    Chip Transaction               NaN           289  \n",
       "940106     Chip Transaction               NaN        940091  \n",
       "3014597    Chip Transaction               NaN        755171  \n",
       "1683928    Chip Transaction               NaN          1401  \n",
       "2234669   Swipe Transaction               NaN        242297  \n",
       "2307228    Chip Transaction               NaN         26699  \n",
       "2886321  Online Transaction               NaN         10467  \n",
       "3015719    Chip Transaction               NaN        141845  \n",
       "2927151    Chip Transaction               NaN         10620  \n",
       "8459      Swipe Transaction               NaN          1777  "
      ]
     },
     "execution_count": 40,
     "metadata": {},
     "output_type": "execute_result"
    }
   ],
   "source": [
    "transactions.sample(10)"
   ]
  },
  {
   "cell_type": "code",
   "execution_count": 89,
   "id": "f3376816",
   "metadata": {},
   "outputs": [
    {
     "data": {
      "text/plain": [
       "121992"
      ]
     },
     "execution_count": 89,
     "metadata": {},
     "output_type": "execute_result"
    }
   ],
   "source": [
    "transactions['merchant_key'].nunique(dropna=False)"
   ]
  },
  {
   "cell_type": "code",
   "execution_count": 36,
   "id": "aed491c1",
   "metadata": {},
   "outputs": [
    {
     "data": {
      "application/vnd.microsoft.datawrangler.viewer.v0+json": {
       "columns": [
        {
         "name": "transaction_id",
         "rawType": "int64",
         "type": "integer"
        },
        {
         "name": "count",
         "rawType": "int64",
         "type": "integer"
        }
       ],
       "ref": "43cccd21-3064-4582-bc42-2cc7d16f161c",
       "rows": [
        [
         "8",
         "3954099"
        ]
       ],
       "shape": {
        "columns": 1,
        "rows": 1
       }
      },
      "text/plain": [
       "transaction_id\n",
       "8    3954099\n",
       "Name: count, dtype: int64"
      ]
     },
     "execution_count": 36,
     "metadata": {},
     "output_type": "execute_result"
    }
   ],
   "source": [
    "transactions['transaction_id'].astype(str).str.len().value_counts()"
   ]
  },
  {
   "cell_type": "code",
   "execution_count": null,
   "id": "86d241f3",
   "metadata": {},
   "outputs": [
    {
     "name": "stdout",
     "output_type": "stream",
     "text": [
      "[19100281, 19110974, 19118596, 19220791, 19222235, 19245702, 19335469, 19353887, 19363476, 19467826, 19501046, 19638179, 19661597, 19771623, 19863784, 20207021, 20234388, 20239423, 20280867, 20295484, 20374879, 20635830, 20674353, 20739797, 20758120, 22144017, 22144852, 22148139, 22157714, 22159060, 22949891, 23325365, 23340160]\n"
     ]
    }
   ],
   "source": [
    "print(transactions[transactions['transaction_id'].duplicated()].sort_values(by='transaction_id')['transaction_id'].to_list())"
   ]
  },
  {
   "cell_type": "code",
   "execution_count": 81,
   "id": "f9b9e477",
   "metadata": {},
   "outputs": [
    {
     "name": "stdout",
     "output_type": "stream",
     "text": [
      "[177861, 186579, 177861, 186579, 177861, 186579, 177861, 186579, 177861, 186579, 177861, 186579, 177861, 186579, 177861, 186579, 177861, 186579, 177861, 186579, 177861, 186579, 177861, 186579, 177861, 186579, 177861, 186579, 797686, 1455754, 797686, 1455754, 177861, 186579, 797686, 1455754, 177861, 186579, 177861, 186579, 177861, 186579, 177861, 186579, 797686, 1455754, 797686, 1455754, 177861, 186579, 2646670, 2647344, 2646670, 2647344, 2646670, 2647344, 2646670, 2647344, 2646670, 2647344, 797686, 1455754, 797686, 1455754, 797686, 1455754]\n"
     ]
    }
   ],
   "source": [
    "print(transactions.loc[transactions['transaction_id'].isin(ids)]['merchant_key'].to_list())"
   ]
  },
  {
   "cell_type": "code",
   "execution_count": 54,
   "id": "c53f9408",
   "metadata": {},
   "outputs": [],
   "source": [
    "#transactions['card_used_method'].str.replace(r'(?i)transaction', '', regex=True).str.lower().str.strip()"
   ]
  },
  {
   "cell_type": "code",
   "execution_count": 91,
   "id": "f4d63cec",
   "metadata": {},
   "outputs": [],
   "source": [
    "#transactions.loc[transactions['zip'].isna()]"
   ]
  },
  {
   "cell_type": "code",
   "execution_count": 92,
   "id": "a5df7b5d",
   "metadata": {},
   "outputs": [
    {
     "data": {
      "text/plain": [
       "np.float64(168730853.87999982)"
      ]
     },
     "execution_count": 92,
     "metadata": {},
     "output_type": "execute_result"
    }
   ],
   "source": [
    "transactions['amount'].sum()"
   ]
  },
  {
   "cell_type": "code",
   "execution_count": 3,
   "id": "bda77da3",
   "metadata": {},
   "outputs": [],
   "source": [
    "import pandas as pd\n",
    "import ETL.config as config\n",
    "import ETL.utils as utils\n",
    "import ETL.load_data as load\n",
    "import ETL.extract_data as extract\n",
    "import logging\n",
    "\n",
    "\n",
    "logger = logging.getLogger(__name__)\n",
    "\n",
    "def transform_fact_transactions_(df: pd.DataFrame, data_name: str)->pd.DataFrame: \n",
    "    '''\n",
    "    Function to transform TRANSACTIONS fact data\n",
    "\n",
    "    Parameters:\n",
    "        df (pd.DataFrame): The DataFrame to transform.\n",
    "        data_name (str): data name of the dim\n",
    "    Returns:\n",
    "        pd.DataFrame: The transformed DataFrame.\n",
    "    \n",
    "    '''\n",
    "    \n",
    "    columns_to_rename = {'id': 'transaction_id' , 'use_chip': 'card_entry_method', 'errors':'transaction_error'\n",
    "                         ,'date':'transaction_date', 'client_id':'user_id'}\n",
    "    query = 'SELECT merchant_key,merchant_id,merchant_city,merchant_state,zip,mcc FROM financial.dim_merchant'\n",
    "    merge_on = ['merchant_id','merchant_city','merchant_state', 'zip','mcc']\n",
    "    columns_to_remove = ['merchant_id', 'merchant_city', 'merchant_state','zip', 'mcc','minute_block']\n",
    "    bins   = [-1, 15, 30, 45, 59] #use it to create ['minute_block']\n",
    "    labels = ['0015', '1630', '3145', '4659'] #use it to create ['minute_block']\n",
    "\n",
    "    try:\n",
    "        logger.info(f'Starting transform {data_name} fact data')\n",
    "\n",
    "        #df = df.copy()\n",
    "        df_cleaned = df.rename(columns=columns_to_rename)\n",
    "        df_cleaned['amount'] = df_cleaned['amount'].str.replace('$','').astype(float)\n",
    "        df_cleaned.loc[(df_cleaned['merchant_state'].isna()) & (df_cleaned['merchant_city'] == 'ONLINE'), ['merchant_state']] = 'ONLINE'\n",
    "        df_cleaned.loc[(df_cleaned['merchant_state'] == 'ONLINE') & (df_cleaned['merchant_city'] == 'ONLINE'), 'zip'] = 0\n",
    "        df_cleaned['zip'] = df_cleaned['zip'].fillna(0).astype(int)\n",
    "        #df_cleaned['zip'] = df_cleaned['zip'].astype(str).str.replace(r'\\.0$', '', regex=True)\n",
    "\n",
    "        #create the date_key\n",
    "        df_cleaned['minute_block'] = pd.cut(pd.to_datetime(df_cleaned['transaction_date']).dt.minute, bins=bins, labels=labels).astype(str)\n",
    "        df_cleaned['date_key'] = (\n",
    "            df_cleaned['transaction_date'].astype(str)\n",
    "                .str.replace(r'[^A-Za-z0-9]', '', regex=True)\n",
    "                .str[:8]\n",
    "            + df_cleaned['minute_block'].astype(str)\n",
    "            )\n",
    "        \n",
    "        df_cleaned['date_key'] = df_cleaned['date_key'].astype(int)\n",
    "        df_cleaned['transaction_date'] = pd.to_datetime(df_cleaned['transaction_date'],cache=True)\n",
    "        \n",
    "        engine = load.create_database_connection()\n",
    "        mcc = pd.read_sql(query,engine)\n",
    "        df_cleaned = df_cleaned.merge(mcc, left_on= merge_on, right_on= merge_on, how='left',sort=False)\n",
    "        df_cleaned = df_cleaned.drop(columns= columns_to_remove)\n",
    "\n",
    "    \n",
    "        logger.info(f'✅ Successfully transformed {data_name} data with {len(df_cleaned)} records')\n",
    "        return df_cleaned\n",
    "        \n",
    "\n",
    "    except Exception as e:\n",
    "        logger.info(f'❌Error transforming {data_name} data: {e}')\n",
    "        raise"
   ]
  },
  {
   "cell_type": "code",
   "execution_count": 7,
   "id": "75ec525b",
   "metadata": {},
   "outputs": [],
   "source": [
    "dim = transform_fact_transactions_(df,'transactions')"
   ]
  },
  {
   "cell_type": "code",
   "execution_count": 8,
   "id": "acae6e7d",
   "metadata": {},
   "outputs": [
    {
     "name": "stdout",
     "output_type": "stream",
     "text": [
      "<class 'pandas.core.frame.DataFrame'>\n",
      "RangeIndex: 3954066 entries, 0 to 3954065\n",
      "Data columns (total 9 columns):\n",
      " #   Column             Dtype         \n",
      "---  ------             -----         \n",
      " 0   transaction_id     int64         \n",
      " 1   transaction_date   datetime64[ns]\n",
      " 2   user_id            int64         \n",
      " 3   card_id            int64         \n",
      " 4   amount             float64       \n",
      " 5   card_entry_method  object        \n",
      " 6   transaction_error  object        \n",
      " 7   date_key           int64         \n",
      " 8   merchant_key       int64         \n",
      "dtypes: datetime64[ns](1), float64(1), int64(5), object(2)\n",
      "memory usage: 271.5+ MB\n"
     ]
    }
   ],
   "source": [
    "dim.info()"
   ]
  },
  {
   "cell_type": "code",
   "execution_count": 10,
   "id": "1f3c8165",
   "metadata": {},
   "outputs": [
    {
     "data": {
      "application/vnd.microsoft.datawrangler.viewer.v0+json": {
       "columns": [
        {
         "name": "index",
         "rawType": "int64",
         "type": "integer"
        },
        {
         "name": "transaction_id",
         "rawType": "int64",
         "type": "integer"
        },
        {
         "name": "transaction_date",
         "rawType": "datetime64[ns]",
         "type": "datetime"
        },
        {
         "name": "user_id",
         "rawType": "int64",
         "type": "integer"
        },
        {
         "name": "card_id",
         "rawType": "int64",
         "type": "integer"
        },
        {
         "name": "amount",
         "rawType": "float64",
         "type": "float"
        },
        {
         "name": "card_entry_method",
         "rawType": "object",
         "type": "string"
        },
        {
         "name": "transaction_error",
         "rawType": "object",
         "type": "unknown"
        },
        {
         "name": "date_key",
         "rawType": "int64",
         "type": "integer"
        },
        {
         "name": "merchant_key",
         "rawType": "int64",
         "type": "integer"
        }
       ],
       "ref": "91c22006-2e32-4cf4-b50e-1cc03ef7d762",
       "rows": [
        [
         "1108001",
         "20246263",
         "2017-10-17 07:16:00",
         "1453",
         "1117",
         "1.29",
         "Swipe Transaction",
         null,
         "201710171630",
         "83"
        ],
        [
         "2785193",
         "22315478",
         "2018-12-29 13:28:00",
         "169",
         "5717",
         "46.24",
         "Chip Transaction",
         null,
         "201812291630",
         "2785193"
        ],
        [
         "1943425",
         "21275315",
         "2018-05-23 11:30:00",
         "1430",
         "4383",
         "12.06",
         "Swipe Transaction",
         null,
         "201805231630",
         "24776"
        ],
        [
         "678893",
         "19717093",
         "2017-06-27 07:43:00",
         "1147",
         "2042",
         "33.35",
         "Swipe Transaction",
         null,
         "201706273145",
         "38867"
        ],
        [
         "1975477",
         "21314826",
         "2018-05-31 16:38:00",
         "1448",
         "126",
         "23.55",
         "Online Transaction",
         null,
         "201805313145",
         "0"
        ],
        [
         "3322654",
         "22981631",
         "2019-05-19 17:15:00",
         "1718",
         "2732",
         "17.3",
         "Chip Transaction",
         null,
         "201905190015",
         "4263"
        ],
        [
         "2123307",
         "21497528",
         "2018-07-09 11:39:00",
         "870",
         "3626",
         "361.27",
         "Chip Transaction",
         null,
         "201807093145",
         "148400"
        ],
        [
         "437731",
         "19419158",
         "2017-04-25 09:13:00",
         "416",
         "2399",
         "2.06",
         "Chip Transaction",
         null,
         "201704250015",
         "4870"
        ],
        [
         "577838",
         "19592348",
         "2017-05-31 18:23:00",
         "1391",
         "5995",
         "47.36",
         "Chip Transaction",
         null,
         "201705311630",
         "903"
        ],
        [
         "2104671",
         "21474484",
         "2018-07-04 14:22:00",
         "1115",
         "374",
         "15.45",
         "Chip Transaction",
         null,
         "201807041630",
         "8101"
        ]
       ],
       "shape": {
        "columns": 9,
        "rows": 10
       }
      },
      "text/html": [
       "<div>\n",
       "<style scoped>\n",
       "    .dataframe tbody tr th:only-of-type {\n",
       "        vertical-align: middle;\n",
       "    }\n",
       "\n",
       "    .dataframe tbody tr th {\n",
       "        vertical-align: top;\n",
       "    }\n",
       "\n",
       "    .dataframe thead th {\n",
       "        text-align: right;\n",
       "    }\n",
       "</style>\n",
       "<table border=\"1\" class=\"dataframe\">\n",
       "  <thead>\n",
       "    <tr style=\"text-align: right;\">\n",
       "      <th></th>\n",
       "      <th>transaction_id</th>\n",
       "      <th>transaction_date</th>\n",
       "      <th>user_id</th>\n",
       "      <th>card_id</th>\n",
       "      <th>amount</th>\n",
       "      <th>card_entry_method</th>\n",
       "      <th>transaction_error</th>\n",
       "      <th>date_key</th>\n",
       "      <th>merchant_key</th>\n",
       "    </tr>\n",
       "  </thead>\n",
       "  <tbody>\n",
       "    <tr>\n",
       "      <th>1108001</th>\n",
       "      <td>20246263</td>\n",
       "      <td>2017-10-17 07:16:00</td>\n",
       "      <td>1453</td>\n",
       "      <td>1117</td>\n",
       "      <td>1.29</td>\n",
       "      <td>Swipe Transaction</td>\n",
       "      <td>NaN</td>\n",
       "      <td>201710171630</td>\n",
       "      <td>83</td>\n",
       "    </tr>\n",
       "    <tr>\n",
       "      <th>2785193</th>\n",
       "      <td>22315478</td>\n",
       "      <td>2018-12-29 13:28:00</td>\n",
       "      <td>169</td>\n",
       "      <td>5717</td>\n",
       "      <td>46.24</td>\n",
       "      <td>Chip Transaction</td>\n",
       "      <td>NaN</td>\n",
       "      <td>201812291630</td>\n",
       "      <td>2785193</td>\n",
       "    </tr>\n",
       "    <tr>\n",
       "      <th>1943425</th>\n",
       "      <td>21275315</td>\n",
       "      <td>2018-05-23 11:30:00</td>\n",
       "      <td>1430</td>\n",
       "      <td>4383</td>\n",
       "      <td>12.06</td>\n",
       "      <td>Swipe Transaction</td>\n",
       "      <td>NaN</td>\n",
       "      <td>201805231630</td>\n",
       "      <td>24776</td>\n",
       "    </tr>\n",
       "    <tr>\n",
       "      <th>678893</th>\n",
       "      <td>19717093</td>\n",
       "      <td>2017-06-27 07:43:00</td>\n",
       "      <td>1147</td>\n",
       "      <td>2042</td>\n",
       "      <td>33.35</td>\n",
       "      <td>Swipe Transaction</td>\n",
       "      <td>NaN</td>\n",
       "      <td>201706273145</td>\n",
       "      <td>38867</td>\n",
       "    </tr>\n",
       "    <tr>\n",
       "      <th>1975477</th>\n",
       "      <td>21314826</td>\n",
       "      <td>2018-05-31 16:38:00</td>\n",
       "      <td>1448</td>\n",
       "      <td>126</td>\n",
       "      <td>23.55</td>\n",
       "      <td>Online Transaction</td>\n",
       "      <td>NaN</td>\n",
       "      <td>201805313145</td>\n",
       "      <td>0</td>\n",
       "    </tr>\n",
       "    <tr>\n",
       "      <th>3322654</th>\n",
       "      <td>22981631</td>\n",
       "      <td>2019-05-19 17:15:00</td>\n",
       "      <td>1718</td>\n",
       "      <td>2732</td>\n",
       "      <td>17.30</td>\n",
       "      <td>Chip Transaction</td>\n",
       "      <td>NaN</td>\n",
       "      <td>201905190015</td>\n",
       "      <td>4263</td>\n",
       "    </tr>\n",
       "    <tr>\n",
       "      <th>2123307</th>\n",
       "      <td>21497528</td>\n",
       "      <td>2018-07-09 11:39:00</td>\n",
       "      <td>870</td>\n",
       "      <td>3626</td>\n",
       "      <td>361.27</td>\n",
       "      <td>Chip Transaction</td>\n",
       "      <td>NaN</td>\n",
       "      <td>201807093145</td>\n",
       "      <td>148400</td>\n",
       "    </tr>\n",
       "    <tr>\n",
       "      <th>437731</th>\n",
       "      <td>19419158</td>\n",
       "      <td>2017-04-25 09:13:00</td>\n",
       "      <td>416</td>\n",
       "      <td>2399</td>\n",
       "      <td>2.06</td>\n",
       "      <td>Chip Transaction</td>\n",
       "      <td>NaN</td>\n",
       "      <td>201704250015</td>\n",
       "      <td>4870</td>\n",
       "    </tr>\n",
       "    <tr>\n",
       "      <th>577838</th>\n",
       "      <td>19592348</td>\n",
       "      <td>2017-05-31 18:23:00</td>\n",
       "      <td>1391</td>\n",
       "      <td>5995</td>\n",
       "      <td>47.36</td>\n",
       "      <td>Chip Transaction</td>\n",
       "      <td>NaN</td>\n",
       "      <td>201705311630</td>\n",
       "      <td>903</td>\n",
       "    </tr>\n",
       "    <tr>\n",
       "      <th>2104671</th>\n",
       "      <td>21474484</td>\n",
       "      <td>2018-07-04 14:22:00</td>\n",
       "      <td>1115</td>\n",
       "      <td>374</td>\n",
       "      <td>15.45</td>\n",
       "      <td>Chip Transaction</td>\n",
       "      <td>NaN</td>\n",
       "      <td>201807041630</td>\n",
       "      <td>8101</td>\n",
       "    </tr>\n",
       "  </tbody>\n",
       "</table>\n",
       "</div>"
      ],
      "text/plain": [
       "         transaction_id    transaction_date  user_id  card_id  amount  \\\n",
       "1108001        20246263 2017-10-17 07:16:00     1453     1117    1.29   \n",
       "2785193        22315478 2018-12-29 13:28:00      169     5717   46.24   \n",
       "1943425        21275315 2018-05-23 11:30:00     1430     4383   12.06   \n",
       "678893         19717093 2017-06-27 07:43:00     1147     2042   33.35   \n",
       "1975477        21314826 2018-05-31 16:38:00     1448      126   23.55   \n",
       "3322654        22981631 2019-05-19 17:15:00     1718     2732   17.30   \n",
       "2123307        21497528 2018-07-09 11:39:00      870     3626  361.27   \n",
       "437731         19419158 2017-04-25 09:13:00      416     2399    2.06   \n",
       "577838         19592348 2017-05-31 18:23:00     1391     5995   47.36   \n",
       "2104671        21474484 2018-07-04 14:22:00     1115      374   15.45   \n",
       "\n",
       "          card_entry_method transaction_error      date_key  merchant_key  \n",
       "1108001   Swipe Transaction               NaN  201710171630            83  \n",
       "2785193    Chip Transaction               NaN  201812291630       2785193  \n",
       "1943425   Swipe Transaction               NaN  201805231630         24776  \n",
       "678893    Swipe Transaction               NaN  201706273145         38867  \n",
       "1975477  Online Transaction               NaN  201805313145             0  \n",
       "3322654    Chip Transaction               NaN  201905190015          4263  \n",
       "2123307    Chip Transaction               NaN  201807093145        148400  \n",
       "437731     Chip Transaction               NaN  201704250015          4870  \n",
       "577838     Chip Transaction               NaN  201705311630           903  \n",
       "2104671    Chip Transaction               NaN  201807041630          8101  "
      ]
     },
     "execution_count": 10,
     "metadata": {},
     "output_type": "execute_result"
    }
   ],
   "source": [
    "dim.sample(10)"
   ]
  },
  {
   "cell_type": "code",
   "execution_count": 16,
   "id": "869cc954",
   "metadata": {},
   "outputs": [
    {
     "data": {
      "application/vnd.microsoft.datawrangler.viewer.v0+json": {
       "columns": [
        {
         "name": "date_key",
         "rawType": "int64",
         "type": "integer"
        },
        {
         "name": "count",
         "rawType": "int64",
         "type": "integer"
        }
       ],
       "ref": "d197ab3f-9f47-40e3-ae88-634fe63ce3e0",
       "rows": [
        [
         "12",
         "3954066"
        ]
       ],
       "shape": {
        "columns": 1,
        "rows": 1
       }
      },
      "text/plain": [
       "date_key\n",
       "12    3954066\n",
       "Name: count, dtype: int64"
      ]
     },
     "execution_count": 16,
     "metadata": {},
     "output_type": "execute_result"
    }
   ],
   "source": [
    "dim['date_key'].astype(str).str.len().value_counts(dropna=False)"
   ]
  },
  {
   "cell_type": "code",
   "execution_count": null,
   "id": "b201db94",
   "metadata": {},
   "outputs": [],
   "source": [
    "import pandas as pd\n",
    "import ETL.config as config\n",
    "import ETL.utils as utils\n",
    "import ETL.load_data as load\n",
    "import ETL.extract_data as extract\n",
    "import logging\n",
    "\n",
    "\n",
    "logger = logging.getLogger(__name__)\n",
    "\n",
    "def transform_fact_transactions(df: pd.DataFrame, data_name: str)->pd.DataFrame: \n",
    "    '''\n",
    "    Function to transform TRANSACTIONS fact data\n",
    "\n",
    "    Parameters:\n",
    "        df (pd.DataFrame): The DataFrame to transform.\n",
    "        data_name (str): data name of the dim\n",
    "    Returns:\n",
    "        pd.DataFrame: The transformed DataFrame.\n",
    "    \n",
    "    '''\n",
    "    \n",
    "    columns_to_rename = {'id': 'transaction_id' , 'use_chip': 'card_entry_method', 'errors':'transaction_error'\n",
    "                         ,'date':'transaction_date', 'client_id':'user_id'}\n",
    "    query = 'SELECT merchant_key,merchant_id,merchant_city,merchant_state,zip,mcc FROM financial.dim_merchant'\n",
    "    merge_on = ['merchant_id','merchant_city','merchant_state', 'zip','mcc']\n",
    "    columns_to_remove = ['merchant_id', 'merchant_city', 'merchant_state','zip', 'mcc']\n",
    "    bins   = [-1, 15, 30, 45, 59] #use it to create ['minute_block']\n",
    "    labels = ['0015', '1630', '3145', '4659'] #use it to create ['minute_block']\n",
    "\n",
    "    try:\n",
    "        logger.info(f'Starting transform {data_name} fact data')\n",
    "\n",
    "        #df = df.copy()\n",
    "        df_cleaned = df.rename(columns=columns_to_rename)\n",
    "        df_cleaned['amount'] = df_cleaned['amount'].str.replace('\\$','').astype(float)\n",
    "        df_cleaned.loc[(df_cleaned['merchant_state'].isna()) & (df_cleaned['merchant_city'] == 'ONLINE'), ['merchant_state']] = 'ONLINE'\n",
    "        df_cleaned.loc[(df_cleaned['merchant_state'] == 'ONLINE') & (df_cleaned['merchant_city'] == 'ONLINE'), 'zip'] = 0\n",
    "        df_cleaned['zip'] = df_cleaned['zip'].fillna(0).astype(int)\n",
    "        #df_cleaned['zip'] = df_cleaned['zip'].astype(str).str.replace(r'\\.0$', '', regex=True)\n",
    "\n",
    "        #create the date_key\n",
    "        # df_cleaned['minute_block'] = pd.cut(pd.to_datetime(df_cleaned['transaction_date']).dt.minute, bins=bins, labels=labels).astype(str)\n",
    "        # df_cleaned['date_key'] = (\n",
    "        #     df_cleaned['transaction_date'].astype(str)\n",
    "        #         .str.replace(r'[^A-Za-z0-9]', '', regex=True)\n",
    "        #         .str[:10]\n",
    "        #     + df_cleaned['minute_block'].astype(str)\n",
    "        #     )\n",
    "        df_cleaned['transaction_date'] = pd.to_datetime(df_cleaned['transaction_date'],cache=True)\n",
    "        dt = df_cleaned['transaction_date'].dt\n",
    "        df_cleaned['date_key'] = (\n",
    "            dt.year.astype(str) +\n",
    "            dt.month.astype(str).str.zfill(2) +\n",
    "            dt.day.astype(str).str.zfill(2) +\n",
    "            dt.hour.astype(str).str.zfill(2)\n",
    "        ).astype(int)\n",
    "\n",
    "        #df_cleaned['transaction_date'] = pd.to_datetime(df_cleaned['transaction_date'],cache=True)\n",
    "        \n",
    "        engine = load.create_database_connection()\n",
    "        mcc = pd.read_sql(query,engine)\n",
    "        df_cleaned = df_cleaned.merge(mcc, left_on= merge_on, right_on= merge_on, how='left',sort=False)\n",
    "        df_cleaned = df_cleaned.drop(columns= columns_to_remove)\n",
    "\n",
    "    \n",
    "        logger.info(f'✅ Successfully transformed {data_name} data with {len(df_cleaned)} records')\n",
    "        return df_cleaned\n",
    "        \n",
    "\n",
    "    except Exception as e:\n",
    "        logger.info(f'❌Error transforming {data_name} data: {e}')\n",
    "        raise"
   ]
  },
  {
   "cell_type": "code",
   "execution_count": 49,
   "id": "75b1c537",
   "metadata": {},
   "outputs": [
    {
     "ename": "KeyError",
     "evalue": "'year'",
     "output_type": "error",
     "traceback": [
      "\u001b[31m---------------------------------------------------------------------------\u001b[39m",
      "\u001b[31mKeyError\u001b[39m                                  Traceback (most recent call last)",
      "\u001b[36mFile \u001b[39m\u001b[32mc:\\Users\\jimmy\\Documents\\Data Projects\\Project\\Financial Transactions Project\\financial_transaction_project\\Lib\\site-packages\\pandas\\core\\indexes\\base.py:3805\u001b[39m, in \u001b[36mIndex.get_loc\u001b[39m\u001b[34m(self, key)\u001b[39m\n\u001b[32m   3804\u001b[39m \u001b[38;5;28;01mtry\u001b[39;00m:\n\u001b[32m-> \u001b[39m\u001b[32m3805\u001b[39m     \u001b[38;5;28;01mreturn\u001b[39;00m \u001b[38;5;28;43mself\u001b[39;49m\u001b[43m.\u001b[49m\u001b[43m_engine\u001b[49m\u001b[43m.\u001b[49m\u001b[43mget_loc\u001b[49m\u001b[43m(\u001b[49m\u001b[43mcasted_key\u001b[49m\u001b[43m)\u001b[49m\n\u001b[32m   3806\u001b[39m \u001b[38;5;28;01mexcept\u001b[39;00m \u001b[38;5;167;01mKeyError\u001b[39;00m \u001b[38;5;28;01mas\u001b[39;00m err:\n",
      "\u001b[36mFile \u001b[39m\u001b[32mindex.pyx:167\u001b[39m, in \u001b[36mpandas._libs.index.IndexEngine.get_loc\u001b[39m\u001b[34m()\u001b[39m\n",
      "\u001b[36mFile \u001b[39m\u001b[32mindex.pyx:196\u001b[39m, in \u001b[36mpandas._libs.index.IndexEngine.get_loc\u001b[39m\u001b[34m()\u001b[39m\n",
      "\u001b[36mFile \u001b[39m\u001b[32mpandas\\\\_libs\\\\hashtable_class_helper.pxi:7081\u001b[39m, in \u001b[36mpandas._libs.hashtable.PyObjectHashTable.get_item\u001b[39m\u001b[34m()\u001b[39m\n",
      "\u001b[36mFile \u001b[39m\u001b[32mpandas\\\\_libs\\\\hashtable_class_helper.pxi:7089\u001b[39m, in \u001b[36mpandas._libs.hashtable.PyObjectHashTable.get_item\u001b[39m\u001b[34m()\u001b[39m\n",
      "\u001b[31mKeyError\u001b[39m: 'year'",
      "\nThe above exception was the direct cause of the following exception:\n",
      "\u001b[31mKeyError\u001b[39m                                  Traceback (most recent call last)",
      "\u001b[36mCell\u001b[39m\u001b[36m \u001b[39m\u001b[32mIn[49]\u001b[39m\u001b[32m, line 1\u001b[39m\n\u001b[32m----> \u001b[39m\u001b[32m1\u001b[39m fact = \u001b[43mtransform_fact_transactions2\u001b[49m\u001b[43m(\u001b[49m\u001b[43mdf\u001b[49m\u001b[43m,\u001b[49m\u001b[33;43m'\u001b[39;49m\u001b[33;43mtransactions\u001b[39;49m\u001b[33;43m'\u001b[39;49m\u001b[43m)\u001b[49m\n",
      "\u001b[36mCell\u001b[39m\u001b[36m \u001b[39m\u001b[32mIn[22]\u001b[39m\u001b[32m, line 54\u001b[39m, in \u001b[36mtransform_fact_transactions2\u001b[39m\u001b[34m(df, data_name)\u001b[39m\n\u001b[32m     51\u001b[39m df_cleaned[\u001b[33m'\u001b[39m\u001b[33mtransaction_date\u001b[39m\u001b[33m'\u001b[39m] = pd.to_datetime(df_cleaned[\u001b[33m'\u001b[39m\u001b[33mtransaction_date\u001b[39m\u001b[33m'\u001b[39m],cache=\u001b[38;5;28;01mTrue\u001b[39;00m)\n\u001b[32m     52\u001b[39m dt = df_cleaned[\u001b[33m'\u001b[39m\u001b[33mtransaction_date\u001b[39m\u001b[33m'\u001b[39m].dt\n\u001b[32m     53\u001b[39m df_cleaned[\u001b[33m'\u001b[39m\u001b[33mdate_key\u001b[39m\u001b[33m'\u001b[39m] = (\n\u001b[32m---> \u001b[39m\u001b[32m54\u001b[39m \u001b[43mdf_cleaned\u001b[49m\u001b[43m[\u001b[49m\u001b[33;43m'\u001b[39;49m\u001b[33;43myear\u001b[39;49m\u001b[33;43m'\u001b[39;49m\u001b[43m]\u001b[49m.dt.year.astype(\u001b[38;5;28mstr\u001b[39m) +\n\u001b[32m     55\u001b[39m df_cleaned[\u001b[33m'\u001b[39m\u001b[33mmonth\u001b[39m\u001b[33m'\u001b[39m].dt.month.astype(\u001b[38;5;28mstr\u001b[39m).str.zfill(\u001b[32m2\u001b[39m) +\n\u001b[32m     56\u001b[39m df_cleaned[\u001b[33m'\u001b[39m\u001b[33mday\u001b[39m\u001b[33m'\u001b[39m].dt.day.astype(\u001b[38;5;28mstr\u001b[39m).str.zfill(\u001b[32m2\u001b[39m) +\n\u001b[32m     57\u001b[39m df_cleaned[\u001b[33m'\u001b[39m\u001b[33mhour\u001b[39m\u001b[33m'\u001b[39m].dt.hour.astype(\u001b[38;5;28mstr\u001b[39m).str.zfill(\u001b[32m2\u001b[39m) +\n\u001b[32m     58\u001b[39m df_cleaned[\u001b[33m'\u001b[39m\u001b[33mminute_block\u001b[39m\u001b[33m'\u001b[39m]\n\u001b[32m     59\u001b[39m )\n\u001b[32m     61\u001b[39m df_cleaned[\u001b[33m'\u001b[39m\u001b[33mdate_key\u001b[39m\u001b[33m'\u001b[39m] = df_cleaned[\u001b[33m'\u001b[39m\u001b[33mdate_key\u001b[39m\u001b[33m'\u001b[39m].astype(\u001b[38;5;28mint\u001b[39m)\n\u001b[32m     62\u001b[39m \u001b[38;5;66;03m#df_cleaned['transaction_date'] = pd.to_datetime(df_cleaned['transaction_date'],cache=True)\u001b[39;00m\n",
      "\u001b[36mFile \u001b[39m\u001b[32mc:\\Users\\jimmy\\Documents\\Data Projects\\Project\\Financial Transactions Project\\financial_transaction_project\\Lib\\site-packages\\pandas\\core\\frame.py:4102\u001b[39m, in \u001b[36mDataFrame.__getitem__\u001b[39m\u001b[34m(self, key)\u001b[39m\n\u001b[32m   4100\u001b[39m \u001b[38;5;28;01mif\u001b[39;00m \u001b[38;5;28mself\u001b[39m.columns.nlevels > \u001b[32m1\u001b[39m:\n\u001b[32m   4101\u001b[39m     \u001b[38;5;28;01mreturn\u001b[39;00m \u001b[38;5;28mself\u001b[39m._getitem_multilevel(key)\n\u001b[32m-> \u001b[39m\u001b[32m4102\u001b[39m indexer = \u001b[38;5;28;43mself\u001b[39;49m\u001b[43m.\u001b[49m\u001b[43mcolumns\u001b[49m\u001b[43m.\u001b[49m\u001b[43mget_loc\u001b[49m\u001b[43m(\u001b[49m\u001b[43mkey\u001b[49m\u001b[43m)\u001b[49m\n\u001b[32m   4103\u001b[39m \u001b[38;5;28;01mif\u001b[39;00m is_integer(indexer):\n\u001b[32m   4104\u001b[39m     indexer = [indexer]\n",
      "\u001b[36mFile \u001b[39m\u001b[32mc:\\Users\\jimmy\\Documents\\Data Projects\\Project\\Financial Transactions Project\\financial_transaction_project\\Lib\\site-packages\\pandas\\core\\indexes\\base.py:3812\u001b[39m, in \u001b[36mIndex.get_loc\u001b[39m\u001b[34m(self, key)\u001b[39m\n\u001b[32m   3807\u001b[39m     \u001b[38;5;28;01mif\u001b[39;00m \u001b[38;5;28misinstance\u001b[39m(casted_key, \u001b[38;5;28mslice\u001b[39m) \u001b[38;5;129;01mor\u001b[39;00m (\n\u001b[32m   3808\u001b[39m         \u001b[38;5;28misinstance\u001b[39m(casted_key, abc.Iterable)\n\u001b[32m   3809\u001b[39m         \u001b[38;5;129;01mand\u001b[39;00m \u001b[38;5;28many\u001b[39m(\u001b[38;5;28misinstance\u001b[39m(x, \u001b[38;5;28mslice\u001b[39m) \u001b[38;5;28;01mfor\u001b[39;00m x \u001b[38;5;129;01min\u001b[39;00m casted_key)\n\u001b[32m   3810\u001b[39m     ):\n\u001b[32m   3811\u001b[39m         \u001b[38;5;28;01mraise\u001b[39;00m InvalidIndexError(key)\n\u001b[32m-> \u001b[39m\u001b[32m3812\u001b[39m     \u001b[38;5;28;01mraise\u001b[39;00m \u001b[38;5;167;01mKeyError\u001b[39;00m(key) \u001b[38;5;28;01mfrom\u001b[39;00m\u001b[38;5;250m \u001b[39m\u001b[34;01merr\u001b[39;00m\n\u001b[32m   3813\u001b[39m \u001b[38;5;28;01mexcept\u001b[39;00m \u001b[38;5;167;01mTypeError\u001b[39;00m:\n\u001b[32m   3814\u001b[39m     \u001b[38;5;66;03m# If we have a listlike key, _check_indexing_error will raise\u001b[39;00m\n\u001b[32m   3815\u001b[39m     \u001b[38;5;66;03m#  InvalidIndexError. Otherwise we fall through and re-raise\u001b[39;00m\n\u001b[32m   3816\u001b[39m     \u001b[38;5;66;03m#  the TypeError.\u001b[39;00m\n\u001b[32m   3817\u001b[39m     \u001b[38;5;28mself\u001b[39m._check_indexing_error(key)\n",
      "\u001b[31mKeyError\u001b[39m: 'year'"
     ]
    }
   ],
   "source": [
    "fact = transform_fact_transactions2(df,'transactions')"
   ]
  },
  {
   "cell_type": "code",
   "execution_count": 24,
   "id": "b1a29834",
   "metadata": {},
   "outputs": [],
   "source": [
    "df_cleaned = df.copy()"
   ]
  },
  {
   "cell_type": "code",
   "execution_count": 42,
   "id": "79d189b8",
   "metadata": {},
   "outputs": [],
   "source": [
    "df_cleaned['date'] = pd.to_datetime(df_cleaned['date'],cache=True)\n",
    "df_cleaned['minute_block'] = (df_cleaned['date'].dt.minute // 15 * 15).astype(str).str.zfill(2)\n",
    "dt = df_cleaned['date'].dt\n",
    "df_cleaned['date_key'] = (\n",
    "    dt.year.astype(str) +\n",
    "    dt.month.astype(str).str.zfill(2) +\n",
    "    dt.day.astype(str).str.zfill(2) \n",
    "    )\n"
   ]
  },
  {
   "cell_type": "code",
   "execution_count": 43,
   "id": "c0e9b86f",
   "metadata": {},
   "outputs": [
    {
     "data": {
      "application/vnd.microsoft.datawrangler.viewer.v0+json": {
       "columns": [
        {
         "name": "index",
         "rawType": "int64",
         "type": "integer"
        },
        {
         "name": "id",
         "rawType": "int64",
         "type": "integer"
        },
        {
         "name": "date",
         "rawType": "datetime64[ns]",
         "type": "datetime"
        },
        {
         "name": "client_id",
         "rawType": "int64",
         "type": "integer"
        },
        {
         "name": "card_id",
         "rawType": "int64",
         "type": "integer"
        },
        {
         "name": "amount",
         "rawType": "object",
         "type": "string"
        },
        {
         "name": "use_chip",
         "rawType": "object",
         "type": "string"
        },
        {
         "name": "merchant_id",
         "rawType": "int64",
         "type": "integer"
        },
        {
         "name": "merchant_city",
         "rawType": "object",
         "type": "string"
        },
        {
         "name": "merchant_state",
         "rawType": "object",
         "type": "unknown"
        },
        {
         "name": "zip",
         "rawType": "float64",
         "type": "float"
        },
        {
         "name": "mcc",
         "rawType": "int64",
         "type": "integer"
        },
        {
         "name": "errors",
         "rawType": "object",
         "type": "unknown"
        },
        {
         "name": "date_key",
         "rawType": "object",
         "type": "string"
        },
        {
         "name": "minute_block",
         "rawType": "object",
         "type": "string"
        }
       ],
       "ref": "7ce8cbb8-233e-4715-8d74-3813cccf20b6",
       "rows": [
        [
         "2199024",
         "21590961",
         "2018-07-29 06:14:00",
         "1813",
         "4638",
         "$13.34",
         "Online Transaction",
         "39261",
         "ONLINE",
         null,
         null,
         "5815",
         null,
         "20180729",
         "00"
        ],
        [
         "3557281",
         "23271490",
         "2019-07-20 06:14:00",
         "1693",
         "2266",
         "$-63.00",
         "Swipe Transaction",
         "59935",
         "Scottsdale",
         "AZ",
         "85260.0",
         "5499",
         null,
         "20190720",
         "00"
        ],
        [
         "870273",
         "19953592",
         "2017-08-16 06:41:00",
         "1595",
         "2429",
         "$28.67",
         "Chip Transaction",
         "50783",
         "Bronx",
         "NY",
         "10466.0",
         "5411",
         null,
         "20170816",
         "30"
        ],
        [
         "3357226",
         "23024249",
         "2019-05-28 20:52:00",
         "1003",
         "3130",
         "$200.00",
         "Swipe Transaction",
         "27092",
         "Philadelphia",
         "PA",
         "19111.0",
         "4829",
         null,
         "20190528",
         "45"
        ],
        [
         "2510744",
         "21976024",
         "2018-10-18 17:02:00",
         "197",
         "1302",
         "$40.14",
         "Chip Transaction",
         "98648",
         "Wilmore",
         "KY",
         "40390.0",
         "5814",
         null,
         "20181018",
         "00"
        ]
       ],
       "shape": {
        "columns": 14,
        "rows": 5
       }
      },
      "text/html": [
       "<div>\n",
       "<style scoped>\n",
       "    .dataframe tbody tr th:only-of-type {\n",
       "        vertical-align: middle;\n",
       "    }\n",
       "\n",
       "    .dataframe tbody tr th {\n",
       "        vertical-align: top;\n",
       "    }\n",
       "\n",
       "    .dataframe thead th {\n",
       "        text-align: right;\n",
       "    }\n",
       "</style>\n",
       "<table border=\"1\" class=\"dataframe\">\n",
       "  <thead>\n",
       "    <tr style=\"text-align: right;\">\n",
       "      <th></th>\n",
       "      <th>id</th>\n",
       "      <th>date</th>\n",
       "      <th>client_id</th>\n",
       "      <th>card_id</th>\n",
       "      <th>amount</th>\n",
       "      <th>use_chip</th>\n",
       "      <th>merchant_id</th>\n",
       "      <th>merchant_city</th>\n",
       "      <th>merchant_state</th>\n",
       "      <th>zip</th>\n",
       "      <th>mcc</th>\n",
       "      <th>errors</th>\n",
       "      <th>date_key</th>\n",
       "      <th>minute_block</th>\n",
       "    </tr>\n",
       "  </thead>\n",
       "  <tbody>\n",
       "    <tr>\n",
       "      <th>2199024</th>\n",
       "      <td>21590961</td>\n",
       "      <td>2018-07-29 06:14:00</td>\n",
       "      <td>1813</td>\n",
       "      <td>4638</td>\n",
       "      <td>$13.34</td>\n",
       "      <td>Online Transaction</td>\n",
       "      <td>39261</td>\n",
       "      <td>ONLINE</td>\n",
       "      <td>NaN</td>\n",
       "      <td>NaN</td>\n",
       "      <td>5815</td>\n",
       "      <td>NaN</td>\n",
       "      <td>20180729</td>\n",
       "      <td>00</td>\n",
       "    </tr>\n",
       "    <tr>\n",
       "      <th>3557281</th>\n",
       "      <td>23271490</td>\n",
       "      <td>2019-07-20 06:14:00</td>\n",
       "      <td>1693</td>\n",
       "      <td>2266</td>\n",
       "      <td>$-63.00</td>\n",
       "      <td>Swipe Transaction</td>\n",
       "      <td>59935</td>\n",
       "      <td>Scottsdale</td>\n",
       "      <td>AZ</td>\n",
       "      <td>85260.0</td>\n",
       "      <td>5499</td>\n",
       "      <td>NaN</td>\n",
       "      <td>20190720</td>\n",
       "      <td>00</td>\n",
       "    </tr>\n",
       "    <tr>\n",
       "      <th>870273</th>\n",
       "      <td>19953592</td>\n",
       "      <td>2017-08-16 06:41:00</td>\n",
       "      <td>1595</td>\n",
       "      <td>2429</td>\n",
       "      <td>$28.67</td>\n",
       "      <td>Chip Transaction</td>\n",
       "      <td>50783</td>\n",
       "      <td>Bronx</td>\n",
       "      <td>NY</td>\n",
       "      <td>10466.0</td>\n",
       "      <td>5411</td>\n",
       "      <td>NaN</td>\n",
       "      <td>20170816</td>\n",
       "      <td>30</td>\n",
       "    </tr>\n",
       "    <tr>\n",
       "      <th>3357226</th>\n",
       "      <td>23024249</td>\n",
       "      <td>2019-05-28 20:52:00</td>\n",
       "      <td>1003</td>\n",
       "      <td>3130</td>\n",
       "      <td>$200.00</td>\n",
       "      <td>Swipe Transaction</td>\n",
       "      <td>27092</td>\n",
       "      <td>Philadelphia</td>\n",
       "      <td>PA</td>\n",
       "      <td>19111.0</td>\n",
       "      <td>4829</td>\n",
       "      <td>NaN</td>\n",
       "      <td>20190528</td>\n",
       "      <td>45</td>\n",
       "    </tr>\n",
       "    <tr>\n",
       "      <th>2510744</th>\n",
       "      <td>21976024</td>\n",
       "      <td>2018-10-18 17:02:00</td>\n",
       "      <td>197</td>\n",
       "      <td>1302</td>\n",
       "      <td>$40.14</td>\n",
       "      <td>Chip Transaction</td>\n",
       "      <td>98648</td>\n",
       "      <td>Wilmore</td>\n",
       "      <td>KY</td>\n",
       "      <td>40390.0</td>\n",
       "      <td>5814</td>\n",
       "      <td>NaN</td>\n",
       "      <td>20181018</td>\n",
       "      <td>00</td>\n",
       "    </tr>\n",
       "  </tbody>\n",
       "</table>\n",
       "</div>"
      ],
      "text/plain": [
       "               id                date  client_id  card_id   amount  \\\n",
       "2199024  21590961 2018-07-29 06:14:00       1813     4638   $13.34   \n",
       "3557281  23271490 2019-07-20 06:14:00       1693     2266  $-63.00   \n",
       "870273   19953592 2017-08-16 06:41:00       1595     2429   $28.67   \n",
       "3357226  23024249 2019-05-28 20:52:00       1003     3130  $200.00   \n",
       "2510744  21976024 2018-10-18 17:02:00        197     1302   $40.14   \n",
       "\n",
       "                   use_chip  merchant_id merchant_city merchant_state  \\\n",
       "2199024  Online Transaction        39261        ONLINE            NaN   \n",
       "3557281   Swipe Transaction        59935    Scottsdale             AZ   \n",
       "870273     Chip Transaction        50783         Bronx             NY   \n",
       "3357226   Swipe Transaction        27092  Philadelphia             PA   \n",
       "2510744    Chip Transaction        98648       Wilmore             KY   \n",
       "\n",
       "             zip   mcc errors  date_key minute_block  \n",
       "2199024      NaN  5815    NaN  20180729           00  \n",
       "3557281  85260.0  5499    NaN  20190720           00  \n",
       "870273   10466.0  5411    NaN  20170816           30  \n",
       "3357226  19111.0  4829    NaN  20190528           45  \n",
       "2510744  40390.0  5814    NaN  20181018           00  "
      ]
     },
     "execution_count": 43,
     "metadata": {},
     "output_type": "execute_result"
    }
   ],
   "source": [
    "df_cleaned.sample(5)"
   ]
  },
  {
   "cell_type": "code",
   "execution_count": null,
   "id": "5d8a9f42",
   "metadata": {},
   "outputs": [],
   "source": []
  }
 ],
 "metadata": {
  "kernelspec": {
   "display_name": "financial_transaction_project",
   "language": "python",
   "name": "python3"
  },
  "language_info": {
   "codemirror_mode": {
    "name": "ipython",
    "version": 3
   },
   "file_extension": ".py",
   "mimetype": "text/x-python",
   "name": "python",
   "nbconvert_exporter": "python",
   "pygments_lexer": "ipython3",
   "version": "3.13.0"
  }
 },
 "nbformat": 4,
 "nbformat_minor": 5
}
